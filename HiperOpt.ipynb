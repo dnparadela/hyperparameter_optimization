{
  "cells": [
    {
      "cell_type": "markdown",
      "metadata": {
        "id": "adqYDU_VZKxa"
      },
      "source": [
        "# Optimización de hiperparámetros"
      ]
    },
    {
      "cell_type": "markdown",
      "metadata": {
        "id": "i3yTm2N3DcxC"
      },
      "source": [
        "## Preparación del entorno"
      ]
    },
    {
      "cell_type": "code",
      "execution_count": null,
      "metadata": {
        "colab": {
          "base_uri": "https://localhost:8080/"
        },
        "id": "JEQ-4A5n-s1w",
        "outputId": "3df6de24-0e0f-4319-ea58-039e4b95d3a6"
      },
      "outputs": [
        {
          "output_type": "stream",
          "name": "stdout",
          "text": [
            "Mounted at /content/drive\n"
          ]
        }
      ],
      "source": [
        "from google.colab import drive\n",
        "drive.mount('/content/drive')"
      ]
    },
    {
      "cell_type": "code",
      "execution_count": null,
      "metadata": {
        "id": "jfaohPxyBs80"
      },
      "outputs": [],
      "source": [
        "import zipfile\n",
        "\n",
        "# Inserta la ruta de tu archivo zip aquí\n",
        "zip_path = \"/content/drive/MyDrive/TFM_OptimizacionHiperparametros/adult/adult.zip\"\n",
        "zip_path2 = \"/content/drive/MyDrive/TFM_OptimizacionHiperparametros/bank_marketing/bank_marketing.zip\"\n",
        "zip_path3 = \"/content/drive/MyDrive/TFM_OptimizacionHiperparametros/covertype/covertype.zip\"\n",
        "zip_path4 = \"/content/drive/MyDrive/TFM_OptimizacionHiperparametros/poker_hand/poker_hand.zip\"\n",
        "\n",
        "# Crea un objeto ZipFile\n",
        "zip_ref = zipfile.ZipFile(zip_path, \"r\")\n",
        "zip_ref2 = zipfile.ZipFile(zip_path2, \"r\")\n",
        "zip_ref3 = zipfile.ZipFile(zip_path3, \"r\")\n",
        "zip_ref4 = zipfile.ZipFile(zip_path4, \"r\")\n",
        "\n",
        "# Extrae todo el contenido del zip a un directorio específico\n",
        "# En este caso, lo extraeremos al directorio actual (\"/content\")\n",
        "zip_ref.extractall(\"/content/drive/MyDrive/TFM_OptimizacionHiperparametros/adult\")\n",
        "zip_ref2.extractall(\"/content/drive/MyDrive/TFM_OptimizacionHiperparametros/bank_marketing\")\n",
        "zip_ref3.extractall(\"/content/drive/MyDrive/TFM_OptimizacionHiperparametros/covertype\")\n",
        "zip_ref4.extractall(\"/content/drive/MyDrive/TFM_OptimizacionHiperparametros/poker_hand\")\n",
        "\n",
        "# Cierra el objeto ZipFile\n",
        "zip_ref.close()\n",
        "zip_ref2.close()\n",
        "zip_ref3.close()\n",
        "zip_ref4.close()"
      ]
    },
    {
      "cell_type": "markdown",
      "metadata": {
        "id": "wcn7O_wrZaq-"
      },
      "source": [
        "## Análisis de datos exploratorio"
      ]
    },
    {
      "cell_type": "code",
      "execution_count": null,
      "metadata": {
        "colab": {
          "base_uri": "https://localhost:8080/"
        },
        "id": "NBGNA4gThHpB",
        "outputId": "855a6f02-f4a2-4914-b96a-1e1ca8c523b6"
      },
      "outputs": [
        {
          "output_type": "stream",
          "name": "stdout",
          "text": [
            "Collecting optuna\n",
            "  Downloading optuna-3.2.0-py3-none-any.whl (390 kB)\n",
            "\u001b[2K     \u001b[90m━━━━━━━━━━━━━━━━━━━━━━━━━━━━━━━━━━━━━━━\u001b[0m \u001b[32m390.6/390.6 kB\u001b[0m \u001b[31m5.8 MB/s\u001b[0m eta \u001b[36m0:00:00\u001b[0m\n",
            "\u001b[?25hCollecting alembic>=1.5.0 (from optuna)\n",
            "  Downloading alembic-1.11.1-py3-none-any.whl (224 kB)\n",
            "\u001b[2K     \u001b[90m━━━━━━━━━━━━━━━━━━━━━━━━━━━━━━━━━━━━━━\u001b[0m \u001b[32m224.5/224.5 kB\u001b[0m \u001b[31m23.9 MB/s\u001b[0m eta \u001b[36m0:00:00\u001b[0m\n",
            "\u001b[?25hCollecting cmaes>=0.9.1 (from optuna)\n",
            "  Downloading cmaes-0.10.0-py3-none-any.whl (29 kB)\n",
            "Collecting colorlog (from optuna)\n",
            "  Downloading colorlog-6.7.0-py2.py3-none-any.whl (11 kB)\n",
            "Requirement already satisfied: numpy in /usr/local/lib/python3.10/dist-packages (from optuna) (1.22.4)\n",
            "Requirement already satisfied: packaging>=20.0 in /usr/local/lib/python3.10/dist-packages (from optuna) (23.1)\n",
            "Requirement already satisfied: sqlalchemy>=1.3.0 in /usr/local/lib/python3.10/dist-packages (from optuna) (2.0.19)\n",
            "Requirement already satisfied: tqdm in /usr/local/lib/python3.10/dist-packages (from optuna) (4.65.0)\n",
            "Requirement already satisfied: PyYAML in /usr/local/lib/python3.10/dist-packages (from optuna) (6.0.1)\n",
            "Collecting Mako (from alembic>=1.5.0->optuna)\n",
            "  Downloading Mako-1.2.4-py3-none-any.whl (78 kB)\n",
            "\u001b[2K     \u001b[90m━━━━━━━━━━━━━━━━━━━━━━━━━━━━━━━━━━━━━━━━\u001b[0m \u001b[32m78.7/78.7 kB\u001b[0m \u001b[31m11.2 MB/s\u001b[0m eta \u001b[36m0:00:00\u001b[0m\n",
            "\u001b[?25hRequirement already satisfied: typing-extensions>=4 in /usr/local/lib/python3.10/dist-packages (from alembic>=1.5.0->optuna) (4.7.1)\n",
            "Requirement already satisfied: greenlet!=0.4.17 in /usr/local/lib/python3.10/dist-packages (from sqlalchemy>=1.3.0->optuna) (2.0.2)\n",
            "Requirement already satisfied: MarkupSafe>=0.9.2 in /usr/local/lib/python3.10/dist-packages (from Mako->alembic>=1.5.0->optuna) (2.1.3)\n",
            "Installing collected packages: Mako, colorlog, cmaes, alembic, optuna\n",
            "Successfully installed Mako-1.2.4 alembic-1.11.1 cmaes-0.10.0 colorlog-6.7.0 optuna-3.2.0\n",
            "Collecting keras-tuner\n",
            "  Downloading keras_tuner-1.3.5-py3-none-any.whl (176 kB)\n",
            "\u001b[2K     \u001b[90m━━━━━━━━━━━━━━━━━━━━━━━━━━━━━━━━━━━━━━━\u001b[0m \u001b[32m176.1/176.1 kB\u001b[0m \u001b[31m3.9 MB/s\u001b[0m eta \u001b[36m0:00:00\u001b[0m\n",
            "\u001b[?25hRequirement already satisfied: packaging in /usr/local/lib/python3.10/dist-packages (from keras-tuner) (23.1)\n",
            "Requirement already satisfied: requests in /usr/local/lib/python3.10/dist-packages (from keras-tuner) (2.27.1)\n",
            "Collecting kt-legacy (from keras-tuner)\n",
            "  Downloading kt_legacy-1.0.5-py3-none-any.whl (9.6 kB)\n",
            "Requirement already satisfied: urllib3<1.27,>=1.21.1 in /usr/local/lib/python3.10/dist-packages (from requests->keras-tuner) (1.26.16)\n",
            "Requirement already satisfied: certifi>=2017.4.17 in /usr/local/lib/python3.10/dist-packages (from requests->keras-tuner) (2023.7.22)\n",
            "Requirement already satisfied: charset-normalizer~=2.0.0 in /usr/local/lib/python3.10/dist-packages (from requests->keras-tuner) (2.0.12)\n",
            "Requirement already satisfied: idna<4,>=2.5 in /usr/local/lib/python3.10/dist-packages (from requests->keras-tuner) (3.4)\n",
            "Installing collected packages: kt-legacy, keras-tuner\n",
            "Successfully installed keras-tuner-1.3.5 kt-legacy-1.0.5\n",
            "Requirement already satisfied: tensorflow in /usr/local/lib/python3.10/dist-packages (2.12.0)\n",
            "Requirement already satisfied: absl-py>=1.0.0 in /usr/local/lib/python3.10/dist-packages (from tensorflow) (1.4.0)\n",
            "Requirement already satisfied: astunparse>=1.6.0 in /usr/local/lib/python3.10/dist-packages (from tensorflow) (1.6.3)\n",
            "Requirement already satisfied: flatbuffers>=2.0 in /usr/local/lib/python3.10/dist-packages (from tensorflow) (23.5.26)\n",
            "Requirement already satisfied: gast<=0.4.0,>=0.2.1 in /usr/local/lib/python3.10/dist-packages (from tensorflow) (0.4.0)\n",
            "Requirement already satisfied: google-pasta>=0.1.1 in /usr/local/lib/python3.10/dist-packages (from tensorflow) (0.2.0)\n",
            "Requirement already satisfied: grpcio<2.0,>=1.24.3 in /usr/local/lib/python3.10/dist-packages (from tensorflow) (1.56.2)\n",
            "Requirement already satisfied: h5py>=2.9.0 in /usr/local/lib/python3.10/dist-packages (from tensorflow) (3.8.0)\n",
            "Requirement already satisfied: jax>=0.3.15 in /usr/local/lib/python3.10/dist-packages (from tensorflow) (0.4.13)\n",
            "Requirement already satisfied: keras<2.13,>=2.12.0 in /usr/local/lib/python3.10/dist-packages (from tensorflow) (2.12.0)\n",
            "Requirement already satisfied: libclang>=13.0.0 in /usr/local/lib/python3.10/dist-packages (from tensorflow) (16.0.6)\n",
            "Requirement already satisfied: numpy<1.24,>=1.22 in /usr/local/lib/python3.10/dist-packages (from tensorflow) (1.22.4)\n",
            "Requirement already satisfied: opt-einsum>=2.3.2 in /usr/local/lib/python3.10/dist-packages (from tensorflow) (3.3.0)\n",
            "Requirement already satisfied: packaging in /usr/local/lib/python3.10/dist-packages (from tensorflow) (23.1)\n",
            "Requirement already satisfied: protobuf!=4.21.0,!=4.21.1,!=4.21.2,!=4.21.3,!=4.21.4,!=4.21.5,<5.0.0dev,>=3.20.3 in /usr/local/lib/python3.10/dist-packages (from tensorflow) (3.20.3)\n",
            "Requirement already satisfied: setuptools in /usr/local/lib/python3.10/dist-packages (from tensorflow) (67.7.2)\n",
            "Requirement already satisfied: six>=1.12.0 in /usr/local/lib/python3.10/dist-packages (from tensorflow) (1.16.0)\n",
            "Requirement already satisfied: tensorboard<2.13,>=2.12 in /usr/local/lib/python3.10/dist-packages (from tensorflow) (2.12.3)\n",
            "Requirement already satisfied: tensorflow-estimator<2.13,>=2.12.0 in /usr/local/lib/python3.10/dist-packages (from tensorflow) (2.12.0)\n",
            "Requirement already satisfied: termcolor>=1.1.0 in /usr/local/lib/python3.10/dist-packages (from tensorflow) (2.3.0)\n",
            "Requirement already satisfied: typing-extensions>=3.6.6 in /usr/local/lib/python3.10/dist-packages (from tensorflow) (4.7.1)\n",
            "Requirement already satisfied: wrapt<1.15,>=1.11.0 in /usr/local/lib/python3.10/dist-packages (from tensorflow) (1.14.1)\n",
            "Requirement already satisfied: tensorflow-io-gcs-filesystem>=0.23.1 in /usr/local/lib/python3.10/dist-packages (from tensorflow) (0.32.0)\n",
            "Requirement already satisfied: wheel<1.0,>=0.23.0 in /usr/local/lib/python3.10/dist-packages (from astunparse>=1.6.0->tensorflow) (0.41.0)\n",
            "Requirement already satisfied: ml-dtypes>=0.1.0 in /usr/local/lib/python3.10/dist-packages (from jax>=0.3.15->tensorflow) (0.2.0)\n",
            "Requirement already satisfied: scipy>=1.7 in /usr/local/lib/python3.10/dist-packages (from jax>=0.3.15->tensorflow) (1.10.1)\n",
            "Requirement already satisfied: google-auth<3,>=1.6.3 in /usr/local/lib/python3.10/dist-packages (from tensorboard<2.13,>=2.12->tensorflow) (2.17.3)\n",
            "Requirement already satisfied: google-auth-oauthlib<1.1,>=0.5 in /usr/local/lib/python3.10/dist-packages (from tensorboard<2.13,>=2.12->tensorflow) (1.0.0)\n",
            "Requirement already satisfied: markdown>=2.6.8 in /usr/local/lib/python3.10/dist-packages (from tensorboard<2.13,>=2.12->tensorflow) (3.4.4)\n",
            "Requirement already satisfied: requests<3,>=2.21.0 in /usr/local/lib/python3.10/dist-packages (from tensorboard<2.13,>=2.12->tensorflow) (2.27.1)\n",
            "Requirement already satisfied: tensorboard-data-server<0.8.0,>=0.7.0 in /usr/local/lib/python3.10/dist-packages (from tensorboard<2.13,>=2.12->tensorflow) (0.7.1)\n",
            "Requirement already satisfied: werkzeug>=1.0.1 in /usr/local/lib/python3.10/dist-packages (from tensorboard<2.13,>=2.12->tensorflow) (2.3.6)\n",
            "Requirement already satisfied: cachetools<6.0,>=2.0.0 in /usr/local/lib/python3.10/dist-packages (from google-auth<3,>=1.6.3->tensorboard<2.13,>=2.12->tensorflow) (5.3.1)\n",
            "Requirement already satisfied: pyasn1-modules>=0.2.1 in /usr/local/lib/python3.10/dist-packages (from google-auth<3,>=1.6.3->tensorboard<2.13,>=2.12->tensorflow) (0.3.0)\n",
            "Requirement already satisfied: rsa<5,>=3.1.4 in /usr/local/lib/python3.10/dist-packages (from google-auth<3,>=1.6.3->tensorboard<2.13,>=2.12->tensorflow) (4.9)\n",
            "Requirement already satisfied: requests-oauthlib>=0.7.0 in /usr/local/lib/python3.10/dist-packages (from google-auth-oauthlib<1.1,>=0.5->tensorboard<2.13,>=2.12->tensorflow) (1.3.1)\n",
            "Requirement already satisfied: urllib3<1.27,>=1.21.1 in /usr/local/lib/python3.10/dist-packages (from requests<3,>=2.21.0->tensorboard<2.13,>=2.12->tensorflow) (1.26.16)\n",
            "Requirement already satisfied: certifi>=2017.4.17 in /usr/local/lib/python3.10/dist-packages (from requests<3,>=2.21.0->tensorboard<2.13,>=2.12->tensorflow) (2023.7.22)\n",
            "Requirement already satisfied: charset-normalizer~=2.0.0 in /usr/local/lib/python3.10/dist-packages (from requests<3,>=2.21.0->tensorboard<2.13,>=2.12->tensorflow) (2.0.12)\n",
            "Requirement already satisfied: idna<4,>=2.5 in /usr/local/lib/python3.10/dist-packages (from requests<3,>=2.21.0->tensorboard<2.13,>=2.12->tensorflow) (3.4)\n",
            "Requirement already satisfied: MarkupSafe>=2.1.1 in /usr/local/lib/python3.10/dist-packages (from werkzeug>=1.0.1->tensorboard<2.13,>=2.12->tensorflow) (2.1.3)\n",
            "Requirement already satisfied: pyasn1<0.6.0,>=0.4.6 in /usr/local/lib/python3.10/dist-packages (from pyasn1-modules>=0.2.1->google-auth<3,>=1.6.3->tensorboard<2.13,>=2.12->tensorflow) (0.5.0)\n",
            "Requirement already satisfied: oauthlib>=3.0.0 in /usr/local/lib/python3.10/dist-packages (from requests-oauthlib>=0.7.0->google-auth-oauthlib<1.1,>=0.5->tensorboard<2.13,>=2.12->tensorflow) (3.2.2)\n",
            "Collecting scikeras\n",
            "  Downloading scikeras-0.11.0-py3-none-any.whl (27 kB)\n",
            "Requirement already satisfied: packaging>=0.21 in /usr/local/lib/python3.10/dist-packages (from scikeras) (23.1)\n",
            "Requirement already satisfied: scikit-learn>=1.0.0 in /usr/local/lib/python3.10/dist-packages (from scikeras) (1.2.2)\n",
            "Requirement already satisfied: numpy>=1.17.3 in /usr/local/lib/python3.10/dist-packages (from scikit-learn>=1.0.0->scikeras) (1.22.4)\n",
            "Requirement already satisfied: scipy>=1.3.2 in /usr/local/lib/python3.10/dist-packages (from scikit-learn>=1.0.0->scikeras) (1.10.1)\n",
            "Requirement already satisfied: joblib>=1.1.1 in /usr/local/lib/python3.10/dist-packages (from scikit-learn>=1.0.0->scikeras) (1.3.1)\n",
            "Requirement already satisfied: threadpoolctl>=2.0.0 in /usr/local/lib/python3.10/dist-packages (from scikit-learn>=1.0.0->scikeras) (3.2.0)\n",
            "Installing collected packages: scikeras\n",
            "Successfully installed scikeras-0.11.0\n"
          ]
        }
      ],
      "source": [
        "!pip install optuna\n",
        "!pip install keras-tuner\n",
        "!pip install tensorflow\n",
        "!pip install scikeras"
      ]
    },
    {
      "cell_type": "code",
      "execution_count": null,
      "metadata": {
        "colab": {
          "base_uri": "https://localhost:8080/"
        },
        "id": "R_9y1MbnAUkW",
        "outputId": "1199c7b5-75f1-4a9d-8a0a-9c34e143c3d0"
      },
      "outputs": [
        {
          "output_type": "stream",
          "name": "stderr",
          "text": [
            "<ipython-input-3-b04801f4aa62>:26: DeprecationWarning: `import kerastuner` is deprecated, please use `import keras_tuner`.\n",
            "  from kerastuner.tuners import RandomSearch, GridSearch, BayesianOptimization\n"
          ]
        }
      ],
      "source": [
        "import pandas as pd\n",
        "import numpy as np\n",
        "import matplotlib.pyplot as plt\n",
        "import seaborn as sns\n",
        "import optuna\n",
        "import time\n",
        "from tensorflow import keras\n",
        "from sklearn.preprocessing import StandardScaler\n",
        "from sklearn.decomposition import PCA\n",
        "from sklearn.model_selection import train_test_split\n",
        "from sklearn.impute import SimpleImputer\n",
        "from sklearn.preprocessing import OneHotEncoder\n",
        "from keras.models import Sequential\n",
        "from keras.layers import Dense\n",
        "from keras.optimizers import Adam, SGD, RMSprop\n",
        "from keras.utils import to_categorical\n",
        "from sklearn.metrics import f1_score, recall_score, make_scorer, accuracy_score\n",
        "from hyperopt import hp, fmin, STATUS_OK, Trials\n",
        "from hyperopt import rand, tpe, atpe\n",
        "from sklearn.model_selection import GridSearchCV\n",
        "from keras.wrappers.scikit_learn import KerasClassifier\n",
        "from sklearn.model_selection import RandomizedSearchCV\n",
        "from tensorflow import keras\n",
        "from tensorflow.keras import layers\n",
        "from tensorflow.keras.optimizers import Adam, SGD, RMSprop\n",
        "from kerastuner.tuners import RandomSearch, GridSearch, BayesianOptimization\n",
        "from tensorflow.keras.utils import to_categorical\n",
        "from scikeras.wrappers import KerasClassifier\n",
        "from tensorflow.keras import metrics\n",
        "from sklearn.preprocessing import LabelEncoder\n",
        "from sklearn.neighbors import KNeighborsClassifier\n",
        "from sklearn.ensemble import RandomForestClassifier"
      ]
    },
    {
      "cell_type": "markdown",
      "metadata": {
        "id": "byYToIvAM-0p"
      },
      "source": [
        "### Forest Covertype Dataset"
      ]
    },
    {
      "cell_type": "code",
      "execution_count": null,
      "metadata": {
        "colab": {
          "base_uri": "https://localhost:8080/",
          "height": 1000
        },
        "id": "nVVycf9Y1pg0",
        "outputId": "58bcf33c-3436-46b4-e88d-a0e9e5ad80f1"
      },
      "outputs": [
        {
          "output_type": "stream",
          "name": "stdout",
          "text": [
            "   Elevation  Aspect  Slope  Horizontal_Distance_To_Hydrology  \\\n",
            "0       2596      51      3                               258   \n",
            "1       2590      56      2                               212   \n",
            "2       2804     139      9                               268   \n",
            "3       2785     155     18                               242   \n",
            "4       2595      45      2                               153   \n",
            "\n",
            "   Vertical_Distance_To_Hydrology  Horizontal_Distance_To_Roadways  \\\n",
            "0                               0                              510   \n",
            "1                              -6                              390   \n",
            "2                              65                             3180   \n",
            "3                             118                             3090   \n",
            "4                              -1                              391   \n",
            "\n",
            "   Hillshade_9am  Hillshade_Noon  Hillshade_3pm  \\\n",
            "0            221             232            148   \n",
            "1            220             235            151   \n",
            "2            234             238            135   \n",
            "3            238             238            122   \n",
            "4            220             234            150   \n",
            "\n",
            "   Horizontal_Distance_To_Fire_Points  ...  Soil_Type32  Soil_Type33  \\\n",
            "0                                6279  ...            0            0   \n",
            "1                                6225  ...            0            0   \n",
            "2                                6121  ...            0            0   \n",
            "3                                6211  ...            0            0   \n",
            "4                                6172  ...            0            0   \n",
            "\n",
            "   Soil_Type34  Soil_Type35  Soil_Type36  Soil_Type37  Soil_Type38  \\\n",
            "0            0            0            0            0            0   \n",
            "1            0            0            0            0            0   \n",
            "2            0            0            0            0            0   \n",
            "3            0            0            0            0            0   \n",
            "4            0            0            0            0            0   \n",
            "\n",
            "   Soil_Type39  Soil_Type40  Cover_Type  \n",
            "0            0            0           5  \n",
            "1            0            0           5  \n",
            "2            0            0           2  \n",
            "3            0            0           2  \n",
            "4            0            0           5  \n",
            "\n",
            "[5 rows x 55 columns]\n",
            "           Elevation         Aspect          Slope  \\\n",
            "count  581012.000000  581012.000000  581012.000000   \n",
            "mean     2959.365301     155.656807      14.103704   \n",
            "std       279.984734     111.913721       7.488242   \n",
            "min      1859.000000       0.000000       0.000000   \n",
            "25%      2809.000000      58.000000       9.000000   \n",
            "50%      2996.000000     127.000000      13.000000   \n",
            "75%      3163.000000     260.000000      18.000000   \n",
            "max      3858.000000     360.000000      66.000000   \n",
            "\n",
            "       Horizontal_Distance_To_Hydrology  Vertical_Distance_To_Hydrology  \\\n",
            "count                     581012.000000                   581012.000000   \n",
            "mean                         269.428217                       46.418855   \n",
            "std                          212.549356                       58.295232   \n",
            "min                            0.000000                     -173.000000   \n",
            "25%                          108.000000                        7.000000   \n",
            "50%                          218.000000                       30.000000   \n",
            "75%                          384.000000                       69.000000   \n",
            "max                         1397.000000                      601.000000   \n",
            "\n",
            "       Horizontal_Distance_To_Roadways  Hillshade_9am  Hillshade_Noon  \\\n",
            "count                    581012.000000  581012.000000   581012.000000   \n",
            "mean                       2350.146611     212.146049      223.318716   \n",
            "std                        1559.254870      26.769889       19.768697   \n",
            "min                           0.000000       0.000000        0.000000   \n",
            "25%                        1106.000000     198.000000      213.000000   \n",
            "50%                        1997.000000     218.000000      226.000000   \n",
            "75%                        3328.000000     231.000000      237.000000   \n",
            "max                        7117.000000     254.000000      254.000000   \n",
            "\n",
            "       Hillshade_3pm  Horizontal_Distance_To_Fire_Points  ...    Soil_Type32  \\\n",
            "count  581012.000000                       581012.000000  ...  581012.000000   \n",
            "mean      142.528263                         1980.291226  ...       0.090392   \n",
            "std        38.274529                         1324.195210  ...       0.286743   \n",
            "min         0.000000                            0.000000  ...       0.000000   \n",
            "25%       119.000000                         1024.000000  ...       0.000000   \n",
            "50%       143.000000                         1710.000000  ...       0.000000   \n",
            "75%       168.000000                         2550.000000  ...       0.000000   \n",
            "max       254.000000                         7173.000000  ...       1.000000   \n",
            "\n",
            "         Soil_Type33    Soil_Type34    Soil_Type35    Soil_Type36  \\\n",
            "count  581012.000000  581012.000000  581012.000000  581012.000000   \n",
            "mean        0.077716       0.002773       0.003255       0.000205   \n",
            "std         0.267725       0.052584       0.056957       0.014310   \n",
            "min         0.000000       0.000000       0.000000       0.000000   \n",
            "25%         0.000000       0.000000       0.000000       0.000000   \n",
            "50%         0.000000       0.000000       0.000000       0.000000   \n",
            "75%         0.000000       0.000000       0.000000       0.000000   \n",
            "max         1.000000       1.000000       1.000000       1.000000   \n",
            "\n",
            "         Soil_Type37    Soil_Type38    Soil_Type39    Soil_Type40  \\\n",
            "count  581012.000000  581012.000000  581012.000000  581012.000000   \n",
            "mean        0.000513       0.026803       0.023762       0.015060   \n",
            "std         0.022641       0.161508       0.152307       0.121791   \n",
            "min         0.000000       0.000000       0.000000       0.000000   \n",
            "25%         0.000000       0.000000       0.000000       0.000000   \n",
            "50%         0.000000       0.000000       0.000000       0.000000   \n",
            "75%         0.000000       0.000000       0.000000       0.000000   \n",
            "max         1.000000       1.000000       1.000000       1.000000   \n",
            "\n",
            "          Cover_Type  \n",
            "count  581012.000000  \n",
            "mean        2.051471  \n",
            "std         1.396504  \n",
            "min         1.000000  \n",
            "25%         1.000000  \n",
            "50%         2.000000  \n",
            "75%         2.000000  \n",
            "max         7.000000  \n",
            "\n",
            "[8 rows x 55 columns]\n",
            "Elevation                             0\n",
            "Aspect                                0\n",
            "Slope                                 0\n",
            "Horizontal_Distance_To_Hydrology      0\n",
            "Vertical_Distance_To_Hydrology        0\n",
            "Horizontal_Distance_To_Roadways       0\n",
            "Hillshade_9am                         0\n",
            "Hillshade_Noon                        0\n",
            "Hillshade_3pm                         0\n",
            "Horizontal_Distance_To_Fire_Points    0\n",
            "Wilderness_Area1                      0\n",
            "Wilderness_Area2                      0\n",
            "Wilderness_Area3                      0\n",
            "Wilderness_Area4                      0\n",
            "Soil_Type1                            0\n",
            "Soil_Type2                            0\n",
            "Soil_Type3                            0\n",
            "Soil_Type4                            0\n",
            "Soil_Type5                            0\n",
            "Soil_Type6                            0\n",
            "Soil_Type7                            0\n",
            "Soil_Type8                            0\n",
            "Soil_Type9                            0\n",
            "Soil_Type10                           0\n",
            "Soil_Type11                           0\n",
            "Soil_Type12                           0\n",
            "Soil_Type13                           0\n",
            "Soil_Type14                           0\n",
            "Soil_Type15                           0\n",
            "Soil_Type16                           0\n",
            "Soil_Type17                           0\n",
            "Soil_Type18                           0\n",
            "Soil_Type19                           0\n",
            "Soil_Type20                           0\n",
            "Soil_Type21                           0\n",
            "Soil_Type22                           0\n",
            "Soil_Type23                           0\n",
            "Soil_Type24                           0\n",
            "Soil_Type25                           0\n",
            "Soil_Type26                           0\n",
            "Soil_Type27                           0\n",
            "Soil_Type28                           0\n",
            "Soil_Type29                           0\n",
            "Soil_Type30                           0\n",
            "Soil_Type31                           0\n",
            "Soil_Type32                           0\n",
            "Soil_Type33                           0\n",
            "Soil_Type34                           0\n",
            "Soil_Type35                           0\n",
            "Soil_Type36                           0\n",
            "Soil_Type37                           0\n",
            "Soil_Type38                           0\n",
            "Soil_Type39                           0\n",
            "Soil_Type40                           0\n",
            "Cover_Type                            0\n",
            "dtype: int64\n"
          ]
        },
        {
          "output_type": "display_data",
          "data": {
            "text/plain": [
              "<Figure size 600x400 with 1 Axes>"
            ],
            "image/png": "[encoded data removed]"
          },
          "metadata": {}
        },
        {
          "output_type": "display_data",
          "data": {
            "text/plain": [
              "<Figure size 500x300 with 2 Axes>"
            ],
            "image/png": "[encoded data removed]"
          },
          "metadata": {}
        }
      ],
      "source": [
        "# Cargar el conjunto de datos\n",
        "df_cover = pd.read_csv('/content/drive/MyDrive/TFM_OptimizacionHiperparametros/covertype/covtype.data.gz', compression='gzip', header=None, sep=',')\n",
        "\n",
        "# El conjunto de datos no incluye encabezados, así que los añadiremos basados en la descripción del conjunto de datos.\n",
        "column_names = [\n",
        "    'Elevation', 'Aspect', 'Slope', 'Horizontal_Distance_To_Hydrology',\n",
        "    'Vertical_Distance_To_Hydrology', 'Horizontal_Distance_To_Roadways',\n",
        "    'Hillshade_9am', 'Hillshade_Noon', 'Hillshade_3pm',\n",
        "    'Horizontal_Distance_To_Fire_Points'\n",
        "] + ['Wilderness_Area'+str(i) for i in range(1, 5)] + ['Soil_Type'+str(i) for i in range(1, 41)] + ['Cover_Type']\n",
        "\n",
        "df_cover.columns = column_names\n",
        "\n",
        "# Imprimir las primeras filas del conjunto de datos para verificar que se ha cargado correctamente\n",
        "print(df_cover.head())\n",
        "\n",
        "# Describir estadísticas generales del conjunto de datos\n",
        "print(df_cover.describe())\n",
        "\n",
        "# Verificar la cantidad de datos faltantes\n",
        "print(df_cover.isnull().sum())\n",
        "\n",
        "# Mostrar la distribución de la variable objetivo (Cover_Type)\n",
        "plt.figure(figsize=(6, 4))\n",
        "sns.countplot(x='Cover_Type', data=df_cover)\n",
        "plt.title('Distribución de Cover_Type')\n",
        "plt.show()\n",
        "\n",
        "# Debido a la alta cantidad de columnas, puede ser más útil seleccionar algunas para el mapa de calor.\n",
        "selected_columns = ['Elevation', 'Aspect', 'Slope', 'Hillshade_3pm', 'Cover_Type']\n",
        "\n",
        "# Correlación entre las variables seleccionadas\n",
        "plt.figure(figsize=(5, 3))\n",
        "sns.heatmap(df_cover[selected_columns].corr(), annot=True, cmap='coolwarm')\n",
        "plt.title('Mapa de calor de correlación')\n",
        "plt.show()"
      ]
    },
    {
      "cell_type": "markdown",
      "metadata": {
        "id": "-XrT1Fy0TQdk"
      },
      "source": [
        "### Adult Dataset"
      ]
    },
    {
      "cell_type": "code",
      "execution_count": null,
      "metadata": {
        "colab": {
          "base_uri": "https://localhost:8080/",
          "height": 1000
        },
        "id": "56XAF8PODMpd",
        "outputId": "be507539-6f1e-4384-9df1-14f97dea4eda"
      },
      "outputs": [
        {
          "output_type": "stream",
          "name": "stdout",
          "text": [
            "   age  workclass  fnlwgt     education  educational-num      marital-status  \\\n",
            "0   25    Private  226802          11th                7       Never-married   \n",
            "1   38    Private   89814       HS-grad                9  Married-civ-spouse   \n",
            "2   28  Local-gov  336951    Assoc-acdm               12  Married-civ-spouse   \n",
            "3   44    Private  160323  Some-college               10  Married-civ-spouse   \n",
            "4   18        NaN  103497  Some-college               10       Never-married   \n",
            "\n",
            "          occupation relationship   race  gender  capital-gain  capital-loss  \\\n",
            "0  Machine-op-inspct    Own-child  Black    Male             0             0   \n",
            "1    Farming-fishing      Husband  White    Male             0             0   \n",
            "2    Protective-serv      Husband  White    Male             0             0   \n",
            "3  Machine-op-inspct      Husband  Black    Male          7688             0   \n",
            "4                NaN    Own-child  White  Female             0             0   \n",
            "\n",
            "   hours-per-week native-country income  \n",
            "0              40  United-States  <=50K  \n",
            "1              50  United-States  <=50K  \n",
            "2              40  United-States   >50K  \n",
            "3              40  United-States   >50K  \n",
            "4              30  United-States  <=50K  \n",
            "                 age workclass        fnlwgt education  educational-num  \\\n",
            "count   48842.000000     46043  4.884200e+04     48842     48842.000000   \n",
            "unique           NaN         8           NaN        16              NaN   \n",
            "top              NaN   Private           NaN   HS-grad              NaN   \n",
            "freq             NaN     33906           NaN     15784              NaN   \n",
            "mean       38.643585       NaN  1.896641e+05       NaN        10.078089   \n",
            "std        13.710510       NaN  1.056040e+05       NaN         2.570973   \n",
            "min        17.000000       NaN  1.228500e+04       NaN         1.000000   \n",
            "25%        28.000000       NaN  1.175505e+05       NaN         9.000000   \n",
            "50%        37.000000       NaN  1.781445e+05       NaN        10.000000   \n",
            "75%        48.000000       NaN  2.376420e+05       NaN        12.000000   \n",
            "max        90.000000       NaN  1.490400e+06       NaN        16.000000   \n",
            "\n",
            "            marital-status      occupation relationship   race gender  \\\n",
            "count                48842           46033        48842  48842  48842   \n",
            "unique                   7              14            6      5      2   \n",
            "top     Married-civ-spouse  Prof-specialty      Husband  White   Male   \n",
            "freq                 22379            6172        19716  41762  32650   \n",
            "mean                   NaN             NaN          NaN    NaN    NaN   \n",
            "std                    NaN             NaN          NaN    NaN    NaN   \n",
            "min                    NaN             NaN          NaN    NaN    NaN   \n",
            "25%                    NaN             NaN          NaN    NaN    NaN   \n",
            "50%                    NaN             NaN          NaN    NaN    NaN   \n",
            "75%                    NaN             NaN          NaN    NaN    NaN   \n",
            "max                    NaN             NaN          NaN    NaN    NaN   \n",
            "\n",
            "        capital-gain  capital-loss  hours-per-week native-country income  \n",
            "count   48842.000000  48842.000000    48842.000000          47985  48842  \n",
            "unique           NaN           NaN             NaN             41      2  \n",
            "top              NaN           NaN             NaN  United-States  <=50K  \n",
            "freq             NaN           NaN             NaN          43832  37155  \n",
            "mean     1079.067626     87.502314       40.422382            NaN    NaN  \n",
            "std      7452.019058    403.004552       12.391444            NaN    NaN  \n",
            "min         0.000000      0.000000        1.000000            NaN    NaN  \n",
            "25%         0.000000      0.000000       40.000000            NaN    NaN  \n",
            "50%         0.000000      0.000000       40.000000            NaN    NaN  \n",
            "75%         0.000000      0.000000       45.000000            NaN    NaN  \n",
            "max     99999.000000   4356.000000       99.000000            NaN    NaN  \n",
            "age                   0\n",
            "workclass          2799\n",
            "fnlwgt                0\n",
            "education             0\n",
            "educational-num       0\n",
            "marital-status        0\n",
            "occupation         2809\n",
            "relationship          0\n",
            "race                  0\n",
            "gender                0\n",
            "capital-gain          0\n",
            "capital-loss          0\n",
            "hours-per-week        0\n",
            "native-country      857\n",
            "income                0\n",
            "dtype: int64\n"
          ]
        },
        {
          "output_type": "display_data",
          "data": {
            "text/plain": [
              "<Figure size 600x400 with 1 Axes>"
            ],
            "image/png": "[encoded data removed]"
          },
          "metadata": {}
        },
        {
          "output_type": "display_data",
          "data": {
            "text/plain": [
              "<Figure size 800x600 with 2 Axes>"
            ],
            "image/png": "[encoded data removed]"
          },
          "metadata": {}
        }
      ],
      "source": [
        "# Cargar el conjunto de datos\n",
        "# Asumiré que el archivo se llama 'adult.csv'\n",
        "df_adult = pd.read_csv('/content/drive/MyDrive/TFM_OptimizacionHiperparametros/adult/adult.csv', na_values=[\"?\"])\n",
        "\n",
        "# Imprimir las primeras filas del conjunto de datos para verificar que se ha cargado correctamente\n",
        "print(df_adult.head())\n",
        "\n",
        "# Describir estadísticas generales del conjunto de datos\n",
        "print(df_adult.describe(include='all'))\n",
        "\n",
        "# Verificar la cantidad de datos faltantes\n",
        "print(df_adult.isnull().sum())\n",
        "\n",
        "# Mostrar la distribución de la variable objetivo (income)\n",
        "plt.figure(figsize=(6, 4))\n",
        "sns.countplot(x='income', data=df_adult)\n",
        "plt.title('Distribución de income')\n",
        "plt.show()\n",
        "\n",
        "# Para entender las correlaciones entre las variables numéricas podemos usar un mapa de calor de correlación\n",
        "numerical_features = df_adult.select_dtypes(include=['int64', 'float64']).columns\n",
        "plt.figure(figsize=(8, 6))\n",
        "sns.heatmap(df_adult[numerical_features].corr(), annot=True, cmap='coolwarm')\n",
        "plt.title('Mapa de calor de correlación para variables numéricas')\n",
        "plt.show()\n"
      ]
    },
    {
      "cell_type": "markdown",
      "metadata": {
        "id": "fK_oIhq0DlXe"
      },
      "source": [
        "### Bank Marketing Dataset"
      ]
    },
    {
      "cell_type": "code",
      "execution_count": null,
      "metadata": {
        "colab": {
          "base_uri": "https://localhost:8080/",
          "height": 1000
        },
        "id": "rsO8KvLXDpHV",
        "outputId": "778c8ef4-2496-4cea-c013-a1af0ae2cdbd"
      },
      "outputs": [
        {
          "output_type": "stream",
          "name": "stdout",
          "text": [
            "   age        job  marital    education  default housing loan    contact  \\\n",
            "0   56  housemaid  married     basic.4y       no      no   no  telephone   \n",
            "1   57   services  married  high.school  unknown      no   no  telephone   \n",
            "2   37   services  married  high.school       no     yes   no  telephone   \n",
            "3   40     admin.  married     basic.6y       no      no   no  telephone   \n",
            "4   56   services  married  high.school       no      no  yes  telephone   \n",
            "\n",
            "  month day_of_week  ...  campaign  pdays  previous     poutcome emp.var.rate  \\\n",
            "0   may         mon  ...         1    999         0  nonexistent          1.1   \n",
            "1   may         mon  ...         1    999         0  nonexistent          1.1   \n",
            "2   may         mon  ...         1    999         0  nonexistent          1.1   \n",
            "3   may         mon  ...         1    999         0  nonexistent          1.1   \n",
            "4   may         mon  ...         1    999         0  nonexistent          1.1   \n",
            "\n",
            "   cons.price.idx  cons.conf.idx  euribor3m  nr.employed   y  \n",
            "0          93.994          -36.4      4.857       5191.0  no  \n",
            "1          93.994          -36.4      4.857       5191.0  no  \n",
            "2          93.994          -36.4      4.857       5191.0  no  \n",
            "3          93.994          -36.4      4.857       5191.0  no  \n",
            "4          93.994          -36.4      4.857       5191.0  no  \n",
            "\n",
            "[5 rows x 21 columns]\n",
            "               age      duration      campaign         pdays      previous  \\\n",
            "count  41188.00000  41188.000000  41188.000000  41188.000000  41188.000000   \n",
            "mean      40.02406    258.285010      2.567593    962.475454      0.172963   \n",
            "std       10.42125    259.279249      2.770014    186.910907      0.494901   \n",
            "min       17.00000      0.000000      1.000000      0.000000      0.000000   \n",
            "25%       32.00000    102.000000      1.000000    999.000000      0.000000   \n",
            "50%       38.00000    180.000000      2.000000    999.000000      0.000000   \n",
            "75%       47.00000    319.000000      3.000000    999.000000      0.000000   \n",
            "max       98.00000   4918.000000     56.000000    999.000000      7.000000   \n",
            "\n",
            "       emp.var.rate  cons.price.idx  cons.conf.idx     euribor3m   nr.employed  \n",
            "count  41188.000000    41188.000000   41188.000000  41188.000000  41188.000000  \n",
            "mean       0.081886       93.575664     -40.502600      3.621291   5167.035911  \n",
            "std        1.570960        0.578840       4.628198      1.734447     72.251528  \n",
            "min       -3.400000       92.201000     -50.800000      0.634000   4963.600000  \n",
            "25%       -1.800000       93.075000     -42.700000      1.344000   5099.100000  \n",
            "50%        1.100000       93.749000     -41.800000      4.857000   5191.000000  \n",
            "75%        1.400000       93.994000     -36.400000      4.961000   5228.100000  \n",
            "max        1.400000       94.767000     -26.900000      5.045000   5228.100000  \n",
            "job 330\n",
            "marital 80\n",
            "education 1731\n",
            "default 8597\n",
            "housing 990\n",
            "loan 990\n",
            "contact 0\n",
            "month 0\n",
            "day_of_week 0\n",
            "poutcome 0\n",
            "y 0\n"
          ]
        },
        {
          "output_type": "display_data",
          "data": {
            "text/plain": [
              "<Figure size 600x400 with 1 Axes>"
            ],
            "image/png": "[encoded data removed]"
          },
          "metadata": {}
        },
        {
          "output_type": "display_data",
          "data": {
            "text/plain": [
              "<Figure size 800x600 with 2 Axes>"
            ],
            "image/png": "[encoded data removed]"
          },
          "metadata": {}
        }
      ],
      "source": [
        "# Cargar el conjunto de datos\n",
        "df_bank = pd.read_csv('/content/drive/MyDrive/TFM_OptimizacionHiperparametros/bank_marketing/bank_additional/bank_additional_full.csv', sep=';')\n",
        "\n",
        "# Imprimir las primeras filas del conjunto de datos para verificar que se ha cargado correctamente\n",
        "print(df_bank.head())\n",
        "\n",
        "# Describir estadísticas generales del conjunto de datos\n",
        "print(df_bank.describe())\n",
        "\n",
        "# Verificar la cantidad de datos \"desconocidos\", ya que los datos faltantes son etiquetados como tal\n",
        "for col in df_bank.columns:\n",
        "    if df_bank[col].dtype == object:\n",
        "        print(col, df_bank[df_bank[col] == 'unknown'][col].count())\n",
        "\n",
        "# Mostrar la distribución de la variable objetivo (y)\n",
        "plt.figure(figsize=(6, 4))\n",
        "sns.countplot(x='y', data=df_bank)\n",
        "plt.title('Distribución de la variable objetivo (y)')\n",
        "plt.show()\n",
        "\n",
        "# Debido a la alta cantidad de columnas, puede ser más útil seleccionar algunas para el mapa de calor.\n",
        "# Para simplificar, seleccionaremos las columnas numéricas.\n",
        "numerical_columns = ['age', 'duration', 'campaign', 'pdays', 'previous', 'emp.var.rate', 'cons.price.idx', 'cons.conf.idx', 'euribor3m', 'nr.employed']\n",
        "\n",
        "# Correlación entre las variables seleccionadas\n",
        "plt.figure(figsize=(8, 6))\n",
        "sns.heatmap(df_bank[numerical_columns].corr(), annot=True, cmap='coolwarm')\n",
        "plt.title('Mapa de calor de correlación')\n",
        "plt.show()\n"
      ]
    },
    {
      "cell_type": "markdown",
      "metadata": {
        "id": "8XQnlzVGwfy6"
      },
      "source": [
        "### Poker Hand Dataset"
      ]
    },
    {
      "cell_type": "code",
      "execution_count": null,
      "metadata": {
        "colab": {
          "base_uri": "https://localhost:8080/",
          "height": 1000
        },
        "id": "4ON3wOxfwtBg",
        "outputId": "e3e39276-2a34-46cd-cd82-39c3dbcb7888"
      },
      "outputs": [
        {
          "output_type": "stream",
          "name": "stdout",
          "text": [
            "0    513701\n",
            "1    433097\n",
            "2     48828\n",
            "3     21634\n",
            "4      3978\n",
            "5      2050\n",
            "6      1460\n",
            "7       236\n",
            "8        17\n",
            "9         7\n",
            "Name: CLASS, dtype: int64\n",
            "   S1  C1  S2  C2  S3  C3  S4  C4  S5  C5  CLASS\n",
            "0   2  11   2  13   2  10   2  12   2   1      9\n",
            "1   3  12   3  11   3  13   3  10   3   1      9\n",
            "2   4  10   4  11   4   1   4  13   4  12      9\n",
            "3   4   1   4  13   4  12   4  11   4  10      9\n",
            "4   1   2   1   4   1   5   1   3   1   6      8\n",
            "                 S1            C1            S2            C2            S3  \\\n",
            "count  1.025008e+06  1.025008e+06  1.025008e+06  1.025008e+06  1.025008e+06   \n",
            "mean   2.500698e+00  6.997864e+00  2.499844e+00  7.006285e+00  2.501101e+00   \n",
            "std    1.117736e+00  3.743527e+00  1.118645e+00  3.744051e+00  1.118345e+00   \n",
            "min    1.000000e+00  1.000000e+00  1.000000e+00  1.000000e+00  1.000000e+00   \n",
            "25%    2.000000e+00  4.000000e+00  1.000000e+00  4.000000e+00  1.000000e+00   \n",
            "50%    3.000000e+00  7.000000e+00  2.000000e+00  7.000000e+00  3.000000e+00   \n",
            "75%    3.000000e+00  1.000000e+01  4.000000e+00  1.000000e+01  4.000000e+00   \n",
            "max    4.000000e+00  1.300000e+01  4.000000e+00  1.300000e+01  4.000000e+00   \n",
            "\n",
            "                 C3            S4            C4            S5            C5  \\\n",
            "count  1.025008e+06  1.025008e+06  1.025008e+06  1.025008e+06  1.025008e+06   \n",
            "mean   6.999243e+00  2.500286e+00  7.000837e+00  2.499402e+00  6.988829e+00   \n",
            "std    3.741962e+00  1.117215e+00  3.741421e+00  1.118942e+00  3.739931e+00   \n",
            "min    1.000000e+00  1.000000e+00  1.000000e+00  1.000000e+00  1.000000e+00   \n",
            "25%    4.000000e+00  2.000000e+00  4.000000e+00  1.000000e+00  4.000000e+00   \n",
            "50%    7.000000e+00  3.000000e+00  7.000000e+00  2.000000e+00  7.000000e+00   \n",
            "75%    1.000000e+01  3.000000e+00  1.000000e+01  4.000000e+00  1.000000e+01   \n",
            "max    1.300000e+01  4.000000e+00  1.300000e+01  4.000000e+00  1.300000e+01   \n",
            "\n",
            "              CLASS  \n",
            "count  1.025008e+06  \n",
            "mean   6.169981e-01  \n",
            "std    7.737025e-01  \n",
            "min    0.000000e+00  \n",
            "25%    0.000000e+00  \n",
            "50%    0.000000e+00  \n",
            "75%    1.000000e+00  \n",
            "max    9.000000e+00  \n",
            "S1       0\n",
            "C1       0\n",
            "S2       0\n",
            "C2       0\n",
            "S3       0\n",
            "C3       0\n",
            "S4       0\n",
            "C4       0\n",
            "S5       0\n",
            "C5       0\n",
            "CLASS    0\n",
            "dtype: int64\n"
          ]
        },
        {
          "output_type": "display_data",
          "data": {
            "text/plain": [
              "<Figure size 800x600 with 1 Axes>"
            ],
            "image/png": "[encoded data removed]"
          },
          "metadata": {}
        },
        {
          "output_type": "display_data",
          "data": {
            "text/plain": [
              "<Figure size 1000x800 with 2 Axes>"
            ],
            "image/png": "[encoded data removed]"
          },
          "metadata": {}
        }
      ],
      "source": [
        "# Cargar el conjunto de datos de entrenamiento\n",
        "df_train = pd.read_csv('/content/drive/MyDrive/TFM_OptimizacionHiperparametros/poker_hand/poker-hand-training-true.data')\n",
        "\n",
        "# Cargar el conjunto de datos de prueba\n",
        "df_test = pd.read_csv('/content/drive/MyDrive/TFM_OptimizacionHiperparametros/poker_hand/poker-hand-testing.data')\n",
        "\n",
        "# Asumiendo que las columnas no vienen en los archivos, las agregamos manualmente\n",
        "df_train.columns = ['S1', 'C1', 'S2', 'C2', 'S3', 'C3', 'S4', 'C4', 'S5', 'C5', 'CLASS']\n",
        "df_test.columns = ['S1', 'C1', 'S2', 'C2', 'S3', 'C3', 'S4', 'C4', 'S5', 'C5', 'CLASS']\n",
        "\n",
        "# Concatenar los dos dataframes\n",
        "df_poker = pd.concat([df_train, df_test])\n",
        "\n",
        "# Guardar el dataframe combinado como un nuevo archivo CSV\n",
        "df_poker.to_csv('/content/drive/MyDrive/TFM_OptimizacionHiperparametros/poker_hand/poker-hand-full.csv', index=False)\n",
        "\n",
        "print(df_poker['CLASS'].value_counts())\n",
        "\n",
        "# Imprimir las primeras filas del conjunto de datos para verificar que se ha cargado correctamente\n",
        "print(df_poker.head())\n",
        "\n",
        "# Describir estadísticas generales del conjunto de datos\n",
        "print(df_poker.describe())\n",
        "\n",
        "# Verificar la cantidad de datos faltantes\n",
        "print(df_poker.isnull().sum())\n",
        "\n",
        "# Mostrar la distribución de la variable objetivo (CLASS)\n",
        "plt.figure(figsize=(8, 6))\n",
        "sns.countplot(x='CLASS', data=df_poker)\n",
        "plt.title('Distribución de la variable objetivo (CLASS)')\n",
        "plt.show()\n",
        "\n",
        "# Correlación entre las variables\n",
        "plt.figure(figsize=(10, 8))\n",
        "sns.heatmap(df_poker.corr(), annot=True, cmap='coolwarm')\n",
        "plt.title('Mapa de calor de correlación')\n",
        "plt.show()"
      ]
    },
    {
      "cell_type": "markdown",
      "metadata": {
        "id": "0fS5ZzuLrUrv"
      },
      "source": [
        "## Preprocesado de los datos"
      ]
    },
    {
      "cell_type": "markdown",
      "metadata": {
        "id": "AJV2yilXI5Sb"
      },
      "source": [
        "### Preprocesado Forest Covertype"
      ]
    },
    {
      "cell_type": "code",
      "execution_count": null,
      "metadata": {
        "colab": {
          "base_uri": "https://localhost:8080/"
        },
        "id": "0l_OzFvkB8eP",
        "outputId": "19d3d948-643c-4f2b-e295-1674a7ad3613"
      },
      "outputs": [
        {
          "output_type": "stream",
          "name": "stdout",
          "text": [
            "Número de componentes PCA:  54\n",
            "Varianza explicada por cada componente: [6.85487176e-02 5.40885911e-02 4.44205734e-02 3.70631318e-02\n",
            " 2.81564794e-02 2.70959112e-02 2.27528635e-02 2.15787657e-02\n",
            " 2.04275192e-02 2.00885049e-02 1.98864694e-02 1.97675287e-02\n",
            " 1.95321682e-02 1.92270535e-02 1.91888432e-02 1.91168991e-02\n",
            " 1.90073211e-02 1.89725542e-02 1.89249564e-02 1.88209370e-02\n",
            " 1.87859396e-02 1.87665818e-02 1.87078496e-02 1.86878884e-02\n",
            " 1.86628515e-02 1.86410289e-02 1.86350207e-02 1.85998587e-02\n",
            " 1.85945429e-02 1.85927608e-02 1.85877539e-02 1.85746023e-02\n",
            " 1.85609861e-02 1.85415470e-02 1.85376194e-02 1.85319165e-02\n",
            " 1.85271990e-02 1.85223915e-02 1.85187075e-02 1.81466827e-02\n",
            " 1.52845427e-02 1.49400565e-02 1.19256696e-02 1.17406917e-02\n",
            " 8.51195910e-03 7.69457774e-03 6.04691943e-03 5.35279433e-03\n",
            " 4.65683480e-03 2.88044420e-03 2.51617613e-03 5.98162701e-05\n",
            " 1.35188507e-32 1.64815064e-33]\n",
            "Varianza explicada acumulada: [0.06854872 0.12263731 0.16705788 0.20412101 0.23227749 0.2593734\n",
            " 0.28212627 0.30370503 0.32413255 0.34422106 0.36410753 0.38387506\n",
            " 0.40340722 0.42263428 0.44182312 0.46094002 0.47994734 0.4989199\n",
            " 0.51784485 0.53666579 0.55545173 0.57421831 0.59292616 0.61161405\n",
            " 0.6302769  0.64891793 0.66755295 0.68615281 0.70474735 0.72334011\n",
            " 0.74192787 0.76050247 0.77906345 0.797605   0.81614262 0.83467454\n",
            " 0.85320174 0.87172413 0.89024283 0.90838952 0.92367406 0.93861412\n",
            " 0.95053979 0.96228048 0.97079244 0.97848701 0.98453393 0.98988673\n",
            " 0.99454356 0.99742401 0.99994018 1.         1.         1.        ]\n"
          ]
        }
      ],
      "source": [
        "X_cover = df_cover.drop('Cover_Type', axis=1)\n",
        "y_cover = df_cover['Cover_Type']\n",
        "\n",
        "# Convertir las etiquetas a formato categórico\n",
        "y_cover = to_categorical(y_cover - 1)  # Restamos 1 porque las clases deben comenzar desde 0 para to_categorical\n",
        "\n",
        "# Dividir los datos antes del preprocesamiento\n",
        "X_train, X_test, y_train_cover, y_test_cover = train_test_split(X_cover, y_cover, test_size=0.2, random_state=42)\n",
        "\n",
        "# Escalado\n",
        "scaler = StandardScaler()\n",
        "X_train_scaled = scaler.fit_transform(X_train)\n",
        "X_test_scaled = scaler.transform(X_test)  # Nota: usamos transform(), no fit_transform()\n",
        "\n",
        "# PCA\n",
        "pca = PCA()\n",
        "X_train_cover = pca.fit_transform(X_train_scaled)\n",
        "X_test_cover = pca.transform(X_test_scaled)  # Nota: usamos transform(), no fit_transform()\n",
        "\n",
        "# Verificamos la cantidad de componentes\n",
        "print(\"Número de componentes PCA: \", pca.n_components_)\n",
        "\n",
        "# Varianza explicada\n",
        "explained_variance = pca.explained_variance_ratio_\n",
        "print(\"Varianza explicada por cada componente:\", explained_variance)\n",
        "print(\"Varianza explicada acumulada:\", np.cumsum(explained_variance))"
      ]
    },
    {
      "cell_type": "markdown",
      "metadata": {
        "id": "HaAHGE6rJCFz"
      },
      "source": [
        "### Preprocesado Adult"
      ]
    },
    {
      "cell_type": "code",
      "execution_count": null,
      "metadata": {
        "id": "9Cty8OQ3JCF0"
      },
      "outputs": [],
      "source": [
        "X_adult = df_adult.drop('income', axis=1)\n",
        "y_adult = df_adult['income']\n",
        "\n",
        "# Separar los datos en entrenamiento y prueba\n",
        "X_train_adult, X_test_adult, y_train_adult, y_test_adult = train_test_split(X_adult, y_adult, test_size=0.2, random_state=42)\n",
        "\n",
        "le = LabelEncoder()\n",
        "y_train_adult = le.fit_transform(y_train_adult)\n",
        "y_test_adult = le.transform(y_test_adult)\n",
        "\n",
        "# Seleccionar columnas categóricas\n",
        "cat_cols = X_train_adult.select_dtypes(include=['object']).columns\n",
        "\n",
        "# Imputer para valores categóricos\n",
        "cat_imputer = SimpleImputer(strategy='most_frequent')\n",
        "X_train_adult[cat_cols] = cat_imputer.fit_transform(X_train_adult[cat_cols])\n",
        "X_test_adult[cat_cols] = cat_imputer.transform(X_test_adult[cat_cols])\n",
        "\n",
        "# Seleccionar columnas numéricas\n",
        "num_cols = X_train_adult.select_dtypes(include=['int64', 'float64']).columns\n",
        "\n",
        "# Imputer para valores numéricos\n",
        "num_imputer = SimpleImputer(strategy='median')\n",
        "X_train_adult[num_cols] = num_imputer.fit_transform(X_train_adult[num_cols])\n",
        "X_test_adult[num_cols] = num_imputer.transform(X_test_adult[num_cols])\n",
        "\n",
        "# Codificación One-Hot para variables categóricas\n",
        "X_train_adult = pd.get_dummies(X_train_adult, drop_first=True)\n",
        "X_test_adult = pd.get_dummies(X_test_adult, drop_first=True)\n",
        "\n",
        "# Asegurarse de que los conjuntos de entrenamiento y prueba tengan las mismas columnas\n",
        "missing_cols = set(X_train_adult.columns) - set(X_test_adult.columns)\n",
        "for c in missing_cols:\n",
        "    X_test_adult[c] = 0\n",
        "X_test_adult = X_test_adult[X_train_adult.columns]\n",
        "\n",
        "# Escalado de características numéricas\n",
        "scaler = StandardScaler()\n",
        "X_train_adult[num_cols] = scaler.fit_transform(X_train_adult[num_cols])\n",
        "X_test_adult[num_cols] = scaler.transform(X_test_adult[num_cols])"
      ]
    },
    {
      "cell_type": "markdown",
      "metadata": {
        "id": "J6lOxk7cJDZR"
      },
      "source": [
        "### Preprocesado Bank Marketing"
      ]
    },
    {
      "cell_type": "code",
      "execution_count": null,
      "metadata": {
        "id": "m_em6ExcJDZR"
      },
      "outputs": [],
      "source": [
        "X_bank = df_bank.drop(['y', 'duration'], axis=1) # Eliminar la columna 'y' y 'duration'\n",
        "y_bank = df_bank['y']\n",
        "\n",
        "# Convertir las etiquetas 'y' de 'yes'/'no' a 1/0\n",
        "y_bank = df_bank['y'].map({'yes': 1, 'no': 0})\n",
        "\n",
        "X_train_bank, X_test_bank, y_train_bank, y_test_bank = train_test_split(X_bank, y_bank, test_size=0.2, random_state=42)\n",
        "\n",
        "# Seleccionar columnas categóricas\n",
        "cat_cols = X_train_bank.select_dtypes(include=['object']).columns\n",
        "\n",
        "for col in cat_cols:\n",
        "    most_common = X_train_bank[col].value_counts().index[0]\n",
        "    # Si el más común es 'unknown', escogemos el siguiente\n",
        "    if most_common == 'unknown':\n",
        "        most_common = X_train_bank[col].value_counts().index[1]\n",
        "    X_train_bank[col].replace('unknown', most_common, inplace=True)\n",
        "\n",
        "for col in cat_cols:\n",
        "    most_common = X_train_bank[col].value_counts().index[0]\n",
        "    X_test_bank[col].replace('unknown', most_common, inplace=True)\n",
        "\n",
        "# Ajustar el OneHotEncoder en el conjunto de entrenamiento\n",
        "encoder = OneHotEncoder(drop='first').fit(X_train_bank[cat_cols])\n",
        "\n",
        "# Transformar ambos conjuntos con el mismo codificador\n",
        "X_train_bank_encoded = encoder.transform(X_train_bank[cat_cols])\n",
        "X_test_bank_encoded = encoder.transform(X_test_bank[cat_cols])\n",
        "\n",
        "# Convertir las matrices dispersas resultantes a DataFrames\n",
        "X_train_bank_encoded = pd.DataFrame(X_train_bank_encoded.toarray(), columns=encoder.get_feature_names_out(cat_cols))\n",
        "X_test_bank_encoded = pd.DataFrame(X_test_bank_encoded.toarray(), columns=encoder.get_feature_names_out(cat_cols))\n",
        "\n",
        "# Reemplazar las columnas categóricas originales con las nuevas columnas codificadas\n",
        "X_train_bank = X_train_bank.drop(columns=cat_cols).join(X_train_bank_encoded)\n",
        "X_test_bank = X_test_bank.drop(columns=cat_cols).join(X_test_bank_encoded)\n",
        "\n",
        "# Seleccionar columnas numéricas\n",
        "num_cols = X_train_bank.select_dtypes(include=['int64', 'float64']).columns\n",
        "\n",
        "# Imputar valores perdidos con la media\n",
        "imputer = SimpleImputer(strategy='mean')\n",
        "\n",
        "# Aplicar el imputador a las columnas numéricas\n",
        "X_train_bank[num_cols] = imputer.fit_transform(X_train_bank[num_cols])\n",
        "X_test_bank[num_cols] = imputer.transform(X_test_bank[num_cols])\n",
        "\n",
        "# Escalado\n",
        "scaler = StandardScaler()\n",
        "X_train_bank[num_cols] = scaler.fit_transform(X_train_bank[num_cols])\n",
        "X_test_bank[num_cols] = scaler.transform(X_test_bank[num_cols])\n",
        "\n",
        "# PCA\n",
        "pca = PCA()\n",
        "X_train_bank = pca.fit_transform(X_train_bank)\n",
        "X_test_bank = pca.transform(X_test_bank)"
      ]
    },
    {
      "cell_type": "markdown",
      "metadata": {
        "id": "rU8-LHFXJD7j"
      },
      "source": [
        "### Preprocesado Poker Hand"
      ]
    },
    {
      "cell_type": "code",
      "execution_count": null,
      "metadata": {
        "id": "ndlHVipXJD7j"
      },
      "outputs": [],
      "source": [
        "# Definir las características y la variable objetivo\n",
        "X_poker = df_poker.drop('CLASS', axis=1)\n",
        "y_poker = df_poker['CLASS']\n",
        "\n",
        "# Dividir los datos en conjuntos de entrenamiento y prueba\n",
        "X_train_poker, X_test_poker, y_train_poker, y_test_poker = train_test_split(X_poker, y_poker, test_size=0.2, random_state=42)\n",
        "\n",
        "# Estandarizar las características\n",
        "scaler = StandardScaler()\n",
        "\n",
        "X_train_poker = scaler.fit_transform(X_train_poker)\n",
        "X_test_poker = scaler.transform(X_test_poker)"
      ]
    },
    {
      "cell_type": "markdown",
      "metadata": {
        "id": "uxQI78cmjaQS"
      },
      "source": [
        "## Creación y configuración de los modelos e hiperparámetros"
      ]
    },
    {
      "cell_type": "markdown",
      "metadata": {
        "id": "4YyCWb8y_9MI"
      },
      "source": [
        "### Optuna"
      ]
    },
    {
      "cell_type": "markdown",
      "metadata": {
        "id": "ueZnuqnQaAWX"
      },
      "source": [
        "**Forest Covertype Dataset**"
      ]
    },
    {
      "cell_type": "markdown",
      "metadata": {
        "id": "6JEEiYte4qJq"
      },
      "source": [
        "Neural Network"
      ]
    },
    {
      "cell_type": "code",
      "execution_count": null,
      "metadata": {
        "id": "71r6lsVHjuFd"
      },
      "outputs": [],
      "source": [
        "def objective_neural_network(trial):\n",
        "    # Espacio de búsqueda\n",
        "    n_units = trial.suggest_int('n_units', 10, 50)  # número de neuronas en la capa oculta\n",
        "    optimizer_name = trial.suggest_categorical('optimizer', ['Adam', 'SGD', 'RMSprop'])  # optimizador\n",
        "    lr = trial.suggest_float('lr', 1e-5, 1e-1, log=True)  # tasa de aprendizaje\n",
        "    batch_size = trial.suggest_categorical('batch_size', [16, 32, 64, 128, 256])  # tamaño del lote\n",
        "\n",
        "    # Construcción del modelo\n",
        "    model = Sequential()\n",
        "    model.add(Dense(n_units, input_dim=X_train_cover.shape[1], activation='relu'))  # capa oculta\n",
        "    model.add(Dense(7, activation='softmax'))  # capa de salida\n",
        "\n",
        "    # Selección del optimizador\n",
        "    if optimizer_name == 'Adam':\n",
        "        optimizer = Adam(learning_rate=lr)\n",
        "    elif optimizer_name == 'SGD':\n",
        "        optimizer = SGD(learning_rate=lr)\n",
        "    elif optimizer_name == 'RMSprop':\n",
        "        optimizer = RMSprop(learning_rate=lr)\n",
        "\n",
        "    # Compilación del modelo\n",
        "    model.compile(optimizer=optimizer, loss='categorical_crossentropy', metrics=['accuracy'])\n",
        "\n",
        "    # Entrenamiento del modelo\n",
        "    model.fit(X_train_cover, y_train_cover, epochs=3, batch_size=batch_size, verbose=0)\n",
        "\n",
        "    # Evaluación del modelo\n",
        "    loss, accuracy = model.evaluate(X_test_cover, y_test_cover, verbose=0)\n",
        "\n",
        "    # Predecir las clases de los datos de prueba\n",
        "    y_pred = np.argmax(model.predict(X_test_cover), axis=-1)\n",
        "\n",
        "    # Calcular las métricas adicionales\n",
        "    f1 = f1_score(np.argmax(y_test_cover, axis=-1), y_pred, average='weighted', zero_division=1)\n",
        "    recall = recall_score(np.argmax(y_test_cover, axis=-1), y_pred, average='weighted', zero_division=1)\n",
        "\n",
        "    # Almacenar las métricas en el trial\n",
        "    trial.set_user_attr('f1_score', f1)\n",
        "    trial.set_user_attr('recall', recall)\n",
        "\n",
        "    # Retorno del valor a optimizar\n",
        "    return accuracy"
      ]
    },
    {
      "cell_type": "code",
      "execution_count": null,
      "metadata": {
        "colab": {
          "base_uri": "https://localhost:8080/"
        },
        "id": "2TqYlk5lnjWS",
        "outputId": "15ef7719-a568-401b-ae0a-b358f591c102"
      },
      "outputs": [
        {
          "name": "stderr",
          "output_type": "stream",
          "text": [
            "[I 2023-07-25 02:26:53,361] A new study created in memory with name: no-name-c8d32d6a-798c-4b55-b743-7a4c97a7d6cc\n"
          ]
        },
        {
          "name": "stdout",
          "output_type": "stream",
          "text": [
            "3632/3632 [==============================] - 7s 2ms/step\n"
          ]
        },
        {
          "name": "stderr",
          "output_type": "stream",
          "text": [
            "[I 2023-07-25 02:30:33,094] Trial 0 finished with value: 0.7276576161384583 and parameters: {'n_units': 20, 'optimizer': 'RMSprop', 'lr': 2.782559402207126e-05, 'batch_size': 16}. Best is trial 0 with value: 0.7276576161384583.\n"
          ]
        },
        {
          "name": "stdout",
          "output_type": "stream",
          "text": [
            "3632/3632 [==============================] - 6s 2ms/step\n"
          ]
        },
        {
          "name": "stderr",
          "output_type": "stream",
          "text": [
            "[I 2023-07-25 02:31:32,564] Trial 1 finished with value: 0.7855648994445801 and parameters: {'n_units': 40, 'optimizer': 'RMSprop', 'lr': 0.0016681005372000592, 'batch_size': 128}. Best is trial 1 with value: 0.7855648994445801.\n"
          ]
        },
        {
          "name": "stdout",
          "output_type": "stream",
          "text": [
            "3632/3632 [==============================] - 7s 2ms/step\n"
          ]
        },
        {
          "name": "stderr",
          "output_type": "stream",
          "text": [
            "[I 2023-07-25 02:32:03,340] Trial 2 finished with value: 0.7036565542221069 and parameters: {'n_units': 40, 'optimizer': 'RMSprop', 'lr': 2.782559402207126e-05, 'batch_size': 256}. Best is trial 1 with value: 0.7855648994445801.\n"
          ]
        },
        {
          "name": "stdout",
          "output_type": "stream",
          "text": [
            "3632/3632 [==============================] - 6s 2ms/step\n"
          ]
        },
        {
          "name": "stderr",
          "output_type": "stream",
          "text": [
            "[I 2023-07-25 02:33:35,351] Trial 3 finished with value: 0.6570656299591064 and parameters: {'n_units': 30, 'optimizer': 'RMSprop', 'lr': 0.1, 'batch_size': 32}. Best is trial 1 with value: 0.7855648994445801.\n"
          ]
        },
        {
          "name": "stdout",
          "output_type": "stream",
          "text": [
            "3632/3632 [==============================] - 7s 2ms/step\n"
          ]
        },
        {
          "name": "stderr",
          "output_type": "stream",
          "text": [
            "[I 2023-07-25 02:36:23,297] Trial 4 finished with value: 0.7521578669548035 and parameters: {'n_units': 40, 'optimizer': 'Adam', 'lr': 7.742636826811278e-05, 'batch_size': 16}. Best is trial 1 with value: 0.7855648994445801.\n"
          ]
        },
        {
          "name": "stdout",
          "output_type": "stream",
          "text": [
            "3632/3632 [==============================] - 7s 2ms/step\n"
          ]
        },
        {
          "name": "stderr",
          "output_type": "stream",
          "text": [
            "[I 2023-07-25 02:39:59,494] Trial 5 finished with value: 0.7250759601593018 and parameters: {'n_units': 40, 'optimizer': 'RMSprop', 'lr': 0.03593813663804626, 'batch_size': 16}. Best is trial 1 with value: 0.7855648994445801.\n"
          ]
        },
        {
          "name": "stdout",
          "output_type": "stream",
          "text": [
            "3632/3632 [==============================] - 7s 2ms/step\n"
          ]
        },
        {
          "name": "stderr",
          "output_type": "stream",
          "text": [
            "[I 2023-07-25 02:42:45,095] Trial 6 finished with value: 0.5521802306175232 and parameters: {'n_units': 30, 'optimizer': 'RMSprop', 'lr': 0.1, 'batch_size': 16}. Best is trial 1 with value: 0.7855648994445801.\n"
          ]
        },
        {
          "name": "stdout",
          "output_type": "stream",
          "text": [
            "3632/3632 [==============================] - 9s 2ms/step\n"
          ]
        },
        {
          "name": "stderr",
          "output_type": "stream",
          "text": [
            "[I 2023-07-25 02:43:49,208] Trial 7 finished with value: 0.779566764831543 and parameters: {'n_units': 40, 'optimizer': 'RMSprop', 'lr': 0.012915496650148827, 'batch_size': 64}. Best is trial 1 with value: 0.7855648994445801.\n"
          ]
        },
        {
          "name": "stdout",
          "output_type": "stream",
          "text": [
            "3632/3632 [==============================] - 6s 2ms/step\n"
          ]
        },
        {
          "name": "stderr",
          "output_type": "stream",
          "text": [
            "[I 2023-07-25 02:45:29,917] Trial 8 finished with value: 0.7632763385772705 and parameters: {'n_units': 20, 'optimizer': 'SGD', 'lr': 0.1, 'batch_size': 64}. Best is trial 1 with value: 0.7855648994445801.\n"
          ]
        },
        {
          "name": "stdout",
          "output_type": "stream",
          "text": [
            "3632/3632 [==============================] - 8s 2ms/step\n"
          ]
        },
        {
          "name": "stderr",
          "output_type": "stream",
          "text": [
            "[I 2023-07-25 02:46:06,554] Trial 9 finished with value: 0.5428001284599304 and parameters: {'n_units': 30, 'optimizer': 'Adam', 'lr': 1e-05, 'batch_size': 256}. Best is trial 1 with value: 0.7855648994445801.\n"
          ]
        },
        {
          "name": "stdout",
          "output_type": "stream",
          "text": [
            "Mejor trial hasta ahora:\n",
            "  Valor:  0.7855648994445801\n",
            "  f1_score:  0.781111956052385\n",
            "  recall:  0.7855649165684191\n",
            "  Params: \n",
            "    n_units: 40\n",
            "    optimizer: RMSprop\n",
            "    lr: 0.0016681005372000592\n",
            "    batch_size: 128\n"
          ]
        }
      ],
      "source": [
        "# Grid Search\n",
        "# Espacio de búsqueda para GridSampler\n",
        "param_grid = {\n",
        "    'n_units': list(range(10, 50, 10)),\n",
        "    'optimizer': ['Adam', 'SGD', 'RMSprop'],\n",
        "    'lr': list(np.logspace(-5, -1, num=10)),\n",
        "    'batch_size': [16, 32, 64, 128, 256]\n",
        "}\n",
        "sampler = optuna.samplers.GridSampler(param_grid)\n",
        "study = optuna.create_study(direction='maximize', sampler=sampler)\n",
        "study.optimize(objective_neural_network, n_trials=10)\n",
        "\n",
        "print(\"Mejor trial hasta ahora:\")\n",
        "print(\"  Valor: \", study.best_trial.value)\n",
        "print(\"  f1_score: \", study.best_trial.user_attrs['f1_score'])\n",
        "print(\"  recall: \", study.best_trial.user_attrs['recall'])\n",
        "print(\"  Params: \")\n",
        "for key, value in study.best_trial.params.items():\n",
        "    print(\"    {}: {}\".format(key, value))"
      ]
    },
    {
      "cell_type": "code",
      "execution_count": null,
      "metadata": {
        "colab": {
          "base_uri": "https://localhost:8080/"
        },
        "id": "rb327xELWI2Z",
        "outputId": "031f0576-ac51-4598-e456-ddb73c5100f2"
      },
      "outputs": [
        {
          "name": "stderr",
          "output_type": "stream",
          "text": [
            "[I 2023-07-25 02:46:06,579] A new study created in memory with name: no-name-063b11e2-44af-408a-830a-095fef476944\n"
          ]
        },
        {
          "name": "stdout",
          "output_type": "stream",
          "text": [
            "3632/3632 [==============================] - 6s 2ms/step\n"
          ]
        },
        {
          "name": "stderr",
          "output_type": "stream",
          "text": [
            "[I 2023-07-25 02:47:02,300] Trial 0 finished with value: 0.7252652645111084 and parameters: {'n_units': 25, 'optimizer': 'Adam', 'lr': 4.207988669606632e-05, 'batch_size': 64}. Best is trial 0 with value: 0.7252652645111084.\n"
          ]
        },
        {
          "name": "stdout",
          "output_type": "stream",
          "text": [
            "3632/3632 [==============================] - 7s 2ms/step\n"
          ]
        },
        {
          "name": "stderr",
          "output_type": "stream",
          "text": [
            "[I 2023-07-25 02:48:05,415] Trial 1 finished with value: 0.7181398272514343 and parameters: {'n_units': 10, 'optimizer': 'Adam', 'lr': 5.3370327626039544e-05, 'batch_size': 64}. Best is trial 0 with value: 0.7252652645111084.\n"
          ]
        },
        {
          "name": "stdout",
          "output_type": "stream",
          "text": [
            "3632/3632 [==============================] - 7s 2ms/step\n"
          ]
        },
        {
          "name": "stderr",
          "output_type": "stream",
          "text": [
            "[I 2023-07-25 02:51:43,978] Trial 2 finished with value: 0.7779489159584045 and parameters: {'n_units': 35, 'optimizer': 'RMSprop', 'lr': 0.0006672367170464204, 'batch_size': 16}. Best is trial 2 with value: 0.7779489159584045.\n"
          ]
        },
        {
          "name": "stdout",
          "output_type": "stream",
          "text": [
            "3632/3632 [==============================] - 5s 1ms/step\n"
          ]
        },
        {
          "name": "stderr",
          "output_type": "stream",
          "text": [
            "[I 2023-07-25 02:55:23,785] Trial 3 finished with value: 0.6641395092010498 and parameters: {'n_units': 34, 'optimizer': 'RMSprop', 'lr': 0.07286653737491042, 'batch_size': 16}. Best is trial 2 with value: 0.7779489159584045.\n"
          ]
        },
        {
          "name": "stdout",
          "output_type": "stream",
          "text": [
            "3632/3632 [==============================] - 9s 2ms/step\n"
          ]
        },
        {
          "name": "stderr",
          "output_type": "stream",
          "text": [
            "[I 2023-07-25 02:58:12,931] Trial 4 finished with value: 0.746426522731781 and parameters: {'n_units': 15, 'optimizer': 'RMSprop', 'lr': 0.00010842262717330161, 'batch_size': 16}. Best is trial 2 with value: 0.7779489159584045.\n"
          ]
        },
        {
          "name": "stdout",
          "output_type": "stream",
          "text": [
            "3632/3632 [==============================] - 6s 2ms/step\n"
          ]
        },
        {
          "name": "stderr",
          "output_type": "stream",
          "text": [
            "[I 2023-07-25 03:00:56,887] Trial 5 finished with value: 0.7516415119171143 and parameters: {'n_units': 49, 'optimizer': 'SGD', 'lr': 0.002463768595899745, 'batch_size': 16}. Best is trial 2 with value: 0.7779489159584045.\n"
          ]
        },
        {
          "name": "stdout",
          "output_type": "stream",
          "text": [
            "3632/3632 [==============================] - 5s 1ms/step\n"
          ]
        },
        {
          "name": "stderr",
          "output_type": "stream",
          "text": [
            "[I 2023-07-25 03:01:20,424] Trial 6 finished with value: 0.49810245633125305 and parameters: {'n_units': 25, 'optimizer': 'SGD', 'lr': 0.000132965214572995, 'batch_size': 256}. Best is trial 2 with value: 0.7779489159584045.\n"
          ]
        },
        {
          "name": "stdout",
          "output_type": "stream",
          "text": [
            "3632/3632 [==============================] - 5s 1ms/step\n"
          ]
        },
        {
          "name": "stderr",
          "output_type": "stream",
          "text": [
            "[I 2023-07-25 03:03:01,359] Trial 7 finished with value: 0.7626825571060181 and parameters: {'n_units': 41, 'optimizer': 'RMSprop', 'lr': 0.00672093005015611, 'batch_size': 32}. Best is trial 2 with value: 0.7779489159584045.\n"
          ]
        },
        {
          "name": "stdout",
          "output_type": "stream",
          "text": [
            "3632/3632 [==============================] - 7s 2ms/step\n"
          ]
        },
        {
          "name": "stderr",
          "output_type": "stream",
          "text": [
            "[I 2023-07-25 03:03:38,241] Trial 8 finished with value: 0.752872109413147 and parameters: {'n_units': 45, 'optimizer': 'Adam', 'lr': 0.00017535949529764417, 'batch_size': 128}. Best is trial 2 with value: 0.7779489159584045.\n"
          ]
        },
        {
          "name": "stdout",
          "output_type": "stream",
          "text": [
            "3632/3632 [==============================] - 6s 2ms/step\n"
          ]
        },
        {
          "name": "stderr",
          "output_type": "stream",
          "text": [
            "[I 2023-07-25 03:05:04,387] Trial 9 finished with value: 0.7475194334983826 and parameters: {'n_units': 14, 'optimizer': 'SGD', 'lr': 0.012130221181165156, 'batch_size': 32}. Best is trial 2 with value: 0.7779489159584045.\n"
          ]
        },
        {
          "name": "stdout",
          "output_type": "stream",
          "text": [
            "Mejor trial hasta ahora:\n",
            "  Valor:  0.7779489159584045\n",
            "  f1_score:  0.7740597454663316\n",
            "  recall:  0.7779489341927489\n",
            "  Params: \n",
            "    n_units: 35\n",
            "    optimizer: RMSprop\n",
            "    lr: 0.0006672367170464204\n",
            "    batch_size: 16\n"
          ]
        }
      ],
      "source": [
        "# Random Search\n",
        "sampler = optuna.samplers.RandomSampler(seed=42)\n",
        "study = optuna.create_study(direction='maximize', sampler=sampler)\n",
        "study.optimize(objective_neural_network, n_trials=10)\n",
        "\n",
        "print(\"Mejor trial hasta ahora:\")\n",
        "print(\"  Valor: \", study.best_trial.value)\n",
        "print(\"  f1_score: \", study.best_trial.user_attrs['f1_score'])\n",
        "print(\"  recall: \", study.best_trial.user_attrs['recall'])\n",
        "print(\"  Params: \")\n",
        "for key, value in study.best_trial.params.items():\n",
        "    print(\"    {}: {}\".format(key, value))"
      ]
    },
    {
      "cell_type": "code",
      "execution_count": null,
      "metadata": {
        "colab": {
          "base_uri": "https://localhost:8080/"
        },
        "id": "vYhm_srIWK9J",
        "outputId": "e5cea88e-b74f-4640-8c8b-4c571f7d1611"
      },
      "outputs": [
        {
          "name": "stderr",
          "output_type": "stream",
          "text": [
            "[I 2023-07-25 03:05:04,418] A new study created in memory with name: no-name-39808feb-6a33-49b1-b6c5-ac2081728b8b\n"
          ]
        },
        {
          "name": "stdout",
          "output_type": "stream",
          "text": [
            "3632/3632 [==============================] - 7s 2ms/step\n"
          ]
        },
        {
          "name": "stderr",
          "output_type": "stream",
          "text": [
            "[I 2023-07-25 03:05:58,318] Trial 0 finished with value: 0.7266938090324402 and parameters: {'n_units': 25, 'optimizer': 'Adam', 'lr': 4.207988669606632e-05, 'batch_size': 64}. Best is trial 0 with value: 0.7266938090324402.\n"
          ]
        },
        {
          "name": "stdout",
          "output_type": "stream",
          "text": [
            "3632/3632 [==============================] - 5s 1ms/step\n"
          ]
        },
        {
          "name": "stderr",
          "output_type": "stream",
          "text": [
            "[I 2023-07-25 03:06:59,249] Trial 1 finished with value: 0.7157560586929321 and parameters: {'n_units': 10, 'optimizer': 'Adam', 'lr': 5.3370327626039544e-05, 'batch_size': 64}. Best is trial 0 with value: 0.7266938090324402.\n"
          ]
        },
        {
          "name": "stdout",
          "output_type": "stream",
          "text": [
            "3632/3632 [==============================] - 6s 2ms/step\n"
          ]
        },
        {
          "name": "stderr",
          "output_type": "stream",
          "text": [
            "[I 2023-07-25 03:09:39,873] Trial 2 finished with value: 0.7739472985267639 and parameters: {'n_units': 35, 'optimizer': 'RMSprop', 'lr': 0.0006672367170464204, 'batch_size': 16}. Best is trial 2 with value: 0.7739472985267639.\n"
          ]
        },
        {
          "name": "stdout",
          "output_type": "stream",
          "text": [
            "3632/3632 [==============================] - 6s 2ms/step\n"
          ]
        },
        {
          "name": "stderr",
          "output_type": "stream",
          "text": [
            "[I 2023-07-25 03:12:23,956] Trial 3 finished with value: 0.6557231545448303 and parameters: {'n_units': 34, 'optimizer': 'RMSprop', 'lr': 0.07286653737491042, 'batch_size': 16}. Best is trial 2 with value: 0.7739472985267639.\n"
          ]
        },
        {
          "name": "stdout",
          "output_type": "stream",
          "text": [
            "3632/3632 [==============================] - 6s 2ms/step\n"
          ]
        },
        {
          "name": "stderr",
          "output_type": "stream",
          "text": [
            "[I 2023-07-25 03:14:55,296] Trial 4 finished with value: 0.7398862242698669 and parameters: {'n_units': 15, 'optimizer': 'RMSprop', 'lr': 0.00010842262717330161, 'batch_size': 16}. Best is trial 2 with value: 0.7739472985267639.\n"
          ]
        },
        {
          "name": "stdout",
          "output_type": "stream",
          "text": [
            "3632/3632 [==============================] - 5s 1ms/step\n"
          ]
        },
        {
          "name": "stderr",
          "output_type": "stream",
          "text": [
            "[I 2023-07-25 03:17:43,092] Trial 5 finished with value: 0.7550923824310303 and parameters: {'n_units': 49, 'optimizer': 'SGD', 'lr': 0.002463768595899745, 'batch_size': 16}. Best is trial 2 with value: 0.7739472985267639.\n"
          ]
        },
        {
          "name": "stdout",
          "output_type": "stream",
          "text": [
            "3632/3632 [==============================] - 6s 2ms/step\n"
          ]
        },
        {
          "name": "stderr",
          "output_type": "stream",
          "text": [
            "[I 2023-07-25 03:18:15,273] Trial 6 finished with value: 0.4181303381919861 and parameters: {'n_units': 25, 'optimizer': 'SGD', 'lr': 0.000132965214572995, 'batch_size': 256}. Best is trial 2 with value: 0.7739472985267639.\n"
          ]
        },
        {
          "name": "stdout",
          "output_type": "stream",
          "text": [
            "3632/3632 [==============================] - 6s 2ms/step\n"
          ]
        },
        {
          "name": "stderr",
          "output_type": "stream",
          "text": [
            "[I 2023-07-25 03:19:55,523] Trial 7 finished with value: 0.774885356426239 and parameters: {'n_units': 41, 'optimizer': 'RMSprop', 'lr': 0.00672093005015611, 'batch_size': 32}. Best is trial 7 with value: 0.774885356426239.\n"
          ]
        },
        {
          "name": "stdout",
          "output_type": "stream",
          "text": [
            "3632/3632 [==============================] - 6s 2ms/step\n"
          ]
        },
        {
          "name": "stderr",
          "output_type": "stream",
          "text": [
            "[I 2023-07-25 03:20:37,064] Trial 8 finished with value: 0.7503248453140259 and parameters: {'n_units': 45, 'optimizer': 'Adam', 'lr': 0.00017535949529764417, 'batch_size': 128}. Best is trial 7 with value: 0.774885356426239.\n"
          ]
        },
        {
          "name": "stdout",
          "output_type": "stream",
          "text": [
            "3632/3632 [==============================] - 5s 1ms/step\n"
          ]
        },
        {
          "name": "stderr",
          "output_type": "stream",
          "text": [
            "[I 2023-07-25 03:22:07,317] Trial 9 finished with value: 0.7499720454216003 and parameters: {'n_units': 14, 'optimizer': 'SGD', 'lr': 0.012130221181165156, 'batch_size': 32}. Best is trial 7 with value: 0.774885356426239.\n"
          ]
        },
        {
          "name": "stdout",
          "output_type": "stream",
          "text": [
            "Mejor trial hasta ahora:\n",
            "  Valor:  0.774885356426239\n",
            "  f1_score:  0.7683035189556763\n",
            "  recall:  0.7748853299828748\n",
            "  Params: \n",
            "    n_units: 41\n",
            "    optimizer: RMSprop\n",
            "    lr: 0.00672093005015611\n",
            "    batch_size: 32\n"
          ]
        }
      ],
      "source": [
        "# Tree-Structured Parzen Estimator (TPE)\n",
        "sampler = optuna.samplers.TPESampler(seed=42)\n",
        "study = optuna.create_study(direction='maximize', sampler=sampler)\n",
        "study.optimize(objective_neural_network, n_trials=10)\n",
        "\n",
        "print(\"Mejor trial hasta ahora:\")\n",
        "print(\"  Valor: \", study.best_trial.value)\n",
        "print(\"  f1_score: \", study.best_trial.user_attrs['f1_score'])\n",
        "print(\"  recall: \", study.best_trial.user_attrs['recall'])\n",
        "print(\"  Params: \")\n",
        "for key, value in study.best_trial.params.items():\n",
        "    print(\"    {}: {}\".format(key, value))"
      ]
    },
    {
      "cell_type": "markdown",
      "metadata": {
        "id": "xaDr4TMl4yOl"
      },
      "source": [
        "KNN"
      ]
    },
    {
      "cell_type": "code",
      "execution_count": null,
      "metadata": {
        "id": "LhkBoNQP4zfD"
      },
      "outputs": [],
      "source": [
        "def objective_knn(trial):\n",
        "    # Espacio de búsqueda\n",
        "    n_neighbors = trial.suggest_int('n_neighbors', 1, 10)  # número de vecinos\n",
        "    p = trial.suggest_int('p', 1, 2)  # métrica de distancia (1 = manhattan, 2 = euclidiana)\n",
        "\n",
        "    # Construcción del modelo\n",
        "    model = KNeighborsClassifier(n_neighbors=n_neighbors, p=p)\n",
        "\n",
        "    # Entrenamiento del modelo\n",
        "    model.fit(X_train_cover, y_train_cover)\n",
        "\n",
        "    # Evaluación del modelo\n",
        "    accuracy = model.score(X_test_cover, y_test_cover)\n",
        "\n",
        "    # Predecir las clases de los datos de prueba\n",
        "    y_pred = model.predict(X_test_cover)\n",
        "\n",
        "    # Calcular las métricas adicionales\n",
        "    f1 = f1_score(y_test_cover, y_pred, average='weighted', zero_division=1)\n",
        "    recall = recall_score(y_test_cover, y_pred, average='weighted', zero_division=1)\n",
        "\n",
        "    # Almacenar las métricas en el trial\n",
        "    trial.set_user_attr('f1_score', f1)\n",
        "    trial.set_user_attr('recall', recall)\n",
        "\n",
        "    # Retorno del valor a optimizar\n",
        "    return accuracy"
      ]
    },
    {
      "cell_type": "code",
      "execution_count": null,
      "metadata": {
        "colab": {
          "base_uri": "https://localhost:8080/",
          "height": 84,
          "referenced_widgets": [
            "196ea4c7e47044278714d0617269e360",
            "1de34e0411014264befbe2bb6618da4d",
            "0aa96c22a99a4f5e9af7e9782dfc402a",
            "ada1a055e1614f26b6ea2af12c212c2f",
            "5429255b4cc0458c97edd9bdbdb1b482",
            "720f60e9b4e44daf8a20734bc557f44b",
            "7c6417982ff341d2a90237040174bcb2",
            "e8f8bfd5f89c463e84d35a35599366cb",
            "2db6ca9d1e3242edb0931b0a9feeca5e",
            "b54445df5a774e018f04998b3cfcafc9",
            "3fb5cdc7c5d64255a2874269dcd8d6d4"
          ]
        },
        "id": "rTBGO_7541U0",
        "outputId": "5f068d61-e770-4f70-fbd2-b1aa81e08b3d"
      },
      "outputs": [
        {
          "name": "stderr",
          "output_type": "stream",
          "text": [
            "[I 2023-07-25 22:29:44,957] A new study created in memory with name: no-name-54d67de7-c88d-486c-867b-478ca0735aa0\n"
          ]
        },
        {
          "data": {
            "application/vnd.jupyter.widget-view+json": {
              "model_id": "196ea4c7e47044278714d0617269e360",
              "version_major": 2,
              "version_minor": 0
            },
            "text/plain": [
              "  0%|          | 0/10 [00:00<?, ?it/s]"
            ]
          },
          "metadata": {},
          "output_type": "display_data"
        },
        {
          "name": "stdout",
          "output_type": "stream",
          "text": [
            "[I 2023-07-26 00:35:14,358] Trial 0 finished with value: 0.9260346118430678 and parameters: {'n_neighbors': 9, 'p': 1}. Best is trial 0 with value: 0.9260346118430678.\n"
          ]
        }
      ],
      "source": [
        "# Grid Search\n",
        "# Espacio de búsqueda para GridSampler\n",
        "param_grid = {\n",
        "    'n_neighbors': list(range(1, 10, 2)),\n",
        "    'p': [1, 2]  # 1 para la distancia de Manhattan, 2 para la distancia euclidiana\n",
        "}\n",
        "sampler = optuna.samplers.GridSampler(param_grid)\n",
        "study = optuna.create_study(direction='maximize', sampler=sampler)\n",
        "study.optimize(objective_knn, n_trials=10, show_progress_bar=True)\n",
        "\n",
        "print(\"Mejor trial hasta ahora:\")\n",
        "print(\"  Valor: \", study.best_trial.value)\n",
        "print(\"  f1_score: \", study.best_trial.user_attrs['f1_score'])\n",
        "print(\"  recall: \", study.best_trial.user_attrs['recall'])\n",
        "print(\"  Params: \")\n",
        "for key, value in study.best_trial.params.items():\n",
        "    print(\"    {}: {}\".format(key, value))"
      ]
    },
    {
      "cell_type": "code",
      "execution_count": null,
      "metadata": {
        "colab": {
          "background_save": true,
          "base_uri": "https://localhost:8080/"
        },
        "id": "F-vGq06446yN",
        "outputId": "534a0df1-4805-47d4-9f6e-180fc5152234"
      },
      "outputs": [
        {
          "name": "stderr",
          "output_type": "stream",
          "text": [
            "[I 2023-07-26 02:35:40,535] A new study created in memory with name: no-name-eb024baa-1b97-4155-91b3-bac3b7775729\n",
            "[I 2023-07-26 02:44:34,988] Trial 0 finished with value: 0.8966894142147793 and parameters: {'n_neighbors': 4, 'p': 2}. Best is trial 0 with value: 0.8966894142147793.\n",
            "[I 2023-07-26 02:53:15,982] Trial 1 finished with value: 0.8989785117423819 and parameters: {'n_neighbors': 8, 'p': 2}. Best is trial 1 with value: 0.8989785117423819.\n"
          ]
        }
      ],
      "source": [
        "# Random Search\n",
        "sampler = optuna.samplers.RandomSampler(seed=42)\n",
        "study = optuna.create_study(direction='maximize', sampler=sampler)\n",
        "study.optimize(objective_knn, n_trials=10)\n",
        "\n",
        "print(\"Mejor trial hasta ahora:\")\n",
        "print(\"  Valor: \", study.best_trial.value)\n",
        "print(\"  f1_score: \", study.best_trial.user_attrs['f1_score'])\n",
        "print(\"  recall: \", study.best_trial.user_attrs['recall'])\n",
        "print(\"  Params: \")\n",
        "for key, value in study.best_trial.params.items():\n",
        "    print(\"    {}: {}\".format(key, value))"
      ]
    },
    {
      "cell_type": "code",
      "execution_count": null,
      "metadata": {
        "colab": {
          "base_uri": "https://localhost:8080/"
        },
        "id": "-HCI9-bm47Nl",
        "outputId": "6cde3dca-53dd-4625-800d-38c4f30f99ba"
      },
      "outputs": [
        {
          "name": "stderr",
          "output_type": "stream",
          "text": [
            "[I 2023-07-26 12:01:42,362] A new study created in memory with name: no-name-6b3a9061-b135-4957-bcd0-1230a85264a9\n",
            "[I 2023-07-26 12:10:24,304] Trial 0 finished with value: 0.8966894142147793 and parameters: {'n_neighbors': 4, 'p': 2}. Best is trial 0 with value: 0.8966894142147793.\n",
            "[I 2023-07-26 12:19:04,815] Trial 1 finished with value: 0.8989785117423819 and parameters: {'n_neighbors': 8, 'p': 2}. Best is trial 1 with value: 0.8989785117423819.\n",
            "[I 2023-07-26 13:53:36,186] Trial 2 finished with value: 0.8930750496975121 and parameters: {'n_neighbors': 2, 'p': 1}. Best is trial 1 with value: 0.8989785117423819.\n",
            "[I 2023-07-26 14:02:13,585] Trial 3 finished with value: 0.9355094102561896 and parameters: {'n_neighbors': 1, 'p': 2}. Best is trial 3 with value: 0.9355094102561896.\n",
            "[I 2023-07-26 14:10:55,134] Trial 4 finished with value: 0.921112191595742 and parameters: {'n_neighbors': 7, 'p': 2}. Best is trial 3 with value: 0.9355094102561896.\n",
            "[I 2023-07-26 14:19:32,676] Trial 5 finished with value: 0.9355094102561896 and parameters: {'n_neighbors': 1, 'p': 2}. Best is trial 3 with value: 0.9355094102561896.\n",
            "[I 2023-07-26 15:54:15,063] Trial 6 finished with value: 0.9260346118430678 and parameters: {'n_neighbors': 9, 'p': 1}. Best is trial 3 with value: 0.9355094102561896.\n",
            "[I 2023-07-26 17:28:53,058] Trial 7 finished with value: 0.8930750496975121 and parameters: {'n_neighbors': 2, 'p': 1}. Best is trial 3 with value: 0.9355094102561896.\n",
            "[I 2023-07-26 17:37:32,973] Trial 8 finished with value: 0.8966894142147793 and parameters: {'n_neighbors': 4, 'p': 2}. Best is trial 3 with value: 0.9355094102561896.\n"
          ]
        }
      ],
      "source": [
        "# Tree-Structured Parzen Estimator (TPE)\n",
        "sampler = optuna.samplers.TPESampler(seed=42)\n",
        "study = optuna.create_study(direction='maximize', sampler=sampler)\n",
        "study.optimize(objective_knn, n_trials=10)\n",
        "\n",
        "print(\"Mejor trial hasta ahora:\")\n",
        "print(\"  Valor: \", study.best_trial.value)\n",
        "print(\"  f1_score: \", study.best_trial.user_attrs['f1_score'])\n",
        "print(\"  recall: \", study.best_trial.user_attrs['recall'])\n",
        "print(\"  Params: \")\n",
        "for key, value in study.best_trial.params.items():\n",
        "    print(\"    {}: {}\".format(key, value))"
      ]
    },
    {
      "cell_type": "markdown",
      "metadata": {
        "id": "iuGsfXAR25an"
      },
      "source": [
        "Random Forest"
      ]
    },
    {
      "cell_type": "code",
      "execution_count": null,
      "metadata": {
        "id": "0bvl7UKr27_3"
      },
      "outputs": [],
      "source": [
        "def objective_random_forest(trial):\n",
        "    # Espacio de búsqueda\n",
        "    n_estimators = trial.suggest_int('n_estimators', 10, 50)\n",
        "    max_depth = trial.suggest_int('max_depth', 2, 16, log=True)\n",
        "    min_samples_split = trial.suggest_int('min_samples_split', 2, 6)\n",
        "    min_samples_leaf = trial.suggest_int('min_samples_leaf', 1, 5)\n",
        "\n",
        "    # Construcción del modelo\n",
        "    model = RandomForestClassifier(n_estimators=n_estimators,\n",
        "                                   max_depth=max_depth,\n",
        "                                   min_samples_split=min_samples_split,\n",
        "                                   min_samples_leaf=min_samples_leaf,\n",
        "                                   n_jobs=-1, # Utilizar todos los núcleos disponibles\n",
        "                                   random_state=42)\n",
        "\n",
        "    # Entrenamiento del modelo\n",
        "    model.fit(X_train_cover, y_train_cover)\n",
        "\n",
        "    # Evaluación del modelo\n",
        "    accuracy = model.score(X_test_cover, y_test_cover)\n",
        "\n",
        "    # Predecir las clases de los datos de prueba\n",
        "    y_pred = model.predict(X_test_cover)\n",
        "\n",
        "    # Calcular las métricas adicionales\n",
        "    f1 = f1_score(y_test_cover, y_pred, average='weighted', zero_division=1)\n",
        "    recall = recall_score(y_test_cover, y_pred, average='weighted', zero_division=1)\n",
        "\n",
        "    # Almacenar las métricas en el trial\n",
        "    trial.set_user_attr('f1_score', f1)\n",
        "    trial.set_user_attr('recall', recall)\n",
        "\n",
        "    # Retorno del valor a optimizar\n",
        "    return accuracy"
      ]
    },
    {
      "cell_type": "code",
      "execution_count": null,
      "metadata": {
        "colab": {
          "base_uri": "https://localhost:8080/"
        },
        "id": "mdLrPHuL6h3U",
        "outputId": "2915b866-d7cb-4bf3-8f9b-fa2a94ee8965"
      },
      "outputs": [
        {
          "name": "stderr",
          "output_type": "stream",
          "text": [
            "[I 2023-07-26 20:00:27,369] A new study created in memory with name: no-name-07f7a809-5121-4c14-aeec-553ef49a4668\n",
            "[I 2023-07-26 20:01:25,070] Trial 0 finished with value: 0.7206956791132759 and parameters: {'n_estimators': 10, 'max_depth': 8, 'min_samples_split': 4, 'min_samples_leaf': 4}. Best is trial 0 with value: 0.7206956791132759.\n",
            "[I 2023-07-26 20:02:54,059] Trial 1 finished with value: 0.8444446356806623 and parameters: {'n_estimators': 10, 'max_depth': 14, 'min_samples_split': 4, 'min_samples_leaf': 1}. Best is trial 1 with value: 0.8444446356806623.\n",
            "[I 2023-07-26 20:05:01,617] Trial 2 finished with value: 0.7679836148808551 and parameters: {'n_estimators': 20, 'max_depth': 10, 'min_samples_split': 3, 'min_samples_leaf': 2}. Best is trial 1 with value: 0.8444446356806623.\n",
            "[I 2023-07-26 20:09:08,769] Trial 3 finished with value: 0.8497715205287298 and parameters: {'n_estimators': 30, 'max_depth': 14, 'min_samples_split': 5, 'min_samples_leaf': 2}. Best is trial 3 with value: 0.8497715205287298.\n",
            "[I 2023-07-26 20:12:47,737] Trial 4 finished with value: 0.7237678889529531 and parameters: {'n_estimators': 40, 'max_depth': 8, 'min_samples_split': 4, 'min_samples_leaf': 2}. Best is trial 3 with value: 0.8497715205287298.\n",
            "[I 2023-07-26 20:15:31,239] Trial 5 finished with value: 0.7240432691066496 and parameters: {'n_estimators': 30, 'max_depth': 8, 'min_samples_split': 4, 'min_samples_leaf': 2}. Best is trial 3 with value: 0.8497715205287298.\n",
            "[I 2023-07-26 20:17:38,559] Trial 6 finished with value: 0.767475882722477 and parameters: {'n_estimators': 20, 'max_depth': 10, 'min_samples_split': 2, 'min_samples_leaf': 1}. Best is trial 3 with value: 0.8497715205287298.\n",
            "[I 2023-07-26 20:19:50,866] Trial 7 finished with value: 0.6819445281102897 and parameters: {'n_estimators': 30, 'max_depth': 6, 'min_samples_split': 4, 'min_samples_leaf': 4}. Best is trial 3 with value: 0.8497715205287298.\n",
            "[I 2023-07-26 20:20:35,234] Trial 8 finished with value: 0.6771425866802062 and parameters: {'n_estimators': 10, 'max_depth': 6, 'min_samples_split': 4, 'min_samples_leaf': 4}. Best is trial 3 with value: 0.8497715205287298.\n",
            "[I 2023-07-26 20:23:44,737] Trial 9 finished with value: 0.8469488739533403 and parameters: {'n_estimators': 20, 'max_depth': 14, 'min_samples_split': 5, 'min_samples_leaf': 1}. Best is trial 3 with value: 0.8497715205287298.\n"
          ]
        },
        {
          "name": "stdout",
          "output_type": "stream",
          "text": [
            "Mejor trial hasta ahora:\n",
            "  Valor:  0.8497715205287298\n",
            "  f1_score:  0.8577434945099781\n",
            "  recall:  0.8497715205287298\n",
            "  Params: \n",
            "    n_estimators: 30\n",
            "    max_depth: 14\n",
            "    min_samples_split: 5\n",
            "    min_samples_leaf: 2\n"
          ]
        }
      ],
      "source": [
        "# Grid Search\n",
        "# Espacio de búsqueda para GridSampler\n",
        "param_grid = {\n",
        "    'n_estimators': list(range(10, 50, 10)),\n",
        "    'max_depth': list(range(2, 16, 2)),\n",
        "    'min_samples_split': list(range(2, 6, 1)),\n",
        "    'min_samples_leaf': list(range(1, 5, 1)),\n",
        "}\n",
        "sampler = optuna.samplers.GridSampler(param_grid)\n",
        "study = optuna.create_study(direction='maximize', sampler=sampler)\n",
        "study.optimize(objective_random_forest, n_trials=10)\n",
        "\n",
        "print(\"Mejor trial hasta ahora:\")\n",
        "print(\"  Valor: \", study.best_trial.value)\n",
        "print(\"  f1_score: \", study.best_trial.user_attrs['f1_score'])\n",
        "print(\"  recall: \", study.best_trial.user_attrs['recall'])\n",
        "print(\"  Params: \")\n",
        "for key, value in study.best_trial.params.items():\n",
        "    print(\"    {}: {}\".format(key, value))"
      ]
    },
    {
      "cell_type": "code",
      "execution_count": null,
      "metadata": {
        "colab": {
          "base_uri": "https://localhost:8080/"
        },
        "id": "AnJxoXXw6qE0",
        "outputId": "6ff843a7-b3cb-4d59-9201-fdd90cc3ca38"
      },
      "outputs": [
        {
          "name": "stderr",
          "output_type": "stream",
          "text": [
            "[I 2023-07-26 20:23:44,758] A new study created in memory with name: no-name-8cfd9313-b1a0-470e-917d-f2989e650b3d\n",
            "[I 2023-07-26 20:27:21,638] Trial 0 finished with value: 0.8633081762088759 and parameters: {'n_estimators': 25, 'max_depth': 15, 'min_samples_split': 5, 'min_samples_leaf': 3}. Best is trial 0 with value: 0.8633081762088759.\n",
            "[I 2023-07-26 20:27:50,147] Trial 1 finished with value: 0.46623581146786225 and parameters: {'n_estimators': 16, 'max_depth': 2, 'min_samples_split': 2, 'min_samples_leaf': 5}. Best is trial 0 with value: 0.8633081762088759.\n",
            "[I 2023-07-26 20:30:55,904] Trial 2 finished with value: 0.7256180993606017 and parameters: {'n_estimators': 34, 'max_depth': 8, 'min_samples_split': 2, 'min_samples_leaf': 5}. Best is trial 0 with value: 0.8633081762088759.\n",
            "[I 2023-07-26 20:32:15,598] Trial 3 finished with value: 0.4582239701212533 and parameters: {'n_estimators': 44, 'max_depth': 2, 'min_samples_split': 2, 'min_samples_leaf': 1}. Best is trial 0 with value: 0.8633081762088759.\n",
            "[I 2023-07-26 20:33:34,127] Trial 4 finished with value: 0.6074714077949794 and parameters: {'n_estimators': 22, 'max_depth': 5, 'min_samples_split': 4, 'min_samples_leaf': 2}. Best is trial 0 with value: 0.8633081762088759.\n",
            "[I 2023-07-26 20:34:42,973] Trial 5 finished with value: 0.4582239701212533 and parameters: {'n_estimators': 35, 'max_depth': 2, 'min_samples_split': 3, 'min_samples_leaf': 2}. Best is trial 0 with value: 0.8633081762088759.\n",
            "[I 2023-07-26 20:37:33,842] Trial 6 finished with value: 0.76694233367469 and parameters: {'n_estimators': 28, 'max_depth': 10, 'min_samples_split': 2, 'min_samples_leaf': 3}. Best is trial 0 with value: 0.8633081762088759.\n",
            "[I 2023-07-26 20:38:32,709] Trial 7 finished with value: 0.46742338838067865 and parameters: {'n_estimators': 34, 'max_depth': 2, 'min_samples_split': 5, 'min_samples_leaf': 1}. Best is trial 0 with value: 0.8633081762088759.\n",
            "[I 2023-07-26 20:40:12,694] Trial 8 finished with value: 0.8569141932652341 and parameters: {'n_estimators': 12, 'max_depth': 15, 'min_samples_split': 6, 'min_samples_leaf': 5}. Best is trial 0 with value: 0.8633081762088759.\n",
            "[I 2023-07-26 20:40:52,506] Trial 9 finished with value: 0.45603814015128696 and parameters: {'n_estimators': 22, 'max_depth': 2, 'min_samples_split': 5, 'min_samples_leaf': 3}. Best is trial 0 with value: 0.8633081762088759.\n"
          ]
        },
        {
          "name": "stdout",
          "output_type": "stream",
          "text": [
            "Mejor trial hasta ahora:\n",
            "  Valor:  0.8633081762088759\n",
            "  f1_score:  0.8709982633381015\n",
            "  recall:  0.8633081762088759\n",
            "  Params: \n",
            "    n_estimators: 25\n",
            "    max_depth: 15\n",
            "    min_samples_split: 5\n",
            "    min_samples_leaf: 3\n"
          ]
        }
      ],
      "source": [
        "# Random Search\n",
        "sampler = optuna.samplers.RandomSampler(seed=42)\n",
        "study = optuna.create_study(direction='maximize', sampler=sampler)\n",
        "study.optimize(objective_random_forest, n_trials=10)\n",
        "\n",
        "print(\"Mejor trial hasta ahora:\")\n",
        "print(\"  Valor: \", study.best_trial.value)\n",
        "print(\"  f1_score: \", study.best_trial.user_attrs['f1_score'])\n",
        "print(\"  recall: \", study.best_trial.user_attrs['recall'])\n",
        "print(\"  Params: \")\n",
        "for key, value in study.best_trial.params.items():\n",
        "    print(\"    {}: {}\".format(key, value))"
      ]
    },
    {
      "cell_type": "code",
      "execution_count": null,
      "metadata": {
        "colab": {
          "base_uri": "https://localhost:8080/"
        },
        "id": "po72yCdH6qR8",
        "outputId": "43058fc3-34dc-44e3-aa17-acf127b48f4e"
      },
      "outputs": [
        {
          "name": "stderr",
          "output_type": "stream",
          "text": [
            "[I 2023-07-26 20:40:52,529] A new study created in memory with name: no-name-3f637d63-d96e-425a-a631-c961f410ec9b\n",
            "[I 2023-07-26 20:44:22,260] Trial 0 finished with value: 0.8633081762088759 and parameters: {'n_estimators': 25, 'max_depth': 15, 'min_samples_split': 5, 'min_samples_leaf': 3}. Best is trial 0 with value: 0.8633081762088759.\n",
            "[I 2023-07-26 20:44:50,706] Trial 1 finished with value: 0.46623581146786225 and parameters: {'n_estimators': 16, 'max_depth': 2, 'min_samples_split': 2, 'min_samples_leaf': 5}. Best is trial 0 with value: 0.8633081762088759.\n",
            "[I 2023-07-26 20:47:54,055] Trial 2 finished with value: 0.7256180993606017 and parameters: {'n_estimators': 34, 'max_depth': 8, 'min_samples_split': 2, 'min_samples_leaf': 5}. Best is trial 0 with value: 0.8633081762088759.\n",
            "[I 2023-07-26 20:49:12,312] Trial 3 finished with value: 0.4582239701212533 and parameters: {'n_estimators': 44, 'max_depth': 2, 'min_samples_split': 2, 'min_samples_leaf': 1}. Best is trial 0 with value: 0.8633081762088759.\n",
            "[I 2023-07-26 20:50:34,524] Trial 4 finished with value: 0.6074714077949794 and parameters: {'n_estimators': 22, 'max_depth': 5, 'min_samples_split': 4, 'min_samples_leaf': 2}. Best is trial 0 with value: 0.8633081762088759.\n",
            "[I 2023-07-26 20:51:36,850] Trial 5 finished with value: 0.4582239701212533 and parameters: {'n_estimators': 35, 'max_depth': 2, 'min_samples_split': 3, 'min_samples_leaf': 2}. Best is trial 0 with value: 0.8633081762088759.\n",
            "[I 2023-07-26 20:54:35,779] Trial 6 finished with value: 0.76694233367469 and parameters: {'n_estimators': 28, 'max_depth': 10, 'min_samples_split': 2, 'min_samples_leaf': 3}. Best is trial 0 with value: 0.8633081762088759.\n",
            "[I 2023-07-26 20:55:36,498] Trial 7 finished with value: 0.46742338838067865 and parameters: {'n_estimators': 34, 'max_depth': 2, 'min_samples_split': 5, 'min_samples_leaf': 1}. Best is trial 0 with value: 0.8633081762088759.\n",
            "[I 2023-07-26 20:57:21,964] Trial 8 finished with value: 0.8569141932652341 and parameters: {'n_estimators': 12, 'max_depth': 15, 'min_samples_split': 6, 'min_samples_leaf': 5}. Best is trial 0 with value: 0.8633081762088759.\n",
            "[I 2023-07-26 20:58:02,565] Trial 9 finished with value: 0.45603814015128696 and parameters: {'n_estimators': 22, 'max_depth': 2, 'min_samples_split': 5, 'min_samples_leaf': 3}. Best is trial 0 with value: 0.8633081762088759.\n"
          ]
        },
        {
          "name": "stdout",
          "output_type": "stream",
          "text": [
            "Mejor trial hasta ahora:\n",
            "  Valor:  0.8633081762088759\n",
            "  f1_score:  0.8709982633381015\n",
            "  recall:  0.8633081762088759\n",
            "  Params: \n",
            "    n_estimators: 25\n",
            "    max_depth: 15\n",
            "    min_samples_split: 5\n",
            "    min_samples_leaf: 3\n"
          ]
        }
      ],
      "source": [
        "# Tree-Structured Parzen Estimator (TPE)\n",
        "sampler = optuna.samplers.TPESampler(seed=42)\n",
        "study = optuna.create_study(direction='maximize', sampler=sampler)\n",
        "study.optimize(objective_random_forest, n_trials=10)\n",
        "\n",
        "print(\"Mejor trial hasta ahora:\")\n",
        "print(\"  Valor: \", study.best_trial.value)\n",
        "print(\"  f1_score: \", study.best_trial.user_attrs['f1_score'])\n",
        "print(\"  recall: \", study.best_trial.user_attrs['recall'])\n",
        "print(\"  Params: \")\n",
        "for key, value in study.best_trial.params.items():\n",
        "    print(\"    {}: {}\".format(key, value))"
      ]
    },
    {
      "cell_type": "markdown",
      "metadata": {
        "id": "V5zfygzPaI92"
      },
      "source": [
        "**Adult Dataset**"
      ]
    },
    {
      "cell_type": "markdown",
      "metadata": {
        "id": "GjwVrvwMChVG"
      },
      "source": [
        "Neural Network"
      ]
    },
    {
      "cell_type": "code",
      "execution_count": null,
      "metadata": {
        "id": "lYJpOdTLaLa-"
      },
      "outputs": [],
      "source": [
        "def objective_neural_network(trial):\n",
        "    # Espacio de búsqueda\n",
        "    n_units = trial.suggest_int('n_units', 10, 50)  # número de neuronas en la capa oculta\n",
        "    optimizer_name = trial.suggest_categorical('optimizer', ['Adam', 'SGD', 'RMSprop'])  # optimizador\n",
        "    lr = trial.suggest_float('lr', 1e-5, 1e-1, log=True)  # tasa de aprendizaje\n",
        "    batch_size = trial.suggest_categorical('batch_size', [16, 32, 64, 128, 256])  # tamaño del lote\n",
        "\n",
        "    # Construcción del modelo\n",
        "    model = Sequential()\n",
        "    model.add(Dense(n_units, input_dim=X_train_adult.shape[1], activation='relu'))  # capa oculta\n",
        "    model.add(Dense(1, activation='sigmoid'))  # capa de salida\n",
        "\n",
        "    # Selección del optimizador\n",
        "    if optimizer_name == 'Adam':\n",
        "        optimizer = Adam(learning_rate=lr)\n",
        "    elif optimizer_name == 'SGD':\n",
        "        optimizer = SGD(learning_rate=lr)\n",
        "    elif optimizer_name == 'RMSprop':\n",
        "        optimizer = RMSprop(learning_rate=lr)\n",
        "\n",
        "    # Compilación del modelo\n",
        "    model.compile(optimizer=optimizer, loss='binary_crossentropy', metrics=['accuracy'])\n",
        "\n",
        "    # Entrenamiento del modelo\n",
        "    model.fit(X_train_adult, y_train_adult, epochs=3, batch_size=batch_size, verbose=0)\n",
        "\n",
        "    # Evaluación del modelo\n",
        "    loss, accuracy = model.evaluate(X_test_adult, y_test_adult, verbose=0)\n",
        "\n",
        "    # Predecir las clases de los datos de prueba\n",
        "    y_pred = (model.predict(X_test_adult) > 0.5).astype(\"int32\")\n",
        "\n",
        "    # Calcular las métricas adicionales\n",
        "    f1 = f1_score(y_test_adult, y_pred, average='weighted', zero_division=1)\n",
        "    recall = recall_score(y_test_adult, y_pred, average='weighted', zero_division=1)\n",
        "\n",
        "    # Almacenar las métricas en el trial\n",
        "    trial.set_user_attr('f1_score', f1)\n",
        "    trial.set_user_attr('recall', recall)\n",
        "\n",
        "    # Retorno del valor a optimizar\n",
        "    return accuracy"
      ]
    },
    {
      "cell_type": "code",
      "execution_count": null,
      "metadata": {
        "colab": {
          "base_uri": "https://localhost:8080/"
        },
        "id": "NiLzVweuaU2G",
        "outputId": "ea8379b6-c678-4c81-8554-4c972a9222b6"
      },
      "outputs": [
        {
          "name": "stderr",
          "output_type": "stream",
          "text": [
            "[I 2023-07-26 21:37:29,183] A new study created in memory with name: no-name-97193ba3-2aee-4907-bc30-cb027e9655b8\n"
          ]
        },
        {
          "name": "stdout",
          "output_type": "stream",
          "text": [
            "306/306 [==============================] - 0s 1ms/step\n"
          ]
        },
        {
          "name": "stderr",
          "output_type": "stream",
          "text": [
            "[I 2023-07-26 21:37:38,026] Trial 0 finished with value: 0.7819633483886719 and parameters: {'n_units': 30, 'optimizer': 'SGD', 'lr': 0.0005994842503189409, 'batch_size': 64}. Best is trial 0 with value: 0.7819633483886719.\n"
          ]
        },
        {
          "name": "stdout",
          "output_type": "stream",
          "text": [
            "306/306 [==============================] - 0s 1ms/step\n"
          ]
        },
        {
          "name": "stderr",
          "output_type": "stream",
          "text": [
            "[I 2023-07-26 21:37:51,250] Trial 1 finished with value: 0.8471696376800537 and parameters: {'n_units': 40, 'optimizer': 'RMSprop', 'lr': 0.03593813663804626, 'batch_size': 16}. Best is trial 1 with value: 0.8471696376800537.\n"
          ]
        },
        {
          "name": "stdout",
          "output_type": "stream",
          "text": [
            "306/306 [==============================] - 1s 2ms/step\n"
          ]
        },
        {
          "name": "stderr",
          "output_type": "stream",
          "text": [
            "[I 2023-07-26 21:37:54,901] Trial 2 finished with value: 0.8603746294975281 and parameters: {'n_units': 10, 'optimizer': 'Adam', 'lr': 0.03593813663804626, 'batch_size': 256}. Best is trial 2 with value: 0.8603746294975281.\n"
          ]
        },
        {
          "name": "stdout",
          "output_type": "stream",
          "text": [
            "306/306 [==============================] - 1s 2ms/step\n"
          ]
        },
        {
          "name": "stderr",
          "output_type": "stream",
          "text": [
            "[I 2023-07-26 21:37:59,494] Trial 3 finished with value: 0.7936329245567322 and parameters: {'n_units': 10, 'optimizer': 'SGD', 'lr': 0.012915496650148827, 'batch_size': 256}. Best is trial 2 with value: 0.8603746294975281.\n"
          ]
        },
        {
          "name": "stdout",
          "output_type": "stream",
          "text": [
            "306/306 [==============================] - 0s 1ms/step\n"
          ]
        },
        {
          "name": "stderr",
          "output_type": "stream",
          "text": [
            "[I 2023-07-26 21:38:04,294] Trial 4 finished with value: 0.7403009533882141 and parameters: {'n_units': 30, 'optimizer': 'SGD', 'lr': 0.00021544346900318823, 'batch_size': 64}. Best is trial 2 with value: 0.8603746294975281.\n"
          ]
        },
        {
          "name": "stdout",
          "output_type": "stream",
          "text": [
            "306/306 [==============================] - 2s 8ms/step\n"
          ]
        },
        {
          "name": "stderr",
          "output_type": "stream",
          "text": [
            "[I 2023-07-26 21:38:11,685] Trial 5 finished with value: 0.5081380009651184 and parameters: {'n_units': 20, 'optimizer': 'SGD', 'lr': 0.00021544346900318823, 'batch_size': 256}. Best is trial 2 with value: 0.8603746294975281.\n"
          ]
        },
        {
          "name": "stdout",
          "output_type": "stream",
          "text": [
            "306/306 [==============================] - 0s 1ms/step\n"
          ]
        },
        {
          "name": "stderr",
          "output_type": "stream",
          "text": [
            "[I 2023-07-26 21:38:19,760] Trial 6 finished with value: 0.8548469543457031 and parameters: {'n_units': 10, 'optimizer': 'Adam', 'lr': 0.00021544346900318823, 'batch_size': 32}. Best is trial 2 with value: 0.8603746294975281.\n"
          ]
        },
        {
          "name": "stdout",
          "output_type": "stream",
          "text": [
            "306/306 [==============================] - 0s 1ms/step\n"
          ]
        },
        {
          "name": "stderr",
          "output_type": "stream",
          "text": [
            "[I 2023-07-26 21:38:23,034] Trial 7 finished with value: 0.7802231311798096 and parameters: {'n_units': 40, 'optimizer': 'SGD', 'lr': 0.0016681005372000592, 'batch_size': 128}. Best is trial 2 with value: 0.8603746294975281.\n"
          ]
        },
        {
          "name": "stdout",
          "output_type": "stream",
          "text": [
            "306/306 [==============================] - 0s 1ms/step\n"
          ]
        },
        {
          "name": "stderr",
          "output_type": "stream",
          "text": [
            "[I 2023-07-26 21:38:45,702] Trial 8 finished with value: 0.8619101047515869 and parameters: {'n_units': 20, 'optimizer': 'RMSprop', 'lr': 0.0016681005372000592, 'batch_size': 16}. Best is trial 8 with value: 0.8619101047515869.\n"
          ]
        },
        {
          "name": "stdout",
          "output_type": "stream",
          "text": [
            "306/306 [==============================] - 0s 1ms/step\n"
          ]
        },
        {
          "name": "stderr",
          "output_type": "stream",
          "text": [
            "[I 2023-07-26 21:38:50,288] Trial 9 finished with value: 0.8218855857849121 and parameters: {'n_units': 30, 'optimizer': 'Adam', 'lr': 7.742636826811278e-05, 'batch_size': 128}. Best is trial 8 with value: 0.8619101047515869.\n"
          ]
        },
        {
          "name": "stdout",
          "output_type": "stream",
          "text": [
            "Mejor trial hasta ahora:\n",
            "  Valor:  0.8619101047515869\n",
            "  f1_score:  0.8559010529006061\n",
            "  recall:  0.8619101238611936\n",
            "  Params: \n",
            "    n_units: 20\n",
            "    optimizer: RMSprop\n",
            "    lr: 0.0016681005372000592\n",
            "    batch_size: 16\n"
          ]
        }
      ],
      "source": [
        "# Grid Search\n",
        "# Espacio de búsqueda para GridSampler\n",
        "param_grid = {\n",
        "    'n_units': list(range(10, 50, 10)),\n",
        "    'optimizer': ['Adam', 'SGD', 'RMSprop'],\n",
        "    'lr': list(np.logspace(-5, -1, num=10)),\n",
        "    'batch_size': [16, 32, 64, 128, 256]\n",
        "}\n",
        "sampler = optuna.samplers.GridSampler(param_grid)\n",
        "study = optuna.create_study(direction='maximize', sampler=sampler)\n",
        "study.optimize(objective_neural_network, n_trials=10)\n",
        "\n",
        "print(\"Mejor trial hasta ahora:\")\n",
        "print(\"  Valor: \", study.best_trial.value)\n",
        "print(\"  f1_score: \", study.best_trial.user_attrs['f1_score'])\n",
        "print(\"  recall: \", study.best_trial.user_attrs['recall'])\n",
        "print(\"  Params: \")\n",
        "for key, value in study.best_trial.params.items():\n",
        "    print(\"    {}: {}\".format(key, value))"
      ]
    },
    {
      "cell_type": "code",
      "execution_count": null,
      "metadata": {
        "colab": {
          "base_uri": "https://localhost:8080/"
        },
        "id": "uv7GAW_aaVEm",
        "outputId": "c369f320-1dce-4cb1-9f98-d474f6736d80"
      },
      "outputs": [
        {
          "name": "stderr",
          "output_type": "stream",
          "text": [
            "[I 2023-07-26 21:38:50,316] A new study created in memory with name: no-name-2028bac5-80a2-4cc5-9d6e-404c013adcfb\n"
          ]
        },
        {
          "name": "stdout",
          "output_type": "stream",
          "text": [
            "306/306 [==============================] - 1s 2ms/step\n"
          ]
        },
        {
          "name": "stderr",
          "output_type": "stream",
          "text": [
            "[I 2023-07-26 21:38:56,826] Trial 0 finished with value: 0.8286415934562683 and parameters: {'n_units': 25, 'optimizer': 'Adam', 'lr': 4.207988669606632e-05, 'batch_size': 64}. Best is trial 0 with value: 0.8286415934562683.\n"
          ]
        },
        {
          "name": "stdout",
          "output_type": "stream",
          "text": [
            "306/306 [==============================] - 0s 1ms/step\n"
          ]
        },
        {
          "name": "stderr",
          "output_type": "stream",
          "text": [
            "[I 2023-07-26 21:39:01,642] Trial 1 finished with value: 0.7899478077888489 and parameters: {'n_units': 10, 'optimizer': 'Adam', 'lr': 5.3370327626039544e-05, 'batch_size': 64}. Best is trial 0 with value: 0.8286415934562683.\n"
          ]
        },
        {
          "name": "stdout",
          "output_type": "stream",
          "text": [
            "306/306 [==============================] - 0s 1ms/step\n"
          ]
        },
        {
          "name": "stderr",
          "output_type": "stream",
          "text": [
            "[I 2023-07-26 21:39:14,726] Trial 2 finished with value: 0.8611935973167419 and parameters: {'n_units': 35, 'optimizer': 'RMSprop', 'lr': 0.0006672367170464204, 'batch_size': 16}. Best is trial 2 with value: 0.8611935973167419.\n"
          ]
        },
        {
          "name": "stdout",
          "output_type": "stream",
          "text": [
            "306/306 [==============================] - 0s 1ms/step\n"
          ]
        },
        {
          "name": "stderr",
          "output_type": "stream",
          "text": [
            "[I 2023-07-26 21:39:28,388] Trial 3 finished with value: 0.8168696761131287 and parameters: {'n_units': 34, 'optimizer': 'RMSprop', 'lr': 0.07286653737491042, 'batch_size': 16}. Best is trial 2 with value: 0.8611935973167419.\n"
          ]
        },
        {
          "name": "stdout",
          "output_type": "stream",
          "text": [
            "306/306 [==============================] - 1s 2ms/step\n"
          ]
        },
        {
          "name": "stderr",
          "output_type": "stream",
          "text": [
            "[I 2023-07-26 21:39:51,441] Trial 4 finished with value: 0.8514689207077026 and parameters: {'n_units': 15, 'optimizer': 'RMSprop', 'lr': 0.00010842262717330161, 'batch_size': 16}. Best is trial 2 with value: 0.8611935973167419.\n"
          ]
        },
        {
          "name": "stdout",
          "output_type": "stream",
          "text": [
            "306/306 [==============================] - 0s 1ms/step\n"
          ]
        },
        {
          "name": "stderr",
          "output_type": "stream",
          "text": [
            "[I 2023-07-26 21:40:04,196] Trial 5 finished with value: 0.8494216203689575 and parameters: {'n_units': 49, 'optimizer': 'SGD', 'lr': 0.002463768595899745, 'batch_size': 16}. Best is trial 2 with value: 0.8611935973167419.\n"
          ]
        },
        {
          "name": "stdout",
          "output_type": "stream",
          "text": [
            "306/306 [==============================] - 1s 2ms/step\n"
          ]
        },
        {
          "name": "stderr",
          "output_type": "stream",
          "text": [
            "[I 2023-07-26 21:40:08,030] Trial 6 finished with value: 0.30443239212036133 and parameters: {'n_units': 25, 'optimizer': 'SGD', 'lr': 0.000132965214572995, 'batch_size': 256}. Best is trial 2 with value: 0.8611935973167419.\n"
          ]
        },
        {
          "name": "stdout",
          "output_type": "stream",
          "text": [
            "306/306 [==============================] - 0s 1ms/step\n"
          ]
        },
        {
          "name": "stderr",
          "output_type": "stream",
          "text": [
            "[I 2023-07-26 21:40:15,364] Trial 7 finished with value: 0.8632408380508423 and parameters: {'n_units': 41, 'optimizer': 'RMSprop', 'lr': 0.00672093005015611, 'batch_size': 32}. Best is trial 7 with value: 0.8632408380508423.\n"
          ]
        },
        {
          "name": "stdout",
          "output_type": "stream",
          "text": [
            "306/306 [==============================] - 0s 1ms/step\n"
          ]
        },
        {
          "name": "stderr",
          "output_type": "stream",
          "text": [
            "[I 2023-07-26 21:40:18,691] Trial 8 finished with value: 0.8473743200302124 and parameters: {'n_units': 45, 'optimizer': 'Adam', 'lr': 0.00017535949529764417, 'batch_size': 128}. Best is trial 7 with value: 0.8632408380508423.\n"
          ]
        },
        {
          "name": "stdout",
          "output_type": "stream",
          "text": [
            "306/306 [==============================] - 0s 1ms/step\n"
          ]
        },
        {
          "name": "stderr",
          "output_type": "stream",
          "text": [
            "[I 2023-07-26 21:40:31,254] Trial 9 finished with value: 0.852799654006958 and parameters: {'n_units': 14, 'optimizer': 'SGD', 'lr': 0.012130221181165156, 'batch_size': 32}. Best is trial 7 with value: 0.8632408380508423.\n"
          ]
        },
        {
          "name": "stdout",
          "output_type": "stream",
          "text": [
            "Mejor trial hasta ahora:\n",
            "  Valor:  0.8632408380508423\n",
            "  f1_score:  0.8580942514810204\n",
            "  recall:  0.8632408639574163\n",
            "  Params: \n",
            "    n_units: 41\n",
            "    optimizer: RMSprop\n",
            "    lr: 0.00672093005015611\n",
            "    batch_size: 32\n"
          ]
        }
      ],
      "source": [
        "# Random Search\n",
        "sampler = optuna.samplers.RandomSampler(seed=42)\n",
        "study = optuna.create_study(direction='maximize', sampler=sampler)\n",
        "study.optimize(objective_neural_network, n_trials=10)\n",
        "\n",
        "print(\"Mejor trial hasta ahora:\")\n",
        "print(\"  Valor: \", study.best_trial.value)\n",
        "print(\"  f1_score: \", study.best_trial.user_attrs['f1_score'])\n",
        "print(\"  recall: \", study.best_trial.user_attrs['recall'])\n",
        "print(\"  Params: \")\n",
        "for key, value in study.best_trial.params.items():\n",
        "    print(\"    {}: {}\".format(key, value))"
      ]
    },
    {
      "cell_type": "code",
      "execution_count": null,
      "metadata": {
        "colab": {
          "base_uri": "https://localhost:8080/"
        },
        "id": "RaqIXip6abAX",
        "outputId": "8e3da2a0-08d5-41ee-ed67-77fcaaf63c4e"
      },
      "outputs": [
        {
          "name": "stderr",
          "output_type": "stream",
          "text": [
            "[I 2023-07-26 21:40:31,276] A new study created in memory with name: no-name-da1d2d1c-7e1f-4ec9-892f-6e744f808fbf\n"
          ]
        },
        {
          "name": "stdout",
          "output_type": "stream",
          "text": [
            "306/306 [==============================] - 0s 1ms/step\n"
          ]
        },
        {
          "name": "stderr",
          "output_type": "stream",
          "text": [
            "[I 2023-07-26 21:40:38,363] Trial 0 finished with value: 0.8196335434913635 and parameters: {'n_units': 25, 'optimizer': 'Adam', 'lr': 4.207988669606632e-05, 'batch_size': 64}. Best is trial 0 with value: 0.8196335434913635.\n"
          ]
        },
        {
          "name": "stdout",
          "output_type": "stream",
          "text": [
            "306/306 [==============================] - 0s 1ms/step\n"
          ]
        },
        {
          "name": "stderr",
          "output_type": "stream",
          "text": [
            "[I 2023-07-26 21:40:42,946] Trial 1 finished with value: 0.8152318596839905 and parameters: {'n_units': 10, 'optimizer': 'Adam', 'lr': 5.3370327626039544e-05, 'batch_size': 64}. Best is trial 0 with value: 0.8196335434913635.\n"
          ]
        },
        {
          "name": "stdout",
          "output_type": "stream",
          "text": [
            "306/306 [==============================] - 0s 1ms/step\n"
          ]
        },
        {
          "name": "stderr",
          "output_type": "stream",
          "text": [
            "[I 2023-07-26 21:40:55,904] Trial 2 finished with value: 0.8630361557006836 and parameters: {'n_units': 35, 'optimizer': 'RMSprop', 'lr': 0.0006672367170464204, 'batch_size': 16}. Best is trial 2 with value: 0.8630361557006836.\n"
          ]
        },
        {
          "name": "stdout",
          "output_type": "stream",
          "text": [
            "306/306 [==============================] - 0s 1ms/step\n"
          ]
        },
        {
          "name": "stderr",
          "output_type": "stream",
          "text": [
            "[I 2023-07-26 21:41:08,991] Trial 3 finished with value: 0.8462483286857605 and parameters: {'n_units': 34, 'optimizer': 'RMSprop', 'lr': 0.07286653737491042, 'batch_size': 16}. Best is trial 2 with value: 0.8630361557006836.\n"
          ]
        },
        {
          "name": "stdout",
          "output_type": "stream",
          "text": [
            "306/306 [==============================] - 0s 1ms/step\n"
          ]
        },
        {
          "name": "stderr",
          "output_type": "stream",
          "text": [
            "[I 2023-07-26 21:41:21,786] Trial 4 finished with value: 0.8529020547866821 and parameters: {'n_units': 15, 'optimizer': 'RMSprop', 'lr': 0.00010842262717330161, 'batch_size': 16}. Best is trial 2 with value: 0.8630361557006836.\n"
          ]
        },
        {
          "name": "stdout",
          "output_type": "stream",
          "text": [
            "306/306 [==============================] - 1s 2ms/step\n"
          ]
        },
        {
          "name": "stderr",
          "output_type": "stream",
          "text": [
            "[I 2023-07-26 21:41:34,893] Trial 5 finished with value: 0.8432797789573669 and parameters: {'n_units': 49, 'optimizer': 'SGD', 'lr': 0.002463768595899745, 'batch_size': 16}. Best is trial 2 with value: 0.8630361557006836.\n"
          ]
        },
        {
          "name": "stdout",
          "output_type": "stream",
          "text": [
            "306/306 [==============================] - 0s 1ms/step\n"
          ]
        },
        {
          "name": "stderr",
          "output_type": "stream",
          "text": [
            "[I 2023-07-26 21:41:37,290] Trial 6 finished with value: 0.4017811417579651 and parameters: {'n_units': 25, 'optimizer': 'SGD', 'lr': 0.000132965214572995, 'batch_size': 256}. Best is trial 2 with value: 0.8630361557006836.\n"
          ]
        },
        {
          "name": "stdout",
          "output_type": "stream",
          "text": [
            "306/306 [==============================] - 0s 1ms/step\n"
          ]
        },
        {
          "name": "stderr",
          "output_type": "stream",
          "text": [
            "[I 2023-07-26 21:41:44,157] Trial 7 finished with value: 0.8654928803443909 and parameters: {'n_units': 41, 'optimizer': 'RMSprop', 'lr': 0.00672093005015611, 'batch_size': 32}. Best is trial 7 with value: 0.8654928803443909.\n"
          ]
        },
        {
          "name": "stdout",
          "output_type": "stream",
          "text": [
            "306/306 [==============================] - 1s 2ms/step\n"
          ]
        },
        {
          "name": "stderr",
          "output_type": "stream",
          "text": [
            "[I 2023-07-26 21:41:49,818] Trial 8 finished with value: 0.8466578125953674 and parameters: {'n_units': 45, 'optimizer': 'Adam', 'lr': 0.00017535949529764417, 'batch_size': 128}. Best is trial 7 with value: 0.8654928803443909.\n"
          ]
        },
        {
          "name": "stdout",
          "output_type": "stream",
          "text": [
            "306/306 [==============================] - 0s 1ms/step\n"
          ]
        },
        {
          "name": "stderr",
          "output_type": "stream",
          "text": [
            "[I 2023-07-26 21:41:56,694] Trial 9 finished with value: 0.8535162210464478 and parameters: {'n_units': 14, 'optimizer': 'SGD', 'lr': 0.012130221181165156, 'batch_size': 32}. Best is trial 7 with value: 0.8654928803443909.\n"
          ]
        },
        {
          "name": "stdout",
          "output_type": "stream",
          "text": [
            "Mejor trial hasta ahora:\n",
            "  Valor:  0.8654928803443909\n",
            "  f1_score:  0.8605125667310645\n",
            "  recall:  0.8654928856587163\n",
            "  Params: \n",
            "    n_units: 41\n",
            "    optimizer: RMSprop\n",
            "    lr: 0.00672093005015611\n",
            "    batch_size: 32\n"
          ]
        }
      ],
      "source": [
        "# Tree-Structured Parzen Estimator (TPE)\n",
        "sampler = optuna.samplers.TPESampler(seed=42)\n",
        "study = optuna.create_study(direction='maximize', sampler=sampler)\n",
        "study.optimize(objective_neural_network, n_trials=10)\n",
        "\n",
        "print(\"Mejor trial hasta ahora:\")\n",
        "print(\"  Valor: \", study.best_trial.value)\n",
        "print(\"  f1_score: \", study.best_trial.user_attrs['f1_score'])\n",
        "print(\"  recall: \", study.best_trial.user_attrs['recall'])\n",
        "print(\"  Params: \")\n",
        "for key, value in study.best_trial.params.items():\n",
        "    print(\"    {}: {}\".format(key, value))"
      ]
    },
    {
      "cell_type": "markdown",
      "metadata": {
        "id": "js3NIq8pC5TY"
      },
      "source": [
        "KNN"
      ]
    },
    {
      "cell_type": "code",
      "execution_count": null,
      "metadata": {
        "id": "XV-skENaC5TZ"
      },
      "outputs": [],
      "source": [
        "def objective_knn(trial):\n",
        "    # Espacio de búsqueda\n",
        "    n_neighbors = trial.suggest_int('n_neighbors', 1, 10)  # número de vecinos\n",
        "    p = trial.suggest_int('p', 1, 2)  # métrica de distancia (1 = manhattan, 2 = euclidiana)\n",
        "\n",
        "    # Construcción del modelo\n",
        "    model = KNeighborsClassifier(n_neighbors=n_neighbors, p=p)\n",
        "\n",
        "    # Entrenamiento del modelo\n",
        "    model.fit(X_train_adult, y_train_adult)\n",
        "\n",
        "    # Evaluación del modelo\n",
        "    accuracy = model.score(X_test_adult, y_test_adult)\n",
        "\n",
        "    # Predecir las clases de los datos de prueba\n",
        "    y_pred = model.predict(X_test_adult)\n",
        "\n",
        "    # Calcular las métricas adicionales\n",
        "    f1 = f1_score(y_test_adult, y_pred, average='weighted', zero_division=1)\n",
        "    recall = recall_score(y_test_adult, y_pred, average='weighted', zero_division=1)\n",
        "\n",
        "    # Almacenar las métricas en el trial\n",
        "    trial.set_user_attr('f1_score', f1)\n",
        "    trial.set_user_attr('recall', recall)\n",
        "\n",
        "    # Retorno del valor a optimizar\n",
        "    return accuracy"
      ]
    },
    {
      "cell_type": "code",
      "execution_count": null,
      "metadata": {
        "colab": {
          "base_uri": "https://localhost:8080/"
        },
        "id": "oMYvOBy7C5TZ",
        "outputId": "7dff0802-bdc9-410d-fb97-d99625256615"
      },
      "outputs": [
        {
          "name": "stderr",
          "output_type": "stream",
          "text": [
            "[I 2023-07-26 21:41:56,729] A new study created in memory with name: no-name-688c7733-15b8-4927-a1c9-7138b1ef2ac5\n",
            "[I 2023-07-26 21:42:06,146] Trial 0 finished with value: 0.8409253761899887 and parameters: {'n_neighbors': 5, 'p': 2}. Best is trial 0 with value: 0.8409253761899887.\n",
            "[I 2023-07-26 21:43:57,455] Trial 1 finished with value: 0.839594636093766 and parameters: {'n_neighbors': 5, 'p': 1}. Best is trial 0 with value: 0.8409253761899887.\n",
            "[I 2023-07-26 21:45:46,790] Trial 2 finished with value: 0.8030504657590337 and parameters: {'n_neighbors': 1, 'p': 1}. Best is trial 0 with value: 0.8409253761899887.\n",
            "[I 2023-07-26 21:45:56,050] Trial 3 finished with value: 0.8410277408127751 and parameters: {'n_neighbors': 7, 'p': 2}. Best is trial 3 with value: 0.8410277408127751.\n",
            "[I 2023-07-26 21:46:02,889] Trial 4 finished with value: 0.8280274337189067 and parameters: {'n_neighbors': 3, 'p': 2}. Best is trial 3 with value: 0.8410277408127751.\n",
            "[I 2023-07-26 21:46:12,186] Trial 5 finished with value: 0.8429726686457161 and parameters: {'n_neighbors': 9, 'p': 2}. Best is trial 5 with value: 0.8429726686457161.\n",
            "[I 2023-07-26 21:48:04,027] Trial 6 finished with value: 0.8445081379875116 and parameters: {'n_neighbors': 7, 'p': 1}. Best is trial 6 with value: 0.8445081379875116.\n",
            "[I 2023-07-26 21:48:11,907] Trial 7 finished with value: 0.8034599242501791 and parameters: {'n_neighbors': 1, 'p': 2}. Best is trial 6 with value: 0.8445081379875116.\n",
            "[I 2023-07-26 21:50:04,847] Trial 8 finished with value: 0.8276179752277613 and parameters: {'n_neighbors': 3, 'p': 1}. Best is trial 6 with value: 0.8445081379875116.\n",
            "[I 2023-07-26 21:51:54,096] Trial 9 finished with value: 0.8421537516634251 and parameters: {'n_neighbors': 9, 'p': 1}. Best is trial 6 with value: 0.8445081379875116.\n"
          ]
        },
        {
          "name": "stdout",
          "output_type": "stream",
          "text": [
            "Mejor trial hasta ahora:\n",
            "  Valor:  0.8445081379875116\n",
            "  f1_score:  0.84158855334142\n",
            "  recall:  0.8445081379875116\n",
            "  Params: \n",
            "    n_neighbors: 7\n",
            "    p: 1\n"
          ]
        }
      ],
      "source": [
        "# Grid Search\n",
        "# Espacio de búsqueda para GridSampler\n",
        "param_grid = {\n",
        "    'n_neighbors': list(range(1, 10, 2)),\n",
        "    'p': [1, 2]  # 1 para la distancia de Manhattan, 2 para la distancia euclidiana\n",
        "}\n",
        "sampler = optuna.samplers.GridSampler(param_grid)\n",
        "study = optuna.create_study(direction='maximize', sampler=sampler)\n",
        "study.optimize(objective_knn, n_trials=10)\n",
        "\n",
        "print(\"Mejor trial hasta ahora:\")\n",
        "print(\"  Valor: \", study.best_trial.value)\n",
        "print(\"  f1_score: \", study.best_trial.user_attrs['f1_score'])\n",
        "print(\"  recall: \", study.best_trial.user_attrs['recall'])\n",
        "print(\"  Params: \")\n",
        "for key, value in study.best_trial.params.items():\n",
        "    print(\"    {}: {}\".format(key, value))"
      ]
    },
    {
      "cell_type": "code",
      "execution_count": null,
      "metadata": {
        "colab": {
          "base_uri": "https://localhost:8080/"
        },
        "id": "8L_6dGd7C5TZ",
        "outputId": "4efb54ce-b3f0-4274-a564-6a96bff924ec"
      },
      "outputs": [
        {
          "name": "stderr",
          "output_type": "stream",
          "text": [
            "[I 2023-07-26 21:51:54,124] A new study created in memory with name: no-name-577bdd0f-e614-49a3-9aba-b10b4b5f13ab\n",
            "[I 2023-07-26 21:52:01,081] Trial 0 finished with value: 0.8359095096734569 and parameters: {'n_neighbors': 4, 'p': 2}. Best is trial 0 with value: 0.8359095096734569.\n",
            "[I 2023-07-26 21:52:10,409] Trial 1 finished with value: 0.8447128672330843 and parameters: {'n_neighbors': 8, 'p': 2}. Best is trial 1 with value: 0.8447128672330843.\n",
            "[I 2023-07-26 21:54:01,697] Trial 2 finished with value: 0.8196335346504248 and parameters: {'n_neighbors': 2, 'p': 1}. Best is trial 1 with value: 0.8447128672330843.\n",
            "[I 2023-07-26 21:54:10,906] Trial 3 finished with value: 0.8034599242501791 and parameters: {'n_neighbors': 1, 'p': 2}. Best is trial 1 with value: 0.8447128672330843.\n",
            "[I 2023-07-26 21:54:17,754] Trial 4 finished with value: 0.8410277408127751 and parameters: {'n_neighbors': 7, 'p': 2}. Best is trial 1 with value: 0.8447128672330843.\n",
            "[I 2023-07-26 21:54:26,905] Trial 5 finished with value: 0.8034599242501791 and parameters: {'n_neighbors': 1, 'p': 2}. Best is trial 1 with value: 0.8447128672330843.\n",
            "[I 2023-07-26 21:56:18,512] Trial 6 finished with value: 0.8421537516634251 and parameters: {'n_neighbors': 9, 'p': 1}. Best is trial 1 with value: 0.8447128672330843.\n",
            "[I 2023-07-26 21:58:07,558] Trial 7 finished with value: 0.8196335346504248 and parameters: {'n_neighbors': 2, 'p': 1}. Best is trial 1 with value: 0.8447128672330843.\n",
            "[I 2023-07-26 21:58:16,804] Trial 8 finished with value: 0.8359095096734569 and parameters: {'n_neighbors': 4, 'p': 2}. Best is trial 1 with value: 0.8447128672330843.\n",
            "[I 2023-07-26 22:00:08,415] Trial 9 finished with value: 0.839594636093766 and parameters: {'n_neighbors': 5, 'p': 1}. Best is trial 1 with value: 0.8447128672330843.\n"
          ]
        },
        {
          "name": "stdout",
          "output_type": "stream",
          "text": [
            "Mejor trial hasta ahora:\n",
            "  Valor:  0.8447128672330843\n",
            "  f1_score:  0.8376926530739676\n",
            "  recall:  0.8447128672330843\n",
            "  Params: \n",
            "    n_neighbors: 8\n",
            "    p: 2\n"
          ]
        }
      ],
      "source": [
        "# Random Search\n",
        "sampler = optuna.samplers.RandomSampler(seed=42)\n",
        "study = optuna.create_study(direction='maximize', sampler=sampler)\n",
        "study.optimize(objective_knn, n_trials=10)\n",
        "\n",
        "print(\"Mejor trial hasta ahora:\")\n",
        "print(\"  Valor: \", study.best_trial.value)\n",
        "print(\"  f1_score: \", study.best_trial.user_attrs['f1_score'])\n",
        "print(\"  recall: \", study.best_trial.user_attrs['recall'])\n",
        "print(\"  Params: \")\n",
        "for key, value in study.best_trial.params.items():\n",
        "    print(\"    {}: {}\".format(key, value))"
      ]
    },
    {
      "cell_type": "code",
      "execution_count": null,
      "metadata": {
        "colab": {
          "base_uri": "https://localhost:8080/"
        },
        "id": "rky0IY7tC5TZ",
        "outputId": "c9f507bc-a7f8-45aa-9ee5-602941845ec9"
      },
      "outputs": [
        {
          "name": "stderr",
          "output_type": "stream",
          "text": [
            "[I 2023-07-26 22:00:08,435] A new study created in memory with name: no-name-279cba23-e877-4a22-8b0d-4b50a5f28a92\n",
            "[I 2023-07-26 22:00:16,514] Trial 0 finished with value: 0.8359095096734569 and parameters: {'n_neighbors': 4, 'p': 2}. Best is trial 0 with value: 0.8359095096734569.\n",
            "[I 2023-07-26 22:00:24,637] Trial 1 finished with value: 0.8447128672330843 and parameters: {'n_neighbors': 8, 'p': 2}. Best is trial 1 with value: 0.8447128672330843.\n",
            "[I 2023-07-26 22:02:13,494] Trial 2 finished with value: 0.8196335346504248 and parameters: {'n_neighbors': 2, 'p': 1}. Best is trial 1 with value: 0.8447128672330843.\n",
            "[I 2023-07-26 22:02:22,744] Trial 3 finished with value: 0.8034599242501791 and parameters: {'n_neighbors': 1, 'p': 2}. Best is trial 1 with value: 0.8447128672330843.\n",
            "[I 2023-07-26 22:02:29,585] Trial 4 finished with value: 0.8410277408127751 and parameters: {'n_neighbors': 7, 'p': 2}. Best is trial 1 with value: 0.8447128672330843.\n",
            "[I 2023-07-26 22:02:38,840] Trial 5 finished with value: 0.8034599242501791 and parameters: {'n_neighbors': 1, 'p': 2}. Best is trial 1 with value: 0.8447128672330843.\n",
            "[I 2023-07-26 22:04:30,127] Trial 6 finished with value: 0.8421537516634251 and parameters: {'n_neighbors': 9, 'p': 1}. Best is trial 1 with value: 0.8447128672330843.\n",
            "[I 2023-07-26 22:06:21,642] Trial 7 finished with value: 0.8196335346504248 and parameters: {'n_neighbors': 2, 'p': 1}. Best is trial 1 with value: 0.8447128672330843.\n",
            "[I 2023-07-26 22:06:30,914] Trial 8 finished with value: 0.8359095096734569 and parameters: {'n_neighbors': 4, 'p': 2}. Best is trial 1 with value: 0.8447128672330843.\n",
            "[I 2023-07-26 22:08:19,963] Trial 9 finished with value: 0.839594636093766 and parameters: {'n_neighbors': 5, 'p': 1}. Best is trial 1 with value: 0.8447128672330843.\n"
          ]
        },
        {
          "name": "stdout",
          "output_type": "stream",
          "text": [
            "Mejor trial hasta ahora:\n",
            "  Valor:  0.8447128672330843\n",
            "  f1_score:  0.8376926530739676\n",
            "  recall:  0.8447128672330843\n",
            "  Params: \n",
            "    n_neighbors: 8\n",
            "    p: 2\n"
          ]
        }
      ],
      "source": [
        "# Tree-Structured Parzen Estimator (TPE)\n",
        "sampler = optuna.samplers.TPESampler(seed=42)\n",
        "study = optuna.create_study(direction='maximize', sampler=sampler)\n",
        "study.optimize(objective_knn, n_trials=10)\n",
        "\n",
        "print(\"Mejor trial hasta ahora:\")\n",
        "print(\"  Valor: \", study.best_trial.value)\n",
        "print(\"  f1_score: \", study.best_trial.user_attrs['f1_score'])\n",
        "print(\"  recall: \", study.best_trial.user_attrs['recall'])\n",
        "print(\"  Params: \")\n",
        "for key, value in study.best_trial.params.items():\n",
        "    print(\"    {}: {}\".format(key, value))"
      ]
    },
    {
      "cell_type": "markdown",
      "metadata": {
        "id": "S-JTYnxEC5Ta"
      },
      "source": [
        "Random Forest"
      ]
    },
    {
      "cell_type": "code",
      "execution_count": null,
      "metadata": {
        "id": "I9cEqBYxC5Ta"
      },
      "outputs": [],
      "source": [
        "def objective_random_forest(trial):\n",
        "    # Espacio de búsqueda\n",
        "    n_estimators = trial.suggest_int('n_estimators', 10, 50)\n",
        "    max_depth = trial.suggest_int('max_depth', 2, 16, log=True)\n",
        "    min_samples_split = trial.suggest_int('min_samples_split', 2, 6)\n",
        "    min_samples_leaf = trial.suggest_int('min_samples_leaf', 1, 5)\n",
        "\n",
        "    # Construcción del modelo\n",
        "    model = RandomForestClassifier(n_estimators=n_estimators,\n",
        "                                   max_depth=max_depth,\n",
        "                                   min_samples_split=min_samples_split,\n",
        "                                   min_samples_leaf=min_samples_leaf,\n",
        "                                   n_jobs=-1, # Utilizar todos los núcleos disponibles\n",
        "                                   random_state=42)\n",
        "\n",
        "    # Entrenamiento del modelo\n",
        "    model.fit(X_train_adult, y_train_adult)\n",
        "\n",
        "    # Evaluación del modelo\n",
        "    accuracy = model.score(X_test_adult, y_test_adult)\n",
        "\n",
        "    # Predecir las clases de los datos de prueba\n",
        "    y_pred = model.predict(X_test_adult)\n",
        "\n",
        "    # Calcular las métricas adicionales\n",
        "    f1 = f1_score(y_test_adult, y_pred, average='weighted', zero_division=1)\n",
        "    recall = recall_score(y_test_adult, y_pred, average='weighted', zero_division=1)\n",
        "\n",
        "    # Almacenar las métricas en el trial\n",
        "    trial.set_user_attr('f1_score', f1)\n",
        "    trial.set_user_attr('recall', recall)\n",
        "\n",
        "    # Retorno del valor a optimizar\n",
        "    return accuracy"
      ]
    },
    {
      "cell_type": "code",
      "execution_count": null,
      "metadata": {
        "colab": {
          "base_uri": "https://localhost:8080/"
        },
        "id": "J6NmL00yC5Ta",
        "outputId": "b29c0b4c-fbf8-4c4c-aaf7-3a24ae8d9106"
      },
      "outputs": [
        {
          "name": "stderr",
          "output_type": "stream",
          "text": [
            "[I 2023-07-26 22:08:20,007] A new study created in memory with name: no-name-91279ddc-c5f4-4547-b70f-6b282ee744a6\n",
            "[I 2023-07-26 22:08:20,249] Trial 0 finished with value: 0.8239328488074521 and parameters: {'n_estimators': 10, 'max_depth': 4, 'min_samples_split': 2, 'min_samples_leaf': 1}. Best is trial 0 with value: 0.8239328488074521.\n",
            "[I 2023-07-26 22:08:21,490] Trial 1 finished with value: 0.8629337700890573 and parameters: {'n_estimators': 40, 'max_depth': 10, 'min_samples_split': 3, 'min_samples_leaf': 3}. Best is trial 1 with value: 0.8629337700890573.\n",
            "[I 2023-07-26 22:08:21,810] Trial 2 finished with value: 0.8597604667826799 and parameters: {'n_estimators': 10, 'max_depth': 10, 'min_samples_split': 4, 'min_samples_leaf': 4}. Best is trial 1 with value: 0.8629337700890573.\n",
            "[I 2023-07-26 22:08:22,224] Trial 3 finished with value: 0.8307912785341386 and parameters: {'n_estimators': 20, 'max_depth': 4, 'min_samples_split': 5, 'min_samples_leaf': 3}. Best is trial 1 with value: 0.8629337700890573.\n",
            "[I 2023-07-26 22:08:22,602] Trial 4 finished with value: 0.8597604667826799 and parameters: {'n_estimators': 10, 'max_depth': 10, 'min_samples_split': 5, 'min_samples_leaf': 4}. Best is trial 1 with value: 0.8629337700890573.\n",
            "[I 2023-07-26 22:08:24,258] Trial 5 finished with value: 0.8648786979219981 and parameters: {'n_estimators': 40, 'max_depth': 14, 'min_samples_split': 4, 'min_samples_leaf': 2}. Best is trial 5 with value: 0.8648786979219981.\n",
            "[I 2023-07-26 22:08:25,352] Trial 6 finished with value: 0.8647763332992118 and parameters: {'n_estimators': 30, 'max_depth': 12, 'min_samples_split': 3, 'min_samples_leaf': 4}. Best is trial 5 with value: 0.8648786979219981.\n",
            "[I 2023-07-26 22:08:26,763] Trial 7 finished with value: 0.8626266762206981 and parameters: {'n_estimators': 30, 'max_depth': 12, 'min_samples_split': 4, 'min_samples_leaf': 3}. Best is trial 5 with value: 0.8648786979219981.\n",
            "[I 2023-07-26 22:08:28,807] Trial 8 finished with value: 0.8443034087419388 and parameters: {'n_estimators': 30, 'max_depth': 6, 'min_samples_split': 5, 'min_samples_leaf': 3}. Best is trial 5 with value: 0.8648786979219981.\n",
            "[I 2023-07-26 22:08:30,795] Trial 9 finished with value: 0.8649810625447846 and parameters: {'n_estimators': 30, 'max_depth': 14, 'min_samples_split': 2, 'min_samples_leaf': 4}. Best is trial 9 with value: 0.8649810625447846.\n"
          ]
        },
        {
          "name": "stdout",
          "output_type": "stream",
          "text": [
            "Mejor trial hasta ahora:\n",
            "  Valor:  0.8649810625447846\n",
            "  f1_score:  0.8573611943779232\n",
            "  recall:  0.8649810625447846\n",
            "  Params: \n",
            "    n_estimators: 30\n",
            "    max_depth: 14\n",
            "    min_samples_split: 2\n",
            "    min_samples_leaf: 4\n"
          ]
        }
      ],
      "source": [
        "# Grid Search\n",
        "# Espacio de búsqueda para GridSampler\n",
        "param_grid = {\n",
        "    'n_estimators': list(range(10, 50, 10)),\n",
        "    'max_depth': list(range(2, 16, 2)),\n",
        "    'min_samples_split': list(range(2, 6, 1)),\n",
        "    'min_samples_leaf': list(range(1, 5, 1)),\n",
        "}\n",
        "sampler = optuna.samplers.GridSampler(param_grid)\n",
        "study = optuna.create_study(direction='maximize', sampler=sampler)\n",
        "study.optimize(objective_random_forest, n_trials=10)\n",
        "\n",
        "print(\"Mejor trial hasta ahora:\")\n",
        "print(\"  Valor: \", study.best_trial.value)\n",
        "print(\"  f1_score: \", study.best_trial.user_attrs['f1_score'])\n",
        "print(\"  recall: \", study.best_trial.user_attrs['recall'])\n",
        "print(\"  Params: \")\n",
        "for key, value in study.best_trial.params.items():\n",
        "    print(\"    {}: {}\".format(key, value))"
      ]
    },
    {
      "cell_type": "code",
      "execution_count": null,
      "metadata": {
        "colab": {
          "base_uri": "https://localhost:8080/"
        },
        "id": "o7RO2aAqC5Ta",
        "outputId": "0bfa4a4c-07e2-4e06-b08d-c36eee4d8079"
      },
      "outputs": [
        {
          "name": "stderr",
          "output_type": "stream",
          "text": [
            "[I 2023-07-26 22:08:30,822] A new study created in memory with name: no-name-b850135d-da53-4db0-a0b4-cddebaa6a0c2\n",
            "[I 2023-07-26 22:08:31,894] Trial 0 finished with value: 0.8640597809397073 and parameters: {'n_estimators': 25, 'max_depth': 15, 'min_samples_split': 5, 'min_samples_leaf': 3}. Best is trial 0 with value: 0.8640597809397073.\n",
            "[I 2023-07-26 22:08:32,146] Trial 1 finished with value: 0.7676323062749514 and parameters: {'n_estimators': 16, 'max_depth': 2, 'min_samples_split': 2, 'min_samples_leaf': 5}. Best is trial 0 with value: 0.8640597809397073.\n",
            "[I 2023-07-26 22:08:33,082] Trial 2 finished with value: 0.8597604667826799 and parameters: {'n_estimators': 34, 'max_depth': 8, 'min_samples_split': 2, 'min_samples_leaf': 5}. Best is trial 0 with value: 0.8640597809397073.\n",
            "[I 2023-07-26 22:08:33,595] Trial 3 finished with value: 0.7673252124065922 and parameters: {'n_estimators': 44, 'max_depth': 2, 'min_samples_split': 2, 'min_samples_leaf': 1}. Best is trial 0 with value: 0.8640597809397073.\n",
            "[I 2023-07-26 22:08:34,057] Trial 4 finished with value: 0.8410277408127751 and parameters: {'n_estimators': 22, 'max_depth': 5, 'min_samples_split': 4, 'min_samples_leaf': 2}. Best is trial 0 with value: 0.8640597809397073.\n",
            "[I 2023-07-26 22:08:34,463] Trial 5 finished with value: 0.7703961510901832 and parameters: {'n_estimators': 35, 'max_depth': 2, 'min_samples_split': 3, 'min_samples_leaf': 2}. Best is trial 0 with value: 0.8640597809397073.\n",
            "[I 2023-07-26 22:08:35,246] Trial 6 finished with value: 0.8629337700890573 and parameters: {'n_estimators': 28, 'max_depth': 10, 'min_samples_split': 2, 'min_samples_leaf': 3}. Best is trial 0 with value: 0.8640597809397073.\n",
            "[I 2023-07-26 22:08:35,632] Trial 7 finished with value: 0.7708056095813287 and parameters: {'n_estimators': 34, 'max_depth': 2, 'min_samples_split': 5, 'min_samples_leaf': 1}. Best is trial 0 with value: 0.8640597809397073.\n",
            "[I 2023-07-26 22:08:36,062] Trial 8 finished with value: 0.8639574163169209 and parameters: {'n_estimators': 12, 'max_depth': 15, 'min_samples_split': 6, 'min_samples_leaf': 5}. Best is trial 0 with value: 0.8640597809397073.\n",
            "[I 2023-07-26 22:08:36,335] Trial 9 finished with value: 0.7657897430647969 and parameters: {'n_estimators': 22, 'max_depth': 2, 'min_samples_split': 5, 'min_samples_leaf': 3}. Best is trial 0 with value: 0.8640597809397073.\n"
          ]
        },
        {
          "name": "stdout",
          "output_type": "stream",
          "text": [
            "Mejor trial hasta ahora:\n",
            "  Valor:  0.8640597809397073\n",
            "  f1_score:  0.8555524535427323\n",
            "  recall:  0.8640597809397073\n",
            "  Params: \n",
            "    n_estimators: 25\n",
            "    max_depth: 15\n",
            "    min_samples_split: 5\n",
            "    min_samples_leaf: 3\n"
          ]
        }
      ],
      "source": [
        "# Random Search\n",
        "sampler = optuna.samplers.RandomSampler(seed=42)\n",
        "study = optuna.create_study(direction='maximize', sampler=sampler)\n",
        "study.optimize(objective_random_forest, n_trials=10)\n",
        "\n",
        "print(\"Mejor trial hasta ahora:\")\n",
        "print(\"  Valor: \", study.best_trial.value)\n",
        "print(\"  f1_score: \", study.best_trial.user_attrs['f1_score'])\n",
        "print(\"  recall: \", study.best_trial.user_attrs['recall'])\n",
        "print(\"  Params: \")\n",
        "for key, value in study.best_trial.params.items():\n",
        "    print(\"    {}: {}\".format(key, value))"
      ]
    },
    {
      "cell_type": "code",
      "execution_count": null,
      "metadata": {
        "colab": {
          "base_uri": "https://localhost:8080/"
        },
        "id": "INl9rWnKC5Ta",
        "outputId": "4f1977c4-74e2-4bbd-849d-a08c9d2d60bd"
      },
      "outputs": [
        {
          "name": "stderr",
          "output_type": "stream",
          "text": [
            "[I 2023-07-26 22:08:36,360] A new study created in memory with name: no-name-a95f196d-ad64-4707-9f29-355f84c84285\n",
            "[I 2023-07-26 22:08:37,225] Trial 0 finished with value: 0.8640597809397073 and parameters: {'n_estimators': 25, 'max_depth': 15, 'min_samples_split': 5, 'min_samples_leaf': 3}. Best is trial 0 with value: 0.8640597809397073.\n",
            "[I 2023-07-26 22:08:37,461] Trial 1 finished with value: 0.7676323062749514 and parameters: {'n_estimators': 16, 'max_depth': 2, 'min_samples_split': 2, 'min_samples_leaf': 5}. Best is trial 0 with value: 0.8640597809397073.\n",
            "[I 2023-07-26 22:08:38,397] Trial 2 finished with value: 0.8597604667826799 and parameters: {'n_estimators': 34, 'max_depth': 8, 'min_samples_split': 2, 'min_samples_leaf': 5}. Best is trial 0 with value: 0.8640597809397073.\n",
            "[I 2023-07-26 22:08:38,875] Trial 3 finished with value: 0.7673252124065922 and parameters: {'n_estimators': 44, 'max_depth': 2, 'min_samples_split': 2, 'min_samples_leaf': 1}. Best is trial 0 with value: 0.8640597809397073.\n",
            "[I 2023-07-26 22:08:39,295] Trial 4 finished with value: 0.8410277408127751 and parameters: {'n_estimators': 22, 'max_depth': 5, 'min_samples_split': 4, 'min_samples_leaf': 2}. Best is trial 0 with value: 0.8640597809397073.\n",
            "[I 2023-07-26 22:08:39,748] Trial 5 finished with value: 0.7703961510901832 and parameters: {'n_estimators': 35, 'max_depth': 2, 'min_samples_split': 3, 'min_samples_leaf': 2}. Best is trial 0 with value: 0.8640597809397073.\n",
            "[I 2023-07-26 22:08:40,854] Trial 6 finished with value: 0.8629337700890573 and parameters: {'n_estimators': 28, 'max_depth': 10, 'min_samples_split': 2, 'min_samples_leaf': 3}. Best is trial 0 with value: 0.8640597809397073.\n",
            "[I 2023-07-26 22:08:41,607] Trial 7 finished with value: 0.7708056095813287 and parameters: {'n_estimators': 34, 'max_depth': 2, 'min_samples_split': 5, 'min_samples_leaf': 1}. Best is trial 0 with value: 0.8640597809397073.\n",
            "[I 2023-07-26 22:08:42,559] Trial 8 finished with value: 0.8639574163169209 and parameters: {'n_estimators': 12, 'max_depth': 15, 'min_samples_split': 6, 'min_samples_leaf': 5}. Best is trial 0 with value: 0.8640597809397073.\n",
            "[I 2023-07-26 22:08:43,102] Trial 9 finished with value: 0.7657897430647969 and parameters: {'n_estimators': 22, 'max_depth': 2, 'min_samples_split': 5, 'min_samples_leaf': 3}. Best is trial 0 with value: 0.8640597809397073.\n"
          ]
        },
        {
          "name": "stdout",
          "output_type": "stream",
          "text": [
            "Mejor trial hasta ahora:\n",
            "  Valor:  0.8640597809397073\n",
            "  f1_score:  0.8555524535427323\n",
            "  recall:  0.8640597809397073\n",
            "  Params: \n",
            "    n_estimators: 25\n",
            "    max_depth: 15\n",
            "    min_samples_split: 5\n",
            "    min_samples_leaf: 3\n"
          ]
        }
      ],
      "source": [
        "# Tree-Structured Parzen Estimator (TPE)\n",
        "sampler = optuna.samplers.TPESampler(seed=42)\n",
        "study = optuna.create_study(direction='maximize', sampler=sampler)\n",
        "study.optimize(objective_random_forest, n_trials=10)\n",
        "\n",
        "print(\"Mejor trial hasta ahora:\")\n",
        "print(\"  Valor: \", study.best_trial.value)\n",
        "print(\"  f1_score: \", study.best_trial.user_attrs['f1_score'])\n",
        "print(\"  recall: \", study.best_trial.user_attrs['recall'])\n",
        "print(\"  Params: \")\n",
        "for key, value in study.best_trial.params.items():\n",
        "    print(\"    {}: {}\".format(key, value))"
      ]
    },
    {
      "cell_type": "markdown",
      "metadata": {
        "id": "BiMP66-a9x5H"
      },
      "source": [
        "**Bank Marketing Dataset**"
      ]
    },
    {
      "cell_type": "markdown",
      "metadata": {
        "id": "jmr6uKE3crEN"
      },
      "source": [
        "Neural Network"
      ]
    },
    {
      "cell_type": "code",
      "execution_count": null,
      "metadata": {
        "id": "HO9DVHg391pT"
      },
      "outputs": [],
      "source": [
        "def objective_neural_network(trial):\n",
        "    # Espacio de búsqueda\n",
        "    n_units = trial.suggest_int('n_units', 10, 50)  # número de neuronas en la capa oculta\n",
        "    optimizer_name = trial.suggest_categorical('optimizer', ['Adam', 'SGD', 'RMSprop'])  # optimizador\n",
        "    lr = trial.suggest_float('lr', 1e-5, 1e-1, log=True)  # tasa de aprendizaje\n",
        "    batch_size = trial.suggest_categorical('batch_size', [16, 32, 64, 128, 256])  # tamaño del lote\n",
        "\n",
        "    # Construcción del modelo\n",
        "    model = Sequential()\n",
        "    model.add(Dense(n_units, input_dim=X_train_bank.shape[1], activation='relu'))  # capa oculta\n",
        "    model.add(Dense(1, activation='sigmoid'))  # capa de salida\n",
        "\n",
        "    # Selección del optimizador\n",
        "    if optimizer_name == 'Adam':\n",
        "        optimizer = Adam(learning_rate=lr)\n",
        "    elif optimizer_name == 'SGD':\n",
        "        optimizer = SGD(learning_rate=lr)\n",
        "    elif optimizer_name == 'RMSprop':\n",
        "        optimizer = RMSprop(learning_rate=lr)\n",
        "\n",
        "    # Compilación del modelo\n",
        "    model.compile(optimizer=optimizer, loss='binary_crossentropy', metrics=['accuracy'])\n",
        "\n",
        "    # Entrenamiento del modelo\n",
        "    model.fit(X_train_bank, y_train_bank, epochs=3, batch_size=batch_size, verbose=0)\n",
        "\n",
        "    # Evaluación del modelo\n",
        "    loss, accuracy = model.evaluate(X_test_bank, y_test_bank, verbose=0)\n",
        "\n",
        "    # Predecir las clases de los datos de prueba\n",
        "    y_pred = (model.predict(X_test_bank) > 0.5).astype(\"int32\")\n",
        "\n",
        "    # Calcular las métricas adicionales\n",
        "    f1 = f1_score(y_test_bank, y_pred, average='binary', zero_division=1)\n",
        "    recall = recall_score(y_test_bank, y_pred, average='binary', zero_division=1)\n",
        "\n",
        "    # Almacenar las métricas en el trial\n",
        "    trial.set_user_attr('f1_score', f1)\n",
        "    trial.set_user_attr('recall', recall)\n",
        "\n",
        "    # Retorno del valor a optimizar\n",
        "    return accuracy"
      ]
    },
    {
      "cell_type": "code",
      "execution_count": null,
      "metadata": {
        "colab": {
          "base_uri": "https://localhost:8080/"
        },
        "id": "y6grkKSY91-8",
        "outputId": "1ad46556-9f45-417f-9188-0dcfe2b3ac93"
      },
      "outputs": [
        {
          "name": "stderr",
          "output_type": "stream",
          "text": [
            "[I 2023-07-26 22:08:43,154] A new study created in memory with name: no-name-965ed4c0-7f0a-4d62-8556-acea93ba973a\n"
          ]
        },
        {
          "name": "stdout",
          "output_type": "stream",
          "text": [
            "258/258 [==============================] - 0s 1ms/step\n"
          ]
        },
        {
          "name": "stderr",
          "output_type": "stream",
          "text": [
            "[I 2023-07-26 22:08:49,765] Trial 0 finished with value: 0.8952415585517883 and parameters: {'n_units': 30, 'optimizer': 'Adam', 'lr': 0.00021544346900318823, 'batch_size': 32}. Best is trial 0 with value: 0.8952415585517883.\n"
          ]
        },
        {
          "name": "stdout",
          "output_type": "stream",
          "text": [
            "258/258 [==============================] - 0s 1ms/step\n"
          ]
        },
        {
          "name": "stderr",
          "output_type": "stream",
          "text": [
            "[I 2023-07-26 22:08:53,591] Trial 1 finished with value: 0.7320951819419861 and parameters: {'n_units': 30, 'optimizer': 'RMSprop', 'lr': 2.782559402207126e-05, 'batch_size': 64}. Best is trial 0 with value: 0.8952415585517883.\n"
          ]
        },
        {
          "name": "stdout",
          "output_type": "stream",
          "text": [
            "258/258 [==============================] - 1s 2ms/step\n"
          ]
        },
        {
          "name": "stderr",
          "output_type": "stream",
          "text": [
            "[I 2023-07-26 22:08:57,019] Trial 2 finished with value: 0.8965768218040466 and parameters: {'n_units': 10, 'optimizer': 'Adam', 'lr': 0.0005994842503189409, 'batch_size': 128}. Best is trial 2 with value: 0.8965768218040466.\n"
          ]
        },
        {
          "name": "stdout",
          "output_type": "stream",
          "text": [
            "258/258 [==============================] - 0s 1ms/step\n"
          ]
        },
        {
          "name": "stderr",
          "output_type": "stream",
          "text": [
            "[I 2023-07-26 22:09:00,392] Trial 3 finished with value: 0.8843165636062622 and parameters: {'n_units': 10, 'optimizer': 'SGD', 'lr': 7.742636826811278e-05, 'batch_size': 256}. Best is trial 2 with value: 0.8965768218040466.\n"
          ]
        },
        {
          "name": "stdout",
          "output_type": "stream",
          "text": [
            "258/258 [==============================] - 1s 2ms/step\n"
          ]
        },
        {
          "name": "stderr",
          "output_type": "stream",
          "text": [
            "[I 2023-07-26 22:09:07,492] Trial 4 finished with value: 0.8865015506744385 and parameters: {'n_units': 30, 'optimizer': 'RMSprop', 'lr': 0.1, 'batch_size': 32}. Best is trial 2 with value: 0.8965768218040466.\n"
          ]
        },
        {
          "name": "stdout",
          "output_type": "stream",
          "text": [
            "258/258 [==============================] - 0s 2ms/step\n"
          ]
        },
        {
          "name": "stderr",
          "output_type": "stream",
          "text": [
            "[I 2023-07-26 22:09:10,503] Trial 5 finished with value: 0.8960912823677063 and parameters: {'n_units': 20, 'optimizer': 'RMSprop', 'lr': 0.0016681005372000592, 'batch_size': 256}. Best is trial 2 with value: 0.8965768218040466.\n"
          ]
        },
        {
          "name": "stdout",
          "output_type": "stream",
          "text": [
            "258/258 [==============================] - 0s 1ms/step\n"
          ]
        },
        {
          "name": "stderr",
          "output_type": "stream",
          "text": [
            "[I 2023-07-26 22:09:20,554] Trial 6 finished with value: 0.8850449323654175 and parameters: {'n_units': 20, 'optimizer': 'SGD', 'lr': 0.00021544346900318823, 'batch_size': 16}. Best is trial 2 with value: 0.8965768218040466.\n"
          ]
        },
        {
          "name": "stdout",
          "output_type": "stream",
          "text": [
            "258/258 [==============================] - 1s 2ms/step\n"
          ]
        },
        {
          "name": "stderr",
          "output_type": "stream",
          "text": [
            "[I 2023-07-26 22:09:27,515] Trial 7 finished with value: 0.8852877020835876 and parameters: {'n_units': 30, 'optimizer': 'Adam', 'lr': 2.782559402207126e-05, 'batch_size': 32}. Best is trial 2 with value: 0.8965768218040466.\n"
          ]
        },
        {
          "name": "stdout",
          "output_type": "stream",
          "text": [
            "258/258 [==============================] - 0s 1ms/step\n"
          ]
        },
        {
          "name": "stderr",
          "output_type": "stream",
          "text": [
            "[I 2023-07-26 22:09:31,646] Trial 8 finished with value: 0.8831027150154114 and parameters: {'n_units': 40, 'optimizer': 'RMSprop', 'lr': 1e-05, 'batch_size': 64}. Best is trial 2 with value: 0.8965768218040466.\n"
          ]
        },
        {
          "name": "stdout",
          "output_type": "stream",
          "text": [
            "258/258 [==============================] - 0s 1ms/step\n"
          ]
        },
        {
          "name": "stderr",
          "output_type": "stream",
          "text": [
            "[I 2023-07-26 22:09:35,220] Trial 9 finished with value: 0.8959698677062988 and parameters: {'n_units': 30, 'optimizer': 'SGD', 'lr': 0.03593813663804626, 'batch_size': 64}. Best is trial 2 with value: 0.8965768218040466.\n"
          ]
        },
        {
          "name": "stdout",
          "output_type": "stream",
          "text": [
            "Mejor trial hasta ahora:\n",
            "  Valor:  0.8965768218040466\n",
            "  f1_score:  0.3004926108374384\n",
            "  recall:  0.19572192513368983\n",
            "  Params: \n",
            "    n_units: 10\n",
            "    optimizer: Adam\n",
            "    lr: 0.0005994842503189409\n",
            "    batch_size: 128\n"
          ]
        }
      ],
      "source": [
        "# Grid Search\n",
        "# Espacio de búsqueda para GridSampler\n",
        "param_grid = {\n",
        "    'n_units': list(range(10, 50, 10)),\n",
        "    'optimizer': ['Adam', 'SGD', 'RMSprop'],\n",
        "    'lr': list(np.logspace(-5, -1, num=10)),\n",
        "    'batch_size': [16, 32, 64, 128, 256]\n",
        "}\n",
        "sampler = optuna.samplers.GridSampler(param_grid)\n",
        "study = optuna.create_study(direction='maximize', sampler=sampler)\n",
        "study.optimize(objective_neural_network, n_trials=10)\n",
        "\n",
        "print(\"Mejor trial hasta ahora:\")\n",
        "print(\"  Valor: \", study.best_trial.value)\n",
        "print(\"  f1_score: \", study.best_trial.user_attrs['f1_score'])\n",
        "print(\"  recall: \", study.best_trial.user_attrs['recall'])\n",
        "print(\"  Params: \")\n",
        "for key, value in study.best_trial.params.items():\n",
        "    print(\"    {}: {}\".format(key, value))"
      ]
    },
    {
      "cell_type": "code",
      "execution_count": null,
      "metadata": {
        "colab": {
          "base_uri": "https://localhost:8080/"
        },
        "id": "RqewqGkF92Ni",
        "outputId": "b80d15c8-336c-4a34-d236-14ed8952e7d0"
      },
      "outputs": [
        {
          "name": "stderr",
          "output_type": "stream",
          "text": [
            "[I 2023-07-26 22:09:35,248] A new study created in memory with name: no-name-518d40d4-c74a-4624-bbd0-76a8982ebc10\n"
          ]
        },
        {
          "name": "stdout",
          "output_type": "stream",
          "text": [
            "258/258 [==============================] - 1s 2ms/step\n"
          ]
        },
        {
          "name": "stderr",
          "output_type": "stream",
          "text": [
            "[I 2023-07-26 22:09:40,224] Trial 0 finished with value: 0.8634377121925354 and parameters: {'n_units': 25, 'optimizer': 'Adam', 'lr': 4.207988669606632e-05, 'batch_size': 64}. Best is trial 0 with value: 0.8634377121925354.\n"
          ]
        },
        {
          "name": "stdout",
          "output_type": "stream",
          "text": [
            "258/258 [==============================] - 0s 1ms/step\n"
          ]
        },
        {
          "name": "stderr",
          "output_type": "stream",
          "text": [
            "[I 2023-07-26 22:09:47,470] Trial 1 finished with value: 0.8681718707084656 and parameters: {'n_units': 10, 'optimizer': 'Adam', 'lr': 5.3370327626039544e-05, 'batch_size': 64}. Best is trial 1 with value: 0.8681718707084656.\n"
          ]
        },
        {
          "name": "stdout",
          "output_type": "stream",
          "text": [
            "258/258 [==============================] - 0s 1ms/step\n"
          ]
        },
        {
          "name": "stderr",
          "output_type": "stream",
          "text": [
            "[I 2023-07-26 22:09:59,310] Trial 2 finished with value: 0.8943918347358704 and parameters: {'n_units': 35, 'optimizer': 'RMSprop', 'lr': 0.0006672367170464204, 'batch_size': 16}. Best is trial 2 with value: 0.8943918347358704.\n"
          ]
        },
        {
          "name": "stdout",
          "output_type": "stream",
          "text": [
            "258/258 [==============================] - 0s 1ms/step\n"
          ]
        },
        {
          "name": "stderr",
          "output_type": "stream",
          "text": [
            "[I 2023-07-26 22:10:11,243] Trial 3 finished with value: 0.87594074010849 and parameters: {'n_units': 34, 'optimizer': 'RMSprop', 'lr': 0.07286653737491042, 'batch_size': 16}. Best is trial 2 with value: 0.8943918347358704.\n"
          ]
        },
        {
          "name": "stdout",
          "output_type": "stream",
          "text": [
            "258/258 [==============================] - 1s 2ms/step\n"
          ]
        },
        {
          "name": "stderr",
          "output_type": "stream",
          "text": [
            "[I 2023-07-26 22:10:23,370] Trial 4 finished with value: 0.8951202034950256 and parameters: {'n_units': 15, 'optimizer': 'RMSprop', 'lr': 0.00010842262717330161, 'batch_size': 16}. Best is trial 4 with value: 0.8951202034950256.\n"
          ]
        },
        {
          "name": "stdout",
          "output_type": "stream",
          "text": [
            "258/258 [==============================] - 1s 2ms/step\n"
          ]
        },
        {
          "name": "stderr",
          "output_type": "stream",
          "text": [
            "[I 2023-07-26 22:10:36,113] Trial 5 finished with value: 0.8963340520858765 and parameters: {'n_units': 49, 'optimizer': 'SGD', 'lr': 0.002463768595899745, 'batch_size': 16}. Best is trial 5 with value: 0.8963340520858765.\n"
          ]
        },
        {
          "name": "stdout",
          "output_type": "stream",
          "text": [
            "258/258 [==============================] - 0s 1ms/step\n"
          ]
        },
        {
          "name": "stderr",
          "output_type": "stream",
          "text": [
            "[I 2023-07-26 22:10:40,270] Trial 6 finished with value: 0.7836853861808777 and parameters: {'n_units': 25, 'optimizer': 'SGD', 'lr': 0.000132965214572995, 'batch_size': 256}. Best is trial 5 with value: 0.8963340520858765.\n"
          ]
        },
        {
          "name": "stdout",
          "output_type": "stream",
          "text": [
            "258/258 [==============================] - 0s 1ms/step\n"
          ]
        },
        {
          "name": "stderr",
          "output_type": "stream",
          "text": [
            "[I 2023-07-26 22:10:47,191] Trial 7 finished with value: 0.8970624208450317 and parameters: {'n_units': 41, 'optimizer': 'RMSprop', 'lr': 0.00672093005015611, 'batch_size': 32}. Best is trial 7 with value: 0.8970624208450317.\n"
          ]
        },
        {
          "name": "stdout",
          "output_type": "stream",
          "text": [
            "258/258 [==============================] - 1s 2ms/step\n"
          ]
        },
        {
          "name": "stderr",
          "output_type": "stream",
          "text": [
            "[I 2023-07-26 22:10:52,875] Trial 8 finished with value: 0.895605742931366 and parameters: {'n_units': 45, 'optimizer': 'Adam', 'lr': 0.00017535949529764417, 'batch_size': 128}. Best is trial 7 with value: 0.8970624208450317.\n"
          ]
        },
        {
          "name": "stdout",
          "output_type": "stream",
          "text": [
            "258/258 [==============================] - 0s 1ms/step\n"
          ]
        },
        {
          "name": "stderr",
          "output_type": "stream",
          "text": [
            "[I 2023-07-26 22:10:59,614] Trial 9 finished with value: 0.8964554667472839 and parameters: {'n_units': 14, 'optimizer': 'SGD', 'lr': 0.012130221181165156, 'batch_size': 32}. Best is trial 7 with value: 0.8970624208450317.\n"
          ]
        },
        {
          "name": "stdout",
          "output_type": "stream",
          "text": [
            "Mejor trial hasta ahora:\n",
            "  Valor:  0.8970624208450317\n",
            "  f1_score:  0.30377668308702793\n",
            "  recall:  0.19786096256684493\n",
            "  Params: \n",
            "    n_units: 41\n",
            "    optimizer: RMSprop\n",
            "    lr: 0.00672093005015611\n",
            "    batch_size: 32\n"
          ]
        }
      ],
      "source": [
        "# Random Search\n",
        "sampler = optuna.samplers.RandomSampler(seed=42)\n",
        "study = optuna.create_study(direction='maximize', sampler=sampler)\n",
        "study.optimize(objective_neural_network, n_trials=10)\n",
        "\n",
        "print(\"Mejor trial hasta ahora:\")\n",
        "print(\"  Valor: \", study.best_trial.value)\n",
        "print(\"  f1_score: \", study.best_trial.user_attrs['f1_score'])\n",
        "print(\"  recall: \", study.best_trial.user_attrs['recall'])\n",
        "print(\"  Params: \")\n",
        "for key, value in study.best_trial.params.items():\n",
        "    print(\"    {}: {}\".format(key, value))"
      ]
    },
    {
      "cell_type": "code",
      "execution_count": null,
      "metadata": {
        "colab": {
          "base_uri": "https://localhost:8080/"
        },
        "id": "ZBJDlCd7939C",
        "outputId": "7f45306a-7cad-4f15-eb47-c6bc23265af4"
      },
      "outputs": [
        {
          "name": "stderr",
          "output_type": "stream",
          "text": [
            "[I 2023-07-26 22:10:59,641] A new study created in memory with name: no-name-b1f77a57-469f-4493-8f02-969d6c41cd99\n"
          ]
        },
        {
          "name": "stdout",
          "output_type": "stream",
          "text": [
            "258/258 [==============================] - 1s 2ms/step\n"
          ]
        },
        {
          "name": "stderr",
          "output_type": "stream",
          "text": [
            "[I 2023-07-26 22:11:04,459] Trial 0 finished with value: 0.8463219404220581 and parameters: {'n_units': 25, 'optimizer': 'Adam', 'lr': 4.207988669606632e-05, 'batch_size': 64}. Best is trial 0 with value: 0.8463219404220581.\n"
          ]
        },
        {
          "name": "stdout",
          "output_type": "stream",
          "text": [
            "258/258 [==============================] - 0s 1ms/step\n"
          ]
        },
        {
          "name": "stderr",
          "output_type": "stream",
          "text": [
            "[I 2023-07-26 22:11:09,244] Trial 1 finished with value: 0.8797038197517395 and parameters: {'n_units': 10, 'optimizer': 'Adam', 'lr': 5.3370327626039544e-05, 'batch_size': 64}. Best is trial 1 with value: 0.8797038197517395.\n"
          ]
        },
        {
          "name": "stdout",
          "output_type": "stream",
          "text": [
            "258/258 [==============================] - 0s 2ms/step\n"
          ]
        },
        {
          "name": "stderr",
          "output_type": "stream",
          "text": [
            "[I 2023-07-26 22:11:19,677] Trial 2 finished with value: 0.8966982364654541 and parameters: {'n_units': 35, 'optimizer': 'RMSprop', 'lr': 0.0006672367170464204, 'batch_size': 16}. Best is trial 2 with value: 0.8966982364654541.\n"
          ]
        },
        {
          "name": "stdout",
          "output_type": "stream",
          "text": [
            "258/258 [==============================] - 1s 2ms/step\n"
          ]
        },
        {
          "name": "stderr",
          "output_type": "stream",
          "text": [
            "[I 2023-07-26 22:11:32,425] Trial 3 finished with value: 0.8844379782676697 and parameters: {'n_units': 34, 'optimizer': 'RMSprop', 'lr': 0.07286653737491042, 'batch_size': 16}. Best is trial 2 with value: 0.8966982364654541.\n"
          ]
        },
        {
          "name": "stdout",
          "output_type": "stream",
          "text": [
            "258/258 [==============================] - 0s 1ms/step\n"
          ]
        },
        {
          "name": "stderr",
          "output_type": "stream",
          "text": [
            "[I 2023-07-26 22:11:44,801] Trial 4 finished with value: 0.8964554667472839 and parameters: {'n_units': 15, 'optimizer': 'RMSprop', 'lr': 0.00010842262717330161, 'batch_size': 16}. Best is trial 2 with value: 0.8966982364654541.\n"
          ]
        },
        {
          "name": "stdout",
          "output_type": "stream",
          "text": [
            "258/258 [==============================] - 0s 1ms/step\n"
          ]
        },
        {
          "name": "stderr",
          "output_type": "stream",
          "text": [
            "[I 2023-07-26 22:11:56,832] Trial 5 finished with value: 0.8960912823677063 and parameters: {'n_units': 49, 'optimizer': 'SGD', 'lr': 0.002463768595899745, 'batch_size': 16}. Best is trial 2 with value: 0.8966982364654541.\n"
          ]
        },
        {
          "name": "stdout",
          "output_type": "stream",
          "text": [
            "258/258 [==============================] - 0s 1ms/step\n"
          ]
        },
        {
          "name": "stderr",
          "output_type": "stream",
          "text": [
            "[I 2023-07-26 22:11:59,173] Trial 6 finished with value: 0.4732944965362549 and parameters: {'n_units': 25, 'optimizer': 'SGD', 'lr': 0.000132965214572995, 'batch_size': 256}. Best is trial 2 with value: 0.8966982364654541.\n"
          ]
        },
        {
          "name": "stdout",
          "output_type": "stream",
          "text": [
            "258/258 [==============================] - 0s 1ms/step\n"
          ]
        },
        {
          "name": "stderr",
          "output_type": "stream",
          "text": [
            "[I 2023-07-26 22:12:06,357] Trial 7 finished with value: 0.8976693153381348 and parameters: {'n_units': 41, 'optimizer': 'RMSprop', 'lr': 0.00672093005015611, 'batch_size': 32}. Best is trial 7 with value: 0.8976693153381348.\n"
          ]
        },
        {
          "name": "stdout",
          "output_type": "stream",
          "text": [
            "258/258 [==============================] - 0s 1ms/step\n"
          ]
        },
        {
          "name": "stderr",
          "output_type": "stream",
          "text": [
            "[I 2023-07-26 22:12:09,421] Trial 8 finished with value: 0.8948773741722107 and parameters: {'n_units': 45, 'optimizer': 'Adam', 'lr': 0.00017535949529764417, 'batch_size': 128}. Best is trial 7 with value: 0.8976693153381348.\n"
          ]
        },
        {
          "name": "stdout",
          "output_type": "stream",
          "text": [
            "258/258 [==============================] - 1s 2ms/step\n"
          ]
        },
        {
          "name": "stderr",
          "output_type": "stream",
          "text": [
            "[I 2023-07-26 22:12:16,158] Trial 9 finished with value: 0.895605742931366 and parameters: {'n_units': 14, 'optimizer': 'SGD', 'lr': 0.012130221181165156, 'batch_size': 32}. Best is trial 7 with value: 0.8976693153381348.\n"
          ]
        },
        {
          "name": "stdout",
          "output_type": "stream",
          "text": [
            "Mejor trial hasta ahora:\n",
            "  Valor:  0.8976693153381348\n",
            "  f1_score:  0.29925187032418954\n",
            "  recall:  0.1925133689839572\n",
            "  Params: \n",
            "    n_units: 41\n",
            "    optimizer: RMSprop\n",
            "    lr: 0.00672093005015611\n",
            "    batch_size: 32\n"
          ]
        }
      ],
      "source": [
        "# Tree-Structured Parzen Estimator (TPE)\n",
        "sampler = optuna.samplers.TPESampler(seed=42)\n",
        "study = optuna.create_study(direction='maximize', sampler=sampler)\n",
        "study.optimize(objective_neural_network, n_trials=10)\n",
        "\n",
        "print(\"Mejor trial hasta ahora:\")\n",
        "print(\"  Valor: \", study.best_trial.value)\n",
        "print(\"  f1_score: \", study.best_trial.user_attrs['f1_score'])\n",
        "print(\"  recall: \", study.best_trial.user_attrs['recall'])\n",
        "print(\"  Params: \")\n",
        "for key, value in study.best_trial.params.items():\n",
        "    print(\"    {}: {}\".format(key, value))"
      ]
    },
    {
      "cell_type": "markdown",
      "metadata": {
        "id": "xIPjIAehctgc"
      },
      "source": [
        "KNN"
      ]
    },
    {
      "cell_type": "code",
      "execution_count": null,
      "metadata": {
        "id": "zgrPNW47ctgi"
      },
      "outputs": [],
      "source": [
        "def objective_knn(trial):\n",
        "    # Espacio de búsqueda\n",
        "    n_neighbors = trial.suggest_int('n_neighbors', 1, 10)  # número de vecinos\n",
        "    p = trial.suggest_int('p', 1, 2)  # métrica de distancia (1 = manhattan, 2 = euclidiana)\n",
        "\n",
        "    # Construcción del modelo\n",
        "    model = KNeighborsClassifier(n_neighbors=n_neighbors, p=p)\n",
        "\n",
        "    # Entrenamiento del modelo\n",
        "    model.fit(X_train_bank, y_train_bank)\n",
        "\n",
        "    # Evaluación del modelo\n",
        "    accuracy = model.score(X_test_bank, y_test_bank)\n",
        "\n",
        "    # Predecir las clases de los datos de prueba\n",
        "    y_pred = model.predict(X_test_bank)\n",
        "\n",
        "    # Calcular las métricas adicionales\n",
        "    f1 = f1_score(y_test_bank, y_pred, average='weighted', zero_division=1)\n",
        "    recall = recall_score(y_test_bank, y_pred, average='weighted', zero_division=1)\n",
        "\n",
        "    # Almacenar las métricas en el trial\n",
        "    trial.set_user_attr('f1_score', f1)\n",
        "    trial.set_user_attr('recall', recall)\n",
        "\n",
        "    # Retorno del valor a optimizar\n",
        "    return accuracy"
      ]
    },
    {
      "cell_type": "code",
      "execution_count": null,
      "metadata": {
        "colab": {
          "base_uri": "https://localhost:8080/"
        },
        "id": "pUiVNNMTctgi",
        "outputId": "5baadaac-a7d5-434b-9a31-7be8b9049bf3"
      },
      "outputs": [
        {
          "name": "stderr",
          "output_type": "stream",
          "text": [
            "[I 2023-07-26 22:12:16,209] A new study created in memory with name: no-name-a591ce1e-2e31-499a-8e29-c992c1bea17d\n",
            "[I 2023-07-26 22:12:23,288] Trial 0 finished with value: 0.8901432386501578 and parameters: {'n_neighbors': 5, 'p': 2}. Best is trial 0 with value: 0.8901432386501578.\n",
            "[I 2023-07-26 22:13:00,024] Trial 1 finished with value: 0.7598931779558146 and parameters: {'n_neighbors': 1, 'p': 1}. Best is trial 0 with value: 0.8901432386501578.\n",
            "[I 2023-07-26 22:13:03,629] Trial 2 finished with value: 0.887229910172372 and parameters: {'n_neighbors': 3, 'p': 2}. Best is trial 0 with value: 0.8901432386501578.\n",
            "[I 2023-07-26 22:13:43,093] Trial 3 finished with value: 0.8300558387958242 and parameters: {'n_neighbors': 9, 'p': 1}. Best is trial 0 with value: 0.8901432386501578.\n",
            "[I 2023-07-26 22:13:46,713] Trial 4 finished with value: 0.8901432386501578 and parameters: {'n_neighbors': 7, 'p': 2}. Best is trial 0 with value: 0.8901432386501578.\n",
            "[I 2023-07-26 22:13:50,849] Trial 5 finished with value: 0.8923282350084972 and parameters: {'n_neighbors': 9, 'p': 2}. Best is trial 5 with value: 0.8923282350084972.\n",
            "[I 2023-07-26 22:13:56,285] Trial 6 finished with value: 0.8630735615440641 and parameters: {'n_neighbors': 1, 'p': 2}. Best is trial 5 with value: 0.8923282350084972.\n",
            "[I 2023-07-26 22:14:33,198] Trial 7 finished with value: 0.8045642146151979 and parameters: {'n_neighbors': 5, 'p': 1}. Best is trial 5 with value: 0.8923282350084972.\n",
            "[I 2023-07-26 22:15:12,610] Trial 8 finished with value: 0.7987375576596262 and parameters: {'n_neighbors': 3, 'p': 1}. Best is trial 5 with value: 0.8923282350084972.\n",
            "[I 2023-07-26 22:15:52,180] Trial 9 finished with value: 0.8202233551832969 and parameters: {'n_neighbors': 7, 'p': 1}. Best is trial 5 with value: 0.8923282350084972.\n"
          ]
        },
        {
          "name": "stdout",
          "output_type": "stream",
          "text": [
            "Mejor trial hasta ahora:\n",
            "  Valor:  0.8923282350084972\n",
            "  f1_score:  0.8726558206894165\n",
            "  recall:  0.8923282350084972\n",
            "  Params: \n",
            "    n_neighbors: 9\n",
            "    p: 2\n"
          ]
        }
      ],
      "source": [
        "# Grid Search\n",
        "# Espacio de búsqueda para GridSampler\n",
        "param_grid = {\n",
        "    'n_neighbors': list(range(1, 10, 2)),\n",
        "    'p': [1, 2]  # 1 para la distancia de Manhattan, 2 para la distancia euclidiana\n",
        "}\n",
        "sampler = optuna.samplers.GridSampler(param_grid)\n",
        "study = optuna.create_study(direction='maximize', sampler=sampler)\n",
        "study.optimize(objective_knn, n_trials=10)\n",
        "\n",
        "print(\"Mejor trial hasta ahora:\")\n",
        "print(\"  Valor: \", study.best_trial.value)\n",
        "print(\"  f1_score: \", study.best_trial.user_attrs['f1_score'])\n",
        "print(\"  recall: \", study.best_trial.user_attrs['recall'])\n",
        "print(\"  Params: \")\n",
        "for key, value in study.best_trial.params.items():\n",
        "    print(\"    {}: {}\".format(key, value))"
      ]
    },
    {
      "cell_type": "code",
      "execution_count": null,
      "metadata": {
        "colab": {
          "base_uri": "https://localhost:8080/"
        },
        "id": "y1DNXUtHctgi",
        "outputId": "a99b7c83-7c6d-494a-87bc-00039d35594b"
      },
      "outputs": [
        {
          "name": "stderr",
          "output_type": "stream",
          "text": [
            "[I 2023-07-26 22:15:52,206] A new study created in memory with name: no-name-6e32da05-3e88-4334-a74a-bc15de097781\n",
            "[I 2023-07-26 22:15:55,867] Trial 0 finished with value: 0.8932993445010925 and parameters: {'n_neighbors': 4, 'p': 2}. Best is trial 0 with value: 0.8932993445010925.\n",
            "[I 2023-07-26 22:16:01,731] Trial 1 finished with value: 0.8926924010682205 and parameters: {'n_neighbors': 8, 'p': 2}. Best is trial 0 with value: 0.8932993445010925.\n",
            "[I 2023-07-26 22:16:38,719] Trial 2 finished with value: 0.8309055596018451 and parameters: {'n_neighbors': 2, 'p': 1}. Best is trial 0 with value: 0.8932993445010925.\n",
            "[I 2023-07-26 22:16:42,277] Trial 3 finished with value: 0.8630735615440641 and parameters: {'n_neighbors': 1, 'p': 2}. Best is trial 0 with value: 0.8932993445010925.\n",
            "[I 2023-07-26 22:16:48,264] Trial 4 finished with value: 0.8901432386501578 and parameters: {'n_neighbors': 7, 'p': 2}. Best is trial 0 with value: 0.8932993445010925.\n",
            "[I 2023-07-26 22:16:51,833] Trial 5 finished with value: 0.8630735615440641 and parameters: {'n_neighbors': 1, 'p': 2}. Best is trial 0 with value: 0.8932993445010925.\n",
            "[I 2023-07-26 22:17:28,719] Trial 6 finished with value: 0.8300558387958242 and parameters: {'n_neighbors': 9, 'p': 1}. Best is trial 0 with value: 0.8932993445010925.\n",
            "[I 2023-07-26 22:18:08,116] Trial 7 finished with value: 0.8309055596018451 and parameters: {'n_neighbors': 2, 'p': 1}. Best is trial 0 with value: 0.8932993445010925.\n",
            "[I 2023-07-26 22:18:11,737] Trial 8 finished with value: 0.8932993445010925 and parameters: {'n_neighbors': 4, 'p': 2}. Best is trial 0 with value: 0.8932993445010925.\n",
            "[I 2023-07-26 22:18:53,813] Trial 9 finished with value: 0.8045642146151979 and parameters: {'n_neighbors': 5, 'p': 1}. Best is trial 0 with value: 0.8932993445010925.\n"
          ]
        },
        {
          "name": "stdout",
          "output_type": "stream",
          "text": [
            "Mejor trial hasta ahora:\n",
            "  Valor:  0.8932993445010925\n",
            "  f1_score:  0.8666995623086876\n",
            "  recall:  0.8932993445010925\n",
            "  Params: \n",
            "    n_neighbors: 4\n",
            "    p: 2\n"
          ]
        }
      ],
      "source": [
        "# Random Search\n",
        "sampler = optuna.samplers.RandomSampler(seed=42)\n",
        "study = optuna.create_study(direction='maximize', sampler=sampler)\n",
        "study.optimize(objective_knn, n_trials=10)\n",
        "\n",
        "print(\"Mejor trial hasta ahora:\")\n",
        "print(\"  Valor: \", study.best_trial.value)\n",
        "print(\"  f1_score: \", study.best_trial.user_attrs['f1_score'])\n",
        "print(\"  recall: \", study.best_trial.user_attrs['recall'])\n",
        "print(\"  Params: \")\n",
        "for key, value in study.best_trial.params.items():\n",
        "    print(\"    {}: {}\".format(key, value))"
      ]
    },
    {
      "cell_type": "code",
      "execution_count": null,
      "metadata": {
        "colab": {
          "base_uri": "https://localhost:8080/"
        },
        "id": "hVCc7MN4ctgj",
        "outputId": "4c9a51aa-9341-4ed1-bb06-7a95a267d5ff"
      },
      "outputs": [
        {
          "name": "stderr",
          "output_type": "stream",
          "text": [
            "[I 2023-07-26 22:18:53,835] A new study created in memory with name: no-name-3d3dbec2-05f1-4323-a8bc-39ce1fbfa168\n",
            "[I 2023-07-26 22:18:57,494] Trial 0 finished with value: 0.8932993445010925 and parameters: {'n_neighbors': 4, 'p': 2}. Best is trial 0 with value: 0.8932993445010925.\n",
            "[I 2023-07-26 22:19:01,150] Trial 1 finished with value: 0.8926924010682205 and parameters: {'n_neighbors': 8, 'p': 2}. Best is trial 0 with value: 0.8932993445010925.\n",
            "[I 2023-07-26 22:19:40,507] Trial 2 finished with value: 0.8309055596018451 and parameters: {'n_neighbors': 2, 'p': 1}. Best is trial 0 with value: 0.8932993445010925.\n",
            "[I 2023-07-26 22:19:44,097] Trial 3 finished with value: 0.8630735615440641 and parameters: {'n_neighbors': 1, 'p': 2}. Best is trial 0 with value: 0.8932993445010925.\n",
            "[I 2023-07-26 22:19:47,725] Trial 4 finished with value: 0.8901432386501578 and parameters: {'n_neighbors': 7, 'p': 2}. Best is trial 0 with value: 0.8932993445010925.\n",
            "[I 2023-07-26 22:19:53,495] Trial 5 finished with value: 0.8630735615440641 and parameters: {'n_neighbors': 1, 'p': 2}. Best is trial 0 with value: 0.8932993445010925.\n",
            "[I 2023-07-26 22:20:30,652] Trial 6 finished with value: 0.8300558387958242 and parameters: {'n_neighbors': 9, 'p': 1}. Best is trial 0 with value: 0.8932993445010925.\n",
            "[I 2023-07-26 22:21:09,440] Trial 7 finished with value: 0.8309055596018451 and parameters: {'n_neighbors': 2, 'p': 1}. Best is trial 0 with value: 0.8932993445010925.\n",
            "[I 2023-07-26 22:21:13,583] Trial 8 finished with value: 0.8932993445010925 and parameters: {'n_neighbors': 4, 'p': 2}. Best is trial 0 with value: 0.8932993445010925.\n",
            "[I 2023-07-26 22:21:53,066] Trial 9 finished with value: 0.8045642146151979 and parameters: {'n_neighbors': 5, 'p': 1}. Best is trial 0 with value: 0.8932993445010925.\n"
          ]
        },
        {
          "name": "stdout",
          "output_type": "stream",
          "text": [
            "Mejor trial hasta ahora:\n",
            "  Valor:  0.8932993445010925\n",
            "  f1_score:  0.8666995623086876\n",
            "  recall:  0.8932993445010925\n",
            "  Params: \n",
            "    n_neighbors: 4\n",
            "    p: 2\n"
          ]
        }
      ],
      "source": [
        "# Tree-Structured Parzen Estimator (TPE)\n",
        "sampler = optuna.samplers.TPESampler(seed=42)\n",
        "study = optuna.create_study(direction='maximize', sampler=sampler)\n",
        "study.optimize(objective_knn, n_trials=10)\n",
        "\n",
        "print(\"Mejor trial hasta ahora:\")\n",
        "print(\"  Valor: \", study.best_trial.value)\n",
        "print(\"  f1_score: \", study.best_trial.user_attrs['f1_score'])\n",
        "print(\"  recall: \", study.best_trial.user_attrs['recall'])\n",
        "print(\"  Params: \")\n",
        "for key, value in study.best_trial.params.items():\n",
        "    print(\"    {}: {}\".format(key, value))"
      ]
    },
    {
      "cell_type": "markdown",
      "metadata": {
        "id": "R8vYbJe6ctgj"
      },
      "source": [
        "Random Forest"
      ]
    },
    {
      "cell_type": "code",
      "execution_count": null,
      "metadata": {
        "id": "WyoSYhPDctgj"
      },
      "outputs": [],
      "source": [
        "def objective_random_forest(trial):\n",
        "    # Espacio de búsqueda\n",
        "    n_estimators = trial.suggest_int('n_estimators', 10, 50)\n",
        "    max_depth = trial.suggest_int('max_depth', 2, 16, log=True)\n",
        "    min_samples_split = trial.suggest_int('min_samples_split', 2, 6)\n",
        "    min_samples_leaf = trial.suggest_int('min_samples_leaf', 1, 5)\n",
        "\n",
        "    # Construcción del modelo\n",
        "    model = RandomForestClassifier(n_estimators=n_estimators,\n",
        "                                   max_depth=max_depth,\n",
        "                                   min_samples_split=min_samples_split,\n",
        "                                   min_samples_leaf=min_samples_leaf,\n",
        "                                   n_jobs=-1, # Utilizar todos los núcleos disponibles\n",
        "                                   random_state=42)\n",
        "\n",
        "    # Entrenamiento del modelo\n",
        "    model.fit(X_train_bank, y_train_bank)\n",
        "\n",
        "    # Evaluación del modelo\n",
        "    accuracy = model.score(X_test_bank, y_test_bank)\n",
        "\n",
        "    # Predecir las clases de los datos de prueba\n",
        "    y_pred = model.predict(X_test_bank)\n",
        "\n",
        "    # Calcular las métricas adicionales\n",
        "    f1 = f1_score(y_test_bank, y_pred, average='weighted', zero_division=1)\n",
        "    recall = recall_score(y_test_bank, y_pred, average='weighted', zero_division=1)\n",
        "\n",
        "    # Almacenar las métricas en el trial\n",
        "    trial.set_user_attr('f1_score', f1)\n",
        "    trial.set_user_attr('recall', recall)\n",
        "\n",
        "    # Retorno del valor a optimizar\n",
        "    return accuracy"
      ]
    },
    {
      "cell_type": "code",
      "execution_count": null,
      "metadata": {
        "colab": {
          "base_uri": "https://localhost:8080/"
        },
        "id": "f9az-iV9ctgj",
        "outputId": "f2fbd9ad-4cf2-401c-a2b6-08ac3b5f7ac9"
      },
      "outputs": [
        {
          "name": "stderr",
          "output_type": "stream",
          "text": [
            "[I 2023-07-26 22:21:53,105] A new study created in memory with name: no-name-0349639d-84ae-4098-be37-deaddcf48f5f\n",
            "[I 2023-07-26 22:22:01,414] Trial 0 finished with value: 0.8962126729788784 and parameters: {'n_estimators': 40, 'max_depth': 10, 'min_samples_split': 2, 'min_samples_leaf': 4}. Best is trial 0 with value: 0.8962126729788784.\n",
            "[I 2023-07-26 22:22:06,440] Trial 1 finished with value: 0.8935421218742413 and parameters: {'n_estimators': 30, 'max_depth': 12, 'min_samples_split': 3, 'min_samples_leaf': 4}. Best is trial 0 with value: 0.8962126729788784.\n",
            "[I 2023-07-26 22:22:08,418] Trial 2 finished with value: 0.8969410050983249 and parameters: {'n_estimators': 20, 'max_depth': 6, 'min_samples_split': 4, 'min_samples_leaf': 2}. Best is trial 2 with value: 0.8969410050983249.\n",
            "[I 2023-07-26 22:22:09,773] Trial 3 finished with value: 0.8951201747997086 and parameters: {'n_estimators': 10, 'max_depth': 4, 'min_samples_split': 2, 'min_samples_leaf': 3}. Best is trial 2 with value: 0.8969410050983249.\n",
            "[I 2023-07-26 22:22:12,415] Trial 4 finished with value: 0.8962126729788784 and parameters: {'n_estimators': 20, 'max_depth': 4, 'min_samples_split': 3, 'min_samples_leaf': 2}. Best is trial 2 with value: 0.8969410050983249.\n",
            "[I 2023-07-26 22:22:15,494] Trial 5 finished with value: 0.8965768390386016 and parameters: {'n_estimators': 30, 'max_depth': 6, 'min_samples_split': 2, 'min_samples_leaf': 3}. Best is trial 2 with value: 0.8969410050983249.\n",
            "[I 2023-07-26 22:22:16,287] Trial 6 finished with value: 0.8920854576353484 and parameters: {'n_estimators': 20, 'max_depth': 2, 'min_samples_split': 4, 'min_samples_leaf': 2}. Best is trial 2 with value: 0.8969410050983249.\n",
            "[I 2023-07-26 22:22:16,694] Trial 7 finished with value: 0.8869871327992231 and parameters: {'n_estimators': 10, 'max_depth': 2, 'min_samples_split': 3, 'min_samples_leaf': 3}. Best is trial 2 with value: 0.8969410050983249.\n",
            "[I 2023-07-26 22:22:18,720] Trial 8 finished with value: 0.8964554503520272 and parameters: {'n_estimators': 30, 'max_depth': 4, 'min_samples_split': 4, 'min_samples_leaf': 2}. Best is trial 2 with value: 0.8969410050983249.\n",
            "[I 2023-07-26 22:22:21,513] Trial 9 finished with value: 0.8969410050983249 and parameters: {'n_estimators': 30, 'max_depth': 6, 'min_samples_split': 5, 'min_samples_leaf': 1}. Best is trial 2 with value: 0.8969410050983249.\n"
          ]
        },
        {
          "name": "stdout",
          "output_type": "stream",
          "text": [
            "Mejor trial hasta ahora:\n",
            "  Valor:  0.8969410050983249\n",
            "  f1_score:  0.8704940702649496\n",
            "  recall:  0.8969410050983249\n",
            "  Params: \n",
            "    n_estimators: 20\n",
            "    max_depth: 6\n",
            "    min_samples_split: 4\n",
            "    min_samples_leaf: 2\n"
          ]
        }
      ],
      "source": [
        "# Grid Search\n",
        "# Espacio de búsqueda para GridSampler\n",
        "param_grid = {\n",
        "    'n_estimators': list(range(10, 50, 10)),\n",
        "    'max_depth': list(range(2, 16, 2)),\n",
        "    'min_samples_split': list(range(2, 6, 1)),\n",
        "    'min_samples_leaf': list(range(1, 5, 1)),\n",
        "}\n",
        "sampler = optuna.samplers.GridSampler(param_grid)\n",
        "study = optuna.create_study(direction='maximize', sampler=sampler)\n",
        "study.optimize(objective_random_forest, n_trials=10)\n",
        "\n",
        "print(\"Mejor trial hasta ahora:\")\n",
        "print(\"  Valor: \", study.best_trial.value)\n",
        "print(\"  f1_score: \", study.best_trial.user_attrs['f1_score'])\n",
        "print(\"  recall: \", study.best_trial.user_attrs['recall'])\n",
        "print(\"  Params: \")\n",
        "for key, value in study.best_trial.params.items():\n",
        "    print(\"    {}: {}\".format(key, value))"
      ]
    },
    {
      "cell_type": "code",
      "execution_count": null,
      "metadata": {
        "colab": {
          "base_uri": "https://localhost:8080/"
        },
        "id": "A8V0ubCictgj",
        "outputId": "573c36ff-64d6-4063-cb6d-e41e8ce1dce4"
      },
      "outputs": [
        {
          "name": "stderr",
          "output_type": "stream",
          "text": [
            "[I 2023-07-26 22:22:21,537] A new study created in memory with name: no-name-d3bdcd66-9661-483a-bbf2-4f6a2e642285\n",
            "[I 2023-07-26 22:22:29,063] Trial 0 finished with value: 0.8923282350084972 and parameters: {'n_estimators': 25, 'max_depth': 15, 'min_samples_split': 5, 'min_samples_leaf': 3}. Best is trial 0 with value: 0.8923282350084972.\n",
            "[I 2023-07-26 22:22:29,665] Trial 1 finished with value: 0.8883224083515416 and parameters: {'n_estimators': 16, 'max_depth': 2, 'min_samples_split': 2, 'min_samples_leaf': 5}. Best is trial 0 with value: 0.8923282350084972.\n",
            "[I 2023-07-26 22:22:33,572] Trial 2 finished with value: 0.8970623937848993 and parameters: {'n_estimators': 34, 'max_depth': 8, 'min_samples_split': 2, 'min_samples_leaf': 5}. Best is trial 2 with value: 0.8970623937848993.\n",
            "[I 2023-07-26 22:22:35,182] Trial 3 finished with value: 0.8886865744112649 and parameters: {'n_estimators': 44, 'max_depth': 2, 'min_samples_split': 2, 'min_samples_leaf': 1}. Best is trial 2 with value: 0.8970623937848993.\n",
            "[I 2023-07-26 22:22:36,941] Trial 4 finished with value: 0.8973051711580481 and parameters: {'n_estimators': 22, 'max_depth': 5, 'min_samples_split': 4, 'min_samples_leaf': 2}. Best is trial 4 with value: 0.8973051711580481.\n",
            "[I 2023-07-26 22:22:38,283] Trial 5 finished with value: 0.8880796309783928 and parameters: {'n_estimators': 35, 'max_depth': 2, 'min_samples_split': 3, 'min_samples_leaf': 2}. Best is trial 4 with value: 0.8973051711580481.\n",
            "[I 2023-07-26 22:22:44,706] Trial 6 finished with value: 0.896698227725176 and parameters: {'n_estimators': 28, 'max_depth': 10, 'min_samples_split': 2, 'min_samples_leaf': 3}. Best is trial 4 with value: 0.8973051711580481.\n",
            "[I 2023-07-26 22:22:45,950] Trial 7 finished with value: 0.8882010196649672 and parameters: {'n_estimators': 34, 'max_depth': 2, 'min_samples_split': 5, 'min_samples_leaf': 1}. Best is trial 4 with value: 0.8973051711580481.\n",
            "[I 2023-07-26 22:22:48,246] Trial 8 finished with value: 0.8917212915756252 and parameters: {'n_estimators': 12, 'max_depth': 15, 'min_samples_split': 6, 'min_samples_leaf': 5}. Best is trial 4 with value: 0.8973051711580481.\n",
            "[I 2023-07-26 22:22:49,109] Trial 9 finished with value: 0.889900461277009 and parameters: {'n_estimators': 22, 'max_depth': 2, 'min_samples_split': 5, 'min_samples_leaf': 3}. Best is trial 4 with value: 0.8973051711580481.\n"
          ]
        },
        {
          "name": "stdout",
          "output_type": "stream",
          "text": [
            "Mejor trial hasta ahora:\n",
            "  Valor:  0.8973051711580481\n",
            "  f1_score:  0.8713924629706863\n",
            "  recall:  0.8973051711580481\n",
            "  Params: \n",
            "    n_estimators: 22\n",
            "    max_depth: 5\n",
            "    min_samples_split: 4\n",
            "    min_samples_leaf: 2\n"
          ]
        }
      ],
      "source": [
        "# Random Search\n",
        "sampler = optuna.samplers.RandomSampler(seed=42)\n",
        "study = optuna.create_study(direction='maximize', sampler=sampler)\n",
        "study.optimize(objective_random_forest, n_trials=10)\n",
        "\n",
        "print(\"Mejor trial hasta ahora:\")\n",
        "print(\"  Valor: \", study.best_trial.value)\n",
        "print(\"  f1_score: \", study.best_trial.user_attrs['f1_score'])\n",
        "print(\"  recall: \", study.best_trial.user_attrs['recall'])\n",
        "print(\"  Params: \")\n",
        "for key, value in study.best_trial.params.items():\n",
        "    print(\"    {}: {}\".format(key, value))"
      ]
    },
    {
      "cell_type": "code",
      "execution_count": null,
      "metadata": {
        "colab": {
          "base_uri": "https://localhost:8080/"
        },
        "id": "u5dQRfOnctgj",
        "outputId": "25581751-3f88-4cba-ef49-7b034eb52700"
      },
      "outputs": [
        {
          "name": "stderr",
          "output_type": "stream",
          "text": [
            "[I 2023-07-26 22:22:49,140] A new study created in memory with name: no-name-27d13630-995b-47e4-8271-a0ff96caeef7\n",
            "[I 2023-07-26 22:22:54,611] Trial 0 finished with value: 0.8923282350084972 and parameters: {'n_estimators': 25, 'max_depth': 15, 'min_samples_split': 5, 'min_samples_leaf': 3}. Best is trial 0 with value: 0.8923282350084972.\n",
            "[I 2023-07-26 22:22:55,873] Trial 1 finished with value: 0.8883224083515416 and parameters: {'n_estimators': 16, 'max_depth': 2, 'min_samples_split': 2, 'min_samples_leaf': 5}. Best is trial 0 with value: 0.8923282350084972.\n",
            "[I 2023-07-26 22:23:01,089] Trial 2 finished with value: 0.8970623937848993 and parameters: {'n_estimators': 34, 'max_depth': 8, 'min_samples_split': 2, 'min_samples_leaf': 5}. Best is trial 2 with value: 0.8970623937848993.\n",
            "[I 2023-07-26 22:23:02,713] Trial 3 finished with value: 0.8886865744112649 and parameters: {'n_estimators': 44, 'max_depth': 2, 'min_samples_split': 2, 'min_samples_leaf': 1}. Best is trial 2 with value: 0.8970623937848993.\n",
            "[I 2023-07-26 22:23:04,440] Trial 4 finished with value: 0.8973051711580481 and parameters: {'n_estimators': 22, 'max_depth': 5, 'min_samples_split': 4, 'min_samples_leaf': 2}. Best is trial 4 with value: 0.8973051711580481.\n",
            "[I 2023-07-26 22:23:05,683] Trial 5 finished with value: 0.8880796309783928 and parameters: {'n_estimators': 35, 'max_depth': 2, 'min_samples_split': 3, 'min_samples_leaf': 2}. Best is trial 4 with value: 0.8973051711580481.\n",
            "[I 2023-07-26 22:23:10,904] Trial 6 finished with value: 0.896698227725176 and parameters: {'n_estimators': 28, 'max_depth': 10, 'min_samples_split': 2, 'min_samples_leaf': 3}. Best is trial 4 with value: 0.8973051711580481.\n",
            "[I 2023-07-26 22:23:13,342] Trial 7 finished with value: 0.8882010196649672 and parameters: {'n_estimators': 34, 'max_depth': 2, 'min_samples_split': 5, 'min_samples_leaf': 1}. Best is trial 4 with value: 0.8973051711580481.\n",
            "[I 2023-07-26 22:23:15,716] Trial 8 finished with value: 0.8917212915756252 and parameters: {'n_estimators': 12, 'max_depth': 15, 'min_samples_split': 6, 'min_samples_leaf': 5}. Best is trial 4 with value: 0.8973051711580481.\n",
            "[I 2023-07-26 22:23:16,549] Trial 9 finished with value: 0.889900461277009 and parameters: {'n_estimators': 22, 'max_depth': 2, 'min_samples_split': 5, 'min_samples_leaf': 3}. Best is trial 4 with value: 0.8973051711580481.\n"
          ]
        },
        {
          "name": "stdout",
          "output_type": "stream",
          "text": [
            "Mejor trial hasta ahora:\n",
            "  Valor:  0.8973051711580481\n",
            "  f1_score:  0.8713924629706863\n",
            "  recall:  0.8973051711580481\n",
            "  Params: \n",
            "    n_estimators: 22\n",
            "    max_depth: 5\n",
            "    min_samples_split: 4\n",
            "    min_samples_leaf: 2\n"
          ]
        }
      ],
      "source": [
        "# Tree-Structured Parzen Estimator (TPE)\n",
        "sampler = optuna.samplers.TPESampler(seed=42)\n",
        "study = optuna.create_study(direction='maximize', sampler=sampler)\n",
        "study.optimize(objective_random_forest, n_trials=10)\n",
        "\n",
        "print(\"Mejor trial hasta ahora:\")\n",
        "print(\"  Valor: \", study.best_trial.value)\n",
        "print(\"  f1_score: \", study.best_trial.user_attrs['f1_score'])\n",
        "print(\"  recall: \", study.best_trial.user_attrs['recall'])\n",
        "print(\"  Params: \")\n",
        "for key, value in study.best_trial.params.items():\n",
        "    print(\"    {}: {}\".format(key, value))"
      ]
    },
    {
      "cell_type": "markdown",
      "metadata": {
        "id": "a-iKQBY4h2Cy"
      },
      "source": [
        "### Hyperopt"
      ]
    },
    {
      "cell_type": "markdown",
      "metadata": {
        "id": "PHYAsgLHPHog"
      },
      "source": [
        "**Forest Covertype Dataset**"
      ]
    },
    {
      "cell_type": "markdown",
      "metadata": {
        "id": "Qgfbf0bd9s35"
      },
      "source": [
        "Neural Network"
      ]
    },
    {
      "cell_type": "code",
      "execution_count": null,
      "metadata": {
        "id": "9d4837sqiE_Z"
      },
      "outputs": [],
      "source": [
        "def objective_neural_network(params):\n",
        "    # Recogiendo los parámetros\n",
        "    n_units = int(params['n_units'])\n",
        "    optimizer_name = params['optimizer']\n",
        "    lr = params['lr']\n",
        "    batch_size = params['batch_size']\n",
        "\n",
        "    # Construyendo el modelo\n",
        "    model = Sequential()\n",
        "    model.add(Dense(n_units, input_dim=X_train_cover.shape[1], activation='relu'))\n",
        "    model.add(Dense(7, activation='softmax'))\n",
        "\n",
        "    # Escogiendo el optimizador\n",
        "    if optimizer_name == 'Adam':\n",
        "        optimizer = Adam(learning_rate=lr)\n",
        "    elif optimizer_name == 'SGD':\n",
        "        optimizer = SGD(learning_rate=lr)\n",
        "    elif optimizer_name == 'RMSprop':\n",
        "        optimizer = RMSprop(learning_rate=lr)\n",
        "\n",
        "    # Compilando el modelo\n",
        "    model.compile(optimizer=optimizer, loss='categorical_crossentropy', metrics=['accuracy'])\n",
        "\n",
        "    # Entrenando el modelo\n",
        "    model.fit(X_train_cover, y_train_cover, epochs=3, batch_size=batch_size, verbose=0)\n",
        "\n",
        "    # Evaluando el modelo\n",
        "    loss, accuracy = model.evaluate(X_test_cover, y_test_cover, verbose=0)\n",
        "\n",
        "    # Calculando otras métricas\n",
        "    y_pred = model.predict(X_test_cover).argmax(axis=1)\n",
        "    f1 = f1_score(y_test_cover.argmax(axis=1), y_pred, average='weighted')\n",
        "    recall = recall_score(y_test_cover.argmax(axis=1), y_pred, average='weighted')\n",
        "\n",
        "    return {\n",
        "        'loss': -accuracy,\n",
        "        'status': STATUS_OK,\n",
        "        'eval_time': time.time(),\n",
        "        'other_stuff': {\n",
        "            'f1_score': f1,\n",
        "            'recall': recall,\n",
        "        },\n",
        "    }"
      ]
    },
    {
      "cell_type": "code",
      "execution_count": null,
      "metadata": {
        "colab": {
          "base_uri": "https://localhost:8080/"
        },
        "id": "2lf-O0VsqsD2",
        "outputId": "f10bfc9c-253b-4f5d-ca39-c37d64818f7f"
      },
      "outputs": [
        {
          "name": "stdout",
          "output_type": "stream",
          "text": [
            "   1/3632 [..............................] - ETA: 5:17\n",
            "  20/3632 [..............................] - ETA: 9s  \n",
            "  39/3632 [..............................] - ETA: 9s\n",
            "  59/3632 [..............................] - ETA: 9s\n",
            "  82/3632 [..............................] - ETA: 8s\n",
            " 105/3632 [..............................] - ETA: 8s\n",
            " 124/3632 [>.............................] - ETA: 8s\n",
            " 147/3632 [>.............................] - ETA: 8s\n",
            " 175/3632 [>.............................] - ETA: 8s\n",
            " 201/3632 [>.............................] - ETA: 7s\n",
            " 229/3632 [>.............................] - ETA: 7s\n",
            " 256/3632 [=>............................] - ETA: 7s\n",
            " 278/3632 [=>............................] - ETA: 7s\n",
            " 304/3632 [=>............................] - ETA: 7s\n",
            " 329/3632 [=>............................] - ETA: 7s\n",
            " 355/3632 [=>............................] - ETA: 7s\n",
            " 380/3632 [==>...........................] - ETA: 7s\n",
            " 405/3632 [==>...........................] - ETA: 6s\n",
            " 431/3632 [==>...........................] - ETA: 6s\n",
            " 457/3632 [==>...........................] - ETA: 6s\n",
            " 481/3632 [==>...........................] - ETA: 6s\n",
            " 498/3632 [===>..........................] - ETA: 6s\n",
            " 521/3632 [===>..........................] - ETA: 6s\n",
            " 544/3632 [===>..........................] - ETA: 6s\n",
            " 572/3632 [===>..........................] - ETA: 6s\n",
            " 602/3632 [===>..........................] - ETA: 6s\n",
            " 627/3632 [====>.........................] - ETA: 6s\n",
            " 653/3632 [====>.........................] - ETA: 6s\n",
            " 675/3632 [====>.........................] - ETA: 6s\n",
            " 700/3632 [====>.........................] - ETA: 6s\n",
            " 727/3632 [=====>........................] - ETA: 6s\n",
            " 750/3632 [=====>........................] - ETA: 6s\n",
            " 777/3632 [=====>........................] - ETA: 6s\n",
            " 804/3632 [=====>........................] - ETA: 5s\n",
            " 830/3632 [=====>........................] - ETA: 5s\n",
            " 855/3632 [======>.......................] - ETA: 5s\n",
            " 882/3632 [======>.......................] - ETA: 5s\n",
            " 908/3632 [======>.......................] - ETA: 5s\n",
            " 921/3632 [======>.......................] - ETA: 5s\n",
            " 938/3632 [======>.......................] - ETA: 5s\n",
            " 958/3632 [======>.......................] - ETA: 5s\n",
            " 974/3632 [=======>......................] - ETA: 5s\n",
            " 986/3632 [=======>......................] - ETA: 5s\n",
            "1003/3632 [=======>......................] - ETA: 5s\n",
            "1029/3632 [=======>......................] - ETA: 5s\n",
            "1055/3632 [=======>......................] - ETA: 5s\n",
            "1080/3632 [=======>......................] - ETA: 5s\n",
            "1106/3632 [========>.....................] - ETA: 5s\n",
            "1132/3632 [========>.....................] - ETA: 5s\n",
            "1158/3632 [========>.....................] - ETA: 5s\n",
            "1185/3632 [========>.....................] - ETA: 5s\n",
            "1207/3632 [========>.....................] - ETA: 5s\n",
            "1234/3632 [=========>....................] - ETA: 5s\n",
            "1260/3632 [=========>....................] - ETA: 5s\n",
            "1287/3632 [=========>....................] - ETA: 5s\n",
            "1315/3632 [=========>....................] - ETA: 4s\n",
            "1339/3632 [==========>...................] - ETA: 4s\n",
            "1366/3632 [==========>...................] - ETA: 4s\n",
            "1393/3632 [==========>...................] - ETA: 4s\n",
            "1418/3632 [==========>...................] - ETA: 4s\n",
            "1444/3632 [==========>...................] - ETA: 4s\n",
            "1470/3632 [===========>..................] - ETA: 4s\n",
            "1494/3632 [===========>..................] - ETA: 4s\n",
            "1507/3632 [===========>..................] - ETA: 4s\n",
            "1529/3632 [===========>..................] - ETA: 4s\n",
            "1548/3632 [===========>..................] - ETA: 4s\n",
            "1567/3632 [===========>..................] - ETA: 4s\n",
            "1588/3632 [============>.................] - ETA: 4s\n",
            "1608/3632 [============>.................] - ETA: 4s\n",
            "1626/3632 [============>.................] - ETA: 4s\n",
            "1645/3632 [============>.................] - ETA: 4s\n",
            "1665/3632 [============>.................] - ETA: 4s\n",
            "1683/3632 [============>.................] - ETA: 4s\n",
            "1703/3632 [=============>................] - ETA: 4s\n",
            "1722/3632 [=============>................] - ETA: 4s\n",
            "1747/3632 [=============>................] - ETA: 4s\n",
            "1769/3632 [=============>................] - ETA: 4s\n",
            "1789/3632 [=============>................] - ETA: 4s\n",
            "1808/3632 [=============>................] - ETA: 4s\n",
            "1830/3632 [==============>...............] - ETA: 3s\n",
            "1848/3632 [==============>...............] - ETA: 3s\n",
            "1866/3632 [==============>...............] - ETA: 3s\n",
            "1887/3632 [==============>...............] - ETA: 3s\n",
            "1906/3632 [==============>...............] - ETA: 3s\n",
            "1930/3632 [==============>...............] - ETA: 3s\n",
            "1954/3632 [===============>..............] - ETA: 3s\n",
            "1976/3632 [===============>..............] - ETA: 3s\n",
            "1996/3632 [===============>..............] - ETA: 3s\n",
            "2017/3632 [===============>..............] - ETA: 3s\n",
            "2040/3632 [===============>..............] - ETA: 3s\n",
            "2060/3632 [================>.............] - ETA: 3s\n",
            "2080/3632 [================>.............] - ETA: 3s\n",
            "2104/3632 [================>.............] - ETA: 3s\n",
            "2125/3632 [================>.............] - ETA: 3s\n",
            "2157/3632 [================>.............] - ETA: 3s\n",
            "2190/3632 [=================>............] - ETA: 3s\n",
            "2226/3632 [=================>............] - ETA: 3s\n",
            "2259/3632 [=================>............] - ETA: 3s\n",
            "2293/3632 [=================>............] - ETA: 2s\n",
            "2328/3632 [==================>...........] - ETA: 2s\n",
            "2356/3632 [==================>...........] - ETA: 2s\n",
            "2382/3632 [==================>...........] - ETA: 2s\n",
            "2413/3632 [==================>...........] - ETA: 2s\n",
            "2450/3632 [===================>..........] - ETA: 2s\n",
            "2487/3632 [===================>..........] - ETA: 2s\n",
            "2509/3632 [===================>..........] - ETA: 2s\n",
            "2533/3632 [===================>..........] - ETA: 2s\n",
            "2564/3632 [====================>.........] - ETA: 2s\n",
            "2599/3632 [====================>.........] - ETA: 2s\n",
            "2629/3632 [====================>.........] - ETA: 2s\n",
            "2663/3632 [====================>.........] - ETA: 2s\n",
            "2691/3632 [=====================>........] - ETA: 1s\n",
            "2724/3632 [=====================>........] - ETA: 1s\n",
            "2755/3632 [=====================>........] - ETA: 1s\n",
            "2788/3632 [======================>.......] - ETA: 1s\n",
            "2820/3632 [======================>.......] - ETA: 1s\n",
            "2843/3632 [======================>.......] - ETA: 1s\n",
            "2875/3632 [======================>.......] - ETA: 1s\n",
            "2909/3632 [=======================>......] - ETA: 1s\n",
            "2944/3632 [=======================>......] - ETA: 1s\n",
            "2976/3632 [=======================>......] - ETA: 1s\n",
            "3006/3632 [=======================>......] - ETA: 1s\n",
            "3033/3632 [========================>.....] - ETA: 1s\n",
            "3064/3632 [========================>.....] - ETA: 1s\n",
            "3093/3632 [========================>.....] - ETA: 1s\n",
            "3117/3632 [========================>.....] - ETA: 1s\n",
            "3144/3632 [========================>.....] - ETA: 0s\n",
            "3172/3632 [=========================>....] - ETA: 0s\n",
            "3201/3632 [=========================>....] - ETA: 0s\n",
            "3230/3632 [=========================>....] - ETA: 0s\n",
            "3258/3632 [=========================>....] - ETA: 0s\n",
            "3288/3632 [==========================>...] - ETA: 0s\n",
            "3315/3632 [==========================>...] - ETA: 0s\n",
            "3349/3632 [==========================>...] - ETA: 0s\n",
            "3383/3632 [==========================>...] - ETA: 0s\n",
            "3419/3632 [===========================>..] - ETA: 0s\n",
            "3453/3632 [===========================>..] - ETA: 0s\n",
            "3478/3632 [===========================>..] - ETA: 0s\n",
            "3508/3632 [===========================>..] - ETA: 0s\n",
            "3541/3632 [============================>.] - ETA: 0s\n",
            "3573/3632 [============================>.] - ETA: 0s\n",
            "3605/3632 [============================>.] - ETA: 0s\n",
            "3632/3632 [==============================] - 7s 2ms/step\n",
            "\n",
            "   1/3632 [..............................] - ETA: 5:00\n",
            "  12/3632 [..............................] - ETA: 16s \n",
            "  28/3632 [..............................] - ETA: 13s\n",
            "  44/3632 [..............................] - ETA: 13s\n",
            "  60/3632 [..............................] - ETA: 12s\n",
            "  76/3632 [..............................] - ETA: 12s\n",
            "  98/3632 [..............................] - ETA: 11s\n",
            " 113/3632 [..............................] - ETA: 11s\n",
            " 132/3632 [>.............................] - ETA: 10s\n",
            " 151/3632 [>.............................] - ETA: 10s\n",
            " 171/3632 [>.............................] - ETA: 10s\n",
            " 194/3632 [>.............................] - ETA: 10s\n",
            " 211/3632 [>.............................] - ETA: 10s\n",
            " 230/3632 [>.............................] - ETA: 9s \n",
            " 249/3632 [=>............................] - ETA: 9s\n",
            " 271/3632 [=>............................] - ETA: 9s\n",
            " 292/3632 [=>............................] - ETA: 9s\n",
            " 311/3632 [=>............................] - ETA: 9s\n",
            " 331/3632 [=>............................] - ETA: 9s\n",
            " 350/3632 [=>............................] - ETA: 9s\n",
            " 365/3632 [==>...........................] - ETA: 9s\n",
            " 385/3632 [==>...........................] - ETA: 9s\n",
            " 406/3632 [==>...........................] - ETA: 8s\n",
            " 435/3632 [==>...........................] - ETA: 8s\n",
            " 461/3632 [==>...........................] - ETA: 8s\n",
            " 488/3632 [===>..........................] - ETA: 8s\n",
            " 504/3632 [===>..........................] - ETA: 8s\n",
            " 522/3632 [===>..........................] - ETA: 8s\n",
            " 532/3632 [===>..........................] - ETA: 8s\n",
            " 546/3632 [===>..........................] - ETA: 8s\n",
            " 554/3632 [===>..........................] - ETA: 8s\n",
            " 565/3632 [===>..........................] - ETA: 8s\n",
            " 579/3632 [===>..........................] - ETA: 8s\n",
            " 595/3632 [===>..........................] - ETA: 8s\n",
            " 610/3632 [====>.........................] - ETA: 8s\n",
            " 623/3632 [====>.........................] - ETA: 8s\n",
            " 637/3632 [====>.........................] - ETA: 8s\n",
            " 651/3632 [====>.........................] - ETA: 8s\n",
            " 666/3632 [====>.........................] - ETA: 8s\n",
            " 683/3632 [====>.........................] - ETA: 8s\n",
            " 703/3632 [====>.........................] - ETA: 8s\n",
            " 722/3632 [====>.........................] - ETA: 8s\n",
            " 745/3632 [=====>........................] - ETA: 8s\n",
            " 768/3632 [=====>........................] - ETA: 8s\n",
            " 791/3632 [=====>........................] - ETA: 8s\n",
            " 816/3632 [=====>........................] - ETA: 7s\n",
            " 841/3632 [=====>........................] - ETA: 7s\n",
            " 866/3632 [======>.......................] - ETA: 7s\n",
            " 892/3632 [======>.......................] - ETA: 7s\n",
            " 912/3632 [======>.......................] - ETA: 7s\n",
            " 935/3632 [======>.......................] - ETA: 7s\n",
            " 963/3632 [======>.......................] - ETA: 7s\n",
            " 991/3632 [=======>......................] - ETA: 7s\n",
            "1014/3632 [=======>......................] - ETA: 7s\n",
            "1034/3632 [=======>......................] - ETA: 6s\n",
            "1061/3632 [=======>......................] - ETA: 6s\n",
            "1088/3632 [=======>......................] - ETA: 6s\n",
            "1115/3632 [========>.....................] - ETA: 6s\n",
            "1137/3632 [========>.....................] - ETA: 6s\n",
            "1157/3632 [========>.....................] - ETA: 6s\n",
            "1175/3632 [========>.....................] - ETA: 6s\n",
            "1193/3632 [========>.....................] - ETA: 6s\n",
            "1209/3632 [========>.....................] - ETA: 6s\n",
            "1224/3632 [=========>....................] - ETA: 6s\n",
            "1238/3632 [=========>....................] - ETA: 6s\n",
            "1252/3632 [=========>....................] - ETA: 6s\n",
            "1266/3632 [=========>....................] - ETA: 6s\n",
            "1279/3632 [=========>....................] - ETA: 6s\n",
            "1292/3632 [=========>....................] - ETA: 6s\n",
            "1304/3632 [=========>....................] - ETA: 6s\n",
            "1316/3632 [=========>....................] - ETA: 6s\n",
            "1327/3632 [=========>....................] - ETA: 6s\n",
            "1341/3632 [==========>...................] - ETA: 6s\n",
            "1355/3632 [==========>...................] - ETA: 6s\n",
            "1374/3632 [==========>...................] - ETA: 6s\n",
            "1388/3632 [==========>...................] - ETA: 6s\n",
            "1400/3632 [==========>...................] - ETA: 6s\n",
            "1421/3632 [==========>...................] - ETA: 6s\n",
            "1442/3632 [==========>...................] - ETA: 6s\n",
            "1462/3632 [===========>..................] - ETA: 6s\n",
            "1482/3632 [===========>..................] - ETA: 5s\n",
            "1506/3632 [===========>..................] - ETA: 5s\n",
            "1530/3632 [===========>..................] - ETA: 5s\n",
            "1552/3632 [===========>..................] - ETA: 5s\n",
            "1578/3632 [============>.................] - ETA: 5s\n",
            "1598/3632 [============>.................] - ETA: 5s\n",
            "1611/3632 [============>.................] - ETA: 5s\n",
            "1623/3632 [============>.................] - ETA: 5s\n",
            "1634/3632 [============>.................] - ETA: 5s\n",
            "1646/3632 [============>.................] - ETA: 5s\n",
            "1660/3632 [============>.................] - ETA: 5s\n",
            "1674/3632 [============>.................] - ETA: 5s\n",
            "1691/3632 [============>.................] - ETA: 5s\n",
            "1705/3632 [=============>................] - ETA: 5s\n",
            "1722/3632 [=============>................] - ETA: 5s\n",
            "1737/3632 [=============>................] - ETA: 5s\n",
            "1750/3632 [=============>................] - ETA: 5s\n",
            "1771/3632 [=============>................] - ETA: 5s\n",
            "1796/3632 [=============>................] - ETA: 5s\n",
            "1823/3632 [==============>...............] - ETA: 5s\n",
            "1840/3632 [==============>...............] - ETA: 5s\n",
            "1862/3632 [==============>...............] - ETA: 4s\n",
            "1884/3632 [==============>...............] - ETA: 4s\n",
            "1904/3632 [==============>...............] - ETA: 4s\n",
            "1923/3632 [==============>...............] - ETA: 4s\n",
            "1944/3632 [===============>..............] - ETA: 4s\n",
            "1960/3632 [===============>..............] - ETA: 4s\n",
            "1979/3632 [===============>..............] - ETA: 4s\n",
            "1999/3632 [===============>..............] - ETA: 4s\n",
            "2018/3632 [===============>..............] - ETA: 4s\n",
            "2038/3632 [===============>..............] - ETA: 4s\n",
            "2060/3632 [================>.............] - ETA: 4s\n",
            "2077/3632 [================>.............] - ETA: 4s\n",
            "2099/3632 [================>.............] - ETA: 4s\n",
            "2117/3632 [================>.............] - ETA: 4s\n",
            "2134/3632 [================>.............] - ETA: 4s\n",
            "2151/3632 [================>.............] - ETA: 4s\n",
            "2169/3632 [================>.............] - ETA: 4s\n",
            "2188/3632 [=================>............] - ETA: 4s\n",
            "2210/3632 [=================>............] - ETA: 3s\n",
            "2228/3632 [=================>............] - ETA: 3s\n",
            "2245/3632 [=================>............] - ETA: 3s\n",
            "2263/3632 [=================>............] - ETA: 3s\n",
            "2284/3632 [=================>............] - ETA: 3s\n",
            "2305/3632 [==================>...........] - ETA: 3s\n",
            "2328/3632 [==================>...........] - ETA: 3s\n",
            "2347/3632 [==================>...........] - ETA: 3s\n",
            "2367/3632 [==================>...........] - ETA: 3s\n",
            "2390/3632 [==================>...........] - ETA: 3s\n",
            "2411/3632 [==================>...........] - ETA: 3s\n",
            "2431/3632 [===================>..........] - ETA: 3s\n",
            "2451/3632 [===================>..........] - ETA: 3s\n",
            "2470/3632 [===================>..........] - ETA: 3s\n",
            "2491/3632 [===================>..........] - ETA: 3s\n",
            "2512/3632 [===================>..........] - ETA: 3s\n",
            "2533/3632 [===================>..........] - ETA: 3s\n",
            "2553/3632 [====================>.........] - ETA: 2s\n",
            "2573/3632 [====================>.........] - ETA: 2s\n",
            "2593/3632 [====================>.........] - ETA: 2s\n",
            "2616/3632 [====================>.........] - ETA: 2s\n",
            "2636/3632 [====================>.........] - ETA: 2s\n",
            "2656/3632 [====================>.........] - ETA: 2s\n",
            "2678/3632 [=====================>........] - ETA: 2s\n",
            "2698/3632 [=====================>........] - ETA: 2s\n",
            "2719/3632 [=====================>........] - ETA: 2s\n",
            "2733/3632 [=====================>........] - ETA: 2s\n",
            "2756/3632 [=====================>........] - ETA: 2s\n",
            "2775/3632 [=====================>........] - ETA: 2s\n",
            "2790/3632 [======================>.......] - ETA: 2s\n",
            "2808/3632 [======================>.......] - ETA: 2s\n",
            "2830/3632 [======================>.......] - ETA: 2s\n",
            "2854/3632 [======================>.......] - ETA: 2s\n",
            "2877/3632 [======================>.......] - ETA: 2s\n",
            "2901/3632 [======================>.......] - ETA: 1s\n",
            "2919/3632 [=======================>......] - ETA: 1s\n",
            "2934/3632 [=======================>......] - ETA: 1s\n",
            "2949/3632 [=======================>......] - ETA: 1s\n",
            "2967/3632 [=======================>......] - ETA: 1s\n",
            "2986/3632 [=======================>......] - ETA: 1s\n",
            "3007/3632 [=======================>......] - ETA: 1s\n",
            "3029/3632 [========================>.....] - ETA: 1s\n",
            "3051/3632 [========================>.....] - ETA: 1s\n",
            "3074/3632 [========================>.....] - ETA: 1s\n",
            "3095/3632 [========================>.....] - ETA: 1s\n",
            "3115/3632 [========================>.....] - ETA: 1s\n",
            "3131/3632 [========================>.....] - ETA: 1s\n",
            "3152/3632 [=========================>....] - ETA: 1s\n",
            "3173/3632 [=========================>....] - ETA: 1s\n",
            "3191/3632 [=========================>....] - ETA: 1s\n",
            "3209/3632 [=========================>....] - ETA: 1s\n",
            "3227/3632 [=========================>....] - ETA: 1s\n",
            "3239/3632 [=========================>....] - ETA: 1s\n",
            "3253/3632 [=========================>....] - ETA: 1s\n",
            "3271/3632 [==========================>...] - ETA: 0s\n",
            "3290/3632 [==========================>...] - ETA: 0s\n",
            "3311/3632 [==========================>...] - ETA: 0s\n",
            "3329/3632 [==========================>...] - ETA: 0s\n",
            "3351/3632 [==========================>...] - ETA: 0s\n",
            "3370/3632 [==========================>...] - ETA: 0s\n",
            "3390/3632 [===========================>..] - ETA: 0s\n",
            "3411/3632 [===========================>..] - ETA: 0s\n",
            "3433/3632 [===========================>..] - ETA: 0s\n",
            "3451/3632 [===========================>..] - ETA: 0s\n",
            "3467/3632 [===========================>..] - ETA: 0s\n",
            "3480/3632 [===========================>..] - ETA: 0s\n",
            "3499/3632 [===========================>..] - ETA: 0s\n",
            "3517/3632 [============================>.] - ETA: 0s\n",
            "3541/3632 [============================>.] - ETA: 0s\n",
            "3565/3632 [============================>.] - ETA: 0s\n",
            "3585/3632 [============================>.] - ETA: 0s\n",
            "3596/3632 [============================>.] - ETA: 0s\n",
            "3613/3632 [============================>.] - ETA: 0s\n",
            "3632/3632 [==============================] - 10s 3ms/step\n",
            "\n",
            "   1/3632 [..............................] - ETA: 6:10\n",
            "  13/3632 [..............................] - ETA: 15s \n",
            "  28/3632 [..............................] - ETA: 13s\n",
            "  48/3632 [..............................] - ETA: 11s\n",
            "  72/3632 [..............................] - ETA: 10s\n",
            "  92/3632 [..............................] - ETA: 9s \n",
            " 112/3632 [..............................] - ETA: 9s\n",
            " 132/3632 [>.............................] - ETA: 9s\n",
            " 153/3632 [>.............................] - ETA: 9s\n",
            " 177/3632 [>.............................] - ETA: 8s\n",
            " 196/3632 [>.............................] - ETA: 8s\n",
            " 216/3632 [>.............................] - ETA: 8s\n",
            " 242/3632 [>.............................] - ETA: 8s\n",
            " 262/3632 [=>............................] - ETA: 8s\n",
            " 286/3632 [=>............................] - ETA: 8s\n",
            " 308/3632 [=>............................] - ETA: 8s\n",
            " 327/3632 [=>............................] - ETA: 8s\n",
            " 344/3632 [=>............................] - ETA: 8s\n",
            " 363/3632 [=>............................] - ETA: 8s\n",
            " 378/3632 [==>...........................] - ETA: 8s\n",
            " 398/3632 [==>...........................] - ETA: 8s\n",
            " 413/3632 [==>...........................] - ETA: 8s\n",
            " 434/3632 [==>...........................] - ETA: 8s\n",
            " 464/3632 [==>...........................] - ETA: 8s\n",
            " 494/3632 [===>..........................] - ETA: 7s\n",
            " 521/3632 [===>..........................] - ETA: 7s\n",
            " 548/3632 [===>..........................] - ETA: 7s\n",
            " 574/3632 [===>..........................] - ETA: 7s\n",
            " 598/3632 [===>..........................] - ETA: 7s\n",
            " 625/3632 [====>.........................] - ETA: 7s\n",
            " 653/3632 [====>.........................] - ETA: 6s\n",
            " 678/3632 [====>.........................] - ETA: 6s\n",
            " 703/3632 [====>.........................] - ETA: 6s\n",
            " 730/3632 [=====>........................] - ETA: 6s\n",
            " 754/3632 [=====>........................] - ETA: 6s\n",
            " 780/3632 [=====>........................] - ETA: 6s\n",
            " 807/3632 [=====>........................] - ETA: 6s\n",
            " 833/3632 [=====>........................] - ETA: 6s\n",
            " 859/3632 [======>.......................] - ETA: 6s\n",
            " 883/3632 [======>.......................] - ETA: 6s\n",
            " 909/3632 [======>.......................] - ETA: 6s\n",
            " 933/3632 [======>.......................] - ETA: 6s\n",
            " 948/3632 [======>.......................] - ETA: 6s\n",
            " 970/3632 [=======>......................] - ETA: 6s\n",
            " 992/3632 [=======>......................] - ETA: 5s\n",
            "1014/3632 [=======>......................] - ETA: 5s\n",
            "1040/3632 [=======>......................] - ETA: 5s\n",
            "1063/3632 [=======>......................] - ETA: 5s\n",
            "1090/3632 [========>.....................] - ETA: 5s\n",
            "1114/3632 [========>.....................] - ETA: 5s\n",
            "1141/3632 [========>.....................] - ETA: 5s\n",
            "1157/3632 [========>.....................] - ETA: 5s\n",
            "1174/3632 [========>.....................] - ETA: 5s\n",
            "1198/3632 [========>.....................] - ETA: 5s\n",
            "1214/3632 [=========>....................] - ETA: 5s\n",
            "1231/3632 [=========>....................] - ETA: 5s\n",
            "1252/3632 [=========>....................] - ETA: 5s\n",
            "1276/3632 [=========>....................] - ETA: 5s\n",
            "1300/3632 [=========>....................] - ETA: 5s\n",
            "1322/3632 [=========>....................] - ETA: 5s\n",
            "1348/3632 [==========>...................] - ETA: 5s\n",
            "1374/3632 [==========>...................] - ETA: 5s\n",
            "1396/3632 [==========>...................] - ETA: 5s\n",
            "1416/3632 [==========>...................] - ETA: 5s\n",
            "1438/3632 [==========>...................] - ETA: 4s\n",
            "1457/3632 [===========>..................] - ETA: 4s\n",
            "1481/3632 [===========>..................] - ETA: 4s\n",
            "1502/3632 [===========>..................] - ETA: 4s\n",
            "1530/3632 [===========>..................] - ETA: 4s\n",
            "1558/3632 [===========>..................] - ETA: 4s\n",
            "1583/3632 [============>.................] - ETA: 4s\n",
            "1604/3632 [============>.................] - ETA: 4s\n",
            "1623/3632 [============>.................] - ETA: 4s\n",
            "1638/3632 [============>.................] - ETA: 4s\n",
            "1658/3632 [============>.................] - ETA: 4s\n",
            "1672/3632 [============>.................] - ETA: 4s\n",
            "1690/3632 [============>.................] - ETA: 4s\n",
            "1708/3632 [=============>................] - ETA: 4s\n",
            "1725/3632 [=============>................] - ETA: 4s\n",
            "1745/3632 [=============>................] - ETA: 4s\n",
            "1767/3632 [=============>................] - ETA: 4s\n",
            "1792/3632 [=============>................] - ETA: 4s\n",
            "1816/3632 [==============>...............] - ETA: 4s\n",
            "1837/3632 [==============>...............] - ETA: 4s\n",
            "1859/3632 [==============>...............] - ETA: 4s\n",
            "1880/3632 [==============>...............] - ETA: 4s\n",
            "1897/3632 [==============>...............] - ETA: 4s\n",
            "1920/3632 [==============>...............] - ETA: 3s\n",
            "1937/3632 [==============>...............] - ETA: 3s\n",
            "1953/3632 [===============>..............] - ETA: 3s\n",
            "1969/3632 [===============>..............] - ETA: 3s\n",
            "1988/3632 [===============>..............] - ETA: 3s\n",
            "2013/3632 [===============>..............] - ETA: 3s\n",
            "2032/3632 [===============>..............] - ETA: 3s\n",
            "2061/3632 [================>.............] - ETA: 3s\n",
            "2093/3632 [================>.............] - ETA: 3s\n",
            "2119/3632 [================>.............] - ETA: 3s\n",
            "2145/3632 [================>.............] - ETA: 3s\n",
            "2176/3632 [================>.............] - ETA: 3s\n",
            "2202/3632 [=================>............] - ETA: 3s\n",
            "2229/3632 [=================>............] - ETA: 3s\n",
            "2252/3632 [=================>............] - ETA: 3s\n",
            "2283/3632 [=================>............] - ETA: 3s\n",
            "2312/3632 [==================>...........] - ETA: 3s\n",
            "2346/3632 [==================>...........] - ETA: 2s\n",
            "2380/3632 [==================>...........] - ETA: 2s\n",
            "2399/3632 [==================>...........] - ETA: 2s\n",
            "2422/3632 [===================>..........] - ETA: 2s\n",
            "2453/3632 [===================>..........] - ETA: 2s\n",
            "2483/3632 [===================>..........] - ETA: 2s\n",
            "2514/3632 [===================>..........] - ETA: 2s\n",
            "2543/3632 [====================>.........] - ETA: 2s\n",
            "2576/3632 [====================>.........] - ETA: 2s\n",
            "2599/3632 [====================>.........] - ETA: 2s\n",
            "2630/3632 [====================>.........] - ETA: 2s\n",
            "2661/3632 [====================>.........] - ETA: 2s\n",
            "2689/3632 [=====================>........] - ETA: 2s\n",
            "2713/3632 [=====================>........] - ETA: 2s\n",
            "2742/3632 [=====================>........] - ETA: 1s\n",
            "2769/3632 [=====================>........] - ETA: 1s\n",
            "2802/3632 [======================>.......] - ETA: 1s\n",
            "2829/3632 [======================>.......] - ETA: 1s\n",
            "2863/3632 [======================>.......] - ETA: 1s\n",
            "2894/3632 [======================>.......] - ETA: 1s\n",
            "2920/3632 [=======================>......] - ETA: 1s\n",
            "2951/3632 [=======================>......] - ETA: 1s\n",
            "2983/3632 [=======================>......] - ETA: 1s\n",
            "3006/3632 [=======================>......] - ETA: 1s\n",
            "3037/3632 [========================>.....] - ETA: 1s\n",
            "3060/3632 [========================>.....] - ETA: 1s\n",
            "3091/3632 [========================>.....] - ETA: 1s\n",
            "3122/3632 [========================>.....] - ETA: 1s\n",
            "3146/3632 [========================>.....] - ETA: 1s\n",
            "3173/3632 [=========================>....] - ETA: 0s\n",
            "3201/3632 [=========================>....] - ETA: 0s\n",
            "3229/3632 [=========================>....] - ETA: 0s\n",
            "3261/3632 [=========================>....] - ETA: 0s\n",
            "3294/3632 [==========================>...] - ETA: 0s\n",
            "3326/3632 [==========================>...] - ETA: 0s\n",
            "3350/3632 [==========================>...] - ETA: 0s\n",
            "3383/3632 [==========================>...] - ETA: 0s\n",
            "3416/3632 [===========================>..] - ETA: 0s\n",
            "3448/3632 [===========================>..] - ETA: 0s\n",
            "3475/3632 [===========================>..] - ETA: 0s\n",
            "3503/3632 [===========================>..] - ETA: 0s\n",
            "3533/3632 [============================>.] - ETA: 0s\n",
            "3565/3632 [============================>.] - ETA: 0s\n",
            "3589/3632 [============================>.] - ETA: 0s\n",
            "3614/3632 [============================>.] - ETA: 0s\n",
            "3632/3632 [==============================] - 8s 2ms/step\n",
            "\n",
            "   1/3632 [..............................] - ETA: 3:54\n",
            "  32/3632 [..............................] - ETA: 6s  \n",
            "  60/3632 [..............................] - ETA: 6s\n",
            "  84/3632 [..............................] - ETA: 6s\n",
            " 111/3632 [..............................] - ETA: 6s\n",
            " 136/3632 [>.............................] - ETA: 6s\n",
            " 168/3632 [>.............................] - ETA: 6s\n",
            " 200/3632 [>.............................] - ETA: 6s\n",
            " 228/3632 [>.............................] - ETA: 6s\n",
            " 253/3632 [=>............................] - ETA: 6s\n",
            " 281/3632 [=>............................] - ETA: 6s\n",
            " 302/3632 [=>............................] - ETA: 6s\n",
            " 333/3632 [=>............................] - ETA: 6s\n",
            " 363/3632 [=>............................] - ETA: 5s\n",
            " 396/3632 [==>...........................] - ETA: 5s\n",
            " 423/3632 [==>...........................] - ETA: 5s\n",
            " 449/3632 [==>...........................] - ETA: 5s\n",
            " 469/3632 [==>...........................] - ETA: 5s\n",
            " 496/3632 [===>..........................] - ETA: 5s\n",
            " 528/3632 [===>..........................] - ETA: 5s\n",
            " 557/3632 [===>..........................] - ETA: 5s\n",
            " 581/3632 [===>..........................] - ETA: 5s\n",
            " 607/3632 [====>.........................] - ETA: 5s\n",
            " 639/3632 [====>.........................] - ETA: 5s\n",
            " 671/3632 [====>.........................] - ETA: 5s\n",
            " 701/3632 [====>.........................] - ETA: 5s\n",
            " 728/3632 [=====>........................] - ETA: 5s\n",
            " 762/3632 [=====>........................] - ETA: 5s\n",
            " 782/3632 [=====>........................] - ETA: 5s\n",
            " 816/3632 [=====>........................] - ETA: 5s\n",
            " 846/3632 [=====>........................] - ETA: 5s\n",
            " 864/3632 [======>.......................] - ETA: 5s\n",
            " 886/3632 [======>.......................] - ETA: 5s\n",
            " 912/3632 [======>.......................] - ETA: 4s\n",
            " 938/3632 [======>.......................] - ETA: 4s\n",
            " 970/3632 [=======>......................] - ETA: 4s\n",
            "1000/3632 [=======>......................] - ETA: 4s\n",
            "1033/3632 [=======>......................] - ETA: 4s\n",
            "1055/3632 [=======>......................] - ETA: 4s\n",
            "1084/3632 [=======>......................] - ETA: 4s\n",
            "1116/3632 [========>.....................] - ETA: 4s\n",
            "1144/3632 [========>.....................] - ETA: 4s\n",
            "1173/3632 [========>.....................] - ETA: 4s\n",
            "1199/3632 [========>.....................] - ETA: 4s\n",
            "1228/3632 [=========>....................] - ETA: 4s\n",
            "1256/3632 [=========>....................] - ETA: 4s\n",
            "1282/3632 [=========>....................] - ETA: 4s\n",
            "1313/3632 [=========>....................] - ETA: 4s\n",
            "1347/3632 [==========>...................] - ETA: 4s\n",
            "1379/3632 [==========>...................] - ETA: 4s\n",
            "1400/3632 [==========>...................] - ETA: 4s\n",
            "1427/3632 [==========>...................] - ETA: 3s\n",
            "1451/3632 [==========>...................] - ETA: 3s\n",
            "1483/3632 [===========>..................] - ETA: 3s\n",
            "1518/3632 [===========>..................] - ETA: 3s\n",
            "1542/3632 [===========>..................] - ETA: 3s\n",
            "1570/3632 [===========>..................] - ETA: 3s\n",
            "1599/3632 [============>.................] - ETA: 3s\n",
            "1624/3632 [============>.................] - ETA: 3s\n",
            "1653/3632 [============>.................] - ETA: 3s\n",
            "1682/3632 [============>.................] - ETA: 3s\n",
            "1708/3632 [=============>................] - ETA: 3s\n",
            "1735/3632 [=============>................] - ETA: 3s\n",
            "1760/3632 [=============>................] - ETA: 3s\n",
            "1783/3632 [=============>................] - ETA: 3s\n",
            "1817/3632 [==============>...............] - ETA: 3s\n",
            "1842/3632 [==============>...............] - ETA: 3s\n",
            "1869/3632 [==============>...............] - ETA: 3s\n",
            "1894/3632 [==============>...............] - ETA: 3s\n",
            "1925/3632 [==============>...............] - ETA: 3s\n",
            "1955/3632 [===============>..............] - ETA: 3s\n",
            "1983/3632 [===============>..............] - ETA: 2s\n",
            "1998/3632 [===============>..............] - ETA: 2s\n",
            "2025/3632 [===============>..............] - ETA: 2s\n",
            "2048/3632 [===============>..............] - ETA: 2s\n",
            "2067/3632 [================>.............] - ETA: 2s\n",
            "2099/3632 [================>.............] - ETA: 2s\n",
            "2126/3632 [================>.............] - ETA: 2s\n",
            "2151/3632 [================>.............] - ETA: 2s\n",
            "2183/3632 [=================>............] - ETA: 2s\n",
            "2208/3632 [=================>............] - ETA: 2s\n",
            "2229/3632 [=================>............] - ETA: 2s\n",
            "2252/3632 [=================>............] - ETA: 2s\n",
            "2276/3632 [=================>............] - ETA: 2s\n",
            "2300/3632 [=================>............] - ETA: 2s\n",
            "2319/3632 [==================>...........] - ETA: 2s\n",
            "2339/3632 [==================>...........] - ETA: 2s\n",
            "2357/3632 [==================>...........] - ETA: 2s\n",
            "2374/3632 [==================>...........] - ETA: 2s\n",
            "2391/3632 [==================>...........] - ETA: 2s\n",
            "2411/3632 [==================>...........] - ETA: 2s\n",
            "2439/3632 [===================>..........] - ETA: 2s\n",
            "2463/3632 [===================>..........] - ETA: 2s\n",
            "2483/3632 [===================>..........] - ETA: 2s\n",
            "2504/3632 [===================>..........] - ETA: 2s\n",
            "2523/3632 [===================>..........] - ETA: 2s\n",
            "2544/3632 [====================>.........] - ETA: 2s\n",
            "2563/3632 [====================>.........] - ETA: 2s\n",
            "2581/3632 [====================>.........] - ETA: 2s\n",
            "2609/3632 [====================>.........] - ETA: 1s\n",
            "2629/3632 [====================>.........] - ETA: 1s\n",
            "2656/3632 [====================>.........] - ETA: 1s\n",
            "2675/3632 [=====================>........] - ETA: 1s\n",
            "2702/3632 [=====================>........] - ETA: 1s\n",
            "2720/3632 [=====================>........] - ETA: 1s\n",
            "2747/3632 [=====================>........] - ETA: 1s\n",
            "2771/3632 [=====================>........] - ETA: 1s\n",
            "2793/3632 [======================>.......] - ETA: 1s\n",
            "2821/3632 [======================>.......] - ETA: 1s\n",
            "2847/3632 [======================>.......] - ETA: 1s\n",
            "2873/3632 [======================>.......] - ETA: 1s\n",
            "2895/3632 [======================>.......] - ETA: 1s\n",
            "2920/3632 [=======================>......] - ETA: 1s\n",
            "2938/3632 [=======================>......] - ETA: 1s\n",
            "2958/3632 [=======================>......] - ETA: 1s\n",
            "2973/3632 [=======================>......] - ETA: 1s\n",
            "2992/3632 [=======================>......] - ETA: 1s\n",
            "3019/3632 [=======================>......] - ETA: 1s\n",
            "3046/3632 [========================>.....] - ETA: 1s\n",
            "3069/3632 [========================>.....] - ETA: 1s\n",
            "3091/3632 [========================>.....] - ETA: 1s\n",
            "3108/3632 [========================>.....] - ETA: 1s\n",
            "3130/3632 [========================>.....] - ETA: 0s\n",
            "3152/3632 [=========================>....] - ETA: 0s\n",
            "3179/3632 [=========================>....] - ETA: 0s\n",
            "3201/3632 [=========================>....] - ETA: 0s\n",
            "3223/3632 [=========================>....] - ETA: 0s\n",
            "3246/3632 [=========================>....] - ETA: 0s\n",
            "3268/3632 [=========================>....] - ETA: 0s\n",
            "3292/3632 [==========================>...] - ETA: 0s\n",
            "3319/3632 [==========================>...] - ETA: 0s\n",
            "3346/3632 [==========================>...] - ETA: 0s\n",
            "3373/3632 [==========================>...] - ETA: 0s\n",
            "3400/3632 [===========================>..] - ETA: 0s\n",
            "3426/3632 [===========================>..] - ETA: 0s\n",
            "3449/3632 [===========================>..] - ETA: 0s\n",
            "3469/3632 [===========================>..] - ETA: 0s\n",
            "3490/3632 [===========================>..] - ETA: 0s\n",
            "3510/3632 [===========================>..] - ETA: 0s\n",
            "3524/3632 [============================>.] - ETA: 0s\n",
            "3544/3632 [============================>.] - ETA: 0s\n",
            "3559/3632 [============================>.] - ETA: 0s\n",
            "3574/3632 [============================>.] - ETA: 0s\n",
            "3594/3632 [============================>.] - ETA: 0s\n",
            "3614/3632 [============================>.] - ETA: 0s\n",
            "3632/3632 [==============================] - 7s 2ms/step\n",
            "\n",
            "   1/3632 [..............................] - ETA: 5:27\n",
            "  15/3632 [..............................] - ETA: 13s \n",
            "  27/3632 [..............................] - ETA: 14s\n",
            "  47/3632 [..............................] - ETA: 11s\n",
            "  72/3632 [..............................] - ETA: 10s\n",
            "  97/3632 [..............................] - ETA: 9s \n",
            " 118/3632 [..............................] - ETA: 9s\n",
            " 137/3632 [>.............................] - ETA: 9s\n",
            " 154/3632 [>.............................] - ETA: 9s\n",
            " 177/3632 [>.............................] - ETA: 9s\n",
            " 203/3632 [>.............................] - ETA: 8s\n",
            " 228/3632 [>.............................] - ETA: 8s\n",
            " 252/3632 [=>............................] - ETA: 8s\n",
            " 276/3632 [=>............................] - ETA: 8s\n",
            " 299/3632 [=>............................] - ETA: 8s\n",
            " 324/3632 [=>............................] - ETA: 7s\n",
            " 349/3632 [=>............................] - ETA: 7s\n",
            " 374/3632 [==>...........................] - ETA: 7s\n",
            " 399/3632 [==>...........................] - ETA: 7s\n",
            " 424/3632 [==>...........................] - ETA: 7s\n",
            " 449/3632 [==>...........................] - ETA: 7s\n",
            " 469/3632 [==>...........................] - ETA: 7s\n",
            " 491/3632 [===>..........................] - ETA: 7s\n",
            " 516/3632 [===>..........................] - ETA: 7s\n",
            " 541/3632 [===>..........................] - ETA: 7s\n",
            " 565/3632 [===>..........................] - ETA: 6s\n",
            " 588/3632 [===>..........................] - ETA: 6s\n",
            " 611/3632 [====>.........................] - ETA: 6s\n",
            " 635/3632 [====>.........................] - ETA: 6s\n",
            " 660/3632 [====>.........................] - ETA: 6s\n",
            " 686/3632 [====>.........................] - ETA: 6s\n",
            " 711/3632 [====>.........................] - ETA: 6s\n",
            " 736/3632 [=====>........................] - ETA: 6s\n",
            " 751/3632 [=====>........................] - ETA: 6s\n",
            " 770/3632 [=====>........................] - ETA: 6s\n",
            " 789/3632 [=====>........................] - ETA: 6s\n",
            " 807/3632 [=====>........................] - ETA: 6s\n",
            " 822/3632 [=====>........................] - ETA: 6s\n",
            " 841/3632 [=====>........................] - ETA: 6s\n",
            " 860/3632 [======>.......................] - ETA: 6s\n",
            " 878/3632 [======>.......................] - ETA: 6s\n",
            " 896/3632 [======>.......................] - ETA: 6s\n",
            " 915/3632 [======>.......................] - ETA: 6s\n",
            " 934/3632 [======>.......................] - ETA: 6s\n",
            " 946/3632 [======>.......................] - ETA: 6s\n",
            " 964/3632 [======>.......................] - ETA: 6s\n",
            " 985/3632 [=======>......................] - ETA: 6s\n",
            "1007/3632 [=======>......................] - ETA: 6s\n",
            "1028/3632 [=======>......................] - ETA: 6s\n",
            "1057/3632 [=======>......................] - ETA: 6s\n",
            "1076/3632 [=======>......................] - ETA: 6s\n",
            "1102/3632 [========>.....................] - ETA: 6s\n",
            "1127/3632 [========>.....................] - ETA: 5s\n",
            "1154/3632 [========>.....................] - ETA: 5s\n",
            "1180/3632 [========>.....................] - ETA: 5s\n",
            "1204/3632 [========>.....................] - ETA: 5s\n",
            "1231/3632 [=========>....................] - ETA: 5s\n",
            "1259/3632 [=========>....................] - ETA: 5s\n",
            "1285/3632 [=========>....................] - ETA: 5s\n",
            "1312/3632 [=========>....................] - ETA: 5s\n",
            "1338/3632 [==========>...................] - ETA: 5s\n",
            "1360/3632 [==========>...................] - ETA: 5s\n",
            "1381/3632 [==========>...................] - ETA: 5s\n",
            "1406/3632 [==========>...................] - ETA: 5s\n",
            "1432/3632 [==========>...................] - ETA: 5s\n",
            "1459/3632 [===========>..................] - ETA: 4s\n",
            "1486/3632 [===========>..................] - ETA: 4s\n",
            "1509/3632 [===========>..................] - ETA: 4s\n",
            "1525/3632 [===========>..................] - ETA: 4s\n",
            "1546/3632 [===========>..................] - ETA: 4s\n",
            "1565/3632 [===========>..................] - ETA: 4s\n",
            "1584/3632 [============>.................] - ETA: 4s\n",
            "1599/3632 [============>.................] - ETA: 4s\n",
            "1623/3632 [============>.................] - ETA: 4s\n",
            "1645/3632 [============>.................] - ETA: 4s\n",
            "1661/3632 [============>.................] - ETA: 4s\n",
            "1682/3632 [============>.................] - ETA: 4s\n",
            "1703/3632 [=============>................] - ETA: 4s\n",
            "1718/3632 [=============>................] - ETA: 4s\n",
            "1735/3632 [=============>................] - ETA: 4s\n",
            "1746/3632 [=============>................] - ETA: 4s\n",
            "1767/3632 [=============>................] - ETA: 4s\n",
            "1787/3632 [=============>................] - ETA: 4s\n",
            "1797/3632 [=============>................] - ETA: 4s\n",
            "1817/3632 [==============>...............] - ETA: 4s\n",
            "1831/3632 [==============>...............] - ETA: 4s\n",
            "1846/3632 [==============>...............] - ETA: 4s\n",
            "1869/3632 [==============>...............] - ETA: 4s\n",
            "1894/3632 [==============>...............] - ETA: 4s\n",
            "1914/3632 [==============>...............] - ETA: 4s\n",
            "1927/3632 [==============>...............] - ETA: 4s\n",
            "1944/3632 [===============>..............] - ETA: 4s\n",
            "1959/3632 [===============>..............] - ETA: 4s\n",
            "1979/3632 [===============>..............] - ETA: 3s\n",
            "1995/3632 [===============>..............] - ETA: 3s\n",
            "2014/3632 [===============>..............] - ETA: 3s\n",
            "2033/3632 [===============>..............] - ETA: 3s\n",
            "2053/3632 [===============>..............] - ETA: 3s\n",
            "2070/3632 [================>.............] - ETA: 3s\n",
            "2089/3632 [================>.............] - ETA: 3s\n",
            "2107/3632 [================>.............] - ETA: 3s\n",
            "2124/3632 [================>.............] - ETA: 3s\n",
            "2138/3632 [================>.............] - ETA: 3s\n",
            "2151/3632 [================>.............] - ETA: 3s\n",
            "2166/3632 [================>.............] - ETA: 3s\n",
            "2181/3632 [=================>............] - ETA: 3s\n",
            "2193/3632 [=================>............] - ETA: 3s\n",
            "2208/3632 [=================>............] - ETA: 3s\n",
            "2225/3632 [=================>............] - ETA: 3s\n",
            "2242/3632 [=================>............] - ETA: 3s\n",
            "2255/3632 [=================>............] - ETA: 3s\n",
            "2271/3632 [=================>............] - ETA: 3s\n",
            "2286/3632 [=================>............] - ETA: 3s\n",
            "2303/3632 [==================>...........] - ETA: 3s\n",
            "2317/3632 [==================>...........] - ETA: 3s\n",
            "2336/3632 [==================>...........] - ETA: 3s\n",
            "2358/3632 [==================>...........] - ETA: 3s\n",
            "2377/3632 [==================>...........] - ETA: 3s\n",
            "2398/3632 [==================>...........] - ETA: 3s\n",
            "2414/3632 [==================>...........] - ETA: 3s\n",
            "2434/3632 [===================>..........] - ETA: 3s\n",
            "2455/3632 [===================>..........] - ETA: 2s\n",
            "2475/3632 [===================>..........] - ETA: 2s\n",
            "2492/3632 [===================>..........] - ETA: 2s\n",
            "2518/3632 [===================>..........] - ETA: 2s\n",
            "2545/3632 [====================>.........] - ETA: 2s\n",
            "2571/3632 [====================>.........] - ETA: 2s\n",
            "2593/3632 [====================>.........] - ETA: 2s\n",
            "2610/3632 [====================>.........] - ETA: 2s\n",
            "2636/3632 [====================>.........] - ETA: 2s\n",
            "2656/3632 [====================>.........] - ETA: 2s\n",
            "2678/3632 [=====================>........] - ETA: 2s\n",
            "2698/3632 [=====================>........] - ETA: 2s\n",
            "2716/3632 [=====================>........] - ETA: 2s\n",
            "2735/3632 [=====================>........] - ETA: 2s\n",
            "2762/3632 [=====================>........] - ETA: 2s\n",
            "2788/3632 [======================>.......] - ETA: 2s\n",
            "2802/3632 [======================>.......] - ETA: 2s\n",
            "2818/3632 [======================>.......] - ETA: 2s\n",
            "2843/3632 [======================>.......] - ETA: 1s\n",
            "2859/3632 [======================>.......] - ETA: 1s\n",
            "2886/3632 [======================>.......] - ETA: 1s\n",
            "2911/3632 [=======================>......] - ETA: 1s\n",
            "2936/3632 [=======================>......] - ETA: 1s\n",
            "2959/3632 [=======================>......] - ETA: 1s\n",
            "2978/3632 [=======================>......] - ETA: 1s\n",
            "3003/3632 [=======================>......] - ETA: 1s\n",
            "3029/3632 [========================>.....] - ETA: 1s\n",
            "3056/3632 [========================>.....] - ETA: 1s\n",
            "3082/3632 [========================>.....] - ETA: 1s\n",
            "3104/3632 [========================>.....] - ETA: 1s\n",
            "3124/3632 [========================>.....] - ETA: 1s\n",
            "3150/3632 [=========================>....] - ETA: 1s\n",
            "3172/3632 [=========================>....] - ETA: 1s\n",
            "3199/3632 [=========================>....] - ETA: 1s\n",
            "3226/3632 [=========================>....] - ETA: 0s\n",
            "3252/3632 [=========================>....] - ETA: 0s\n",
            "3277/3632 [==========================>...] - ETA: 0s\n",
            "3302/3632 [==========================>...] - ETA: 0s\n",
            "3324/3632 [==========================>...] - ETA: 0s\n",
            "3349/3632 [==========================>...] - ETA: 0s\n",
            "3375/3632 [==========================>...] - ETA: 0s\n",
            "3396/3632 [===========================>..] - ETA: 0s\n",
            "3414/3632 [===========================>..] - ETA: 0s\n",
            "3439/3632 [===========================>..] - ETA: 0s\n",
            "3463/3632 [===========================>..] - ETA: 0s\n",
            "3489/3632 [===========================>..] - ETA: 0s\n",
            "3515/3632 [============================>.] - ETA: 0s\n",
            "3540/3632 [============================>.] - ETA: 0s\n",
            "3558/3632 [============================>.] - ETA: 0s\n",
            "3581/3632 [============================>.] - ETA: 0s\n",
            "3608/3632 [============================>.] - ETA: 0s\n",
            "3632/3632 [==============================] - 9s 2ms/step\n",
            "\n",
            "   1/3632 [..............................] - ETA: 3:37\n",
            "  29/3632 [..............................] - ETA: 7s  \n",
            "  52/3632 [..............................] - ETA: 7s\n",
            "  79/3632 [..............................] - ETA: 7s\n",
            " 105/3632 [..............................] - ETA: 7s\n",
            " 131/3632 [>.............................] - ETA: 7s\n",
            " 158/3632 [>.............................] - ETA: 6s\n",
            " 183/3632 [>.............................] - ETA: 6s\n",
            " 212/3632 [>.............................] - ETA: 6s\n",
            " 240/3632 [>.............................] - ETA: 6s\n",
            " 261/3632 [=>............................] - ETA: 6s\n",
            " 286/3632 [=>............................] - ETA: 6s\n",
            " 312/3632 [=>............................] - ETA: 6s\n",
            " 340/3632 [=>............................] - ETA: 6s\n",
            " 363/3632 [=>............................] - ETA: 6s\n",
            " 392/3632 [==>...........................] - ETA: 6s\n",
            " 411/3632 [==>...........................] - ETA: 6s\n",
            " 438/3632 [==>...........................] - ETA: 6s\n",
            " 466/3632 [==>...........................] - ETA: 6s\n",
            " 492/3632 [===>..........................] - ETA: 6s\n",
            " 520/3632 [===>..........................] - ETA: 6s\n",
            " 542/3632 [===>..........................] - ETA: 6s\n",
            " 569/3632 [===>..........................] - ETA: 6s\n",
            " 593/3632 [===>..........................] - ETA: 6s\n",
            " 617/3632 [====>.........................] - ETA: 6s\n",
            " 644/3632 [====>.........................] - ETA: 5s\n",
            " 667/3632 [====>.........................] - ETA: 5s\n",
            " 686/3632 [====>.........................] - ETA: 5s\n",
            " 708/3632 [====>.........................] - ETA: 5s\n",
            " 735/3632 [=====>........................] - ETA: 5s\n",
            " 752/3632 [=====>........................] - ETA: 5s\n",
            " 774/3632 [=====>........................] - ETA: 5s\n",
            " 801/3632 [=====>........................] - ETA: 5s\n",
            " 824/3632 [=====>........................] - ETA: 5s\n",
            " 850/3632 [======>.......................] - ETA: 5s\n",
            " 879/3632 [======>.......................] - ETA: 5s\n",
            " 904/3632 [======>.......................] - ETA: 5s\n",
            " 929/3632 [======>.......................] - ETA: 5s\n",
            " 951/3632 [======>.......................] - ETA: 5s\n",
            " 977/3632 [=======>......................] - ETA: 5s\n",
            "1003/3632 [=======>......................] - ETA: 5s\n",
            "1024/3632 [=======>......................] - ETA: 5s\n",
            "1050/3632 [=======>......................] - ETA: 5s\n",
            "1077/3632 [=======>......................] - ETA: 5s\n",
            "1100/3632 [========>.....................] - ETA: 5s\n",
            "1120/3632 [========>.....................] - ETA: 5s\n",
            "1141/3632 [========>.....................] - ETA: 5s\n",
            "1167/3632 [========>.....................] - ETA: 5s\n",
            "1191/3632 [========>.....................] - ETA: 5s\n",
            "1210/3632 [========>.....................] - ETA: 5s\n",
            "1232/3632 [=========>....................] - ETA: 4s\n",
            "1250/3632 [=========>....................] - ETA: 4s\n",
            "1274/3632 [=========>....................] - ETA: 4s\n",
            "1296/3632 [=========>....................] - ETA: 4s\n",
            "1313/3632 [=========>....................] - ETA: 4s\n",
            "1330/3632 [=========>....................] - ETA: 4s\n",
            "1347/3632 [==========>...................] - ETA: 4s\n",
            "1366/3632 [==========>...................] - ETA: 4s\n",
            "1383/3632 [==========>...................] - ETA: 4s\n",
            "1398/3632 [==========>...................] - ETA: 4s\n",
            "1414/3632 [==========>...................] - ETA: 4s\n",
            "1434/3632 [==========>...................] - ETA: 4s\n",
            "1455/3632 [===========>..................] - ETA: 4s\n",
            "1469/3632 [===========>..................] - ETA: 4s\n",
            "1496/3632 [===========>..................] - ETA: 4s\n",
            "1517/3632 [===========>..................] - ETA: 4s\n",
            "1536/3632 [===========>..................] - ETA: 4s\n",
            "1562/3632 [===========>..................] - ETA: 4s\n",
            "1589/3632 [============>.................] - ETA: 4s\n",
            "1613/3632 [============>.................] - ETA: 4s\n",
            "1638/3632 [============>.................] - ETA: 4s\n",
            "1664/3632 [============>.................] - ETA: 4s\n",
            "1689/3632 [============>.................] - ETA: 4s\n",
            "1717/3632 [=============>................] - ETA: 4s\n",
            "1745/3632 [=============>................] - ETA: 4s\n",
            "1771/3632 [=============>................] - ETA: 4s\n",
            "1797/3632 [=============>................] - ETA: 3s\n",
            "1824/3632 [==============>...............] - ETA: 3s\n",
            "1851/3632 [==============>...............] - ETA: 3s\n",
            "1878/3632 [==============>...............] - ETA: 3s\n",
            "1905/3632 [==============>...............] - ETA: 3s\n",
            "1932/3632 [==============>...............] - ETA: 3s\n",
            "1954/3632 [===============>..............] - ETA: 3s\n",
            "1978/3632 [===============>..............] - ETA: 3s\n",
            "2004/3632 [===============>..............] - ETA: 3s\n",
            "2030/3632 [===============>..............] - ETA: 3s\n",
            "2055/3632 [===============>..............] - ETA: 3s\n",
            "2079/3632 [================>.............] - ETA: 3s\n",
            "2103/3632 [================>.............] - ETA: 3s\n",
            "2127/3632 [================>.............] - ETA: 3s\n",
            "2147/3632 [================>.............] - ETA: 3s\n",
            "2166/3632 [================>.............] - ETA: 3s\n",
            "2183/3632 [=================>............] - ETA: 3s\n",
            "2204/3632 [=================>............] - ETA: 3s\n",
            "2228/3632 [=================>............] - ETA: 3s\n",
            "2247/3632 [=================>............] - ETA: 2s\n",
            "2268/3632 [=================>............] - ETA: 2s\n",
            "2286/3632 [=================>............] - ETA: 2s\n",
            "2313/3632 [==================>...........] - ETA: 2s\n",
            "2338/3632 [==================>...........] - ETA: 2s\n",
            "2365/3632 [==================>...........] - ETA: 2s\n",
            "2392/3632 [==================>...........] - ETA: 2s\n",
            "2419/3632 [==================>...........] - ETA: 2s\n",
            "2443/3632 [===================>..........] - ETA: 2s\n",
            "2464/3632 [===================>..........] - ETA: 2s\n",
            "2487/3632 [===================>..........] - ETA: 2s\n",
            "2504/3632 [===================>..........] - ETA: 2s\n",
            "2516/3632 [===================>..........] - ETA: 2s\n",
            "2527/3632 [===================>..........] - ETA: 2s\n",
            "2543/3632 [====================>.........] - ETA: 2s\n",
            "2558/3632 [====================>.........] - ETA: 2s\n",
            "2573/3632 [====================>.........] - ETA: 2s\n",
            "2587/3632 [====================>.........] - ETA: 2s\n",
            "2599/3632 [====================>.........] - ETA: 2s\n",
            "2616/3632 [====================>.........] - ETA: 2s\n",
            "2642/3632 [====================>.........] - ETA: 2s\n",
            "2670/3632 [=====================>........] - ETA: 2s\n",
            "2694/3632 [=====================>........] - ETA: 2s\n",
            "2721/3632 [=====================>........] - ETA: 2s\n",
            "2740/3632 [=====================>........] - ETA: 1s\n",
            "2761/3632 [=====================>........] - ETA: 1s\n",
            "2785/3632 [======================>.......] - ETA: 1s\n",
            "2810/3632 [======================>.......] - ETA: 1s\n",
            "2834/3632 [======================>.......] - ETA: 1s\n",
            "2853/3632 [======================>.......] - ETA: 1s\n",
            "2872/3632 [======================>.......] - ETA: 1s\n",
            "2894/3632 [======================>.......] - ETA: 1s\n",
            "2919/3632 [=======================>......] - ETA: 1s\n",
            "2941/3632 [=======================>......] - ETA: 1s\n",
            "2960/3632 [=======================>......] - ETA: 1s\n",
            "2984/3632 [=======================>......] - ETA: 1s\n",
            "3008/3632 [=======================>......] - ETA: 1s\n",
            "3035/3632 [========================>.....] - ETA: 1s\n",
            "3059/3632 [========================>.....] - ETA: 1s\n",
            "3082/3632 [========================>.....] - ETA: 1s\n",
            "3107/3632 [========================>.....] - ETA: 1s\n",
            "3131/3632 [========================>.....] - ETA: 1s\n",
            "3158/3632 [=========================>....] - ETA: 1s\n",
            "3186/3632 [=========================>....] - ETA: 0s\n",
            "3208/3632 [=========================>....] - ETA: 0s\n",
            "3235/3632 [=========================>....] - ETA: 0s\n",
            "3250/3632 [=========================>....] - ETA: 0s\n",
            "3270/3632 [==========================>...] - ETA: 0s\n",
            "3291/3632 [==========================>...] - ETA: 0s\n",
            "3305/3632 [==========================>...] - ETA: 0s\n",
            "3325/3632 [==========================>...] - ETA: 0s\n",
            "3344/3632 [==========================>...] - ETA: 0s\n",
            "3364/3632 [==========================>...] - ETA: 0s\n",
            "3381/3632 [==========================>...] - ETA: 0s\n",
            "3398/3632 [===========================>..] - ETA: 0s\n",
            "3407/3632 [===========================>..] - ETA: 0s\n",
            "3419/3632 [===========================>..] - ETA: 0s\n",
            "3437/3632 [===========================>..] - ETA: 0s\n",
            "3462/3632 [===========================>..] - ETA: 0s\n",
            "3483/3632 [===========================>..] - ETA: 0s\n",
            "3505/3632 [===========================>..] - ETA: 0s\n",
            "3527/3632 [============================>.] - ETA: 0s\n",
            "3547/3632 [============================>.] - ETA: 0s\n",
            "3566/3632 [============================>.] - ETA: 0s\n",
            "3586/3632 [============================>.] - ETA: 0s\n",
            "3610/3632 [============================>.] - ETA: 0s\n",
            "3628/3632 [============================>.] - ETA: 0s\n",
            "3632/3632 [==============================] - 8s 2ms/step\n",
            "\n",
            "   1/3632 [..............................] - ETA: 3:22\n",
            "  27/3632 [..............................] - ETA: 7s  \n",
            "  49/3632 [..............................] - ETA: 7s\n",
            "  75/3632 [..............................] - ETA: 7s\n",
            "  92/3632 [..............................] - ETA: 7s\n",
            " 117/3632 [..............................] - ETA: 7s\n",
            " 143/3632 [>.............................] - ETA: 7s\n",
            " 168/3632 [>.............................] - ETA: 7s\n",
            " 190/3632 [>.............................] - ETA: 7s\n",
            " 214/3632 [>.............................] - ETA: 7s\n",
            " 240/3632 [>.............................] - ETA: 7s\n",
            " 261/3632 [=>............................] - ETA: 7s\n",
            " 288/3632 [=>............................] - ETA: 7s\n",
            " 310/3632 [=>............................] - ETA: 7s\n",
            " 332/3632 [=>............................] - ETA: 7s\n",
            " 356/3632 [=>............................] - ETA: 7s\n",
            " 379/3632 [==>...........................] - ETA: 6s\n",
            " 402/3632 [==>...........................] - ETA: 6s\n",
            " 430/3632 [==>...........................] - ETA: 6s\n",
            " 456/3632 [==>...........................] - ETA: 6s\n",
            " 483/3632 [==>...........................] - ETA: 6s\n",
            " 500/3632 [===>..........................] - ETA: 6s\n",
            " 525/3632 [===>..........................] - ETA: 6s\n",
            " 548/3632 [===>..........................] - ETA: 6s\n",
            " 569/3632 [===>..........................] - ETA: 6s\n",
            " 584/3632 [===>..........................] - ETA: 6s\n",
            " 605/3632 [===>..........................] - ETA: 6s\n",
            " 624/3632 [====>.........................] - ETA: 6s\n",
            " 649/3632 [====>.........................] - ETA: 6s\n",
            " 669/3632 [====>.........................] - ETA: 6s\n",
            " 688/3632 [====>.........................] - ETA: 6s\n",
            " 711/3632 [====>.........................] - ETA: 6s\n",
            " 736/3632 [=====>........................] - ETA: 6s\n",
            " 757/3632 [=====>........................] - ETA: 6s\n",
            " 779/3632 [=====>........................] - ETA: 6s\n",
            " 798/3632 [=====>........................] - ETA: 6s\n",
            " 813/3632 [=====>........................] - ETA: 6s\n",
            " 829/3632 [=====>........................] - ETA: 6s\n",
            " 843/3632 [=====>........................] - ETA: 6s\n",
            " 859/3632 [======>.......................] - ETA: 6s\n",
            " 875/3632 [======>.......................] - ETA: 6s\n",
            " 892/3632 [======>.......................] - ETA: 6s\n",
            " 908/3632 [======>.......................] - ETA: 6s\n",
            " 923/3632 [======>.......................] - ETA: 6s\n",
            " 940/3632 [======>.......................] - ETA: 6s\n",
            " 957/3632 [======>.......................] - ETA: 6s\n",
            " 970/3632 [=======>......................] - ETA: 6s\n",
            " 988/3632 [=======>......................] - ETA: 6s\n",
            "1006/3632 [=======>......................] - ETA: 6s\n",
            "1025/3632 [=======>......................] - ETA: 6s\n",
            "1045/3632 [=======>......................] - ETA: 6s\n",
            "1061/3632 [=======>......................] - ETA: 6s\n",
            "1074/3632 [=======>......................] - ETA: 6s\n",
            "1088/3632 [=======>......................] - ETA: 6s\n",
            "1105/3632 [========>.....................] - ETA: 6s\n",
            "1116/3632 [========>.....................] - ETA: 6s\n",
            "1132/3632 [========>.....................] - ETA: 6s\n",
            "1150/3632 [========>.....................] - ETA: 6s\n",
            "1165/3632 [========>.....................] - ETA: 6s\n",
            "1181/3632 [========>.....................] - ETA: 6s\n",
            "1201/3632 [========>.....................] - ETA: 6s\n",
            "1222/3632 [=========>....................] - ETA: 6s\n",
            "1243/3632 [=========>....................] - ETA: 6s\n",
            "1260/3632 [=========>....................] - ETA: 6s\n",
            "1278/3632 [=========>....................] - ETA: 6s\n",
            "1296/3632 [=========>....................] - ETA: 5s\n",
            "1313/3632 [=========>....................] - ETA: 5s\n",
            "1331/3632 [=========>....................] - ETA: 5s\n",
            "1343/3632 [==========>...................] - ETA: 5s\n",
            "1360/3632 [==========>...................] - ETA: 5s\n",
            "1375/3632 [==========>...................] - ETA: 5s\n",
            "1389/3632 [==========>...................] - ETA: 5s\n",
            "1403/3632 [==========>...................] - ETA: 5s\n",
            "1415/3632 [==========>...................] - ETA: 5s\n",
            "1430/3632 [==========>...................] - ETA: 5s\n",
            "1448/3632 [==========>...................] - ETA: 5s\n",
            "1463/3632 [===========>..................] - ETA: 5s\n",
            "1480/3632 [===========>..................] - ETA: 5s\n",
            "1497/3632 [===========>..................] - ETA: 5s\n",
            "1512/3632 [===========>..................] - ETA: 5s\n",
            "1529/3632 [===========>..................] - ETA: 5s\n",
            "1546/3632 [===========>..................] - ETA: 5s\n",
            "1563/3632 [===========>..................] - ETA: 5s\n",
            "1580/3632 [============>.................] - ETA: 5s\n",
            "1594/3632 [============>.................] - ETA: 5s\n",
            "1609/3632 [============>.................] - ETA: 5s\n",
            "1626/3632 [============>.................] - ETA: 5s\n",
            "1640/3632 [============>.................] - ETA: 5s\n",
            "1652/3632 [============>.................] - ETA: 5s\n",
            "1669/3632 [============>.................] - ETA: 5s\n",
            "1684/3632 [============>.................] - ETA: 5s\n",
            "1695/3632 [=============>................] - ETA: 5s\n",
            "1708/3632 [=============>................] - ETA: 5s\n",
            "1723/3632 [=============>................] - ETA: 5s\n",
            "1744/3632 [=============>................] - ETA: 5s\n",
            "1764/3632 [=============>................] - ETA: 5s\n",
            "1789/3632 [=============>................] - ETA: 5s\n",
            "1814/3632 [=============>................] - ETA: 4s\n",
            "1837/3632 [==============>...............] - ETA: 4s\n",
            "1857/3632 [==============>...............] - ETA: 4s\n",
            "1881/3632 [==============>...............] - ETA: 4s\n",
            "1908/3632 [==============>...............] - ETA: 4s\n",
            "1933/3632 [==============>...............] - ETA: 4s\n",
            "1960/3632 [===============>..............] - ETA: 4s\n",
            "1986/3632 [===============>..............] - ETA: 4s\n",
            "2009/3632 [===============>..............] - ETA: 4s\n",
            "2034/3632 [===============>..............] - ETA: 4s\n",
            "2055/3632 [===============>..............] - ETA: 4s\n",
            "2079/3632 [================>.............] - ETA: 4s\n",
            "2096/3632 [================>.............] - ETA: 4s\n",
            "2119/3632 [================>.............] - ETA: 4s\n",
            "2141/3632 [================>.............] - ETA: 3s\n",
            "2165/3632 [================>.............] - ETA: 3s\n",
            "2189/3632 [=================>............] - ETA: 3s\n",
            "2207/3632 [=================>............] - ETA: 3s\n",
            "2230/3632 [=================>............] - ETA: 3s\n",
            "2255/3632 [=================>............] - ETA: 3s\n",
            "2280/3632 [=================>............] - ETA: 3s\n",
            "2302/3632 [==================>...........] - ETA: 3s\n",
            "2325/3632 [==================>...........] - ETA: 3s\n",
            "2349/3632 [==================>...........] - ETA: 3s\n",
            "2373/3632 [==================>...........] - ETA: 3s\n",
            "2397/3632 [==================>...........] - ETA: 3s\n",
            "2419/3632 [==================>...........] - ETA: 3s\n",
            "2437/3632 [===================>..........] - ETA: 3s\n",
            "2456/3632 [===================>..........] - ETA: 3s\n",
            "2477/3632 [===================>..........] - ETA: 3s\n",
            "2497/3632 [===================>..........] - ETA: 2s\n",
            "2521/3632 [===================>..........] - ETA: 2s\n",
            "2544/3632 [====================>.........] - ETA: 2s\n",
            "2564/3632 [====================>.........] - ETA: 2s\n",
            "2585/3632 [====================>.........] - ETA: 2s\n",
            "2596/3632 [====================>.........] - ETA: 2s\n",
            "2613/3632 [====================>.........] - ETA: 2s\n",
            "2628/3632 [====================>.........] - ETA: 2s\n",
            "2645/3632 [====================>.........] - ETA: 2s\n",
            "2663/3632 [====================>.........] - ETA: 2s\n",
            "2680/3632 [=====================>........] - ETA: 2s\n",
            "2693/3632 [=====================>........] - ETA: 2s\n",
            "2711/3632 [=====================>........] - ETA: 2s\n",
            "2727/3632 [=====================>........] - ETA: 2s\n",
            "2746/3632 [=====================>........] - ETA: 2s\n",
            "2762/3632 [=====================>........] - ETA: 2s\n",
            "2778/3632 [=====================>........] - ETA: 2s\n",
            "2796/3632 [======================>.......] - ETA: 2s\n",
            "2813/3632 [======================>.......] - ETA: 2s\n",
            "2829/3632 [======================>.......] - ETA: 2s\n",
            "2843/3632 [======================>.......] - ETA: 2s\n",
            "2859/3632 [======================>.......] - ETA: 2s\n",
            "2873/3632 [======================>.......] - ETA: 2s\n",
            "2889/3632 [======================>.......] - ETA: 1s\n",
            "2903/3632 [======================>.......] - ETA: 1s\n",
            "2915/3632 [=======================>......] - ETA: 1s\n",
            "2924/3632 [=======================>......] - ETA: 1s\n",
            "2940/3632 [=======================>......] - ETA: 1s\n",
            "2961/3632 [=======================>......] - ETA: 1s\n",
            "2984/3632 [=======================>......] - ETA: 1s\n",
            "3001/3632 [=======================>......] - ETA: 1s\n",
            "3017/3632 [=======================>......] - ETA: 1s\n",
            "3035/3632 [========================>.....] - ETA: 1s\n",
            "3053/3632 [========================>.....] - ETA: 1s\n",
            "3069/3632 [========================>.....] - ETA: 1s\n",
            "3092/3632 [========================>.....] - ETA: 1s\n",
            "3117/3632 [========================>.....] - ETA: 1s\n",
            "3143/3632 [========================>.....] - ETA: 1s\n",
            "3166/3632 [=========================>....] - ETA: 1s\n",
            "3183/3632 [=========================>....] - ETA: 1s\n",
            "3196/3632 [=========================>....] - ETA: 1s\n",
            "3211/3632 [=========================>....] - ETA: 1s\n",
            "3230/3632 [=========================>....] - ETA: 1s\n",
            "3243/3632 [=========================>....] - ETA: 1s\n",
            "3268/3632 [=========================>....] - ETA: 0s\n",
            "3288/3632 [==========================>...] - ETA: 0s\n",
            "3300/3632 [==========================>...] - ETA: 0s\n",
            "3314/3632 [==========================>...] - ETA: 0s\n",
            "3332/3632 [==========================>...] - ETA: 0s\n",
            "3352/3632 [==========================>...] - ETA: 0s\n",
            "3375/3632 [==========================>...] - ETA: 0s\n",
            "3394/3632 [===========================>..] - ETA: 0s\n",
            "3415/3632 [===========================>..] - ETA: 0s\n",
            "3434/3632 [===========================>..] - ETA: 0s\n",
            "3457/3632 [===========================>..] - ETA: 0s\n",
            "3477/3632 [===========================>..] - ETA: 0s\n",
            "3495/3632 [===========================>..] - ETA: 0s\n",
            "3513/3632 [============================>.] - ETA: 0s\n",
            "3530/3632 [============================>.] - ETA: 0s\n",
            "3547/3632 [============================>.] - ETA: 0s\n",
            "3565/3632 [============================>.] - ETA: 0s\n",
            "3582/3632 [============================>.] - ETA: 0s\n",
            "3599/3632 [============================>.] - ETA: 0s\n",
            "3615/3632 [============================>.] - ETA: 0s\n",
            "3628/3632 [============================>.] - ETA: 0s\n",
            "3632/3632 [==============================] - 10s 3ms/step\n",
            "\n",
            "   1/3632 [..............................] - ETA: 3:15\n",
            "  33/3632 [..............................] - ETA: 5s  \n",
            "  59/3632 [..............................] - ETA: 6s\n",
            "  86/3632 [..............................] - ETA: 6s\n",
            " 115/3632 [..............................] - ETA: 6s\n",
            " 145/3632 [>.............................] - ETA: 6s\n",
            " 168/3632 [>.............................] - ETA: 6s\n",
            " 196/3632 [>.............................] - ETA: 6s\n",
            " 223/3632 [>.............................] - ETA: 6s\n",
            " 245/3632 [=>............................] - ETA: 6s\n",
            " 272/3632 [=>............................] - ETA: 6s\n",
            " 297/3632 [=>............................] - ETA: 6s\n",
            " 317/3632 [=>............................] - ETA: 6s\n",
            " 348/3632 [=>............................] - ETA: 6s\n",
            " 374/3632 [==>...........................] - ETA: 6s\n",
            " 396/3632 [==>...........................] - ETA: 6s\n",
            " 422/3632 [==>...........................] - ETA: 6s\n",
            " 451/3632 [==>...........................] - ETA: 6s\n",
            " 473/3632 [==>...........................] - ETA: 6s\n",
            " 500/3632 [===>..........................] - ETA: 6s\n",
            " 529/3632 [===>..........................] - ETA: 5s\n",
            " 558/3632 [===>..........................] - ETA: 5s\n",
            " 587/3632 [===>..........................] - ETA: 5s\n",
            " 612/3632 [====>.........................] - ETA: 5s\n",
            " 633/3632 [====>.........................] - ETA: 5s\n",
            " 658/3632 [====>.........................] - ETA: 5s\n",
            " 687/3632 [====>.........................] - ETA: 5s\n",
            " 716/3632 [====>.........................] - ETA: 5s\n",
            " 745/3632 [=====>........................] - ETA: 5s\n",
            " 774/3632 [=====>........................] - ETA: 5s\n",
            " 801/3632 [=====>........................] - ETA: 5s\n",
            " 825/3632 [=====>........................] - ETA: 5s\n",
            " 849/3632 [======>.......................] - ETA: 5s\n",
            " 873/3632 [======>.......................] - ETA: 5s\n",
            " 896/3632 [======>.......................] - ETA: 5s\n",
            " 918/3632 [======>.......................] - ETA: 5s\n",
            " 946/3632 [======>.......................] - ETA: 5s\n",
            " 975/3632 [=======>......................] - ETA: 5s\n",
            "1005/3632 [=======>......................] - ETA: 5s\n",
            "1033/3632 [=======>......................] - ETA: 4s\n",
            "1062/3632 [=======>......................] - ETA: 4s\n",
            "1091/3632 [========>.....................] - ETA: 4s\n",
            "1120/3632 [========>.....................] - ETA: 4s\n",
            "1150/3632 [========>.....................] - ETA: 4s\n",
            "1180/3632 [========>.....................] - ETA: 4s\n",
            "1209/3632 [========>.....................] - ETA: 4s\n",
            "1237/3632 [=========>....................] - ETA: 4s\n",
            "1266/3632 [=========>....................] - ETA: 4s\n",
            "1294/3632 [=========>....................] - ETA: 4s\n",
            "1323/3632 [=========>....................] - ETA: 4s\n",
            "1352/3632 [==========>...................] - ETA: 4s\n",
            "1379/3632 [==========>...................] - ETA: 4s\n",
            "1402/3632 [==========>...................] - ETA: 4s\n",
            "1427/3632 [==========>...................] - ETA: 4s\n",
            "1452/3632 [==========>...................] - ETA: 4s\n",
            "1476/3632 [===========>..................] - ETA: 4s\n",
            "1500/3632 [===========>..................] - ETA: 4s\n",
            "1523/3632 [===========>..................] - ETA: 4s\n",
            "1548/3632 [===========>..................] - ETA: 3s\n",
            "1574/3632 [============>.................] - ETA: 3s\n",
            "1604/3632 [============>.................] - ETA: 3s\n",
            "1634/3632 [============>.................] - ETA: 3s\n",
            "1662/3632 [============>.................] - ETA: 3s\n",
            "1689/3632 [============>.................] - ETA: 3s\n",
            "1716/3632 [=============>................] - ETA: 3s\n",
            "1744/3632 [=============>................] - ETA: 3s\n",
            "1772/3632 [=============>................] - ETA: 3s\n",
            "1797/3632 [=============>................] - ETA: 3s\n",
            "1825/3632 [==============>...............] - ETA: 3s\n",
            "1852/3632 [==============>...............] - ETA: 3s\n",
            "1879/3632 [==============>...............] - ETA: 3s\n",
            "1905/3632 [==============>...............] - ETA: 3s\n",
            "1929/3632 [==============>...............] - ETA: 3s\n",
            "1956/3632 [===============>..............] - ETA: 3s\n",
            "1981/3632 [===============>..............] - ETA: 3s\n",
            "1999/3632 [===============>..............] - ETA: 3s\n",
            "2018/3632 [===============>..............] - ETA: 3s\n",
            "2044/3632 [===============>..............] - ETA: 3s\n",
            "2070/3632 [================>.............] - ETA: 2s\n",
            "2097/3632 [================>.............] - ETA: 2s\n",
            "2125/3632 [================>.............] - ETA: 2s\n",
            "2152/3632 [================>.............] - ETA: 2s\n",
            "2180/3632 [=================>............] - ETA: 2s\n",
            "2207/3632 [=================>............] - ETA: 2s\n",
            "2235/3632 [=================>............] - ETA: 2s\n",
            "2262/3632 [=================>............] - ETA: 2s\n",
            "2290/3632 [=================>............] - ETA: 2s\n",
            "2315/3632 [==================>...........] - ETA: 2s\n",
            "2342/3632 [==================>...........] - ETA: 2s\n",
            "2368/3632 [==================>...........] - ETA: 2s\n",
            "2396/3632 [==================>...........] - ETA: 2s\n",
            "2424/3632 [===================>..........] - ETA: 2s\n",
            "2450/3632 [===================>..........] - ETA: 2s\n",
            "2477/3632 [===================>..........] - ETA: 2s\n",
            "2502/3632 [===================>..........] - ETA: 2s\n",
            "2527/3632 [===================>..........] - ETA: 2s\n",
            "2547/3632 [====================>.........] - ETA: 2s\n",
            "2573/3632 [====================>.........] - ETA: 2s\n",
            "2598/3632 [====================>.........] - ETA: 1s\n",
            "2625/3632 [====================>.........] - ETA: 1s\n",
            "2653/3632 [====================>.........] - ETA: 1s\n",
            "2680/3632 [=====================>........] - ETA: 1s\n",
            "2707/3632 [=====================>........] - ETA: 1s\n",
            "2734/3632 [=====================>........] - ETA: 1s\n",
            "2763/3632 [=====================>........] - ETA: 1s\n",
            "2792/3632 [======================>.......] - ETA: 1s\n",
            "2821/3632 [======================>.......] - ETA: 1s\n",
            "2848/3632 [======================>.......] - ETA: 1s\n",
            "2876/3632 [======================>.......] - ETA: 1s\n",
            "2906/3632 [=======================>......] - ETA: 1s\n",
            "2933/3632 [=======================>......] - ETA: 1s\n",
            "2960/3632 [=======================>......] - ETA: 1s\n",
            "2988/3632 [=======================>......] - ETA: 1s\n",
            "3017/3632 [=======================>......] - ETA: 1s\n",
            "3047/3632 [========================>.....] - ETA: 1s\n",
            "3074/3632 [========================>.....] - ETA: 1s\n",
            "3105/3632 [========================>.....] - ETA: 1s\n",
            "3129/3632 [========================>.....] - ETA: 0s\n",
            "3154/3632 [=========================>....] - ETA: 0s\n",
            "3184/3632 [=========================>....] - ETA: 0s\n",
            "3213/3632 [=========================>....] - ETA: 0s\n",
            "3242/3632 [=========================>....] - ETA: 0s\n",
            "3266/3632 [=========================>....] - ETA: 0s\n",
            "3290/3632 [==========================>...] - ETA: 0s\n",
            "3312/3632 [==========================>...] - ETA: 0s\n",
            "3339/3632 [==========================>...] - ETA: 0s\n",
            "3366/3632 [==========================>...] - ETA: 0s\n",
            "3388/3632 [==========================>...] - ETA: 0s\n",
            "3415/3632 [===========================>..] - ETA: 0s\n",
            "3438/3632 [===========================>..] - ETA: 0s\n",
            "3466/3632 [===========================>..] - ETA: 0s\n",
            "3495/3632 [===========================>..] - ETA: 0s\n",
            "3520/3632 [============================>.] - ETA: 0s\n",
            "3541/3632 [============================>.] - ETA: 0s\n",
            "3566/3632 [============================>.] - ETA: 0s\n",
            "3592/3632 [============================>.] - ETA: 0s\n",
            "3614/3632 [============================>.] - ETA: 0s\n",
            "3632/3632 [==============================] - 7s 2ms/step\n",
            "\n",
            "   1/3632 [..............................] - ETA: 3:03\n",
            "  32/3632 [..............................] - ETA: 5s  \n",
            "  64/3632 [..............................] - ETA: 5s\n",
            "  95/3632 [..............................] - ETA: 5s\n",
            " 126/3632 [>.............................] - ETA: 5s\n",
            " 155/3632 [>.............................] - ETA: 5s\n",
            " 184/3632 [>.............................] - ETA: 5s\n",
            " 214/3632 [>.............................] - ETA: 5s\n",
            " 244/3632 [=>............................] - ETA: 5s\n",
            " 272/3632 [=>............................] - ETA: 5s\n",
            " 295/3632 [=>............................] - ETA: 5s\n",
            " 320/3632 [=>............................] - ETA: 5s\n",
            " 342/3632 [=>............................] - ETA: 5s\n",
            " 364/3632 [==>...........................] - ETA: 5s\n",
            " 380/3632 [==>...........................] - ETA: 6s\n",
            " 403/3632 [==>...........................] - ETA: 6s\n",
            " 425/3632 [==>...........................] - ETA: 6s\n",
            " 446/3632 [==>...........................] - ETA: 6s\n",
            " 466/3632 [==>...........................] - ETA: 6s\n",
            " 491/3632 [===>..........................] - ETA: 6s\n",
            " 512/3632 [===>..........................] - ETA: 6s\n",
            " 533/3632 [===>..........................] - ETA: 6s\n",
            " 563/3632 [===>..........................] - ETA: 6s\n",
            " 586/3632 [===>..........................] - ETA: 6s\n",
            " 613/3632 [====>.........................] - ETA: 6s\n",
            " 641/3632 [====>.........................] - ETA: 5s\n",
            " 668/3632 [====>.........................] - ETA: 5s\n",
            " 691/3632 [====>.........................] - ETA: 5s\n",
            " 715/3632 [====>.........................] - ETA: 5s\n",
            " 740/3632 [=====>........................] - ETA: 5s\n",
            " 766/3632 [=====>........................] - ETA: 5s\n",
            " 791/3632 [=====>........................] - ETA: 5s\n",
            " 816/3632 [=====>........................] - ETA: 5s\n",
            " 843/3632 [=====>........................] - ETA: 5s\n",
            " 865/3632 [======>.......................] - ETA: 5s\n",
            " 883/3632 [======>.......................] - ETA: 5s\n",
            " 908/3632 [======>.......................] - ETA: 5s\n",
            " 929/3632 [======>.......................] - ETA: 5s\n",
            " 957/3632 [======>.......................] - ETA: 5s\n",
            " 984/3632 [=======>......................] - ETA: 5s\n",
            "1012/3632 [=======>......................] - ETA: 5s\n",
            "1040/3632 [=======>......................] - ETA: 5s\n",
            "1068/3632 [=======>......................] - ETA: 5s\n",
            "1095/3632 [========>.....................] - ETA: 5s\n",
            "1123/3632 [========>.....................] - ETA: 5s\n",
            "1149/3632 [========>.....................] - ETA: 4s\n",
            "1174/3632 [========>.....................] - ETA: 4s\n",
            "1201/3632 [========>.....................] - ETA: 4s\n",
            "1229/3632 [=========>....................] - ETA: 4s\n",
            "1253/3632 [=========>....................] - ETA: 4s\n",
            "1279/3632 [=========>....................] - ETA: 4s\n",
            "1306/3632 [=========>....................] - ETA: 4s\n",
            "1331/3632 [=========>....................] - ETA: 4s\n",
            "1359/3632 [==========>...................] - ETA: 4s\n",
            "1380/3632 [==========>...................] - ETA: 4s\n",
            "1396/3632 [==========>...................] - ETA: 4s\n",
            "1422/3632 [==========>...................] - ETA: 4s\n",
            "1448/3632 [==========>...................] - ETA: 4s\n",
            "1471/3632 [===========>..................] - ETA: 4s\n",
            "1492/3632 [===========>..................] - ETA: 4s\n",
            "1514/3632 [===========>..................] - ETA: 4s\n",
            "1539/3632 [===========>..................] - ETA: 4s\n",
            "1563/3632 [===========>..................] - ETA: 4s\n",
            "1592/3632 [============>.................] - ETA: 4s\n",
            "1620/3632 [============>.................] - ETA: 4s\n",
            "1648/3632 [============>.................] - ETA: 3s\n",
            "1676/3632 [============>.................] - ETA: 3s\n",
            "1705/3632 [=============>................] - ETA: 3s\n",
            "1731/3632 [=============>................] - ETA: 3s\n",
            "1757/3632 [=============>................] - ETA: 3s\n",
            "1778/3632 [=============>................] - ETA: 3s\n",
            "1806/3632 [=============>................] - ETA: 3s\n",
            "1832/3632 [==============>...............] - ETA: 3s\n",
            "1858/3632 [==============>...............] - ETA: 3s\n",
            "1878/3632 [==============>...............] - ETA: 3s\n",
            "1900/3632 [==============>...............] - ETA: 3s\n",
            "1919/3632 [==============>...............] - ETA: 3s\n",
            "1939/3632 [===============>..............] - ETA: 3s\n",
            "1965/3632 [===============>..............] - ETA: 3s\n",
            "1989/3632 [===============>..............] - ETA: 3s\n",
            "2014/3632 [===============>..............] - ETA: 3s\n",
            "2043/3632 [===============>..............] - ETA: 3s\n",
            "2072/3632 [================>.............] - ETA: 3s\n",
            "2095/3632 [================>.............] - ETA: 3s\n",
            "2120/3632 [================>.............] - ETA: 3s\n",
            "2146/3632 [================>.............] - ETA: 2s\n",
            "2175/3632 [================>.............] - ETA: 2s\n",
            "2201/3632 [=================>............] - ETA: 2s\n",
            "2226/3632 [=================>............] - ETA: 2s\n",
            "2254/3632 [=================>............] - ETA: 2s\n",
            "2283/3632 [=================>............] - ETA: 2s\n",
            "2311/3632 [==================>...........] - ETA: 2s\n",
            "2339/3632 [==================>...........] - ETA: 2s\n",
            "2362/3632 [==================>...........] - ETA: 2s\n",
            "2389/3632 [==================>...........] - ETA: 2s\n",
            "2417/3632 [==================>...........] - ETA: 2s\n",
            "2443/3632 [===================>..........] - ETA: 2s\n",
            "2463/3632 [===================>..........] - ETA: 2s\n",
            "2488/3632 [===================>..........] - ETA: 2s\n",
            "2515/3632 [===================>..........] - ETA: 2s\n",
            "2542/3632 [===================>..........] - ETA: 2s\n",
            "2568/3632 [====================>.........] - ETA: 2s\n",
            "2595/3632 [====================>.........] - ETA: 2s\n",
            "2622/3632 [====================>.........] - ETA: 2s\n",
            "2646/3632 [====================>.........] - ETA: 1s\n",
            "2666/3632 [=====================>........] - ETA: 1s\n",
            "2686/3632 [=====================>........] - ETA: 1s\n",
            "2713/3632 [=====================>........] - ETA: 1s\n",
            "2736/3632 [=====================>........] - ETA: 1s\n",
            "2760/3632 [=====================>........] - ETA: 1s\n",
            "2778/3632 [=====================>........] - ETA: 1s\n",
            "2798/3632 [======================>.......] - ETA: 1s\n",
            "2820/3632 [======================>.......] - ETA: 1s\n",
            "2838/3632 [======================>.......] - ETA: 1s\n",
            "2863/3632 [======================>.......] - ETA: 1s\n",
            "2890/3632 [======================>.......] - ETA: 1s\n",
            "2917/3632 [=======================>......] - ETA: 1s\n",
            "2944/3632 [=======================>......] - ETA: 1s\n",
            "2967/3632 [=======================>......] - ETA: 1s\n",
            "2990/3632 [=======================>......] - ETA: 1s\n",
            "3018/3632 [=======================>......] - ETA: 1s\n",
            "3043/3632 [========================>.....] - ETA: 1s\n",
            "3073/3632 [========================>.....] - ETA: 1s\n",
            "3104/3632 [========================>.....] - ETA: 1s\n",
            "3134/3632 [========================>.....] - ETA: 1s\n",
            "3165/3632 [=========================>....] - ETA: 0s\n",
            "3193/3632 [=========================>....] - ETA: 0s\n",
            "3221/3632 [=========================>....] - ETA: 0s\n",
            "3244/3632 [=========================>....] - ETA: 0s\n",
            "3261/3632 [=========================>....] - ETA: 0s\n",
            "3282/3632 [==========================>...] - ETA: 0s\n",
            "3308/3632 [==========================>...] - ETA: 0s\n",
            "3330/3632 [==========================>...] - ETA: 0s\n",
            "3343/3632 [==========================>...] - ETA: 0s\n",
            "3364/3632 [==========================>...] - ETA: 0s\n",
            "3392/3632 [===========================>..] - ETA: 0s\n",
            "3414/3632 [===========================>..] - ETA: 0s\n",
            "3441/3632 [===========================>..] - ETA: 0s\n",
            "3465/3632 [===========================>..] - ETA: 0s\n",
            "3483/3632 [===========================>..] - ETA: 0s\n",
            "3507/3632 [===========================>..] - ETA: 0s\n",
            "3531/3632 [============================>.] - ETA: 0s\n",
            "3553/3632 [============================>.] - ETA: 0s\n",
            "3575/3632 [============================>.] - ETA: 0s\n",
            "3600/3632 [============================>.] - ETA: 0s\n",
            "3624/3632 [============================>.] - ETA: 0s\n",
            "3632/3632 [==============================] - 7s 2ms/step\n",
            "\n",
            "   1/3632 [..............................] - ETA: 3:49\n",
            "  27/3632 [..............................] - ETA: 7s  \n",
            "  53/3632 [..............................] - ETA: 7s\n",
            "  79/3632 [..............................] - ETA: 6s\n",
            " 105/3632 [..............................] - ETA: 6s\n",
            " 131/3632 [>.............................] - ETA: 6s\n",
            " 159/3632 [>.............................] - ETA: 6s\n",
            " 186/3632 [>.............................] - ETA: 6s\n",
            " 213/3632 [>.............................] - ETA: 6s\n",
            " 239/3632 [>.............................] - ETA: 6s\n",
            " 267/3632 [=>............................] - ETA: 6s\n",
            " 289/3632 [=>............................] - ETA: 6s\n",
            " 311/3632 [=>............................] - ETA: 6s\n",
            " 334/3632 [=>............................] - ETA: 6s\n",
            " 361/3632 [=>............................] - ETA: 6s\n",
            " 390/3632 [==>...........................] - ETA: 6s\n",
            " 420/3632 [==>...........................] - ETA: 6s\n",
            " 448/3632 [==>...........................] - ETA: 6s\n",
            " 465/3632 [==>...........................] - ETA: 6s\n",
            " 492/3632 [===>..........................] - ETA: 6s\n",
            " 515/3632 [===>..........................] - ETA: 6s\n",
            " 540/3632 [===>..........................] - ETA: 6s\n",
            " 567/3632 [===>..........................] - ETA: 6s\n",
            " 591/3632 [===>..........................] - ETA: 6s\n",
            " 615/3632 [====>.........................] - ETA: 6s\n",
            " 634/3632 [====>.........................] - ETA: 6s\n",
            " 658/3632 [====>.........................] - ETA: 5s\n",
            " 682/3632 [====>.........................] - ETA: 5s\n",
            " 707/3632 [====>.........................] - ETA: 5s\n",
            " 735/3632 [=====>........................] - ETA: 5s\n",
            " 761/3632 [=====>........................] - ETA: 5s\n",
            " 786/3632 [=====>........................] - ETA: 5s\n",
            " 810/3632 [=====>........................] - ETA: 5s\n",
            " 836/3632 [=====>........................] - ETA: 5s\n",
            " 859/3632 [======>.......................] - ETA: 5s\n",
            " 884/3632 [======>.......................] - ETA: 5s\n",
            " 909/3632 [======>.......................] - ETA: 5s\n",
            " 930/3632 [======>.......................] - ETA: 5s\n",
            " 954/3632 [======>.......................] - ETA: 5s\n",
            " 980/3632 [=======>......................] - ETA: 5s\n",
            "1005/3632 [=======>......................] - ETA: 5s\n",
            "1023/3632 [=======>......................] - ETA: 5s\n",
            "1048/3632 [=======>......................] - ETA: 5s\n",
            "1076/3632 [=======>......................] - ETA: 5s\n",
            "1106/3632 [========>.....................] - ETA: 5s\n",
            "1132/3632 [========>.....................] - ETA: 5s\n",
            "1158/3632 [========>.....................] - ETA: 5s\n",
            "1182/3632 [========>.....................] - ETA: 4s\n",
            "1206/3632 [========>.....................] - ETA: 4s\n",
            "1232/3632 [=========>....................] - ETA: 4s\n",
            "1259/3632 [=========>....................] - ETA: 4s\n",
            "1284/3632 [=========>....................] - ETA: 4s\n",
            "1315/3632 [=========>....................] - ETA: 4s\n",
            "1342/3632 [==========>...................] - ETA: 4s\n",
            "1368/3632 [==========>...................] - ETA: 4s\n",
            "1395/3632 [==========>...................] - ETA: 4s\n",
            "1421/3632 [==========>...................] - ETA: 4s\n",
            "1448/3632 [==========>...................] - ETA: 4s\n",
            "1474/3632 [===========>..................] - ETA: 4s\n",
            "1494/3632 [===========>..................] - ETA: 4s\n",
            "1517/3632 [===========>..................] - ETA: 4s\n",
            "1538/3632 [===========>..................] - ETA: 4s\n",
            "1555/3632 [===========>..................] - ETA: 4s\n",
            "1582/3632 [============>.................] - ETA: 4s\n",
            "1610/3632 [============>.................] - ETA: 4s\n",
            "1639/3632 [============>.................] - ETA: 4s\n",
            "1667/3632 [============>.................] - ETA: 3s\n",
            "1693/3632 [============>.................] - ETA: 3s\n",
            "1717/3632 [=============>................] - ETA: 3s\n",
            "1741/3632 [=============>................] - ETA: 3s\n",
            "1769/3632 [=============>................] - ETA: 3s\n",
            "1796/3632 [=============>................] - ETA: 3s\n",
            "1824/3632 [==============>...............] - ETA: 3s\n",
            "1852/3632 [==============>...............] - ETA: 3s\n",
            "1879/3632 [==============>...............] - ETA: 3s\n",
            "1906/3632 [==============>...............] - ETA: 3s\n",
            "1929/3632 [==============>...............] - ETA: 3s\n",
            "1955/3632 [===============>..............] - ETA: 3s\n",
            "1980/3632 [===============>..............] - ETA: 3s\n",
            "2005/3632 [===============>..............] - ETA: 3s\n",
            "2029/3632 [===============>..............] - ETA: 3s\n",
            "2054/3632 [===============>..............] - ETA: 3s\n",
            "2074/3632 [================>.............] - ETA: 3s\n",
            "2093/3632 [================>.............] - ETA: 3s\n",
            "2119/3632 [================>.............] - ETA: 3s\n",
            "2145/3632 [================>.............] - ETA: 3s\n",
            "2171/3632 [================>.............] - ETA: 2s\n",
            "2193/3632 [=================>............] - ETA: 2s\n",
            "2218/3632 [=================>............] - ETA: 2s\n",
            "2241/3632 [=================>............] - ETA: 2s\n",
            "2267/3632 [=================>............] - ETA: 2s\n",
            "2295/3632 [=================>............] - ETA: 2s\n",
            "2324/3632 [==================>...........] - ETA: 2s\n",
            "2350/3632 [==================>...........] - ETA: 2s\n",
            "2378/3632 [==================>...........] - ETA: 2s\n",
            "2406/3632 [==================>...........] - ETA: 2s\n",
            "2430/3632 [===================>..........] - ETA: 2s\n",
            "2457/3632 [===================>..........] - ETA: 2s\n",
            "2484/3632 [===================>..........] - ETA: 2s\n",
            "2512/3632 [===================>..........] - ETA: 2s\n",
            "2540/3632 [===================>..........] - ETA: 2s\n",
            "2566/3632 [====================>.........] - ETA: 2s\n",
            "2592/3632 [====================>.........] - ETA: 2s\n",
            "2612/3632 [====================>.........] - ETA: 2s\n",
            "2631/3632 [====================>.........] - ETA: 2s\n",
            "2651/3632 [====================>.........] - ETA: 1s\n",
            "2674/3632 [=====================>........] - ETA: 1s\n",
            "2698/3632 [=====================>........] - ETA: 1s\n",
            "2722/3632 [=====================>........] - ETA: 1s\n",
            "2746/3632 [=====================>........] - ETA: 1s\n",
            "2770/3632 [=====================>........] - ETA: 1s\n",
            "2795/3632 [======================>.......] - ETA: 1s\n",
            "2820/3632 [======================>.......] - ETA: 1s\n",
            "2843/3632 [======================>.......] - ETA: 1s\n",
            "2869/3632 [======================>.......] - ETA: 1s\n",
            "2890/3632 [======================>.......] - ETA: 1s\n",
            "2914/3632 [=======================>......] - ETA: 1s\n",
            "2938/3632 [=======================>......] - ETA: 1s\n",
            "2963/3632 [=======================>......] - ETA: 1s\n",
            "2989/3632 [=======================>......] - ETA: 1s\n",
            "3015/3632 [=======================>......] - ETA: 1s\n",
            "3040/3632 [========================>.....] - ETA: 1s\n",
            "3066/3632 [========================>.....] - ETA: 1s\n",
            "3092/3632 [========================>.....] - ETA: 1s\n",
            "3112/3632 [========================>.....] - ETA: 1s\n",
            "3136/3632 [========================>.....] - ETA: 1s\n",
            "3161/3632 [=========================>....] - ETA: 0s\n",
            "3175/3632 [=========================>....] - ETA: 0s\n",
            "3193/3632 [=========================>....] - ETA: 0s\n",
            "3211/3632 [=========================>....] - ETA: 0s\n",
            "3235/3632 [=========================>....] - ETA: 0s\n",
            "3259/3632 [=========================>....] - ETA: 0s\n",
            "3286/3632 [==========================>...] - ETA: 0s\n",
            "3312/3632 [==========================>...] - ETA: 0s\n",
            "3337/3632 [==========================>...] - ETA: 0s\n",
            "3361/3632 [==========================>...] - ETA: 0s\n",
            "3388/3632 [==========================>...] - ETA: 0s\n",
            "3415/3632 [===========================>..] - ETA: 0s\n",
            "3441/3632 [===========================>..] - ETA: 0s\n",
            "3467/3632 [===========================>..] - ETA: 0s\n",
            "3493/3632 [===========================>..] - ETA: 0s\n",
            "3519/3632 [============================>.] - ETA: 0s\n",
            "3542/3632 [============================>.] - ETA: 0s\n",
            "3563/3632 [============================>.] - ETA: 0s\n",
            "3584/3632 [============================>.] - ETA: 0s\n",
            "3609/3632 [============================>.] - ETA: 0s\n",
            "3632/3632 [==============================] - 8s 2ms/step\n",
            "\n",
            "100%|██████████| 10/10 [10:53<00:00, 65.39s/trial, best loss: -0.7980775237083435]\n",
            "Mejores parámetros encontrados:\n",
            " {'batch_size': 2, 'lr': 0.0066527462730310155, 'n_units': 49.0, 'optimizer': 0}\n",
            "Mejor pérdida encontrada:\n",
            "-0.7980775237083435\n",
            "Mejor F1 Score encontrado:\n",
            "0.7946055159917402\n",
            "Mejor Recall encontrado:\n",
            "0.798077502302006\n"
          ]
        }
      ],
      "source": [
        "space = {\n",
        "    'n_units': hp.quniform('n_units', 10, 50, 1),\n",
        "    'optimizer': hp.choice('optimizer', ['Adam', 'SGD', 'RMSprop']),\n",
        "    'lr': hp.loguniform('lr', np.log(1e-5), np.log(1e-1)),\n",
        "    'batch_size': hp.choice('batch_size', [16, 32, 64, 128, 256]),\n",
        "}\n",
        "\n",
        "trials = Trials()\n",
        "\n",
        "# Tree-Structured Parzen Estimator (TPE)\n",
        "best_tpe = fmin(objective_neural_network, space, algo=tpe.suggest, max_evals=10, trials=trials)\n",
        "\n",
        "print('Mejores parámetros encontrados:\\n', best_tpe)\n",
        "\n",
        "print(\"Mejor pérdida encontrada:\")\n",
        "print(trials.best_trial['result']['loss'])\n",
        "\n",
        "print(\"Mejor F1 Score encontrado:\")\n",
        "print(trials.best_trial['result']['other_stuff']['f1_score'])\n",
        "\n",
        "print(\"Mejor Recall encontrado:\")\n",
        "print(trials.best_trial['result']['other_stuff']['recall'])"
      ]
    },
    {
      "cell_type": "code",
      "execution_count": null,
      "metadata": {
        "colab": {
          "base_uri": "https://localhost:8080/"
        },
        "id": "UaLH0IkzCrC3",
        "outputId": "ce29471e-f9da-48ce-c935-192c7b885531"
      },
      "outputs": [
        {
          "name": "stdout",
          "output_type": "stream",
          "text": [
            "100%|██████████| 10/10 [00:00<?, ?trial/s, best loss=?]\n",
            "Mejores parámetros encontrados:\n",
            " {'batch_size': 2, 'lr': 0.0066527462730310155, 'n_units': 49.0, 'optimizer': 0}\n",
            "Mejor pérdida encontrada:\n",
            "-0.7980775237083435\n",
            "Mejor F1 Score encontrado:\n",
            "0.7946055159917402\n",
            "Mejor Recall encontrado:\n",
            "0.798077502302006\n"
          ]
        }
      ],
      "source": [
        "# Random Search\n",
        "best_random = fmin(objective_neural_network, space, algo=rand.suggest, max_evals=10, trials=trials)\n",
        "\n",
        "print('Mejores parámetros encontrados:\\n', best_random)\n",
        "\n",
        "print(\"Mejor pérdida encontrada:\")\n",
        "print(trials.best_trial['result']['loss'])\n",
        "\n",
        "print(\"Mejor F1 Score encontrado:\")\n",
        "print(trials.best_trial['result']['other_stuff']['f1_score'])\n",
        "\n",
        "print(\"Mejor Recall encontrado:\")\n",
        "print(trials.best_trial['result']['other_stuff']['recall'])"
      ]
    },
    {
      "cell_type": "code",
      "execution_count": null,
      "metadata": {
        "colab": {
          "base_uri": "https://localhost:8080/"
        },
        "id": "eqUb0yjtCrTi",
        "outputId": "f1cc2c0b-0e2f-4ff1-8d97-94b9b2ffbf6c"
      },
      "outputs": [
        {
          "name": "stdout",
          "output_type": "stream",
          "text": [
            "100%|██████████| 10/10 [00:00<?, ?trial/s, best loss=?]\n",
            "Mejores parámetros encontrados:\n",
            " {'batch_size': 2, 'lr': 0.0066527462730310155, 'n_units': 49.0, 'optimizer': 0}\n",
            "Mejor pérdida encontrada:\n",
            "-0.7980775237083435\n",
            "Mejor F1 Score encontrado:\n",
            "0.7946055159917402\n",
            "Mejor Recall encontrado:\n",
            "0.798077502302006\n"
          ]
        }
      ],
      "source": [
        "# Adaptative Tree-Structured Parzen Estimator (ATPE)\n",
        "best_atpe = fmin(objective_neural_network, space, algo=atpe.suggest, max_evals=10, trials=trials)\n",
        "\n",
        "print('Mejores parámetros encontrados:\\n', best_atpe)\n",
        "print(\"Mejor pérdida encontrada:\")\n",
        "print(trials.best_trial['result']['loss'])\n",
        "\n",
        "print(\"Mejor F1 Score encontrado:\")\n",
        "print(trials.best_trial['result']['other_stuff']['f1_score'])\n",
        "\n",
        "print(\"Mejor Recall encontrado:\")\n",
        "print(trials.best_trial['result']['other_stuff']['recall'])"
      ]
    },
    {
      "cell_type": "markdown",
      "metadata": {
        "id": "-o-6HhoH-dbi"
      },
      "source": [
        "KNN"
      ]
    },
    {
      "cell_type": "code",
      "execution_count": null,
      "metadata": {
        "id": "eTfzEydM-eY9"
      },
      "outputs": [],
      "source": [
        "def objective_knn(params):\n",
        "    # Recogiendo los parámetros\n",
        "    n_neighbors = int(params['n_neighbors'])\n",
        "    p = int(params['p'])\n",
        "\n",
        "    # Construyendo el modelo\n",
        "    model = KNeighborsClassifier(n_neighbors=n_neighbors, p=p)\n",
        "\n",
        "    # Entrenando el modelo\n",
        "    model.fit(X_train_cover, y_train_cover)\n",
        "\n",
        "    # Evaluando el modelo\n",
        "    accuracy = model.score(X_test_cover, y_test_cover)\n",
        "\n",
        "    # Calculando otras métricas\n",
        "    y_pred = model.predict(X_test_cover)\n",
        "    f1 = f1_score(y_test_cover, y_pred, average='weighted')\n",
        "    recall = recall_score(y_test_cover, y_pred, average='weighted')\n",
        "\n",
        "    return {\n",
        "        'loss': -accuracy,\n",
        "        'status': STATUS_OK,\n",
        "        'eval_time': time.time(),\n",
        "        'other_stuff': {\n",
        "            'f1_score': f1,\n",
        "            'recall': recall,\n",
        "        },\n",
        "    }"
      ]
    },
    {
      "cell_type": "code",
      "execution_count": null,
      "metadata": {
        "colab": {
          "base_uri": "https://localhost:8080/"
        },
        "id": "8Jwuszjk-f2I",
        "outputId": "48012efe-5fd5-40e7-ca4f-2d27fea411e0"
      },
      "outputs": [
        {
          "output_type": "stream",
          "name": "stdout",
          "text": [
            "100%|██████████| 10/10 [8:48:44<00:00, 3172.47s/trial, best loss: -0.909632281438517]\n",
            "Mejores parámetros encontrados:\n",
            " {'n_neighbors': 8.0, 'p': 0}\n",
            "Mejor pérdida encontrada:\n",
            "-0.909632281438517\n",
            "Mejor F1 Score encontrado:\n",
            "0.927049516522276\n",
            "Mejor Recall encontrado:\n",
            "0.909632281438517\n"
          ]
        }
      ],
      "source": [
        "space = {\n",
        "    'n_neighbors': hp.quniform('n_neighbors', 1, 10, 2),\n",
        "    'p': hp.choice('p', [1, 2]),\n",
        "}\n",
        "\n",
        "trials = Trials()\n",
        "\n",
        "# Tree-Structured Parzen Estimator (TPE)\n",
        "best_tpe = fmin(objective_knn, space, algo=tpe.suggest, max_evals=10, trials=trials)\n",
        "\n",
        "print('Mejores parámetros encontrados:\\n', best_tpe)\n",
        "\n",
        "print(\"Mejor pérdida encontrada:\")\n",
        "print(trials.best_trial['result']['loss'])\n",
        "\n",
        "print(\"Mejor F1 Score encontrado:\")\n",
        "print(trials.best_trial['result']['other_stuff']['f1_score'])\n",
        "\n",
        "print(\"Mejor Recall encontrado:\")\n",
        "print(trials.best_trial['result']['other_stuff']['recall'])"
      ]
    },
    {
      "cell_type": "code",
      "execution_count": null,
      "metadata": {
        "id": "_s0cNyPz-l6q",
        "colab": {
          "base_uri": "https://localhost:8080/"
        },
        "outputId": "0b84427a-a13b-4db1-824e-9ccee9e9c06c"
      },
      "outputs": [
        {
          "output_type": "stream",
          "name": "stdout",
          "text": [
            "100%|██████████| 10/10 [00:00<?, ?trial/s, best loss=?]\n",
            "Mejores parámetros encontrados:\n",
            " {'n_neighbors': 8.0, 'p': 0}\n",
            "Mejor pérdida encontrada:\n",
            "-0.909632281438517\n",
            "Mejor F1 Score encontrado:\n",
            "0.927049516522276\n",
            "Mejor Recall encontrado:\n",
            "0.909632281438517\n"
          ]
        }
      ],
      "source": [
        "# Random Search\n",
        "best_random = fmin(objective_knn, space, algo=rand.suggest, max_evals=10, trials=trials)\n",
        "\n",
        "print('Mejores parámetros encontrados:\\n', best_random)\n",
        "\n",
        "print(\"Mejor pérdida encontrada:\")\n",
        "print(trials.best_trial['result']['loss'])\n",
        "\n",
        "print(\"Mejor F1 Score encontrado:\")\n",
        "print(trials.best_trial['result']['other_stuff']['f1_score'])\n",
        "\n",
        "print(\"Mejor Recall encontrado:\")\n",
        "print(trials.best_trial['result']['other_stuff']['recall'])"
      ]
    },
    {
      "cell_type": "code",
      "execution_count": null,
      "metadata": {
        "id": "L2TrUHtZ-pMJ",
        "colab": {
          "base_uri": "https://localhost:8080/"
        },
        "outputId": "9ca77cd9-5712-4bae-edc6-2281034a9033"
      },
      "outputs": [
        {
          "output_type": "stream",
          "name": "stdout",
          "text": [
            "100%|██████████| 10/10 [00:00<?, ?trial/s, best loss=?]\n",
            "Mejores parámetros encontrados:\n",
            " {'n_neighbors': 8.0, 'p': 0}\n",
            "Mejor pérdida encontrada:\n",
            "-0.909632281438517\n",
            "Mejor F1 Score encontrado:\n",
            "0.927049516522276\n",
            "Mejor Recall encontrado:\n",
            "0.909632281438517\n"
          ]
        }
      ],
      "source": [
        "# Adaptative Tree-Structured Parzen Estimator (ATPE)\n",
        "best_atpe = fmin(objective_knn, space, algo=atpe.suggest, max_evals=10, trials=trials)\n",
        "\n",
        "print('Mejores parámetros encontrados:\\n', best_atpe)\n",
        "print(\"Mejor pérdida encontrada:\")\n",
        "print(trials.best_trial['result']['loss'])\n",
        "\n",
        "print(\"Mejor F1 Score encontrado:\")\n",
        "print(trials.best_trial['result']['other_stuff']['f1_score'])\n",
        "\n",
        "print(\"Mejor Recall encontrado:\")\n",
        "print(trials.best_trial['result']['other_stuff']['recall'])"
      ]
    },
    {
      "cell_type": "markdown",
      "metadata": {
        "id": "EtnrBfWv-tqP"
      },
      "source": [
        "Random Forest"
      ]
    },
    {
      "cell_type": "code",
      "execution_count": null,
      "metadata": {
        "id": "SvbwfE8Z-v_d"
      },
      "outputs": [],
      "source": [
        "from sklearn.ensemble import RandomForestClassifier\n",
        "\n",
        "def objective_random_forest(params):\n",
        "    # Recogiendo los parámetros\n",
        "    n_estimators = int(params['n_estimators'])\n",
        "    max_depth = int(params['max_depth']) if params['max_depth'] else None\n",
        "    min_samples_split = int(params['min_samples_split'])\n",
        "    min_samples_leaf = int(params['min_samples_leaf'])\n",
        "\n",
        "    # Construyendo el modelo\n",
        "    model = RandomForestClassifier(\n",
        "        n_estimators=n_estimators,\n",
        "        max_depth=max_depth,\n",
        "        min_samples_split=min_samples_split,\n",
        "        min_samples_leaf=min_samples_leaf,\n",
        "        n_jobs=-1\n",
        "    )\n",
        "\n",
        "    # Entrenando el modelo\n",
        "    model.fit(X_train_cover, y_train_cover)\n",
        "\n",
        "    # Evaluando el modelo\n",
        "    accuracy = model.score(X_test_cover, y_test_cover)\n",
        "\n",
        "    # Calculando otras métricas\n",
        "    y_pred = model.predict(X_test_cover)\n",
        "    f1 = f1_score(y_test_cover, y_pred, average='weighted')\n",
        "    recall = recall_score(y_test_cover, y_pred, average='weighted')\n",
        "\n",
        "    return {\n",
        "        'loss': -accuracy,\n",
        "        'status': STATUS_OK,\n",
        "        'eval_time': time.time(),\n",
        "        'other_stuff': {\n",
        "            'f1_score': f1,\n",
        "            'recall': recall,\n",
        "        },\n",
        "    }"
      ]
    },
    {
      "cell_type": "code",
      "execution_count": null,
      "metadata": {
        "id": "ZNx7gT6d-yEm",
        "colab": {
          "base_uri": "https://localhost:8080/"
        },
        "outputId": "a6e13863-883e-4f86-e85d-d26e4f1cc1dc"
      },
      "outputs": [
        {
          "output_type": "stream",
          "name": "stdout",
          "text": [
            "100%|██████████| 10/10 [15:33<00:00, 93.37s/trial, best loss: -0.8463550854969321]\n",
            "Mejores parámetros encontrados:\n",
            " {'max_depth': 6, 'min_samples_leaf': 4.0, 'min_samples_split': 3.0, 'n_estimators': 10.0}\n",
            "Mejor pérdida encontrada:\n",
            "-0.8463550854969321\n",
            "Mejor F1 Score encontrado:\n",
            "0.8537651986147897\n",
            "Mejor Recall encontrado:\n",
            "0.8463550854969321\n"
          ]
        }
      ],
      "source": [
        "space = {\n",
        "    'n_estimators': hp.quniform('n_estimators', 10, 50, 10),\n",
        "    'max_depth': hp.choice('max_depth', list(range(2, 16, 2))),\n",
        "    'min_samples_split': hp.quniform('min_samples_split', 2, 6, 1),\n",
        "    'min_samples_leaf': hp.quniform('min_samples_leaf', 1, 5, 1)\n",
        "}\n",
        "\n",
        "trials = Trials()\n",
        "\n",
        "# Tree-Structured Parzen Estimator (TPE)\n",
        "best_tpe = fmin(objective_random_forest, space, algo=tpe.suggest, max_evals=10, trials=trials)\n",
        "\n",
        "print('Mejores parámetros encontrados:\\n', best_tpe)\n",
        "\n",
        "print(\"Mejor pérdida encontrada:\")\n",
        "print(trials.best_trial['result']['loss'])\n",
        "\n",
        "print(\"Mejor F1 Score encontrado:\")\n",
        "print(trials.best_trial['result']['other_stuff']['f1_score'])\n",
        "\n",
        "print(\"Mejor Recall encontrado:\")\n",
        "print(trials.best_trial['result']['other_stuff']['recall'])"
      ]
    },
    {
      "cell_type": "code",
      "execution_count": null,
      "metadata": {
        "id": "-P811qkd-yYx",
        "colab": {
          "base_uri": "https://localhost:8080/"
        },
        "outputId": "1eaca0bc-4628-4ef0-e8a6-3c4b835f990e"
      },
      "outputs": [
        {
          "output_type": "stream",
          "name": "stdout",
          "text": [
            "100%|██████████| 10/10 [00:00<?, ?trial/s, best loss=?]\n",
            "Mejores parámetros encontrados:\n",
            " {'max_depth': 6, 'min_samples_leaf': 4.0, 'min_samples_split': 3.0, 'n_estimators': 10.0}\n",
            "Mejor pérdida encontrada:\n",
            "-0.8463550854969321\n",
            "Mejor F1 Score encontrado:\n",
            "0.8537651986147897\n",
            "Mejor Recall encontrado:\n",
            "0.8463550854969321\n"
          ]
        }
      ],
      "source": [
        "# Random Search\n",
        "best_random = fmin(objective_random_forest, space, algo=rand.suggest, max_evals=10, trials=trials)\n",
        "\n",
        "print('Mejores parámetros encontrados:\\n', best_random)\n",
        "\n",
        "print(\"Mejor pérdida encontrada:\")\n",
        "print(trials.best_trial['result']['loss'])\n",
        "\n",
        "print(\"Mejor F1 Score encontrado:\")\n",
        "print(trials.best_trial['result']['other_stuff']['f1_score'])\n",
        "\n",
        "print(\"Mejor Recall encontrado:\")\n",
        "print(trials.best_trial['result']['other_stuff']['recall'])"
      ]
    },
    {
      "cell_type": "code",
      "execution_count": null,
      "metadata": {
        "id": "fdTOVyvB-zlu",
        "colab": {
          "base_uri": "https://localhost:8080/"
        },
        "outputId": "725fff8c-3427-4b43-ed1b-890529c93847"
      },
      "outputs": [
        {
          "output_type": "stream",
          "name": "stdout",
          "text": [
            "100%|██████████| 10/10 [00:00<?, ?trial/s, best loss=?]\n",
            "Mejores parámetros encontrados:\n",
            " {'max_depth': 6, 'min_samples_leaf': 4.0, 'min_samples_split': 3.0, 'n_estimators': 10.0}\n",
            "Mejor pérdida encontrada:\n",
            "-0.8463550854969321\n",
            "Mejor F1 Score encontrado:\n",
            "0.8537651986147897\n",
            "Mejor Recall encontrado:\n",
            "0.8463550854969321\n"
          ]
        }
      ],
      "source": [
        "# Adaptative Tree-Structured Parzen Estimator (ATPE)\n",
        "best_atpe = fmin(objective_random_forest, space, algo=atpe.suggest, max_evals=10, trials=trials)\n",
        "\n",
        "print('Mejores parámetros encontrados:\\n', best_atpe)\n",
        "print(\"Mejor pérdida encontrada:\")\n",
        "print(trials.best_trial['result']['loss'])\n",
        "\n",
        "print(\"Mejor F1 Score encontrado:\")\n",
        "print(trials.best_trial['result']['other_stuff']['f1_score'])\n",
        "\n",
        "print(\"Mejor Recall encontrado:\")\n",
        "print(trials.best_trial['result']['other_stuff']['recall'])"
      ]
    },
    {
      "cell_type": "markdown",
      "metadata": {
        "id": "UEPjCOyjPQLy"
      },
      "source": [
        "**Adult Dataset**"
      ]
    },
    {
      "cell_type": "markdown",
      "metadata": {
        "id": "iOXwPd1_AZMg"
      },
      "source": [
        "Neural Network"
      ]
    },
    {
      "cell_type": "code",
      "execution_count": null,
      "metadata": {
        "id": "C2FK_0_LPRCm"
      },
      "outputs": [],
      "source": [
        "def objective_neural_network(params):\n",
        "    # Recogiendo los parámetros\n",
        "    n_units = int(params['n_units'])\n",
        "    optimizer_name = params['optimizer']\n",
        "    lr = params['lr']\n",
        "    batch_size = params['batch_size']\n",
        "\n",
        "    # Construyendo el modelo\n",
        "    model = Sequential()\n",
        "    model.add(Dense(n_units, input_dim=X_train_adult.shape[1], activation='relu'))\n",
        "    model.add(Dense(1, activation='sigmoid'))  # Salida binaria\n",
        "\n",
        "    # Escogiendo el optimizador\n",
        "    if optimizer_name == 'Adam':\n",
        "        optimizer = Adam(learning_rate=lr)\n",
        "    elif optimizer_name == 'SGD':\n",
        "        optimizer = SGD(learning_rate=lr)\n",
        "    elif optimizer_name == 'RMSprop':\n",
        "        optimizer = RMSprop(learning_rate=lr)\n",
        "\n",
        "    # Compilando el modelo\n",
        "    model.compile(optimizer=optimizer, loss='binary_crossentropy', metrics=['accuracy'])  # Pérdida binaria\n",
        "\n",
        "    # Entrenando el modelo\n",
        "    model.fit(X_train_adult, y_train_adult, epochs=3, batch_size=batch_size, verbose=0)\n",
        "\n",
        "    # Evaluando el modelo\n",
        "    loss, accuracy = model.evaluate(X_test_adult, y_test_adult, verbose=0)\n",
        "\n",
        "    # Calculando otras métricas\n",
        "    y_pred = (model.predict(X_test_adult) > 0.5).astype(\"int32\")\n",
        "    f1 = f1_score(y_test_adult, y_pred, average='weighted')\n",
        "    recall = recall_score(y_test_adult, y_pred, average='weighted')\n",
        "\n",
        "    return {\n",
        "        'loss': -accuracy,\n",
        "        'status': STATUS_OK,\n",
        "        'eval_time': time.time(),\n",
        "        'other_stuff': {\n",
        "            'f1_score': f1,\n",
        "            'recall': recall,\n",
        "        },\n",
        "    }"
      ]
    },
    {
      "cell_type": "code",
      "execution_count": null,
      "metadata": {
        "id": "5BooTyo8_rKi",
        "colab": {
          "base_uri": "https://localhost:8080/"
        },
        "outputId": "cf0baf56-6f49-414a-b076-7b86d8af69d5"
      },
      "outputs": [
        {
          "output_type": "stream",
          "name": "stdout",
          "text": [
            "  1/306 [..............................] - ETA: 22s\n",
            " 34/306 [==>...........................] - ETA: 0s \n",
            " 70/306 [=====>........................] - ETA: 0s\n",
            "109/306 [=========>....................] - ETA: 0s\n",
            "139/306 [============>.................] - ETA: 0s\n",
            "170/306 [===============>..............] - ETA: 0s\n",
            "210/306 [===================>..........] - ETA: 0s\n",
            "248/306 [=======================>......] - ETA: 0s\n",
            "288/306 [===========================>..] - ETA: 0s\n",
            "306/306 [==============================] - 1s 1ms/step\n",
            "\n",
            "  1/306 [..............................] - ETA: 14s\n",
            " 36/306 [==>...........................] - ETA: 0s \n",
            " 76/306 [======>.......................] - ETA: 0s\n",
            "114/306 [==========>...................] - ETA: 0s\n",
            "152/306 [=============>................] - ETA: 0s\n",
            "189/306 [=================>............] - ETA: 0s\n",
            "226/306 [=====================>........] - ETA: 0s\n",
            "264/306 [========================>.....] - ETA: 0s\n",
            "301/306 [============================>.] - ETA: 0s\n",
            "306/306 [==============================] - 0s 1ms/step\n",
            "\n",
            "  1/306 [..............................] - ETA: 14s\n",
            " 39/306 [==>...........................] - ETA: 0s \n",
            " 71/306 [=====>........................] - ETA: 0s\n",
            "109/306 [=========>....................] - ETA: 0s\n",
            "146/306 [=============>................] - ETA: 0s\n",
            "184/306 [=================>............] - ETA: 0s\n",
            "226/306 [=====================>........] - ETA: 0s\n",
            "262/306 [========================>.....] - ETA: 0s\n",
            "303/306 [============================>.] - ETA: 0s\n",
            "306/306 [==============================] - 0s 1ms/step\n",
            "\n",
            "  1/306 [..............................] - ETA: 21s\n",
            " 25/306 [=>............................] - ETA: 0s \n",
            " 49/306 [===>..........................] - ETA: 0s\n",
            " 75/306 [======>.......................] - ETA: 0s\n",
            "100/306 [========>.....................] - ETA: 0s\n",
            "125/306 [===========>..................] - ETA: 0s\n",
            "148/306 [=============>................] - ETA: 0s\n",
            "176/306 [================>.............] - ETA: 0s\n",
            "204/306 [===================>..........] - ETA: 0s\n",
            "233/306 [=====================>........] - ETA: 0s\n",
            "261/306 [========================>.....] - ETA: 0s\n",
            "286/306 [===========================>..] - ETA: 0s\n",
            "306/306 [==============================] - 1s 2ms/step\n",
            "\n",
            "  1/306 [..............................] - ETA: 15s\n",
            " 33/306 [==>...........................] - ETA: 0s \n",
            " 73/306 [======>.......................] - ETA: 0s\n",
            "112/306 [=========>....................] - ETA: 0s\n",
            "152/306 [=============>................] - ETA: 0s\n",
            "186/306 [=================>............] - ETA: 0s\n",
            "216/306 [====================>.........] - ETA: 0s\n",
            "251/306 [=======================>......] - ETA: 0s\n",
            "286/306 [===========================>..] - ETA: 0s\n",
            "306/306 [==============================] - 0s 1ms/step\n",
            "\n",
            "  1/306 [..............................] - ETA: 14s\n",
            " 38/306 [==>...........................] - ETA: 0s \n",
            " 75/306 [======>.......................] - ETA: 0s\n",
            "112/306 [=========>....................] - ETA: 0s\n",
            "147/306 [=============>................] - ETA: 0s\n",
            "177/306 [================>.............] - ETA: 0s\n",
            "216/306 [====================>.........] - ETA: 0s\n",
            "253/306 [=======================>......] - ETA: 0s\n",
            "292/306 [===========================>..] - ETA: 0s\n",
            "306/306 [==============================] - 0s 1ms/step\n",
            "\n",
            "  1/306 [..............................] - ETA: 20s\n",
            " 29/306 [=>............................] - ETA: 0s \n",
            " 55/306 [====>.........................] - ETA: 0s\n",
            " 78/306 [======>.......................] - ETA: 0s\n",
            "103/306 [=========>....................] - ETA: 0s\n",
            "130/306 [===========>..................] - ETA: 0s\n",
            "159/306 [==============>...............] - ETA: 0s\n",
            "185/306 [=================>............] - ETA: 0s\n",
            "213/306 [===================>..........] - ETA: 0s\n",
            "242/306 [======================>.......] - ETA: 0s\n",
            "271/306 [=========================>....] - ETA: 0s\n",
            "299/306 [============================>.] - ETA: 0s\n",
            "306/306 [==============================] - 1s 2ms/step\n",
            "\n",
            "  1/306 [..............................] - ETA: 13s\n",
            " 36/306 [==>...........................] - ETA: 0s \n",
            " 78/306 [======>.......................] - ETA: 0s\n",
            "110/306 [=========>....................] - ETA: 0s\n",
            "149/306 [=============>................] - ETA: 0s\n",
            "180/306 [================>.............] - ETA: 0s\n",
            "216/306 [====================>.........] - ETA: 0s\n",
            "254/306 [=======================>......] - ETA: 0s\n",
            "293/306 [===========================>..] - ETA: 0s\n",
            "306/306 [==============================] - 0s 1ms/step\n",
            "\n",
            "  1/306 [..............................] - ETA: 14s\n",
            " 36/306 [==>...........................] - ETA: 0s \n",
            " 75/306 [======>.......................] - ETA: 0s\n",
            "114/306 [==========>...................] - ETA: 0s\n",
            "152/306 [=============>................] - ETA: 0s\n",
            "181/306 [================>.............] - ETA: 0s\n",
            "220/306 [====================>.........] - ETA: 0s\n",
            "256/306 [========================>.....] - ETA: 0s\n",
            "293/306 [===========================>..] - ETA: 0s\n",
            "306/306 [==============================] - 0s 1ms/step\n",
            "\n",
            "  1/306 [..............................] - ETA: 14s\n",
            " 41/306 [===>..........................] - ETA: 0s \n",
            " 84/306 [=======>......................] - ETA: 0s\n",
            "123/306 [===========>..................] - ETA: 0s\n",
            "160/306 [==============>...............] - ETA: 0s\n",
            "194/306 [==================>...........] - ETA: 0s\n",
            "234/306 [=====================>........] - ETA: 0s\n",
            "271/306 [=========================>....] - ETA: 0s\n",
            "306/306 [==============================] - 0s 1ms/step\n",
            "\n",
            "100%|██████████| 10/10 [00:46<00:00,  4.62s/trial, best loss: -0.8613982796669006]\n",
            "Mejores parámetros encontrados:\n",
            " {'batch_size': 3, 'lr': 0.02430350093738091, 'n_units': 11.0, 'optimizer': 0}\n",
            "Mejor pérdida encontrada:\n",
            "-0.8613982796669006\n",
            "Mejor F1 Score encontrado:\n",
            "0.8561542634958361\n",
            "Mejor Recall encontrado:\n",
            "0.8613983007472618\n"
          ]
        }
      ],
      "source": [
        "space = {\n",
        "    'n_units': hp.quniform('n_units', 10, 50, 1),\n",
        "    'optimizer': hp.choice('optimizer', ['Adam', 'SGD', 'RMSprop']),\n",
        "    'lr': hp.loguniform('lr', np.log(1e-5), np.log(1e-1)),\n",
        "    'batch_size': hp.choice('batch_size', [16, 32, 64, 128, 256]),\n",
        "}\n",
        "\n",
        "trials = Trials()\n",
        "\n",
        "# Tree-Structured Parzen Estimator (TPE)\n",
        "best_tpe = fmin(objective_neural_network, space, algo=tpe.suggest, max_evals=10, trials=trials)\n",
        "\n",
        "print('Mejores parámetros encontrados:\\n', best_tpe)\n",
        "\n",
        "print(\"Mejor pérdida encontrada:\")\n",
        "print(trials.best_trial['result']['loss'])\n",
        "\n",
        "print(\"Mejor F1 Score encontrado:\")\n",
        "print(trials.best_trial['result']['other_stuff']['f1_score'])\n",
        "\n",
        "print(\"Mejor Recall encontrado:\")\n",
        "print(trials.best_trial['result']['other_stuff']['recall'])"
      ]
    },
    {
      "cell_type": "code",
      "execution_count": null,
      "metadata": {
        "id": "_bmNvE6A_uoi",
        "colab": {
          "base_uri": "https://localhost:8080/"
        },
        "outputId": "423ae03a-97f6-4580-8bd0-53fe1a1d96db"
      },
      "outputs": [
        {
          "output_type": "stream",
          "name": "stdout",
          "text": [
            "100%|██████████| 10/10 [00:00<?, ?trial/s, best loss=?]\n",
            "Mejores parámetros encontrados:\n",
            " {'batch_size': 3, 'lr': 0.02430350093738091, 'n_units': 11.0, 'optimizer': 0}\n",
            "Mejor pérdida encontrada:\n",
            "-0.8613982796669006\n",
            "Mejor F1 Score encontrado:\n",
            "0.8561542634958361\n",
            "Mejor Recall encontrado:\n",
            "0.8613983007472618\n"
          ]
        }
      ],
      "source": [
        "# Random Search\n",
        "best_random = fmin(objective_neural_network, space, algo=rand.suggest, max_evals=10, trials=trials)\n",
        "\n",
        "print('Mejores parámetros encontrados:\\n', best_random)\n",
        "\n",
        "print(\"Mejor pérdida encontrada:\")\n",
        "print(trials.best_trial['result']['loss'])\n",
        "\n",
        "print(\"Mejor F1 Score encontrado:\")\n",
        "print(trials.best_trial['result']['other_stuff']['f1_score'])\n",
        "\n",
        "print(\"Mejor Recall encontrado:\")\n",
        "print(trials.best_trial['result']['other_stuff']['recall'])"
      ]
    },
    {
      "cell_type": "code",
      "execution_count": null,
      "metadata": {
        "id": "gx4bDiCV_u0R",
        "colab": {
          "base_uri": "https://localhost:8080/"
        },
        "outputId": "191a1057-36bb-4a84-f15b-acd0fd9a2438"
      },
      "outputs": [
        {
          "output_type": "stream",
          "name": "stdout",
          "text": [
            "100%|██████████| 10/10 [00:00<?, ?trial/s, best loss=?]\n",
            "Mejores parámetros encontrados:\n",
            " {'batch_size': 3, 'lr': 0.02430350093738091, 'n_units': 11.0, 'optimizer': 0}\n",
            "Mejor pérdida encontrada:\n",
            "-0.8613982796669006\n",
            "Mejor F1 Score encontrado:\n",
            "0.8561542634958361\n",
            "Mejor Recall encontrado:\n",
            "0.8613983007472618\n"
          ]
        }
      ],
      "source": [
        "# Adaptative Tree-Structured Parzen Estimator (ATPE)\n",
        "best_atpe = fmin(objective_neural_network, space, algo=atpe.suggest, max_evals=10, trials=trials)\n",
        "\n",
        "print('Mejores parámetros encontrados:\\n', best_atpe)\n",
        "print(\"Mejor pérdida encontrada:\")\n",
        "print(trials.best_trial['result']['loss'])\n",
        "\n",
        "print(\"Mejor F1 Score encontrado:\")\n",
        "print(trials.best_trial['result']['other_stuff']['f1_score'])\n",
        "\n",
        "print(\"Mejor Recall encontrado:\")\n",
        "print(trials.best_trial['result']['other_stuff']['recall'])"
      ]
    },
    {
      "cell_type": "markdown",
      "metadata": {
        "id": "-G4oKAhbA7uA"
      },
      "source": [
        "KNN"
      ]
    },
    {
      "cell_type": "code",
      "execution_count": null,
      "metadata": {
        "id": "RuWfw1T5A7uG"
      },
      "outputs": [],
      "source": [
        "def objective_knn(params):\n",
        "    # Recogiendo los parámetros\n",
        "    n_neighbors = int(params['n_neighbors'])\n",
        "    p = int(params['p'])\n",
        "\n",
        "    # Construyendo el modelo\n",
        "    model = KNeighborsClassifier(n_neighbors=n_neighbors, p=p)\n",
        "\n",
        "    # Entrenando el modelo\n",
        "    model.fit(X_train_adult, y_train_adult)\n",
        "\n",
        "    # Evaluando el modelo\n",
        "    accuracy = model.score(X_test_adult, y_test_adult)\n",
        "\n",
        "    # Calculando otras métricas\n",
        "    y_pred = model.predict(X_test_adult)\n",
        "    f1 = f1_score(y_test_adult, y_pred, average='weighted')\n",
        "    recall = recall_score(y_test_adult, y_pred, average='weighted')\n",
        "\n",
        "    return {\n",
        "        'loss': -accuracy,\n",
        "        'status': STATUS_OK,\n",
        "        'eval_time': time.time(),\n",
        "        'other_stuff': {\n",
        "            'f1_score': f1,\n",
        "            'recall': recall,\n",
        "        },\n",
        "    }"
      ]
    },
    {
      "cell_type": "code",
      "execution_count": null,
      "metadata": {
        "id": "VHZk_iD5A7uG",
        "colab": {
          "base_uri": "https://localhost:8080/"
        },
        "outputId": "69372e3c-baab-4f2d-a9c2-f979b44e0c47"
      },
      "outputs": [
        {
          "output_type": "stream",
          "name": "stdout",
          "text": [
            "100%|██████████| 10/10 [08:00<00:00, 48.04s/trial, best loss: -0.8452246903470161]\n",
            "Mejores parámetros encontrados:\n",
            " {'n_neighbors': 10.0, 'p': 1}\n",
            "Mejor pérdida encontrada:\n",
            "-0.8452246903470161\n",
            "Mejor F1 Score encontrado:\n",
            "0.8390845609435944\n",
            "Mejor Recall encontrado:\n",
            "0.8452246903470161\n"
          ]
        }
      ],
      "source": [
        "space = {\n",
        "    'n_neighbors': hp.quniform('n_neighbors', 1, 10, 2),\n",
        "    'p': hp.choice('p', [1, 2]),\n",
        "}\n",
        "\n",
        "trials = Trials()\n",
        "\n",
        "# Tree-Structured Parzen Estimator (TPE)\n",
        "best_tpe = fmin(objective_knn, space, algo=tpe.suggest, max_evals=10, trials=trials)\n",
        "\n",
        "print('Mejores parámetros encontrados:\\n', best_tpe)\n",
        "\n",
        "print(\"Mejor pérdida encontrada:\")\n",
        "print(trials.best_trial['result']['loss'])\n",
        "\n",
        "print(\"Mejor F1 Score encontrado:\")\n",
        "print(trials.best_trial['result']['other_stuff']['f1_score'])\n",
        "\n",
        "print(\"Mejor Recall encontrado:\")\n",
        "print(trials.best_trial['result']['other_stuff']['recall'])"
      ]
    },
    {
      "cell_type": "code",
      "execution_count": null,
      "metadata": {
        "id": "eqiwr83mA7uH",
        "colab": {
          "base_uri": "https://localhost:8080/"
        },
        "outputId": "dd6ec487-0325-404d-830d-b25c6a88f6e6"
      },
      "outputs": [
        {
          "output_type": "stream",
          "name": "stdout",
          "text": [
            "100%|██████████| 10/10 [00:00<?, ?trial/s, best loss=?]\n",
            "Mejores parámetros encontrados:\n",
            " {'n_neighbors': 10.0, 'p': 1}\n",
            "Mejor pérdida encontrada:\n",
            "-0.8452246903470161\n",
            "Mejor F1 Score encontrado:\n",
            "0.8390845609435944\n",
            "Mejor Recall encontrado:\n",
            "0.8452246903470161\n"
          ]
        }
      ],
      "source": [
        "# Random Search\n",
        "best_random = fmin(objective_knn, space, algo=rand.suggest, max_evals=10, trials=trials)\n",
        "\n",
        "print('Mejores parámetros encontrados:\\n', best_random)\n",
        "\n",
        "print(\"Mejor pérdida encontrada:\")\n",
        "print(trials.best_trial['result']['loss'])\n",
        "\n",
        "print(\"Mejor F1 Score encontrado:\")\n",
        "print(trials.best_trial['result']['other_stuff']['f1_score'])\n",
        "\n",
        "print(\"Mejor Recall encontrado:\")\n",
        "print(trials.best_trial['result']['other_stuff']['recall'])"
      ]
    },
    {
      "cell_type": "code",
      "execution_count": null,
      "metadata": {
        "id": "KeAWsxppA7uH",
        "colab": {
          "base_uri": "https://localhost:8080/"
        },
        "outputId": "77e96e53-a585-4d90-84a9-b67d45f231eb"
      },
      "outputs": [
        {
          "output_type": "stream",
          "name": "stdout",
          "text": [
            "100%|██████████| 10/10 [00:00<?, ?trial/s, best loss=?]\n",
            "Mejores parámetros encontrados:\n",
            " {'n_neighbors': 10.0, 'p': 1}\n",
            "Mejor pérdida encontrada:\n",
            "-0.8452246903470161\n",
            "Mejor F1 Score encontrado:\n",
            "0.8390845609435944\n",
            "Mejor Recall encontrado:\n",
            "0.8452246903470161\n"
          ]
        }
      ],
      "source": [
        "# Adaptative Tree-Structured Parzen Estimator (ATPE)\n",
        "best_atpe = fmin(objective_knn, space, algo=atpe.suggest, max_evals=10, trials=trials)\n",
        "\n",
        "print('Mejores parámetros encontrados:\\n', best_atpe)\n",
        "print(\"Mejor pérdida encontrada:\")\n",
        "print(trials.best_trial['result']['loss'])\n",
        "\n",
        "print(\"Mejor F1 Score encontrado:\")\n",
        "print(trials.best_trial['result']['other_stuff']['f1_score'])\n",
        "\n",
        "print(\"Mejor Recall encontrado:\")\n",
        "print(trials.best_trial['result']['other_stuff']['recall'])"
      ]
    },
    {
      "cell_type": "markdown",
      "metadata": {
        "id": "c3R4AHTbA7uH"
      },
      "source": [
        "Random Forest"
      ]
    },
    {
      "cell_type": "code",
      "execution_count": null,
      "metadata": {
        "id": "I_dCXOdnA7uH"
      },
      "outputs": [],
      "source": [
        "from sklearn.ensemble import RandomForestClassifier\n",
        "\n",
        "def objective_random_forest(params):\n",
        "    # Recogiendo los parámetros\n",
        "    n_estimators = int(params['n_estimators'])\n",
        "    max_depth = int(params['max_depth']) if params['max_depth'] else None\n",
        "    min_samples_split = int(params['min_samples_split'])\n",
        "    min_samples_leaf = int(params['min_samples_leaf'])\n",
        "\n",
        "    # Construyendo el modelo\n",
        "    model = RandomForestClassifier(\n",
        "        n_estimators=n_estimators,\n",
        "        max_depth=max_depth,\n",
        "        min_samples_split=min_samples_split,\n",
        "        min_samples_leaf=min_samples_leaf,\n",
        "        n_jobs=-1\n",
        "    )\n",
        "\n",
        "    # Entrenando el modelo\n",
        "    model.fit(X_train_adult, y_train_adult)\n",
        "\n",
        "    # Evaluando el modelo\n",
        "    accuracy = model.score(X_test_adult, y_test_adult)\n",
        "\n",
        "    # Calculando otras métricas\n",
        "    y_pred = model.predict(X_test_adult)\n",
        "    f1 = f1_score(y_test_adult, y_pred, average='weighted')\n",
        "    recall = recall_score(y_test_adult, y_pred, average='weighted')\n",
        "\n",
        "    return {\n",
        "        'loss': -accuracy,\n",
        "        'status': STATUS_OK,\n",
        "        'eval_time': time.time(),\n",
        "        'other_stuff': {\n",
        "            'f1_score': f1,\n",
        "            'recall': recall,\n",
        "        },\n",
        "    }"
      ]
    },
    {
      "cell_type": "code",
      "execution_count": null,
      "metadata": {
        "id": "1AGE1KjrA7uH",
        "colab": {
          "base_uri": "https://localhost:8080/"
        },
        "outputId": "36decb1a-36d2-46fb-e065-2e9d32bee7c9"
      },
      "outputs": [
        {
          "output_type": "stream",
          "name": "stdout",
          "text": [
            "100%|██████████| 10/10 [00:09<00:00,  1.08trial/s, best loss: -0.8649810625447846]\n",
            "Mejores parámetros encontrados:\n",
            " {'max_depth': 6, 'min_samples_leaf': 2.0, 'min_samples_split': 3.0, 'n_estimators': 40.0}\n",
            "Mejor pérdida encontrada:\n",
            "-0.8649810625447846\n",
            "Mejor F1 Score encontrado:\n",
            "0.8570826950000942\n",
            "Mejor Recall encontrado:\n",
            "0.8649810625447846\n"
          ]
        }
      ],
      "source": [
        "space = {\n",
        "    'n_estimators': hp.quniform('n_estimators', 10, 50, 10),\n",
        "    'max_depth': hp.choice('max_depth', list(range(2, 16, 2))),\n",
        "    'min_samples_split': hp.quniform('min_samples_split', 2, 6, 1),\n",
        "    'min_samples_leaf': hp.quniform('min_samples_leaf', 1, 5, 1)\n",
        "}\n",
        "\n",
        "trials = Trials()\n",
        "\n",
        "# Tree-Structured Parzen Estimator (TPE)\n",
        "best_tpe = fmin(objective_random_forest, space, algo=tpe.suggest, max_evals=10, trials=trials)\n",
        "\n",
        "print('Mejores parámetros encontrados:\\n', best_tpe)\n",
        "\n",
        "print(\"Mejor pérdida encontrada:\")\n",
        "print(trials.best_trial['result']['loss'])\n",
        "\n",
        "print(\"Mejor F1 Score encontrado:\")\n",
        "print(trials.best_trial['result']['other_stuff']['f1_score'])\n",
        "\n",
        "print(\"Mejor Recall encontrado:\")\n",
        "print(trials.best_trial['result']['other_stuff']['recall'])"
      ]
    },
    {
      "cell_type": "code",
      "execution_count": null,
      "metadata": {
        "id": "1T0JUmnkA7uH",
        "colab": {
          "base_uri": "https://localhost:8080/"
        },
        "outputId": "cc55249a-c2a6-4a02-8a3d-d6dbf6560bec"
      },
      "outputs": [
        {
          "output_type": "stream",
          "name": "stdout",
          "text": [
            "100%|██████████| 10/10 [00:00<?, ?trial/s, best loss=?]\n",
            "Mejores parámetros encontrados:\n",
            " {'max_depth': 6, 'min_samples_leaf': 2.0, 'min_samples_split': 3.0, 'n_estimators': 40.0}\n",
            "Mejor pérdida encontrada:\n",
            "-0.8649810625447846\n",
            "Mejor F1 Score encontrado:\n",
            "0.8570826950000942\n",
            "Mejor Recall encontrado:\n",
            "0.8649810625447846\n"
          ]
        }
      ],
      "source": [
        "# Random Search\n",
        "best_random = fmin(objective_random_forest, space, algo=rand.suggest, max_evals=10, trials=trials)\n",
        "\n",
        "print('Mejores parámetros encontrados:\\n', best_random)\n",
        "\n",
        "print(\"Mejor pérdida encontrada:\")\n",
        "print(trials.best_trial['result']['loss'])\n",
        "\n",
        "print(\"Mejor F1 Score encontrado:\")\n",
        "print(trials.best_trial['result']['other_stuff']['f1_score'])\n",
        "\n",
        "print(\"Mejor Recall encontrado:\")\n",
        "print(trials.best_trial['result']['other_stuff']['recall'])"
      ]
    },
    {
      "cell_type": "code",
      "execution_count": null,
      "metadata": {
        "id": "0wn5VDe1A7uH",
        "colab": {
          "base_uri": "https://localhost:8080/"
        },
        "outputId": "84ee8862-6e4b-4a2b-d94f-ac704498b9c6"
      },
      "outputs": [
        {
          "output_type": "stream",
          "name": "stdout",
          "text": [
            "100%|██████████| 10/10 [00:00<?, ?trial/s, best loss=?]\n",
            "Mejores parámetros encontrados:\n",
            " {'max_depth': 6, 'min_samples_leaf': 2.0, 'min_samples_split': 3.0, 'n_estimators': 40.0}\n",
            "Mejor pérdida encontrada:\n",
            "-0.8649810625447846\n",
            "Mejor F1 Score encontrado:\n",
            "0.8570826950000942\n",
            "Mejor Recall encontrado:\n",
            "0.8649810625447846\n"
          ]
        }
      ],
      "source": [
        "# Adaptative Tree-Structured Parzen Estimator (ATPE)\n",
        "best_atpe = fmin(objective_random_forest, space, algo=atpe.suggest, max_evals=10, trials=trials)\n",
        "\n",
        "print('Mejores parámetros encontrados:\\n', best_atpe)\n",
        "print(\"Mejor pérdida encontrada:\")\n",
        "print(trials.best_trial['result']['loss'])\n",
        "\n",
        "print(\"Mejor F1 Score encontrado:\")\n",
        "print(trials.best_trial['result']['other_stuff']['f1_score'])\n",
        "\n",
        "print(\"Mejor Recall encontrado:\")\n",
        "print(trials.best_trial['result']['other_stuff']['recall'])"
      ]
    },
    {
      "cell_type": "markdown",
      "metadata": {
        "id": "WUifaxQt-ArJ"
      },
      "source": [
        "**Bank Marketing Dataset**"
      ]
    },
    {
      "cell_type": "markdown",
      "metadata": {
        "id": "l5IgK1GDBLkU"
      },
      "source": [
        "Neural Network"
      ]
    },
    {
      "cell_type": "code",
      "execution_count": null,
      "metadata": {
        "id": "REF2iqwa-ArP"
      },
      "outputs": [],
      "source": [
        "def objective_neural_network(params):\n",
        "    # Recogiendo los parámetros\n",
        "    n_units = int(params['n_units'])\n",
        "    optimizer_name = params['optimizer']\n",
        "    lr = params['lr']\n",
        "    batch_size = params['batch_size']\n",
        "\n",
        "    # Construyendo el modelo\n",
        "    model = Sequential()\n",
        "    model.add(Dense(n_units, input_dim=X_train_bank.shape[1], activation='relu'))\n",
        "    model.add(Dense(1, activation='sigmoid'))  # Se utiliza una capa de salida de un nodo con activación sigmoide para clasificación binaria\n",
        "\n",
        "    # Escogiendo el optimizador\n",
        "    if optimizer_name == 'Adam':\n",
        "        optimizer = Adam(learning_rate=lr)\n",
        "    elif optimizer_name == 'SGD':\n",
        "        optimizer = SGD(learning_rate=lr)\n",
        "    elif optimizer_name == 'RMSprop':\n",
        "        optimizer = RMSprop(learning_rate=lr)\n",
        "\n",
        "    # Compilando el modelo\n",
        "    model.compile(optimizer=optimizer, loss='binary_crossentropy', metrics=['accuracy'])  # Se utiliza la entropía cruzada binaria para la clasificación binaria\n",
        "\n",
        "    # Entrenando el modelo\n",
        "    model.fit(X_train_bank, y_train_bank, epochs=3, batch_size=batch_size, verbose=0)\n",
        "\n",
        "    # Evaluando el modelo\n",
        "    loss, accuracy = model.evaluate(X_test_bank, y_test_bank, verbose=0)\n",
        "\n",
        "    # Calculando otras métricas\n",
        "    y_pred = model.predict(X_test_bank).round()  # Redondeamos las predicciones ya que obtenemos probabilidades para la clasificación binaria\n",
        "    f1 = f1_score(y_test_bank, y_pred, average='weighted')\n",
        "    recall = recall_score(y_test_bank, y_pred, average='weighted')\n",
        "\n",
        "    return {\n",
        "        'loss': -accuracy,\n",
        "        'status': STATUS_OK,\n",
        "        'eval_time': time.time(),\n",
        "        'other_stuff': {\n",
        "            'f1_score': f1,\n",
        "            'recall': recall,\n",
        "        },\n",
        "    }"
      ]
    },
    {
      "cell_type": "code",
      "execution_count": null,
      "metadata": {
        "id": "_uOY5pcA-ArP",
        "colab": {
          "base_uri": "https://localhost:8080/"
        },
        "outputId": "80f2a82e-4797-411c-8926-40c33186ec36"
      },
      "outputs": [
        {
          "output_type": "stream",
          "name": "stdout",
          "text": [
            "  1/258 [..............................] - ETA: 11s\n",
            " 38/258 [===>..........................] - ETA: 0s \n",
            " 74/258 [=======>......................] - ETA: 0s\n",
            "113/258 [============>.................] - ETA: 0s\n",
            "152/258 [================>.............] - ETA: 0s\n",
            "187/258 [====================>.........] - ETA: 0s\n",
            "223/258 [========================>.....] - ETA: 0s\n",
            "258/258 [==============================] - ETA: 0s\n",
            "258/258 [==============================] - 0s 1ms/step\n",
            "\n",
            "  1/258 [..............................] - ETA: 17s\n",
            " 26/258 [==>...........................] - ETA: 0s \n",
            " 50/258 [====>.........................] - ETA: 0s\n",
            " 76/258 [=======>......................] - ETA: 0s\n",
            "102/258 [==========>...................] - ETA: 0s\n",
            "122/258 [=============>................] - ETA: 0s\n",
            "148/258 [================>.............] - ETA: 0s\n",
            "177/258 [===================>..........] - ETA: 0s\n",
            "206/258 [======================>.......] - ETA: 0s\n",
            "235/258 [==========================>...] - ETA: 0s\n",
            "258/258 [==============================] - 1s 2ms/step\n",
            "\n",
            "  1/258 [..............................] - ETA: 11s\n",
            " 40/258 [===>..........................] - ETA: 0s \n",
            " 80/258 [========>.....................] - ETA: 0s\n",
            "114/258 [============>.................] - ETA: 0s\n",
            "150/258 [================>.............] - ETA: 0s\n",
            "186/258 [====================>.........] - ETA: 0s\n",
            "225/258 [=========================>....] - ETA: 0s\n",
            "258/258 [==============================] - 0s 1ms/step\n",
            "\n",
            "  1/258 [..............................] - ETA: 11s\n",
            " 40/258 [===>..........................] - ETA: 0s \n",
            " 75/258 [=======>......................] - ETA: 0s\n",
            "113/258 [============>.................] - ETA: 0s\n",
            "154/258 [================>.............] - ETA: 0s\n",
            "195/258 [=====================>........] - ETA: 0s\n",
            "238/258 [==========================>...] - ETA: 0s\n",
            "258/258 [==============================] - 0s 1ms/step\n",
            "\n",
            "  1/258 [..............................] - ETA: 12s\n",
            " 37/258 [===>..........................] - ETA: 0s \n",
            " 79/258 [========>.....................] - ETA: 0s\n",
            "110/258 [===========>..................] - ETA: 0s\n",
            "152/258 [================>.............] - ETA: 0s\n",
            "189/258 [====================>.........] - ETA: 0s\n",
            "231/258 [=========================>....] - ETA: 0s\n",
            "258/258 [==============================] - 0s 1ms/step\n",
            "\n",
            "  1/258 [..............................] - ETA: 11s\n",
            " 40/258 [===>..........................] - ETA: 0s \n",
            " 79/258 [========>.....................] - ETA: 0s\n",
            "118/258 [============>.................] - ETA: 0s\n",
            "157/258 [=================>............] - ETA: 0s\n",
            "190/258 [=====================>........] - ETA: 0s\n",
            "227/258 [=========================>....] - ETA: 0s\n",
            "258/258 [==============================] - 0s 1ms/step\n",
            "\n",
            "  1/258 [..............................] - ETA: 10s\n",
            " 39/258 [===>..........................] - ETA: 0s \n",
            " 78/258 [========>.....................] - ETA: 0s\n",
            "121/258 [=============>................] - ETA: 0s\n",
            "160/258 [=================>............] - ETA: 0s\n",
            "190/258 [=====================>........] - ETA: 0s\n",
            "229/258 [=========================>....] - ETA: 0s\n",
            "258/258 [==============================] - 0s 1ms/step\n",
            "\n",
            "  1/258 [..............................] - ETA: 11s\n",
            " 40/258 [===>..........................] - ETA: 0s \n",
            " 81/258 [========>.....................] - ETA: 0s\n",
            "116/258 [============>.................] - ETA: 0s\n",
            "151/258 [================>.............] - ETA: 0s\n",
            "189/258 [====================>.........] - ETA: 0s\n",
            "226/258 [=========================>....] - ETA: 0s\n",
            "258/258 [==============================] - 0s 1ms/step\n",
            "\n",
            "  1/258 [..............................] - ETA: 11s\n",
            " 25/258 [=>............................] - ETA: 0s \n",
            " 50/258 [====>.........................] - ETA: 0s\n",
            " 81/258 [========>.....................] - ETA: 0s\n",
            "103/258 [==========>...................] - ETA: 0s\n",
            "126/258 [=============>................] - ETA: 0s\n",
            "151/258 [================>.............] - ETA: 0s\n",
            "177/258 [===================>..........] - ETA: 0s\n",
            "202/258 [======================>.......] - ETA: 0s\n",
            "226/258 [=========================>....] - ETA: 0s\n",
            "253/258 [============================>.] - ETA: 0s\n",
            "258/258 [==============================] - 1s 2ms/step\n",
            "\n",
            "  1/258 [..............................] - ETA: 11s\n",
            " 35/258 [===>..........................] - ETA: 0s \n",
            " 74/258 [=======>......................] - ETA: 0s\n",
            "116/258 [============>.................] - ETA: 0s\n",
            "156/258 [=================>............] - ETA: 0s\n",
            "186/258 [====================>.........] - ETA: 0s\n",
            "207/258 [=======================>......] - ETA: 0s\n",
            "244/258 [===========================>..] - ETA: 0s\n",
            "258/258 [==============================] - 0s 1ms/step\n",
            "\n",
            "100%|██████████| 10/10 [01:08<00:00,  6.86s/trial, best loss: -0.8971837759017944]\n",
            "Mejores parámetros encontrados:\n",
            " {'batch_size': 0, 'lr': 0.004359570358083739, 'n_units': 45.0, 'optimizer': 0}\n",
            "Mejor pérdida encontrada:\n",
            "-0.8971837759017944\n",
            "Mejor F1 Score encontrado:\n",
            "0.8629246690280041\n",
            "Mejor Recall encontrado:\n",
            "0.8971837824714737\n"
          ]
        }
      ],
      "source": [
        "space = {\n",
        "    'n_units': hp.quniform('n_units', 10, 50, 1),\n",
        "    'optimizer': hp.choice('optimizer', ['Adam', 'SGD', 'RMSprop']),\n",
        "    'lr': hp.loguniform('lr', np.log(1e-5), np.log(1e-1)),\n",
        "    'batch_size': hp.choice('batch_size', [16, 32, 64, 128, 256]),\n",
        "}\n",
        "\n",
        "trials = Trials()\n",
        "\n",
        "# Tree-Structured Parzen Estimator (TPE)\n",
        "best_tpe = fmin(objective_neural_network, space, algo=tpe.suggest, max_evals=10, trials=trials)\n",
        "\n",
        "print('Mejores parámetros encontrados:\\n', best_tpe)\n",
        "\n",
        "print(\"Mejor pérdida encontrada:\")\n",
        "print(trials.best_trial['result']['loss'])\n",
        "\n",
        "print(\"Mejor F1 Score encontrado:\")\n",
        "print(trials.best_trial['result']['other_stuff']['f1_score'])\n",
        "\n",
        "print(\"Mejor Recall encontrado:\")\n",
        "print(trials.best_trial['result']['other_stuff']['recall'])"
      ]
    },
    {
      "cell_type": "code",
      "execution_count": null,
      "metadata": {
        "id": "Mb7vv8X0-ArP",
        "colab": {
          "base_uri": "https://localhost:8080/"
        },
        "outputId": "d4ee1e86-d9b7-47bb-fd44-702d08729eae"
      },
      "outputs": [
        {
          "output_type": "stream",
          "name": "stdout",
          "text": [
            "100%|██████████| 10/10 [00:00<?, ?trial/s, best loss=?]\n",
            "Mejores parámetros encontrados:\n",
            " {'batch_size': 0, 'lr': 0.004359570358083739, 'n_units': 45.0, 'optimizer': 0}\n",
            "Mejor pérdida encontrada:\n",
            "-0.8971837759017944\n",
            "Mejor F1 Score encontrado:\n",
            "0.8629246690280041\n",
            "Mejor Recall encontrado:\n",
            "0.8971837824714737\n"
          ]
        }
      ],
      "source": [
        "# Random Search\n",
        "best_random = fmin(objective_neural_network, space, algo=rand.suggest, max_evals=10, trials=trials)\n",
        "\n",
        "print('Mejores parámetros encontrados:\\n', best_random)\n",
        "\n",
        "print(\"Mejor pérdida encontrada:\")\n",
        "print(trials.best_trial['result']['loss'])\n",
        "\n",
        "print(\"Mejor F1 Score encontrado:\")\n",
        "print(trials.best_trial['result']['other_stuff']['f1_score'])\n",
        "\n",
        "print(\"Mejor Recall encontrado:\")\n",
        "print(trials.best_trial['result']['other_stuff']['recall'])"
      ]
    },
    {
      "cell_type": "code",
      "execution_count": null,
      "metadata": {
        "id": "izKVHo6q-ArP",
        "colab": {
          "base_uri": "https://localhost:8080/"
        },
        "outputId": "c3d9730f-a6b3-4e1d-a18d-9f2c179afe77"
      },
      "outputs": [
        {
          "output_type": "stream",
          "name": "stdout",
          "text": [
            "100%|██████████| 10/10 [00:00<?, ?trial/s, best loss=?]\n",
            "Mejores parámetros encontrados:\n",
            " {'batch_size': 0, 'lr': 0.004359570358083739, 'n_units': 45.0, 'optimizer': 0}\n",
            "Mejor pérdida encontrada:\n",
            "-0.8971837759017944\n",
            "Mejor F1 Score encontrado:\n",
            "0.8629246690280041\n",
            "Mejor Recall encontrado:\n",
            "0.8971837824714737\n"
          ]
        }
      ],
      "source": [
        "# Adaptative Tree-Structured Parzen Estimator (ATPE)\n",
        "best_atpe = fmin(objective_neural_network, space, algo=atpe.suggest, max_evals=10, trials=trials)\n",
        "\n",
        "print('Mejores parámetros encontrados:\\n', best_atpe)\n",
        "print(\"Mejor pérdida encontrada:\")\n",
        "print(trials.best_trial['result']['loss'])\n",
        "\n",
        "print(\"Mejor F1 Score encontrado:\")\n",
        "print(trials.best_trial['result']['other_stuff']['f1_score'])\n",
        "\n",
        "print(\"Mejor Recall encontrado:\")\n",
        "print(trials.best_trial['result']['other_stuff']['recall'])"
      ]
    },
    {
      "cell_type": "markdown",
      "metadata": {
        "id": "fQAqa6YkBH6t"
      },
      "source": [
        "KNN"
      ]
    },
    {
      "cell_type": "code",
      "execution_count": null,
      "metadata": {
        "id": "iHIyNoddBH6z"
      },
      "outputs": [],
      "source": [
        "def objective_knn(params):\n",
        "    # Recogiendo los parámetros\n",
        "    n_neighbors = int(params['n_neighbors'])\n",
        "    p = int(params['p'])\n",
        "\n",
        "    # Construyendo el modelo\n",
        "    model = KNeighborsClassifier(n_neighbors=n_neighbors, p=p)\n",
        "\n",
        "    # Entrenando el modelo\n",
        "    model.fit(X_train_bank, y_train_bank)\n",
        "\n",
        "    # Evaluando el modelo\n",
        "    accuracy = model.score(X_test_bank, y_test_bank)\n",
        "\n",
        "    # Calculando otras métricas\n",
        "    y_pred = model.predict(X_test_bank)\n",
        "    f1 = f1_score(y_test_bank, y_pred, average='weighted')\n",
        "    recall = recall_score(y_test_bank, y_pred, average='weighted')\n",
        "\n",
        "    return {\n",
        "        'loss': -accuracy,\n",
        "        'status': STATUS_OK,\n",
        "        'eval_time': time.time(),\n",
        "        'other_stuff': {\n",
        "            'f1_score': f1,\n",
        "            'recall': recall,\n",
        "        },\n",
        "    }"
      ]
    },
    {
      "cell_type": "code",
      "execution_count": null,
      "metadata": {
        "id": "Tp775iXPBH60",
        "colab": {
          "base_uri": "https://localhost:8080/"
        },
        "outputId": "1a524b14-f42f-4a80-b0ba-a6e242f1c3d1"
      },
      "outputs": [
        {
          "output_type": "stream",
          "name": "stdout",
          "text": [
            "100%|██████████| 10/10 [03:00<00:00, 18.05s/trial, best loss: -0.8932993445010925]\n",
            "Mejores parámetros encontrados:\n",
            " {'n_neighbors': 4.0, 'p': 1}\n",
            "Mejor pérdida encontrada:\n",
            "-0.8932993445010925\n",
            "Mejor F1 Score encontrado:\n",
            "0.8666995623086876\n",
            "Mejor Recall encontrado:\n",
            "0.8932993445010925\n"
          ]
        }
      ],
      "source": [
        "space = {\n",
        "    'n_neighbors': hp.quniform('n_neighbors', 1, 10, 2),\n",
        "    'p': hp.choice('p', [1, 2]),\n",
        "}\n",
        "\n",
        "trials = Trials()\n",
        "\n",
        "# Tree-Structured Parzen Estimator (TPE)\n",
        "best_tpe = fmin(objective_knn, space, algo=tpe.suggest, max_evals=10, trials=trials)\n",
        "\n",
        "print('Mejores parámetros encontrados:\\n', best_tpe)\n",
        "\n",
        "print(\"Mejor pérdida encontrada:\")\n",
        "print(trials.best_trial['result']['loss'])\n",
        "\n",
        "print(\"Mejor F1 Score encontrado:\")\n",
        "print(trials.best_trial['result']['other_stuff']['f1_score'])\n",
        "\n",
        "print(\"Mejor Recall encontrado:\")\n",
        "print(trials.best_trial['result']['other_stuff']['recall'])"
      ]
    },
    {
      "cell_type": "code",
      "execution_count": null,
      "metadata": {
        "id": "-1QCA12nBH60",
        "colab": {
          "base_uri": "https://localhost:8080/"
        },
        "outputId": "e0355abd-9270-4a17-ec79-fac883097d18"
      },
      "outputs": [
        {
          "output_type": "stream",
          "name": "stdout",
          "text": [
            "100%|██████████| 10/10 [00:00<?, ?trial/s, best loss=?]\n",
            "Mejores parámetros encontrados:\n",
            " {'n_neighbors': 4.0, 'p': 1}\n",
            "Mejor pérdida encontrada:\n",
            "-0.8932993445010925\n",
            "Mejor F1 Score encontrado:\n",
            "0.8666995623086876\n",
            "Mejor Recall encontrado:\n",
            "0.8932993445010925\n"
          ]
        }
      ],
      "source": [
        "# Random Search\n",
        "best_random = fmin(objective_knn, space, algo=rand.suggest, max_evals=10, trials=trials)\n",
        "\n",
        "print('Mejores parámetros encontrados:\\n', best_random)\n",
        "\n",
        "print(\"Mejor pérdida encontrada:\")\n",
        "print(trials.best_trial['result']['loss'])\n",
        "\n",
        "print(\"Mejor F1 Score encontrado:\")\n",
        "print(trials.best_trial['result']['other_stuff']['f1_score'])\n",
        "\n",
        "print(\"Mejor Recall encontrado:\")\n",
        "print(trials.best_trial['result']['other_stuff']['recall'])"
      ]
    },
    {
      "cell_type": "code",
      "execution_count": null,
      "metadata": {
        "id": "MfNxNJVmBH60",
        "colab": {
          "base_uri": "https://localhost:8080/"
        },
        "outputId": "d959b4cb-aa59-457e-c2ac-c353792426d5"
      },
      "outputs": [
        {
          "output_type": "stream",
          "name": "stdout",
          "text": [
            "100%|██████████| 10/10 [00:00<?, ?trial/s, best loss=?]\n",
            "Mejores parámetros encontrados:\n",
            " {'n_neighbors': 4.0, 'p': 1}\n",
            "Mejor pérdida encontrada:\n",
            "-0.8932993445010925\n",
            "Mejor F1 Score encontrado:\n",
            "0.8666995623086876\n",
            "Mejor Recall encontrado:\n",
            "0.8932993445010925\n"
          ]
        }
      ],
      "source": [
        "# Adaptative Tree-Structured Parzen Estimator (ATPE)\n",
        "best_atpe = fmin(objective_knn, space, algo=atpe.suggest, max_evals=10, trials=trials)\n",
        "\n",
        "print('Mejores parámetros encontrados:\\n', best_atpe)\n",
        "print(\"Mejor pérdida encontrada:\")\n",
        "print(trials.best_trial['result']['loss'])\n",
        "\n",
        "print(\"Mejor F1 Score encontrado:\")\n",
        "print(trials.best_trial['result']['other_stuff']['f1_score'])\n",
        "\n",
        "print(\"Mejor Recall encontrado:\")\n",
        "print(trials.best_trial['result']['other_stuff']['recall'])"
      ]
    },
    {
      "cell_type": "markdown",
      "metadata": {
        "id": "eNGTIb2JBH60"
      },
      "source": [
        "Random Forest"
      ]
    },
    {
      "cell_type": "code",
      "execution_count": null,
      "metadata": {
        "id": "flt3V6jMBH60"
      },
      "outputs": [],
      "source": [
        "from sklearn.ensemble import RandomForestClassifier\n",
        "\n",
        "def objective_random_forest(params):\n",
        "    # Recogiendo los parámetros\n",
        "    n_estimators = int(params['n_estimators'])\n",
        "    max_depth = int(params['max_depth']) if params['max_depth'] else None\n",
        "    min_samples_split = int(params['min_samples_split'])\n",
        "    min_samples_leaf = int(params['min_samples_leaf'])\n",
        "\n",
        "    # Construyendo el modelo\n",
        "    model = RandomForestClassifier(\n",
        "        n_estimators=n_estimators,\n",
        "        max_depth=max_depth,\n",
        "        min_samples_split=min_samples_split,\n",
        "        min_samples_leaf=min_samples_leaf,\n",
        "        n_jobs=-1\n",
        "    )\n",
        "\n",
        "    # Entrenando el modelo\n",
        "    model.fit(X_train_bank, y_train_bank)\n",
        "\n",
        "    # Evaluando el modelo\n",
        "    accuracy = model.score(X_test_bank, y_test_bank)\n",
        "\n",
        "    # Calculando otras métricas\n",
        "    y_pred = model.predict(X_test_bank)\n",
        "    f1 = f1_score(y_test_bank, y_pred, average='weighted')\n",
        "    recall = recall_score(y_test_bank, y_pred, average='weighted')\n",
        "\n",
        "    return {\n",
        "        'loss': -accuracy,\n",
        "        'status': STATUS_OK,\n",
        "        'eval_time': time.time(),\n",
        "        'other_stuff': {\n",
        "            'f1_score': f1,\n",
        "            'recall': recall,\n",
        "        },\n",
        "    }"
      ]
    },
    {
      "cell_type": "code",
      "execution_count": null,
      "metadata": {
        "id": "1F1S20sNBH60",
        "colab": {
          "base_uri": "https://localhost:8080/"
        },
        "outputId": "770ba032-ec79-4836-9f3f-6fc7c9bb36f8"
      },
      "outputs": [
        {
          "output_type": "stream",
          "name": "stdout",
          "text": [
            "100%|██████████| 10/10 [00:36<00:00,  3.69s/trial, best loss: -0.8974265598446225]\n",
            "Mejores parámetros encontrados:\n",
            " {'max_depth': 3, 'min_samples_leaf': 2.0, 'min_samples_split': 4.0, 'n_estimators': 20.0}\n",
            "Mejor pérdida encontrada:\n",
            "-0.8974265598446225\n",
            "Mejor F1 Score encontrado:\n",
            "0.872712736715169\n",
            "Mejor Recall encontrado:\n",
            "0.8974265598446225\n"
          ]
        }
      ],
      "source": [
        "space = {\n",
        "    'n_estimators': hp.quniform('n_estimators', 10, 50, 10),\n",
        "    'max_depth': hp.choice('max_depth', list(range(2, 16, 2))),\n",
        "    'min_samples_split': hp.quniform('min_samples_split', 2, 6, 1),\n",
        "    'min_samples_leaf': hp.quniform('min_samples_leaf', 1, 5, 1)\n",
        "}\n",
        "\n",
        "trials = Trials()\n",
        "\n",
        "# Tree-Structured Parzen Estimator (TPE)\n",
        "best_tpe = fmin(objective_random_forest, space, algo=tpe.suggest, max_evals=10, trials=trials)\n",
        "\n",
        "print('Mejores parámetros encontrados:\\n', best_tpe)\n",
        "\n",
        "print(\"Mejor pérdida encontrada:\")\n",
        "print(trials.best_trial['result']['loss'])\n",
        "\n",
        "print(\"Mejor F1 Score encontrado:\")\n",
        "print(trials.best_trial['result']['other_stuff']['f1_score'])\n",
        "\n",
        "print(\"Mejor Recall encontrado:\")\n",
        "print(trials.best_trial['result']['other_stuff']['recall'])"
      ]
    },
    {
      "cell_type": "code",
      "execution_count": null,
      "metadata": {
        "id": "Kb9o5Sz8BH60",
        "colab": {
          "base_uri": "https://localhost:8080/"
        },
        "outputId": "ac3921a2-c95e-4c7f-d3c0-6e352d814c39"
      },
      "outputs": [
        {
          "output_type": "stream",
          "name": "stdout",
          "text": [
            "100%|██████████| 10/10 [00:00<?, ?trial/s, best loss=?]\n",
            "Mejores parámetros encontrados:\n",
            " {'max_depth': 3, 'min_samples_leaf': 2.0, 'min_samples_split': 4.0, 'n_estimators': 20.0}\n",
            "Mejor pérdida encontrada:\n",
            "-0.8974265598446225\n",
            "Mejor F1 Score encontrado:\n",
            "0.872712736715169\n",
            "Mejor Recall encontrado:\n",
            "0.8974265598446225\n"
          ]
        }
      ],
      "source": [
        "# Random Search\n",
        "best_random = fmin(objective_random_forest, space, algo=rand.suggest, max_evals=10, trials=trials)\n",
        "\n",
        "print('Mejores parámetros encontrados:\\n', best_random)\n",
        "\n",
        "print(\"Mejor pérdida encontrada:\")\n",
        "print(trials.best_trial['result']['loss'])\n",
        "\n",
        "print(\"Mejor F1 Score encontrado:\")\n",
        "print(trials.best_trial['result']['other_stuff']['f1_score'])\n",
        "\n",
        "print(\"Mejor Recall encontrado:\")\n",
        "print(trials.best_trial['result']['other_stuff']['recall'])"
      ]
    },
    {
      "cell_type": "code",
      "execution_count": null,
      "metadata": {
        "id": "tAJ6l8M9BH60",
        "colab": {
          "base_uri": "https://localhost:8080/"
        },
        "outputId": "b9c2e2c1-cd8a-42db-ca91-55c30943a372"
      },
      "outputs": [
        {
          "output_type": "stream",
          "name": "stdout",
          "text": [
            "100%|██████████| 10/10 [00:00<?, ?trial/s, best loss=?]\n",
            "Mejores parámetros encontrados:\n",
            " {'max_depth': 3, 'min_samples_leaf': 2.0, 'min_samples_split': 4.0, 'n_estimators': 20.0}\n",
            "Mejor pérdida encontrada:\n",
            "-0.8974265598446225\n",
            "Mejor F1 Score encontrado:\n",
            "0.872712736715169\n",
            "Mejor Recall encontrado:\n",
            "0.8974265598446225\n"
          ]
        }
      ],
      "source": [
        "# Adaptative Tree-Structured Parzen Estimator (ATPE)\n",
        "best_atpe = fmin(objective_random_forest, space, algo=atpe.suggest, max_evals=10, trials=trials)\n",
        "\n",
        "print('Mejores parámetros encontrados:\\n', best_atpe)\n",
        "print(\"Mejor pérdida encontrada:\")\n",
        "print(trials.best_trial['result']['loss'])\n",
        "\n",
        "print(\"Mejor F1 Score encontrado:\")\n",
        "print(trials.best_trial['result']['other_stuff']['f1_score'])\n",
        "\n",
        "print(\"Mejor Recall encontrado:\")\n",
        "print(trials.best_trial['result']['other_stuff']['recall'])"
      ]
    },
    {
      "cell_type": "markdown",
      "metadata": {
        "id": "mWEtngtYkseH"
      },
      "source": [
        "### Scikit-learn"
      ]
    },
    {
      "cell_type": "code",
      "execution_count": null,
      "metadata": {
        "id": "uyyEfKKPkseI"
      },
      "outputs": [],
      "source": [
        "def create_neural_network(n_units=10, optimizer='Adam', lr=1e-3):\n",
        "    model = Sequential()\n",
        "    model.add(Dense(n_units, input_dim=X_train_cover.shape[1], activation='relu'))  # capa oculta\n",
        "    model.add(Dense(7, activation='softmax'))  # capa de salida\n",
        "\n",
        "    # Crea un mapeo de nombres de optimizadores a objetos de optimizadores\n",
        "    optimizers = {\n",
        "        'Adam': Adam(learning_rate=lr),\n",
        "        'SGD': SGD(learning_rate=lr),\n",
        "        'RMSprop': RMSprop(learning_rate=lr)\n",
        "    }\n",
        "\n",
        "    # Selecciona el optimizador basado en la cadena de entrada\n",
        "    optimizer_obj = optimizers[optimizer]\n",
        "\n",
        "    model.compile(optimizer=optimizer_obj, loss='categorical_crossentropy', metrics=['accuracy'])\n",
        "    return model\n",
        "\n",
        "# envolver el modelo con KerasClassifier\n",
        "model = KerasClassifier(model=create_neural_network, epochs=3, batch_size=32)\n",
        "\n",
        "# definir los hiperparámetros a buscar\n",
        "param_grid = {\n",
        "    'model__n_units': list(range(10, 50, 10)),\n",
        "    'model__optimizer': ['Adam', 'SGD', 'RMSprop'],\n",
        "    'model__lr': list(np.logspace(-5, -1, num=10)),\n",
        "    'batch_size': [16, 32, 64, 128, 256]\n",
        "}\n",
        "\n",
        "# Definir las métricas que quieres observar\n",
        "scoring = {\n",
        "    'accuracy': make_scorer(accuracy_score),\n",
        "    'f1_score': make_scorer(f1_score, average='weighted'),\n",
        "    'recall': make_scorer(recall_score, average='weighted'),\n",
        "}"
      ]
    },
    {
      "cell_type": "code",
      "execution_count": null,
      "metadata": {
        "colab": {
          "background_save": true,
          "base_uri": "https://localhost:8080/"
        },
        "id": "upHBpFrOsKiP",
        "outputId": "548d73a3-4e55-43e4-c851-5f75e1276c93"
      },
      "outputs": [
        {
          "name": "stdout",
          "output_type": "stream",
          "text": [
            "Fitting 3 folds for each of 600 candidates, totalling 1800 fits\n",
            "Epoch 1/3\n",
            "19367/19367 [==============================] - 51s 3ms/step - loss: 1.8926 - accuracy: 0.2485\n",
            "Epoch 2/3\n",
            "19367/19367 [==============================] - 47s 2ms/step - loss: 1.1886 - accuracy: 0.6027\n",
            "Epoch 3/3\n",
            "19367/19367 [==============================] - 42s 2ms/step - loss: 0.9178 - accuracy: 0.6535\n",
            "9684/9684 [==============================] - 15s 2ms/step\n",
            "[CV 1/3] END batch_size=16, model__lr=1e-05, model__n_units=10, model__optimizer=Adam; accuracy: (test=0.664) f1_score: (test=0.628) recall: (test=0.664) total time= 2.7min\n",
            "Epoch 1/3\n",
            "19368/19368 [==============================] - 44s 2ms/step - loss: 1.5864 - accuracy: 0.4311\n",
            "Epoch 2/3\n",
            "19368/19368 [==============================] - 50s 3ms/step - loss: 1.0963 - accuracy: 0.6018\n",
            "Epoch 3/3\n",
            "19368/19368 [==============================] - 45s 2ms/step - loss: 0.9119 - accuracy: 0.6310\n",
            "9684/9684 [==============================] - 15s 2ms/step\n",
            "[CV 2/3] END batch_size=16, model__lr=1e-05, model__n_units=10, model__optimizer=Adam; accuracy: (test=0.643) f1_score: (test=0.620) recall: (test=0.643) total time= 2.7min\n",
            "Epoch 1/3\n",
            "19368/19368 [==============================] - 43s 2ms/step - loss: 1.6875 - accuracy: 0.4103\n",
            "Epoch 2/3\n",
            "19368/19368 [==============================] - 45s 2ms/step - loss: 1.1844 - accuracy: 0.5940\n",
            "Epoch 3/3\n",
            "19368/19368 [==============================] - 41s 2ms/step - loss: 0.9770 - accuracy: 0.6385\n",
            "9684/9684 [==============================] - 15s 2ms/step\n",
            "[CV 3/3] END batch_size=16, model__lr=1e-05, model__n_units=10, model__optimizer=Adam; accuracy: (test=0.657) f1_score: (test=0.625) recall: (test=0.657) total time= 2.7min\n",
            "Epoch 1/3\n",
            "19367/19367 [==============================] - 37s 2ms/step - loss: 2.1394 - accuracy: 0.2238\n",
            "Epoch 2/3\n",
            "19367/19367 [==============================] - 38s 2ms/step - loss: 1.9755 - accuracy: 0.3223\n",
            "Epoch 3/3\n",
            "19367/19367 [==============================] - 38s 2ms/step - loss: 1.8427 - accuracy: 0.4028\n",
            "9684/9684 [==============================] - 15s 2ms/step\n",
            "[CV 1/3] END batch_size=16, model__lr=1e-05, model__n_units=10, model__optimizer=SGD; accuracy: (test=0.438) f1_score: (test=0.404) recall: (test=0.438) total time= 2.7min\n",
            "Epoch 1/3\n",
            "19368/19368 [==============================] - 40s 2ms/step - loss: 2.1584 - accuracy: 0.1032\n",
            "Epoch 2/3\n",
            "19368/19368 [==============================] - 39s 2ms/step - loss: 1.9934 - accuracy: 0.1972\n",
            "Epoch 3/3\n",
            "19368/19368 [==============================] - 37s 2ms/step - loss: 1.8601 - accuracy: 0.2890\n",
            "9684/9684 [==============================] - 15s 2ms/step\n",
            "[CV 2/3] END batch_size=16, model__lr=1e-05, model__n_units=10, model__optimizer=SGD; accuracy: (test=0.333) f1_score: (test=0.364) recall: (test=0.333) total time= 2.7min\n",
            "Epoch 1/3\n",
            "19368/19368 [==============================] - 44s 2ms/step - loss: 2.1223 - accuracy: 0.2147\n",
            "Epoch 2/3\n",
            "19368/19368 [==============================] - 41s 2ms/step - loss: 1.9483 - accuracy: 0.2839\n",
            "Epoch 3/3\n",
            "19368/19368 [==============================] - 40s 2ms/step - loss: 1.8098 - accuracy: 0.3424\n",
            "9684/9684 [==============================] - 14s 1ms/step\n",
            "[CV 3/3] END batch_size=16, model__lr=1e-05, model__n_units=10, model__optimizer=SGD; accuracy: (test=0.371) f1_score: (test=0.353) recall: (test=0.371) total time= 2.4min\n",
            "Epoch 1/3\n",
            "19367/19367 [==============================] - 39s 2ms/step - loss: 1.5539 - accuracy: 0.4750\n",
            "Epoch 2/3\n",
            "19367/19367 [==============================] - 37s 2ms/step - loss: 1.0497 - accuracy: 0.6062\n",
            "Epoch 3/3\n",
            "19367/19367 [==============================] - 35s 2ms/step - loss: 0.8923 - accuracy: 0.6450\n",
            "9684/9684 [==============================] - 14s 1ms/step\n",
            "[CV 1/3] END batch_size=16, model__lr=1e-05, model__n_units=10, model__optimizer=RMSprop; accuracy: (test=0.660) f1_score: (test=0.628) recall: (test=0.660) total time= 2.7min\n",
            "Epoch 1/3\n",
            "19368/19368 [==============================] - 37s 2ms/step - loss: 1.7812 - accuracy: 0.3528\n",
            "Epoch 2/3\n",
            "19368/19368 [==============================] - 36s 2ms/step - loss: 1.1934 - accuracy: 0.5764\n",
            "Epoch 3/3\n",
            "19368/19368 [==============================] - 37s 2ms/step - loss: 0.9587 - accuracy: 0.6379\n",
            "9684/9684 [==============================] - 14s 1ms/step\n",
            "[CV 2/3] END batch_size=16, model__lr=1e-05, model__n_units=10, model__optimizer=RMSprop; accuracy: (test=0.655) f1_score: (test=0.631) recall: (test=0.655) total time= 2.1min\n",
            "Epoch 1/3\n",
            "19368/19368 [==============================] - 40s 2ms/step - loss: 2.0276 - accuracy: 0.2205\n",
            "Epoch 2/3\n",
            "19368/19368 [==============================] - 36s 2ms/step - loss: 1.2721 - accuracy: 0.5506\n",
            "Epoch 3/3\n",
            "19368/19368 [==============================] - 38s 2ms/step - loss: 0.9827 - accuracy: 0.6151\n",
            "9684/9684 [==============================] - 15s 2ms/step\n",
            "[CV 3/3] END batch_size=16, model__lr=1e-05, model__n_units=10, model__optimizer=RMSprop; accuracy: (test=0.645) f1_score: (test=0.616) recall: (test=0.645) total time= 2.7min\n",
            "Epoch 1/3\n",
            "19367/19367 [==============================] - 40s 2ms/step - loss: 1.4700 - accuracy: 0.4552\n",
            "Epoch 2/3\n",
            "19367/19367 [==============================] - 38s 2ms/step - loss: 0.9429 - accuracy: 0.6278\n",
            "Epoch 3/3\n",
            "19367/19367 [==============================] - 40s 2ms/step - loss: 0.8055 - accuracy: 0.6791\n",
            "9684/9684 [==============================] - 16s 2ms/step\n",
            "[CV 1/3] END batch_size=16, model__lr=1e-05, model__n_units=20, model__optimizer=Adam; accuracy: (test=0.693) f1_score: (test=0.667) recall: (test=0.693) total time= 2.7min\n",
            "Epoch 1/3\n",
            "19368/19368 [==============================] - 46s 2ms/step - loss: 1.5674 - accuracy: 0.4576\n",
            "Epoch 2/3\n",
            "19368/19368 [==============================] - 46s 2ms/step - loss: 0.9885 - accuracy: 0.6312\n",
            "Epoch 3/3\n",
            "19368/19368 [==============================] - 48s 3ms/step - loss: 0.8169 - accuracy: 0.6859\n",
            "9684/9684 [==============================] - 17s 2ms/step\n",
            "[CV 2/3] END batch_size=16, model__lr=1e-05, model__n_units=20, model__optimizer=Adam; accuracy: (test=0.698) f1_score: (test=0.677) recall: (test=0.698) total time= 2.7min\n",
            "Epoch 1/3\n",
            "19368/19368 [==============================] - 47s 2ms/step - loss: 1.4600 - accuracy: 0.4575\n",
            "Epoch 2/3\n",
            "19368/19368 [==============================] - 45s 2ms/step - loss: 0.9705 - accuracy: 0.6167\n",
            "Epoch 3/3\n",
            "19368/19368 [==============================] - 45s 2ms/step - loss: 0.8175 - accuracy: 0.6706\n",
            "9684/9684 [==============================] - 16s 2ms/step\n",
            "[CV 3/3] END batch_size=16, model__lr=1e-05, model__n_units=20, model__optimizer=Adam; accuracy: (test=0.687) f1_score: (test=0.668) recall: (test=0.687) total time= 2.7min\n",
            "Epoch 1/3\n",
            "19367/19367 [==============================] - 42s 2ms/step - loss: 2.2042 - accuracy: 0.1789\n",
            "Epoch 2/3\n",
            "19367/19367 [==============================] - 41s 2ms/step - loss: 1.9710 - accuracy: 0.2509\n",
            "Epoch 3/3\n",
            "19367/19367 [==============================] - 41s 2ms/step - loss: 1.7954 - accuracy: 0.3256\n",
            "9684/9684 [==============================] - 17s 2ms/step\n",
            "[CV 1/3] END batch_size=16, model__lr=1e-05, model__n_units=20, model__optimizer=SGD; accuracy: (test=0.355) f1_score: (test=0.361) recall: (test=0.355) total time= 2.7min\n",
            "Epoch 1/3\n",
            "19368/19368 [==============================] - 48s 2ms/step - loss: 2.0403 - accuracy: 0.2535\n",
            "Epoch 2/3\n",
            "19368/19368 [==============================] - 47s 2ms/step - loss: 1.8393 - accuracy: 0.3379\n",
            "Epoch 3/3\n",
            "19368/19368 [==============================] - 49s 3ms/step - loss: 1.6889 - accuracy: 0.4170\n",
            "9684/9684 [==============================] - 16s 2ms/step\n",
            "[CV 2/3] END batch_size=16, model__lr=1e-05, model__n_units=20, model__optimizer=SGD; accuracy: (test=0.444) f1_score: (test=0.444) recall: (test=0.444) total time= 2.8min\n",
            "Epoch 1/3\n",
            "19368/19368 [==============================] - 37s 2ms/step - loss: 1.9551 - accuracy: 0.2635\n",
            "Epoch 2/3\n",
            "19368/19368 [==============================] - 40s 2ms/step - loss: 1.7975 - accuracy: 0.3445\n",
            "Epoch 3/3\n",
            "19368/19368 [==============================] - 36s 2ms/step - loss: 1.6735 - accuracy: 0.4174\n",
            "9684/9684 [==============================] - 14s 1ms/step\n",
            "[CV 3/3] END batch_size=16, model__lr=1e-05, model__n_units=20, model__optimizer=SGD; accuracy: (test=0.451) f1_score: (test=0.386) recall: (test=0.451) total time= 2.3min\n",
            "Epoch 1/3\n",
            "19367/19367 [==============================] - 39s 2ms/step - loss: 1.5423 - accuracy: 0.4662\n",
            "Epoch 2/3\n",
            "19367/19367 [==============================] - 43s 2ms/step - loss: 0.9396 - accuracy: 0.6364\n",
            "Epoch 3/3\n",
            "19367/19367 [==============================] - 40s 2ms/step - loss: 0.7957 - accuracy: 0.6839\n",
            "9684/9684 [==============================] - 14s 1ms/step\n",
            "[CV 1/3] END batch_size=16, model__lr=1e-05, model__n_units=20, model__optimizer=RMSprop; accuracy: (test=0.694) f1_score: (test=0.671) recall: (test=0.694) total time= 2.4min\n",
            "Epoch 1/3\n",
            "19368/19368 [==============================] - 42s 2ms/step - loss: 1.5903 - accuracy: 0.3877\n",
            "Epoch 2/3\n",
            "19368/19368 [==============================] - 42s 2ms/step - loss: 0.9971 - accuracy: 0.6267\n",
            "Epoch 3/3\n",
            "19368/19368 [==============================] - 37s 2ms/step - loss: 0.8477 - accuracy: 0.6729\n",
            "9684/9684 [==============================] - 14s 1ms/step\n",
            "[CV 2/3] END batch_size=16, model__lr=1e-05, model__n_units=20, model__optimizer=RMSprop; accuracy: (test=0.686) f1_score: (test=0.661) recall: (test=0.686) total time= 2.7min\n",
            "Epoch 1/3\n",
            "19368/19368 [==============================] - 38s 2ms/step - loss: 1.5155 - accuracy: 0.4658\n",
            "Epoch 2/3\n",
            "19368/19368 [==============================] - 40s 2ms/step - loss: 0.9675 - accuracy: 0.6420\n",
            "Epoch 3/3\n",
            "19368/19368 [==============================] - 37s 2ms/step - loss: 0.8168 - accuracy: 0.6848\n",
            "9684/9684 [==============================] - 16s 2ms/step\n",
            "[CV 3/3] END batch_size=16, model__lr=1e-05, model__n_units=20, model__optimizer=RMSprop; accuracy: (test=0.696) f1_score: (test=0.676) recall: (test=0.696) total time= 2.7min\n",
            "Epoch 1/3\n",
            "19367/19367 [==============================] - 46s 2ms/step - loss: 1.4620 - accuracy: 0.4555\n",
            "Epoch 2/3\n",
            "19367/19367 [==============================] - 45s 2ms/step - loss: 0.9059 - accuracy: 0.6580\n",
            "Epoch 3/3\n",
            "19367/19367 [==============================] - 46s 2ms/step - loss: 0.7673 - accuracy: 0.6929\n",
            "9684/9684 [==============================] - 16s 2ms/step\n",
            "[CV 1/3] END batch_size=16, model__lr=1e-05, model__n_units=30, model__optimizer=Adam; accuracy: (test=0.701) f1_score: (test=0.678) recall: (test=0.701) total time= 2.7min\n",
            "Epoch 1/3\n",
            "19368/19368 [==============================] - 50s 3ms/step - loss: 1.2014 - accuracy: 0.5664\n",
            "Epoch 2/3\n",
            "19368/19368 [==============================] - 46s 2ms/step - loss: 0.8341 - accuracy: 0.6702\n",
            "Epoch 3/3\n",
            "19368/19368 [==============================] - 47s 2ms/step - loss: 0.7456 - accuracy: 0.7008\n",
            "9684/9684 [==============================] - 16s 2ms/step\n",
            "[CV 2/3] END batch_size=16, model__lr=1e-05, model__n_units=30, model__optimizer=Adam; accuracy: (test=0.712) f1_score: (test=0.695) recall: (test=0.712) total time= 2.7min\n",
            "Epoch 1/3\n",
            "19368/19368 [==============================] - 48s 2ms/step - loss: 1.4395 - accuracy: 0.4512\n",
            "Epoch 2/3\n",
            "19368/19368 [==============================] - 46s 2ms/step - loss: 0.8716 - accuracy: 0.6633\n",
            "Epoch 3/3\n",
            "19368/19368 [==============================] - 45s 2ms/step - loss: 0.7510 - accuracy: 0.7041\n",
            "9684/9684 [==============================] - 16s 2ms/step\n",
            "[CV 3/3] END batch_size=16, model__lr=1e-05, model__n_units=30, model__optimizer=Adam; accuracy: (test=0.712) f1_score: (test=0.695) recall: (test=0.712) total time= 2.7min\n",
            "Epoch 1/3\n",
            "19367/19367 [==============================] - 45s 2ms/step - loss: 2.2913 - accuracy: 0.0994\n",
            "Epoch 2/3\n",
            "19367/19367 [==============================] - 38s 2ms/step - loss: 1.9672 - accuracy: 0.2172\n",
            "Epoch 3/3\n",
            "19367/19367 [==============================] - 44s 2ms/step - loss: 1.7328 - accuracy: 0.3402\n",
            "9684/9684 [==============================] - 17s 2ms/step\n",
            "[CV 1/3] END batch_size=16, model__lr=1e-05, model__n_units=30, model__optimizer=SGD; accuracy: (test=0.392) f1_score: (test=0.401) recall: (test=0.392) total time= 3.1min\n",
            "Epoch 1/3\n",
            "19368/19368 [==============================] - 41s 2ms/step - loss: 2.1879 - accuracy: 0.1274\n",
            "Epoch 2/3\n",
            "19368/19368 [==============================] - 39s 2ms/step - loss: 1.9076 - accuracy: 0.2374\n",
            "Epoch 3/3\n",
            "19368/19368 [==============================] - 40s 2ms/step - loss: 1.7069 - accuracy: 0.3491\n",
            "9684/9684 [==============================] - 17s 2ms/step\n",
            "[CV 2/3] END batch_size=16, model__lr=1e-05, model__n_units=30, model__optimizer=SGD; accuracy: (test=0.402) f1_score: (test=0.420) recall: (test=0.402) total time= 2.7min\n",
            "Epoch 1/3\n",
            "19368/19368 [==============================] - 41s 2ms/step - loss: 1.8837 - accuracy: 0.4268\n",
            "Epoch 2/3\n",
            "19368/19368 [==============================] - 41s 2ms/step - loss: 1.7280 - accuracy: 0.4593\n",
            "Epoch 3/3\n",
            "19368/19368 [==============================] - 44s 2ms/step - loss: 1.6022 - accuracy: 0.4785\n",
            "9684/9684 [==============================] - 16s 2ms/step\n",
            "[CV 3/3] END batch_size=16, model__lr=1e-05, model__n_units=30, model__optimizer=SGD; accuracy: (test=0.490) f1_score: (test=0.389) recall: (test=0.490) total time= 2.4min\n",
            "Epoch 1/3\n",
            "19367/19367 [==============================] - 42s 2ms/step - loss: 1.4073 - accuracy: 0.5181\n",
            "Epoch 2/3\n",
            "19367/19367 [==============================] - 38s 2ms/step - loss: 0.8880 - accuracy: 0.6679\n",
            "Epoch 3/3\n",
            "19367/19367 [==============================] - 42s 2ms/step - loss: 0.7810 - accuracy: 0.6923\n",
            "9684/9684 [==============================] - 15s 2ms/step\n",
            "[CV 1/3] END batch_size=16, model__lr=1e-05, model__n_units=30, model__optimizer=RMSprop; accuracy: (test=0.697) f1_score: (test=0.676) recall: (test=0.697) total time= 2.7min\n",
            "Epoch 1/3\n",
            "19368/19368 [==============================] - 40s 2ms/step - loss: 1.4488 - accuracy: 0.4491\n",
            "Epoch 2/3\n",
            "19368/19368 [==============================] - 39s 2ms/step - loss: 0.8736 - accuracy: 0.6455\n",
            "Epoch 3/3\n",
            "19368/19368 [==============================] - 44s 2ms/step - loss: 0.7593 - accuracy: 0.6923\n",
            "9684/9684 [==============================] - 16s 2ms/step\n",
            "[CV 2/3] END batch_size=16, model__lr=1e-05, model__n_units=30, model__optimizer=RMSprop; accuracy: (test=0.705) f1_score: (test=0.688) recall: (test=0.705) total time= 3.1min\n",
            "Epoch 1/3\n",
            "19368/19368 [==============================] - 40s 2ms/step - loss: 1.4045 - accuracy: 0.5029\n",
            "Epoch 2/3\n",
            "19368/19368 [==============================] - 39s 2ms/step - loss: 0.9045 - accuracy: 0.6708\n",
            "Epoch 3/3\n",
            "19368/19368 [==============================] - 42s 2ms/step - loss: 0.7931 - accuracy: 0.6961\n",
            "9684/9684 [==============================] - 15s 2ms/step\n",
            "[CV 3/3] END batch_size=16, model__lr=1e-05, model__n_units=30, model__optimizer=RMSprop; accuracy: (test=0.704) f1_score: (test=0.681) recall: (test=0.704) total time= 2.3min\n",
            "Epoch 1/3\n",
            "19367/19367 [==============================] - 42s 2ms/step - loss: 1.4327 - accuracy: 0.4694\n",
            "Epoch 2/3\n",
            "19367/19367 [==============================] - 46s 2ms/step - loss: 0.8229 - accuracy: 0.6854\n",
            "Epoch 3/3\n",
            "19367/19367 [==============================] - 48s 2ms/step - loss: 0.7248 - accuracy: 0.7061\n",
            "9684/9684 [==============================] - 17s 2ms/step\n",
            "[CV 1/3] END batch_size=16, model__lr=1e-05, model__n_units=40, model__optimizer=Adam; accuracy: (test=0.710) f1_score: (test=0.692) recall: (test=0.710) total time= 3.1min\n",
            "Epoch 1/3\n",
            "19368/19368 [==============================] - 44s 2ms/step - loss: 1.3520 - accuracy: 0.4989\n",
            "Epoch 2/3\n",
            "19368/19368 [==============================] - 43s 2ms/step - loss: 0.8150 - accuracy: 0.6722\n",
            "Epoch 3/3\n",
            "19368/19368 [==============================] - 46s 2ms/step - loss: 0.7252 - accuracy: 0.7043\n",
            "9684/9684 [==============================] - 17s 2ms/step\n",
            "[CV 2/3] END batch_size=16, model__lr=1e-05, model__n_units=40, model__optimizer=Adam; accuracy: (test=0.714) f1_score: (test=0.698) recall: (test=0.714) total time= 2.6min\n",
            "Epoch 1/3\n",
            "19368/19368 [==============================] - 46s 2ms/step - loss: 1.2373 - accuracy: 0.5542\n",
            "Epoch 2/3\n",
            "19368/19368 [==============================] - 43s 2ms/step - loss: 0.8102 - accuracy: 0.6828\n",
            "Epoch 3/3\n",
            "19368/19368 [==============================] - 45s 2ms/step - loss: 0.7291 - accuracy: 0.7039\n",
            "9684/9684 [==============================] - 15s 2ms/step\n",
            "[CV 3/3] END batch_size=16, model__lr=1e-05, model__n_units=40, model__optimizer=Adam; accuracy: (test=0.711) f1_score: (test=0.691) recall: (test=0.711) total time= 2.6min\n",
            "Epoch 1/3\n",
            "19367/19367 [==============================] - 43s 2ms/step - loss: 2.1166 - accuracy: 0.1900\n",
            "Epoch 2/3\n",
            "19367/19367 [==============================] - 40s 2ms/step - loss: 1.8226 - accuracy: 0.3449\n",
            "Epoch 3/3\n",
            "19367/19367 [==============================] - 43s 2ms/step - loss: 1.6321 - accuracy: 0.4575\n",
            "9684/9684 [==============================] - 16s 2ms/step\n",
            "[CV 1/3] END batch_size=16, model__lr=1e-05, model__n_units=40, model__optimizer=SGD; accuracy: (test=0.498) f1_score: (test=0.481) recall: (test=0.498) total time= 2.5min\n",
            "Epoch 1/3\n",
            "19368/19368 [==============================] - 45s 2ms/step - loss: 2.1795 - accuracy: 0.1772\n",
            "Epoch 2/3\n",
            "19368/19368 [==============================] - 43s 2ms/step - loss: 1.8912 - accuracy: 0.3398\n",
            "Epoch 3/3\n",
            "19368/19368 [==============================] - 39s 2ms/step - loss: 1.7021 - accuracy: 0.4306\n",
            "9684/9684 [==============================] - 19s 2ms/step\n",
            "[CV 2/3] END batch_size=16, model__lr=1e-05, model__n_units=40, model__optimizer=SGD; accuracy: (test=0.457) f1_score: (test=0.416) recall: (test=0.457) total time= 2.8min\n",
            "Epoch 1/3\n",
            "19368/19368 [==============================] - 42s 2ms/step - loss: 2.2121 - accuracy: 0.1701\n",
            "Epoch 2/3\n",
            "19368/19368 [==============================] - 39s 2ms/step - loss: 1.9350 - accuracy: 0.3090\n",
            "Epoch 3/3\n",
            "19368/19368 [==============================] - 40s 2ms/step - loss: 1.7333 - accuracy: 0.4133\n",
            "9684/9684 [==============================] - 17s 2ms/step\n",
            "[CV 3/3] END batch_size=16, model__lr=1e-05, model__n_units=40, model__optimizer=SGD; accuracy: (test=0.447) f1_score: (test=0.427) recall: (test=0.447) total time= 2.4min\n",
            "Epoch 1/3\n",
            "19367/19367 [==============================] - 42s 2ms/step - loss: 1.2903 - accuracy: 0.5417\n",
            "Epoch 2/3\n",
            "19367/19367 [==============================] - 38s 2ms/step - loss: 0.8441 - accuracy: 0.6739\n",
            "Epoch 3/3\n",
            "19367/19367 [==============================] - 41s 2ms/step - loss: 0.7563 - accuracy: 0.7036\n",
            "9684/9684 [==============================] - 17s 2ms/step\n",
            "[CV 1/3] END batch_size=16, model__lr=1e-05, model__n_units=40, model__optimizer=RMSprop; accuracy: (test=0.708) f1_score: (test=0.689) recall: (test=0.708) total time= 2.7min\n",
            "Epoch 1/3\n",
            "19368/19368 [==============================] - 41s 2ms/step - loss: 1.4155 - accuracy: 0.4820\n",
            "Epoch 2/3\n",
            "19368/19368 [==============================] - 40s 2ms/step - loss: 0.8701 - accuracy: 0.6628\n",
            "Epoch 3/3\n",
            "19368/19368 [==============================] - 42s 2ms/step - loss: 0.7587 - accuracy: 0.6978\n",
            "9684/9684 [==============================] - 16s 2ms/step\n",
            "[CV 2/3] END batch_size=16, model__lr=1e-05, model__n_units=40, model__optimizer=RMSprop; accuracy: (test=0.707) f1_score: (test=0.687) recall: (test=0.707) total time= 2.4min\n",
            "Epoch 1/3\n",
            "19368/19368 [==============================] - 46s 2ms/step - loss: 1.3419 - accuracy: 0.5238\n",
            "Epoch 2/3\n",
            "19368/19368 [==============================] - 43s 2ms/step - loss: 0.8185 - accuracy: 0.6853\n",
            "Epoch 3/3\n",
            "19368/19368 [==============================] - 42s 2ms/step - loss: 0.7352 - accuracy: 0.7089\n",
            "9684/9684 [==============================] - 16s 2ms/step\n",
            "[CV 3/3] END batch_size=16, model__lr=1e-05, model__n_units=40, model__optimizer=RMSprop; accuracy: (test=0.715) f1_score: (test=0.696) recall: (test=0.715) total time= 2.7min\n",
            "Epoch 1/3\n",
            "19367/19367 [==============================] - 43s 2ms/step - loss: 1.3341 - accuracy: 0.5048\n",
            "Epoch 2/3\n",
            "19367/19367 [==============================] - 38s 2ms/step - loss: 0.8251 - accuracy: 0.6675\n",
            "Epoch 3/3\n",
            "19367/19367 [==============================] - 39s 2ms/step - loss: 0.7346 - accuracy: 0.7082\n",
            "9684/9684 [==============================] - 15s 2ms/step\n",
            "[CV 1/3] END batch_size=16, model__lr=2.782559402207126e-05, model__n_units=10, model__optimizer=Adam; accuracy: (test=0.714) f1_score: (test=0.694) recall: (test=0.714) total time= 2.7min\n",
            "Epoch 1/3\n",
            "19368/19368 [==============================] - 45s 2ms/step - loss: 1.1165 - accuracy: 0.5834\n",
            "Epoch 2/3\n",
            "19368/19368 [==============================] - 41s 2ms/step - loss: 0.7608 - accuracy: 0.6897\n",
            "Epoch 3/3\n",
            "19368/19368 [==============================] - 43s 2ms/step - loss: 0.7038 - accuracy: 0.7160\n",
            "9684/9684 [==============================] - 15s 2ms/step\n",
            "[CV 2/3] END batch_size=16, model__lr=2.782559402207126e-05, model__n_units=10, model__optimizer=Adam; accuracy: (test=0.722) f1_score: (test=0.703) recall: (test=0.722) total time= 2.7min\n",
            "Epoch 1/3\n",
            "19368/19368 [==============================] - 43s 2ms/step - loss: 1.2656 - accuracy: 0.5316\n",
            "Epoch 2/3\n",
            "19368/19368 [==============================] - 42s 2ms/step - loss: 0.8058 - accuracy: 0.6826\n",
            "Epoch 3/3\n",
            "19368/19368 [==============================] - 42s 2ms/step - loss: 0.7342 - accuracy: 0.7052\n",
            "9684/9684 [==============================] - 15s 2ms/step\n",
            "[CV 3/3] END batch_size=16, model__lr=2.782559402207126e-05, model__n_units=10, model__optimizer=Adam; accuracy: (test=0.714) f1_score: (test=0.695) recall: (test=0.714) total time= 2.8min\n",
            "Epoch 1/3\n",
            "19367/19367 [==============================] - 39s 2ms/step - loss: 2.2066 - accuracy: 0.1504\n",
            "Epoch 2/3\n",
            "19367/19367 [==============================] - 35s 2ms/step - loss: 1.7510 - accuracy: 0.3905\n",
            "Epoch 3/3\n",
            "19367/19367 [==============================] - 36s 2ms/step - loss: 1.4974 - accuracy: 0.5098\n",
            "9684/9684 [==============================] - 15s 1ms/step\n",
            "[CV 1/3] END batch_size=16, model__lr=2.782559402207126e-05, model__n_units=10, model__optimizer=SGD; accuracy: (test=0.536) f1_score: (test=0.519) recall: (test=0.536) total time= 2.7min\n",
            "Epoch 1/3\n",
            "19368/19368 [==============================] - 40s 2ms/step - loss: 1.9825 - accuracy: 0.2846\n",
            "Epoch 2/3\n",
            "19368/19368 [==============================] - 36s 2ms/step - loss: 1.6540 - accuracy: 0.4329\n",
            "Epoch 3/3\n",
            "19368/19368 [==============================] - 38s 2ms/step - loss: 1.4617 - accuracy: 0.5060\n",
            "9684/9684 [==============================] - 15s 2ms/step\n",
            "[CV 2/3] END batch_size=16, model__lr=2.782559402207126e-05, model__n_units=10, model__optimizer=SGD; accuracy: (test=0.525) f1_score: (test=0.470) recall: (test=0.525) total time= 2.7min\n",
            "Epoch 1/3\n",
            "19368/19368 [==============================] - 40s 2ms/step - loss: 1.9399 - accuracy: 0.2448\n",
            "Epoch 2/3\n",
            "19368/19368 [==============================] - 41s 2ms/step - loss: 1.6183 - accuracy: 0.4179\n",
            "Epoch 3/3\n",
            "19368/19368 [==============================] - 38s 2ms/step - loss: 1.4267 - accuracy: 0.4803\n",
            "9684/9684 [==============================] - 15s 2ms/step\n",
            "[CV 3/3] END batch_size=16, model__lr=2.782559402207126e-05, model__n_units=10, model__optimizer=SGD; accuracy: (test=0.499) f1_score: (test=0.474) recall: (test=0.499) total time= 2.3min\n",
            "Epoch 1/3\n",
            "19367/19367 [==============================] - 39s 2ms/step - loss: 1.4320 - accuracy: 0.4555\n",
            "Epoch 2/3\n",
            "19367/19367 [==============================] - 42s 2ms/step - loss: 0.8421 - accuracy: 0.6627\n",
            "Epoch 3/3\n",
            "19367/19367 [==============================] - 40s 2ms/step - loss: 0.7414 - accuracy: 0.7085\n",
            "9684/9684 [==============================] - 17s 2ms/step\n",
            "[CV 1/3] END batch_size=16, model__lr=2.782559402207126e-05, model__n_units=10, model__optimizer=RMSprop; accuracy: (test=0.710) f1_score: (test=0.690) recall: (test=0.710) total time= 2.7min\n",
            "Epoch 1/3\n",
            "19368/19368 [==============================] - 46s 2ms/step - loss: 1.1917 - accuracy: 0.5429\n",
            "Epoch 2/3\n",
            "19368/19368 [==============================] - 45s 2ms/step - loss: 0.8010 - accuracy: 0.6752\n",
            "Epoch 3/3\n",
            "19368/19368 [==============================] - 44s 2ms/step - loss: 0.7360 - accuracy: 0.6983\n",
            "9684/9684 [==============================] - 17s 2ms/step\n",
            "[CV 2/3] END batch_size=16, model__lr=2.782559402207126e-05, model__n_units=10, model__optimizer=RMSprop; accuracy: (test=0.712) f1_score: (test=0.694) recall: (test=0.712) total time= 2.6min\n",
            "Epoch 1/3\n",
            "19368/19368 [==============================] - 50s 3ms/step - loss: 1.2789 - accuracy: 0.5294\n",
            "Epoch 2/3\n",
            "19368/19368 [==============================] - 49s 3ms/step - loss: 0.7821 - accuracy: 0.6939\n",
            "Epoch 3/3\n",
            "19368/19368 [==============================] - 39s 2ms/step - loss: 0.7276 - accuracy: 0.7117\n",
            "9684/9684 [==============================] - 15s 2ms/step\n",
            "[CV 3/3] END batch_size=16, model__lr=2.782559402207126e-05, model__n_units=10, model__optimizer=RMSprop; accuracy: (test=0.717) f1_score: (test=0.695) recall: (test=0.717) total time= 2.7min\n",
            "Epoch 1/3\n",
            "19367/19367 [==============================] - 44s 2ms/step - loss: 1.2193 - accuracy: 0.5430\n",
            "Epoch 2/3\n",
            "19367/19367 [==============================] - 39s 2ms/step - loss: 0.7349 - accuracy: 0.7052\n",
            "Epoch 3/3\n",
            "19367/19367 [==============================] - 43s 2ms/step - loss: 0.6855 - accuracy: 0.7184\n",
            "9684/9684 [==============================] - 15s 2ms/step\n",
            "[CV 1/3] END batch_size=16, model__lr=2.782559402207126e-05, model__n_units=20, model__optimizer=Adam; accuracy: (test=0.719) f1_score: (test=0.701) recall: (test=0.719) total time= 2.7min\n",
            "Epoch 1/3\n",
            "19368/19368 [==============================] - 43s 2ms/step - loss: 1.0748 - accuracy: 0.5913\n",
            "Epoch 2/3\n",
            "19368/19368 [==============================] - 42s 2ms/step - loss: 0.7121 - accuracy: 0.7089\n",
            "Epoch 3/3\n",
            "19368/19368 [==============================] - 42s 2ms/step - loss: 0.6726 - accuracy: 0.7214\n",
            "9684/9684 [==============================] - 15s 2ms/step\n",
            "[CV 2/3] END batch_size=16, model__lr=2.782559402207126e-05, model__n_units=20, model__optimizer=Adam; accuracy: (test=0.725) f1_score: (test=0.710) recall: (test=0.725) total time= 2.4min\n",
            "Epoch 1/3\n",
            "19368/19368 [==============================] - 41s 2ms/step - loss: 1.2022 - accuracy: 0.5578\n",
            "Epoch 2/3\n",
            "19368/19368 [==============================] - 42s 2ms/step - loss: 0.7320 - accuracy: 0.7105\n",
            "Epoch 3/3\n",
            "19368/19368 [==============================] - 39s 2ms/step - loss: 0.6772 - accuracy: 0.7225\n",
            "9684/9684 [==============================] - 15s 2ms/step\n",
            "[CV 3/3] END batch_size=16, model__lr=2.782559402207126e-05, model__n_units=20, model__optimizer=Adam; accuracy: (test=0.727) f1_score: (test=0.711) recall: (test=0.727) total time= 2.7min\n",
            "Epoch 1/3\n",
            "19367/19367 [==============================] - 36s 2ms/step - loss: 2.0469 - accuracy: 0.1832\n",
            "Epoch 2/3\n",
            "19367/19367 [==============================] - 39s 2ms/step - loss: 1.6132 - accuracy: 0.4530\n",
            "Epoch 3/3\n",
            "19367/19367 [==============================] - 36s 2ms/step - loss: 1.3905 - accuracy: 0.5438\n",
            "9684/9684 [==============================] - 17s 2ms/step\n",
            "[CV 1/3] END batch_size=16, model__lr=2.782559402207126e-05, model__n_units=20, model__optimizer=SGD; accuracy: (test=0.560) f1_score: (test=0.518) recall: (test=0.560) total time= 2.7min\n",
            "Epoch 1/3\n",
            "19368/19368 [==============================] - 41s 2ms/step - loss: 1.9854 - accuracy: 0.2414\n",
            "Epoch 2/3\n",
            "19368/19368 [==============================] - 42s 2ms/step - loss: 1.6008 - accuracy: 0.4261\n",
            "Epoch 3/3\n",
            "19368/19368 [==============================] - 42s 2ms/step - loss: 1.3930 - accuracy: 0.5138\n",
            "9684/9684 [==============================] - 15s 2ms/step\n",
            "[CV 2/3] END batch_size=16, model__lr=2.782559402207126e-05, model__n_units=20, model__optimizer=SGD; accuracy: (test=0.546) f1_score: (test=0.518) recall: (test=0.546) total time= 2.7min\n",
            "Epoch 1/3\n",
            "19368/19368 [==============================] - 43s 2ms/step - loss: 1.9217 - accuracy: 0.2501\n",
            "Epoch 2/3\n",
            "19368/19368 [==============================] - 42s 2ms/step - loss: 1.5229 - accuracy: 0.5019\n",
            "Epoch 3/3\n",
            "19368/19368 [==============================] - 41s 2ms/step - loss: 1.3224 - accuracy: 0.5491\n",
            "9684/9684 [==============================] - 16s 2ms/step\n",
            "[CV 3/3] END batch_size=16, model__lr=2.782559402207126e-05, model__n_units=20, model__optimizer=SGD; accuracy: (test=0.559) f1_score: (test=0.518) recall: (test=0.559) total time= 2.5min\n",
            "Epoch 1/3\n",
            "19367/19367 [==============================] - 45s 2ms/step - loss: 1.1163 - accuracy: 0.5680\n",
            "Epoch 2/3\n",
            "19367/19367 [==============================] - 45s 2ms/step - loss: 0.7354 - accuracy: 0.7050\n",
            "Epoch 3/3\n",
            "19367/19367 [==============================] - 43s 2ms/step - loss: 0.6839 - accuracy: 0.7208\n",
            "9684/9684 [==============================] - 16s 2ms/step\n",
            "[CV 1/3] END batch_size=16, model__lr=2.782559402207126e-05, model__n_units=20, model__optimizer=RMSprop; accuracy: (test=0.721) f1_score: (test=0.704) recall: (test=0.721) total time= 2.7min\n",
            "Epoch 1/3\n",
            "19368/19368 [==============================] - 44s 2ms/step - loss: 1.0752 - accuracy: 0.5980\n",
            "Epoch 2/3\n",
            "19368/19368 [==============================] - 44s 2ms/step - loss: 0.7307 - accuracy: 0.7079\n",
            "Epoch 3/3\n",
            "19368/19368 [==============================] - 41s 2ms/step - loss: 0.6883 - accuracy: 0.7215\n",
            "9684/9684 [==============================] - 15s 2ms/step\n",
            "[CV 2/3] END batch_size=16, model__lr=2.782559402207126e-05, model__n_units=20, model__optimizer=RMSprop; accuracy: (test=0.726) f1_score: (test=0.710) recall: (test=0.726) total time= 2.5min\n",
            "Epoch 1/3\n",
            "19368/19368 [==============================] - 41s 2ms/step - loss: 1.2352 - accuracy: 0.5506\n",
            "Epoch 2/3\n",
            "19368/19368 [==============================] - 40s 2ms/step - loss: 0.7540 - accuracy: 0.7009\n",
            "Epoch 3/3\n",
            "19368/19368 [==============================] - 39s 2ms/step - loss: 0.6972 - accuracy: 0.7156\n",
            "9684/9684 [==============================] - 14s 1ms/step\n",
            "[CV 3/3] END batch_size=16, model__lr=2.782559402207126e-05, model__n_units=20, model__optimizer=RMSprop; accuracy: (test=0.722) f1_score: (test=0.703) recall: (test=0.722) total time= 2.4min\n",
            "Epoch 1/3\n",
            "19367/19367 [==============================] - 39s 2ms/step - loss: 0.9893 - accuracy: 0.6287\n",
            "Epoch 2/3\n",
            "19367/19367 [==============================] - 40s 2ms/step - loss: 0.6978 - accuracy: 0.7153\n",
            "Epoch 3/3\n",
            "19367/19367 [==============================] - 38s 2ms/step - loss: 0.6623 - accuracy: 0.7249\n",
            "9684/9684 [==============================] - 15s 2ms/step\n",
            "[CV 1/3] END batch_size=16, model__lr=2.782559402207126e-05, model__n_units=30, model__optimizer=Adam; accuracy: (test=0.724) f1_score: (test=0.709) recall: (test=0.724) total time= 2.3min\n",
            "Epoch 1/3\n",
            "19368/19368 [==============================] - 43s 2ms/step - loss: 1.0681 - accuracy: 0.6048\n",
            "Epoch 2/3\n",
            "19368/19368 [==============================] - 41s 2ms/step - loss: 0.6997 - accuracy: 0.7154\n",
            "Epoch 3/3\n",
            "19368/19368 [==============================] - 43s 2ms/step - loss: 0.6631 - accuracy: 0.7249\n",
            "9684/9684 [==============================] - 15s 2ms/step\n",
            "[CV 2/3] END batch_size=16, model__lr=2.782559402207126e-05, model__n_units=30, model__optimizer=Adam; accuracy: (test=0.728) f1_score: (test=0.713) recall: (test=0.728) total time= 2.4min\n",
            "Epoch 1/3\n",
            "19368/19368 [==============================] - 44s 2ms/step - loss: 1.0510 - accuracy: 0.6068\n",
            "Epoch 2/3\n",
            "19368/19368 [==============================] - 43s 2ms/step - loss: 0.6957 - accuracy: 0.7172\n",
            "Epoch 3/3\n",
            "19368/19368 [==============================] - 42s 2ms/step - loss: 0.6568 - accuracy: 0.7281\n",
            "9684/9684 [==============================] - 16s 2ms/step\n",
            "[CV 3/3] END batch_size=16, model__lr=2.782559402207126e-05, model__n_units=30, model__optimizer=Adam; accuracy: (test=0.733) f1_score: (test=0.719) recall: (test=0.733) total time= 2.7min\n",
            "Epoch 1/3\n",
            "19367/19367 [==============================] - 39s 2ms/step - loss: 1.7677 - accuracy: 0.3817\n",
            "Epoch 2/3\n",
            "19367/19367 [==============================] - 42s 2ms/step - loss: 1.4399 - accuracy: 0.4982\n",
            "Epoch 3/3\n",
            "19367/19367 [==============================] - 41s 2ms/step - loss: 1.2710 - accuracy: 0.5332\n",
            "9684/9684 [==============================] - 16s 2ms/step\n",
            "[CV 1/3] END batch_size=16, model__lr=2.782559402207126e-05, model__n_units=30, model__optimizer=SGD; accuracy: (test=0.546) f1_score: (test=0.505) recall: (test=0.546) total time= 2.7min\n",
            "Epoch 1/3\n",
            "19368/19368 [==============================] - 47s 2ms/step - loss: 1.9617 - accuracy: 0.2634\n",
            "Epoch 2/3\n",
            "19368/19368 [==============================] - 42s 2ms/step - loss: 1.5216 - accuracy: 0.4603\n",
            "Epoch 3/3\n",
            "19368/19368 [==============================] - 42s 2ms/step - loss: 1.3205 - accuracy: 0.5129\n",
            "9684/9684 [==============================] - 16s 2ms/step\n",
            "[CV 2/3] END batch_size=16, model__lr=2.782559402207126e-05, model__n_units=30, model__optimizer=SGD; accuracy: (test=0.527) f1_score: (test=0.489) recall: (test=0.527) total time= 2.7min\n",
            "Epoch 1/3\n",
            "19368/19368 [==============================] - 38s 2ms/step - loss: 1.6510 - accuracy: 0.4120\n",
            "Epoch 2/3\n",
            "19368/19368 [==============================] - 39s 2ms/step - loss: 1.3275 - accuracy: 0.5711\n",
            "Epoch 3/3\n",
            "19368/19368 [==============================] - 39s 2ms/step - loss: 1.1706 - accuracy: 0.6087\n",
            "9684/9684 [==============================] - 17s 2ms/step\n",
            "[CV 3/3] END batch_size=16, model__lr=2.782559402207126e-05, model__n_units=30, model__optimizer=SGD; accuracy: (test=0.619) f1_score: (test=0.582) recall: (test=0.619) total time= 2.3min\n",
            "Epoch 1/3\n",
            "19367/19367 [==============================] - 40s 2ms/step - loss: 1.0038 - accuracy: 0.6217\n",
            "Epoch 2/3\n",
            "19367/19367 [==============================] - 39s 2ms/step - loss: 0.7060 - accuracy: 0.7145\n",
            "Epoch 3/3\n",
            "19367/19367 [==============================] - 42s 2ms/step - loss: 0.6661 - accuracy: 0.7261\n",
            "9684/9684 [==============================] - 15s 2ms/step\n",
            "[CV 1/3] END batch_size=16, model__lr=2.782559402207126e-05, model__n_units=30, model__optimizer=RMSprop; accuracy: (test=0.727) f1_score: (test=0.712) recall: (test=0.727) total time= 2.7min\n",
            "Epoch 1/3\n",
            "19368/19368 [==============================] - 42s 2ms/step - loss: 0.9919 - accuracy: 0.6319\n",
            "Epoch 2/3\n",
            "19368/19368 [==============================] - 39s 2ms/step - loss: 0.7121 - accuracy: 0.7105\n",
            "Epoch 3/3\n",
            "19368/19368 [==============================] - 39s 2ms/step - loss: 0.6729 - accuracy: 0.7223\n",
            "9684/9684 [==============================] - 15s 2ms/step\n",
            "[CV 2/3] END batch_size=16, model__lr=2.782559402207126e-05, model__n_units=30, model__optimizer=RMSprop; accuracy: (test=0.726) f1_score: (test=0.710) recall: (test=0.726) total time= 2.7min\n",
            "Epoch 1/3\n",
            "19368/19368 [==============================] - 44s 2ms/step - loss: 1.0361 - accuracy: 0.6136\n",
            "Epoch 2/3\n",
            "19368/19368 [==============================] - 43s 2ms/step - loss: 0.7115 - accuracy: 0.7154\n",
            "Epoch 3/3\n",
            "19368/19368 [==============================] - 44s 2ms/step - loss: 0.6717 - accuracy: 0.7249\n",
            "9684/9684 [==============================] - 15s 2ms/step\n",
            "[CV 3/3] END batch_size=16, model__lr=2.782559402207126e-05, model__n_units=30, model__optimizer=RMSprop; accuracy: (test=0.730) f1_score: (test=0.716) recall: (test=0.730) total time= 2.7min\n",
            "Epoch 1/3\n",
            "19367/19367 [==============================] - 41s 2ms/step - loss: 0.9943 - accuracy: 0.6300\n",
            "Epoch 2/3\n",
            "19367/19367 [==============================] - 44s 2ms/step - loss: 0.6854 - accuracy: 0.7180\n",
            "Epoch 3/3\n",
            "19367/19367 [==============================] - 45s 2ms/step - loss: 0.6493 - accuracy: 0.7274\n",
            "9684/9684 [==============================] - 16s 2ms/step\n",
            "[CV 1/3] END batch_size=16, model__lr=2.782559402207126e-05, model__n_units=40, model__optimizer=Adam; accuracy: (test=0.728) f1_score: (test=0.715) recall: (test=0.728) total time= 2.5min\n",
            "Epoch 1/3\n",
            "19368/19368 [==============================] - 44s 2ms/step - loss: 1.0489 - accuracy: 0.5995\n",
            "Epoch 2/3\n",
            "19368/19368 [==============================] - 46s 2ms/step - loss: 0.6937 - accuracy: 0.7160\n",
            "Epoch 3/3\n",
            "19368/19368 [==============================] - 46s 2ms/step - loss: 0.6581 - accuracy: 0.7244\n",
            "9684/9684 [==============================] - 16s 2ms/step\n",
            "[CV 2/3] END batch_size=16, model__lr=2.782559402207126e-05, model__n_units=40, model__optimizer=Adam; accuracy: (test=0.729) f1_score: (test=0.715) recall: (test=0.729) total time= 2.7min\n",
            "Epoch 1/3\n",
            "19368/19368 [==============================] - 44s 2ms/step - loss: 1.0143 - accuracy: 0.6100\n",
            "Epoch 2/3\n",
            "19368/19368 [==============================] - 44s 2ms/step - loss: 0.6832 - accuracy: 0.7198\n",
            "Epoch 3/3\n",
            "19368/19368 [==============================] - 48s 2ms/step - loss: 0.6489 - accuracy: 0.7270\n",
            "9684/9684 [==============================] - 16s 2ms/step\n",
            "[CV 3/3] END batch_size=16, model__lr=2.782559402207126e-05, model__n_units=40, model__optimizer=Adam; accuracy: (test=0.732) f1_score: (test=0.720) recall: (test=0.732) total time= 2.7min\n",
            "Epoch 1/3\n",
            "19367/19367 [==============================] - 40s 2ms/step - loss: 1.6924 - accuracy: 0.4439\n",
            "Epoch 2/3\n",
            "19367/19367 [==============================] - 38s 2ms/step - loss: 1.3645 - accuracy: 0.5379\n",
            "Epoch 3/3\n",
            "19367/19367 [==============================] - 38s 2ms/step - loss: 1.1927 - accuracy: 0.5816\n",
            "9684/9684 [==============================] - 16s 2ms/step\n",
            "[CV 1/3] END batch_size=16, model__lr=2.782559402207126e-05, model__n_units=40, model__optimizer=SGD; accuracy: (test=0.596) f1_score: (test=0.566) recall: (test=0.596) total time= 2.3min\n",
            "Epoch 1/3\n",
            "19368/19368 [==============================] - 42s 2ms/step - loss: 1.7141 - accuracy: 0.3807\n",
            "Epoch 2/3\n",
            "19368/19368 [==============================] - 40s 2ms/step - loss: 1.3914 - accuracy: 0.5345\n",
            "Epoch 3/3\n",
            "19368/19368 [==============================] - 39s 2ms/step - loss: 1.2268 - accuracy: 0.5804\n",
            "9684/9684 [==============================] - 16s 2ms/step\n",
            "[CV 2/3] END batch_size=16, model__lr=2.782559402207126e-05, model__n_units=40, model__optimizer=SGD; accuracy: (test=0.598) f1_score: (test=0.562) recall: (test=0.598) total time= 2.7min\n",
            "Epoch 1/3\n",
            "19368/19368 [==============================] - 44s 2ms/step - loss: 1.6816 - accuracy: 0.4119\n",
            "Epoch 2/3\n",
            "19368/19368 [==============================] - 41s 2ms/step - loss: 1.3507 - accuracy: 0.5564\n",
            "Epoch 3/3\n",
            "19368/19368 [==============================] - 42s 2ms/step - loss: 1.1923 - accuracy: 0.5929\n",
            "9684/9684 [==============================] - 16s 2ms/step\n",
            "[CV 3/3] END batch_size=16, model__lr=2.782559402207126e-05, model__n_units=40, model__optimizer=SGD; accuracy: (test=0.607) f1_score: (test=0.578) recall: (test=0.607) total time= 2.5min\n",
            "Epoch 1/3\n",
            "19367/19367 [==============================] - 43s 2ms/step - loss: 1.0216 - accuracy: 0.6256\n",
            "Epoch 2/3\n",
            "19367/19367 [==============================] - 42s 2ms/step - loss: 0.7084 - accuracy: 0.7182\n",
            "Epoch 3/3\n",
            "19367/19367 [==============================] - 43s 2ms/step - loss: 0.6690 - accuracy: 0.7272\n",
            "9684/9684 [==============================] - 16s 2ms/step\n",
            "[CV 1/3] END batch_size=16, model__lr=2.782559402207126e-05, model__n_units=40, model__optimizer=RMSprop; accuracy: (test=0.726) f1_score: (test=0.712) recall: (test=0.726) total time= 2.7min\n",
            "Epoch 1/3\n",
            "19368/19368 [==============================] - 44s 2ms/step - loss: 0.9840 - accuracy: 0.6340\n",
            "Epoch 2/3\n",
            "19368/19368 [==============================] - 44s 2ms/step - loss: 0.7007 - accuracy: 0.7185\n",
            "Epoch 3/3\n",
            "19368/19368 [==============================] - 45s 2ms/step - loss: 0.6640 - accuracy: 0.7260\n",
            "9684/9684 [==============================] - 16s 2ms/step\n",
            "[CV 2/3] END batch_size=16, model__lr=2.782559402207126e-05, model__n_units=40, model__optimizer=RMSprop; accuracy: (test=0.731) f1_score: (test=0.716) recall: (test=0.731) total time= 2.7min\n",
            "Epoch 1/3\n",
            "19368/19368 [==============================] - 46s 2ms/step - loss: 0.9862 - accuracy: 0.6289\n",
            "Epoch 2/3\n",
            "19368/19368 [==============================] - 45s 2ms/step - loss: 0.7019 - accuracy: 0.7185\n",
            "Epoch 3/3\n",
            "19368/19368 [==============================] - 45s 2ms/step - loss: 0.6629 - accuracy: 0.7267\n",
            "9684/9684 [==============================] - 18s 2ms/step\n",
            "[CV 3/3] END batch_size=16, model__lr=2.782559402207126e-05, model__n_units=40, model__optimizer=RMSprop; accuracy: (test=0.731) f1_score: (test=0.717) recall: (test=0.731) total time= 2.8min\n",
            "Epoch 1/3\n",
            "19367/19367 [==============================] - 42s 2ms/step - loss: 0.9677 - accuracy: 0.6283\n",
            "Epoch 2/3\n",
            "19367/19367 [==============================] - 43s 2ms/step - loss: 0.6819 - accuracy: 0.7143\n",
            "Epoch 3/3\n",
            "19367/19367 [==============================] - 42s 2ms/step - loss: 0.6561 - accuracy: 0.7206\n",
            "9684/9684 [==============================] - 15s 2ms/step\n",
            "[CV 1/3] END batch_size=16, model__lr=7.742636826811278e-05, model__n_units=10, model__optimizer=Adam; accuracy: (test=0.720) f1_score: (test=0.703) recall: (test=0.720) total time= 2.5min\n",
            "Epoch 1/3\n",
            "19368/19368 [==============================] - 47s 2ms/step - loss: 0.9880 - accuracy: 0.6147\n",
            "Epoch 2/3\n",
            "19368/19368 [==============================] - 42s 2ms/step - loss: 0.6898 - accuracy: 0.7120\n",
            "Epoch 3/3\n",
            "19368/19368 [==============================] - 43s 2ms/step - loss: 0.6548 - accuracy: 0.7210\n",
            "9684/9684 [==============================] - 16s 2ms/step\n",
            "[CV 2/3] END batch_size=16, model__lr=7.742636826811278e-05, model__n_units=10, model__optimizer=Adam; accuracy: (test=0.726) f1_score: (test=0.711) recall: (test=0.726) total time= 2.6min\n",
            "Epoch 1/3\n",
            "19368/19368 [==============================] - 44s 2ms/step - loss: 0.9692 - accuracy: 0.6222\n",
            "Epoch 2/3\n",
            "19368/19368 [==============================] - 46s 2ms/step - loss: 0.6897 - accuracy: 0.7148\n",
            "Epoch 3/3\n",
            "19368/19368 [==============================] - 45s 2ms/step - loss: 0.6591 - accuracy: 0.7211\n",
            "9684/9684 [==============================] - 17s 2ms/step\n",
            "[CV 3/3] END batch_size=16, model__lr=7.742636826811278e-05, model__n_units=10, model__optimizer=Adam; accuracy: (test=0.725) f1_score: (test=0.712) recall: (test=0.725) total time= 3.1min\n",
            "Epoch 1/3\n",
            "19367/19367 [==============================] - 46s 2ms/step - loss: 1.8612 - accuracy: 0.3666\n",
            "Epoch 2/3\n",
            "19367/19367 [==============================] - 52s 3ms/step - loss: 1.3796 - accuracy: 0.5471\n",
            "Epoch 3/3\n",
            "19367/19367 [==============================] - 51s 3ms/step - loss: 1.1732 - accuracy: 0.5843\n",
            "9684/9684 [==============================] - 17s 2ms/step\n",
            "[CV 1/3] END batch_size=16, model__lr=7.742636826811278e-05, model__n_units=10, model__optimizer=SGD; accuracy: (test=0.604) f1_score: (test=0.572) recall: (test=0.604) total time= 3.2min\n",
            "Epoch 1/3\n",
            "19368/19368 [==============================] - 43s 2ms/step - loss: 1.7682 - accuracy: 0.3509\n",
            "Epoch 2/3\n",
            "19368/19368 [==============================] - 43s 2ms/step - loss: 1.3034 - accuracy: 0.5099\n",
            "Epoch 3/3\n",
            "19368/19368 [==============================] - 43s 2ms/step - loss: 1.1336 - accuracy: 0.5559\n",
            "9684/9684 [==============================] - 16s 2ms/step\n",
            "[CV 2/3] END batch_size=16, model__lr=7.742636826811278e-05, model__n_units=10, model__optimizer=SGD; accuracy: (test=0.567) f1_score: (test=0.507) recall: (test=0.567) total time= 2.5min\n",
            "Epoch 1/3\n",
            "19368/19368 [==============================] - 43s 2ms/step - loss: 1.7118 - accuracy: 0.4176\n",
            "Epoch 2/3\n",
            "19368/19368 [==============================] - 41s 2ms/step - loss: 1.2542 - accuracy: 0.5569\n",
            "Epoch 3/3\n",
            "19368/19368 [==============================] - 44s 2ms/step - loss: 1.0907 - accuracy: 0.5924\n",
            "9684/9684 [==============================] - 16s 2ms/step\n",
            "[CV 3/3] END batch_size=16, model__lr=7.742636826811278e-05, model__n_units=10, model__optimizer=SGD; accuracy: (test=0.603) f1_score: (test=0.570) recall: (test=0.603) total time= 2.7min\n",
            "Epoch 1/3\n",
            "19367/19367 [==============================] - 42s 2ms/step - loss: 0.9950 - accuracy: 0.6180\n",
            "Epoch 2/3\n",
            "19367/19367 [==============================] - 40s 2ms/step - loss: 0.6891 - accuracy: 0.7228\n",
            "Epoch 3/3\n",
            "19367/19367 [==============================] - 41s 2ms/step - loss: 0.6629 - accuracy: 0.7288\n",
            "9684/9684 [==============================] - 16s 2ms/step\n",
            "[CV 1/3] END batch_size=16, model__lr=7.742636826811278e-05, model__n_units=10, model__optimizer=RMSprop; accuracy: (test=0.727) f1_score: (test=0.709) recall: (test=0.727) total time= 2.7min\n",
            "Epoch 1/3\n",
            "19368/19368 [==============================] - 45s 2ms/step - loss: 0.9513 - accuracy: 0.6385\n",
            "Epoch 2/3\n",
            "19368/19368 [==============================] - 41s 2ms/step - loss: 0.7043 - accuracy: 0.7159\n",
            "Epoch 3/3\n",
            "19368/19368 [==============================] - 43s 2ms/step - loss: 0.6683 - accuracy: 0.7248\n",
            "9684/9684 [==============================] - 15s 2ms/step\n",
            "[CV 2/3] END batch_size=16, model__lr=7.742636826811278e-05, model__n_units=10, model__optimizer=RMSprop; accuracy: (test=0.729) f1_score: (test=0.715) recall: (test=0.729) total time= 2.7min\n",
            "Epoch 1/3\n",
            "19368/19368 [==============================] - 41s 2ms/step - loss: 1.0075 - accuracy: 0.6280\n",
            "Epoch 2/3\n",
            "19368/19368 [==============================] - 46s 2ms/step - loss: 0.6929 - accuracy: 0.7118\n",
            "Epoch 3/3\n",
            "19368/19368 [==============================] - 40s 2ms/step - loss: 0.6604 - accuracy: 0.7217\n",
            "9684/9684 [==============================] - 15s 2ms/step\n",
            "[CV 3/3] END batch_size=16, model__lr=7.742636826811278e-05, model__n_units=10, model__optimizer=RMSprop; accuracy: (test=0.725) f1_score: (test=0.710) recall: (test=0.725) total time= 2.7min\n",
            "Epoch 1/3\n",
            "19367/19367 [==============================] - 45s 2ms/step - loss: 0.8420 - accuracy: 0.6674\n",
            "Epoch 2/3\n",
            "19367/19367 [==============================] - 47s 2ms/step - loss: 0.6574 - accuracy: 0.7264\n",
            "Epoch 3/3\n",
            "19367/19367 [==============================] - 44s 2ms/step - loss: 0.6294 - accuracy: 0.7344\n",
            "9684/9684 [==============================] - 16s 2ms/step\n",
            "[CV 1/3] END batch_size=16, model__lr=7.742636826811278e-05, model__n_units=20, model__optimizer=Adam; accuracy: (test=0.733) f1_score: (test=0.721) recall: (test=0.733) total time= 2.6min\n",
            "Epoch 1/3\n",
            "19368/19368 [==============================] - 46s 2ms/step - loss: 0.8828 - accuracy: 0.6663\n",
            "Epoch 2/3\n",
            "19368/19368 [==============================] - 44s 2ms/step - loss: 0.6597 - accuracy: 0.7260\n",
            "Epoch 3/3\n",
            "19368/19368 [==============================] - 47s 2ms/step - loss: 0.6304 - accuracy: 0.7337\n",
            "9684/9684 [==============================] - 16s 2ms/step\n",
            "[CV 2/3] END batch_size=16, model__lr=7.742636826811278e-05, model__n_units=20, model__optimizer=Adam; accuracy: (test=0.737) f1_score: (test=0.726) recall: (test=0.737) total time= 2.6min\n",
            "Epoch 1/3\n",
            "19368/19368 [==============================] - 46s 2ms/step - loss: 0.8980 - accuracy: 0.6584\n",
            "Epoch 2/3\n",
            "19368/19368 [==============================] - 45s 2ms/step - loss: 0.6524 - accuracy: 0.7287\n",
            "Epoch 3/3\n",
            "19368/19368 [==============================] - 45s 2ms/step - loss: 0.6247 - accuracy: 0.7360\n",
            "9684/9684 [==============================] - 16s 2ms/step\n",
            "[CV 3/3] END batch_size=16, model__lr=7.742636826811278e-05, model__n_units=20, model__optimizer=Adam; accuracy: (test=0.739) f1_score: (test=0.727) recall: (test=0.739) total time= 2.7min\n",
            "Epoch 1/3\n",
            "19367/19367 [==============================] - 40s 2ms/step - loss: 1.6634 - accuracy: 0.4180\n",
            "Epoch 2/3\n",
            "19367/19367 [==============================] - 39s 2ms/step - loss: 1.2010 - accuracy: 0.5692\n",
            "Epoch 3/3\n",
            "19367/19367 [==============================] - 40s 2ms/step - loss: 1.0436 - accuracy: 0.6130\n",
            "9684/9684 [==============================] - 15s 2ms/step\n",
            "[CV 1/3] END batch_size=16, model__lr=7.742636826811278e-05, model__n_units=20, model__optimizer=SGD; accuracy: (test=0.625) f1_score: (test=0.586) recall: (test=0.625) total time= 2.3min\n",
            "Epoch 1/3\n",
            "19368/19368 [==============================] - 41s 2ms/step - loss: 1.7004 - accuracy: 0.3390\n",
            "Epoch 2/3\n",
            "19368/19368 [==============================] - 42s 2ms/step - loss: 1.1986 - accuracy: 0.5636\n",
            "Epoch 3/3\n",
            "19368/19368 [==============================] - 40s 2ms/step - loss: 1.0357 - accuracy: 0.6166\n",
            "9684/9684 [==============================] - 17s 2ms/step\n",
            "[CV 2/3] END batch_size=16, model__lr=7.742636826811278e-05, model__n_units=20, model__optimizer=SGD; accuracy: (test=0.630) f1_score: (test=0.598) recall: (test=0.630) total time= 2.7min\n",
            "Epoch 1/3\n",
            "19368/19368 [==============================] - 44s 2ms/step - loss: 1.6417 - accuracy: 0.4202\n",
            "Epoch 2/3\n",
            "19368/19368 [==============================] - 44s 2ms/step - loss: 1.1495 - accuracy: 0.5898\n",
            "Epoch 3/3\n",
            "19368/19368 [==============================] - 42s 2ms/step - loss: 0.9993 - accuracy: 0.6220\n",
            "9684/9684 [==============================] - 16s 2ms/step\n",
            "[CV 3/3] END batch_size=16, model__lr=7.742636826811278e-05, model__n_units=20, model__optimizer=SGD; accuracy: (test=0.629) f1_score: (test=0.594) recall: (test=0.629) total time= 2.5min\n",
            "Epoch 1/3\n",
            "19367/19367 [==============================] - 44s 2ms/step - loss: 0.9177 - accuracy: 0.6534\n",
            "Epoch 2/3\n",
            "19367/19367 [==============================] - 41s 2ms/step - loss: 0.6653 - accuracy: 0.7277\n",
            "Epoch 3/3\n",
            "19367/19367 [==============================] - 41s 2ms/step - loss: 0.6355 - accuracy: 0.7351\n",
            "9684/9684 [==============================] - 17s 2ms/step\n",
            "[CV 1/3] END batch_size=16, model__lr=7.742636826811278e-05, model__n_units=20, model__optimizer=RMSprop; accuracy: (test=0.734) f1_score: (test=0.723) recall: (test=0.734) total time= 2.8min\n",
            "Epoch 1/3\n",
            "19368/19368 [==============================] - 44s 2ms/step - loss: 0.9434 - accuracy: 0.6423\n",
            "Epoch 2/3\n",
            "19368/19368 [==============================] - 44s 2ms/step - loss: 0.6598 - accuracy: 0.7264\n",
            "Epoch 3/3\n",
            "19368/19368 [==============================] - 46s 2ms/step - loss: 0.6275 - accuracy: 0.7359\n",
            "9684/9684 [==============================] - 17s 2ms/step\n",
            "[CV 2/3] END batch_size=16, model__lr=7.742636826811278e-05, model__n_units=20, model__optimizer=RMSprop; accuracy: (test=0.740) f1_score: (test=0.729) recall: (test=0.740) total time= 2.6min\n",
            "Epoch 1/3\n",
            "19368/19368 [==============================] - 47s 2ms/step - loss: 0.8696 - accuracy: 0.6620\n",
            "Epoch 2/3\n",
            "19368/19368 [==============================] - 45s 2ms/step - loss: 0.6681 - accuracy: 0.7241\n",
            "Epoch 3/3\n",
            "19368/19368 [==============================] - 46s 2ms/step - loss: 0.6421 - accuracy: 0.7309\n",
            "9684/9684 [==============================] - 18s 2ms/step\n",
            "[CV 3/3] END batch_size=16, model__lr=7.742636826811278e-05, model__n_units=20, model__optimizer=RMSprop; accuracy: (test=0.736) f1_score: (test=0.726) recall: (test=0.736) total time= 2.8min\n",
            "Epoch 1/3\n",
            "19367/19367 [==============================] - 51s 3ms/step - loss: 0.8112 - accuracy: 0.6835\n",
            "Epoch 2/3\n",
            "19367/19367 [==============================] - 48s 2ms/step - loss: 0.6351 - accuracy: 0.7338\n",
            "Epoch 3/3\n",
            "19367/19367 [==============================] - 45s 2ms/step - loss: 0.6087 - accuracy: 0.7443\n",
            "9684/9684 [==============================] - 17s 2ms/step\n",
            "[CV 1/3] END batch_size=16, model__lr=7.742636826811278e-05, model__n_units=30, model__optimizer=Adam; accuracy: (test=0.745) f1_score: (test=0.736) recall: (test=0.745) total time= 4.1min\n",
            "Epoch 1/3\n",
            "19368/19368 [==============================] - 47s 2ms/step - loss: 0.8686 - accuracy: 0.6623\n",
            "Epoch 2/3\n",
            "19368/19368 [==============================] - 46s 2ms/step - loss: 0.6374 - accuracy: 0.7306\n",
            "Epoch 3/3\n",
            "19368/19368 [==============================] - 44s 2ms/step - loss: 0.6095 - accuracy: 0.7395\n",
            "9684/9684 [==============================] - 16s 2ms/step\n",
            "[CV 2/3] END batch_size=16, model__lr=7.742636826811278e-05, model__n_units=30, model__optimizer=Adam; accuracy: (test=0.744) f1_score: (test=0.735) recall: (test=0.744) total time= 2.6min\n",
            "Epoch 1/3\n",
            "19368/19368 [==============================] - 47s 2ms/step - loss: 0.8086 - accuracy: 0.6812\n",
            "Epoch 2/3\n",
            "19368/19368 [==============================] - 45s 2ms/step - loss: 0.6363 - accuracy: 0.7316\n",
            "Epoch 3/3\n",
            "19368/19368 [==============================] - 45s 2ms/step - loss: 0.6082 - accuracy: 0.7399\n",
            "9684/9684 [==============================] - 17s 2ms/step\n",
            "[CV 3/3] END batch_size=16, model__lr=7.742636826811278e-05, model__n_units=30, model__optimizer=Adam; accuracy: (test=0.744) f1_score: (test=0.734) recall: (test=0.744) total time= 2.6min\n",
            "Epoch 1/3\n",
            "19367/19367 [==============================] - 44s 2ms/step - loss: 1.7274 - accuracy: 0.3836\n",
            "Epoch 2/3\n",
            "19367/19367 [==============================] - 44s 2ms/step - loss: 1.1123 - accuracy: 0.5783\n",
            "Epoch 3/3\n",
            "19367/19367 [==============================] - 42s 2ms/step - loss: 0.9592 - accuracy: 0.6208\n",
            "9684/9684 [==============================] - 16s 2ms/step\n",
            "[CV 1/3] END batch_size=16, model__lr=7.742636826811278e-05, model__n_units=30, model__optimizer=SGD; accuracy: (test=0.636) f1_score: (test=0.606) recall: (test=0.636) total time= 2.7min\n",
            "Epoch 1/3\n",
            "19368/19368 [==============================] - 44s 2ms/step - loss: 1.6828 - accuracy: 0.4183\n",
            "Epoch 2/3\n",
            "19368/19368 [==============================] - 42s 2ms/step - loss: 1.1842 - accuracy: 0.5888\n",
            "Epoch 3/3\n",
            "19368/19368 [==============================] - 45s 2ms/step - loss: 1.0075 - accuracy: 0.6422\n",
            "9684/9684 [==============================] - 17s 2ms/step\n",
            "[CV 2/3] END batch_size=16, model__lr=7.742636826811278e-05, model__n_units=30, model__optimizer=SGD; accuracy: (test=0.656) f1_score: (test=0.623) recall: (test=0.656) total time= 2.5min\n",
            "Epoch 1/3\n",
            "19368/19368 [==============================] - 44s 2ms/step - loss: 1.5014 - accuracy: 0.4621\n",
            "Epoch 2/3\n",
            "19368/19368 [==============================] - 48s 2ms/step - loss: 1.1013 - accuracy: 0.5710\n",
            "Epoch 3/3\n",
            "19368/19368 [==============================] - 42s 2ms/step - loss: 0.9618 - accuracy: 0.6323\n",
            "9684/9684 [==============================] - 18s 2ms/step\n",
            "[CV 3/3] END batch_size=16, model__lr=7.742636826811278e-05, model__n_units=30, model__optimizer=SGD; accuracy: (test=0.646) f1_score: (test=0.619) recall: (test=0.646) total time= 2.6min\n",
            "Epoch 1/3\n",
            "19367/19367 [==============================] - 43s 2ms/step - loss: 0.8050 - accuracy: 0.6865\n",
            "Epoch 2/3\n",
            "19367/19367 [==============================] - 43s 2ms/step - loss: 0.6453 - accuracy: 0.7326\n",
            "Epoch 3/3\n",
            "19367/19367 [==============================] - 44s 2ms/step - loss: 0.6201 - accuracy: 0.7411\n",
            "9684/9684 [==============================] - 16s 2ms/step\n",
            "[CV 1/3] END batch_size=16, model__lr=7.742636826811278e-05, model__n_units=30, model__optimizer=RMSprop; accuracy: (test=0.739) f1_score: (test=0.731) recall: (test=0.739) total time= 2.5min\n",
            "Epoch 1/3\n",
            "19368/19368 [==============================] - 46s 2ms/step - loss: 0.8123 - accuracy: 0.6790\n",
            "Epoch 2/3\n",
            "19368/19368 [==============================] - 45s 2ms/step - loss: 0.6380 - accuracy: 0.7308\n",
            "Epoch 3/3\n",
            "19368/19368 [==============================] - 44s 2ms/step - loss: 0.6123 - accuracy: 0.7391\n",
            "9684/9684 [==============================] - 19s 2ms/step\n",
            "[CV 2/3] END batch_size=16, model__lr=7.742636826811278e-05, model__n_units=30, model__optimizer=RMSprop; accuracy: (test=0.743) f1_score: (test=0.735) recall: (test=0.743) total time= 3.0min\n",
            "Epoch 1/3\n",
            "19368/19368 [==============================] - 46s 2ms/step - loss: 0.8594 - accuracy: 0.6699\n",
            "Epoch 2/3\n",
            "19368/19368 [==============================] - 45s 2ms/step - loss: 0.6552 - accuracy: 0.7277\n",
            "Epoch 3/3\n",
            "19368/19368 [==============================] - 45s 2ms/step - loss: 0.6245 - accuracy: 0.7379\n",
            "9684/9684 [==============================] - 18s 2ms/step\n",
            "[CV 3/3] END batch_size=16, model__lr=7.742636826811278e-05, model__n_units=30, model__optimizer=RMSprop; accuracy: (test=0.742) f1_score: (test=0.731) recall: (test=0.742) total time= 3.1min\n",
            "Epoch 1/3\n",
            "19367/19367 [==============================] - 45s 2ms/step - loss: 0.7998 - accuracy: 0.6789\n",
            "Epoch 2/3\n",
            "19367/19367 [==============================] - 45s 2ms/step - loss: 0.6240 - accuracy: 0.7353\n",
            "Epoch 3/3\n",
            "19367/19367 [==============================] - 44s 2ms/step - loss: 0.5953 - accuracy: 0.7464\n",
            "9684/9684 [==============================] - 16s 2ms/step\n",
            "[CV 1/3] END batch_size=16, model__lr=7.742636826811278e-05, model__n_units=40, model__optimizer=Adam; accuracy: (test=0.748) f1_score: (test=0.739) recall: (test=0.748) total time= 2.6min\n",
            "Epoch 1/3\n",
            "19368/19368 [==============================] - 45s 2ms/step - loss: 0.7829 - accuracy: 0.6881\n",
            "Epoch 2/3\n",
            "19368/19368 [==============================] - 45s 2ms/step - loss: 0.6229 - accuracy: 0.7366\n",
            "Epoch 3/3\n",
            "19368/19368 [==============================] - 44s 2ms/step - loss: 0.5949 - accuracy: 0.7464\n",
            "9684/9684 [==============================] - 20s 2ms/step\n",
            "[CV 2/3] END batch_size=16, model__lr=7.742636826811278e-05, model__n_units=40, model__optimizer=Adam; accuracy: (test=0.752) f1_score: (test=0.744) recall: (test=0.752) total time= 2.9min\n",
            "Epoch 1/3\n",
            "19368/19368 [==============================] - 48s 2ms/step - loss: 0.7959 - accuracy: 0.6824\n",
            "Epoch 2/3\n",
            "19368/19368 [==============================] - 48s 2ms/step - loss: 0.6264 - accuracy: 0.7351\n",
            "Epoch 3/3\n",
            "19368/19368 [==============================] - 48s 2ms/step - loss: 0.6002 - accuracy: 0.7442\n",
            "9684/9684 [==============================] - 17s 2ms/step\n",
            "[CV 3/3] END batch_size=16, model__lr=7.742636826811278e-05, model__n_units=40, model__optimizer=Adam; accuracy: (test=0.747) f1_score: (test=0.738) recall: (test=0.747) total time= 3.7min\n",
            "Epoch 1/3\n",
            "19367/19367 [==============================] - 44s 2ms/step - loss: 1.4721 - accuracy: 0.4597\n",
            "Epoch 2/3\n",
            "19367/19367 [==============================] - 42s 2ms/step - loss: 1.0566 - accuracy: 0.6040\n",
            "Epoch 3/3\n",
            "19367/19367 [==============================] - 43s 2ms/step - loss: 0.9323 - accuracy: 0.6433\n",
            "9684/9684 [==============================] - 18s 2ms/step\n",
            "[CV 1/3] END batch_size=16, model__lr=7.742636826811278e-05, model__n_units=40, model__optimizer=SGD; accuracy: (test=0.653) f1_score: (test=0.623) recall: (test=0.653) total time= 3.1min\n",
            "Epoch 1/3\n",
            "19368/19368 [==============================] - 45s 2ms/step - loss: 1.5428 - accuracy: 0.4141\n",
            "Epoch 2/3\n",
            "19368/19368 [==============================] - 43s 2ms/step - loss: 1.1145 - accuracy: 0.5723\n",
            "Epoch 3/3\n",
            "19368/19368 [==============================] - 44s 2ms/step - loss: 0.9743 - accuracy: 0.6163\n",
            "9684/9684 [==============================] - 19s 2ms/step\n",
            "[CV 2/3] END batch_size=16, model__lr=7.742636826811278e-05, model__n_units=40, model__optimizer=SGD; accuracy: (test=0.631) f1_score: (test=0.596) recall: (test=0.631) total time= 3.1min\n",
            "Epoch 1/3\n",
            "19368/19368 [==============================] - 42s 2ms/step - loss: 1.5111 - accuracy: 0.4559\n",
            "Epoch 2/3\n",
            "19368/19368 [==============================] - 40s 2ms/step - loss: 1.0797 - accuracy: 0.5761\n",
            "Epoch 3/3\n",
            "19368/19368 [==============================] - 42s 2ms/step - loss: 0.9316 - accuracy: 0.6307\n",
            "9684/9684 [==============================] - 17s 2ms/step\n",
            "[CV 3/3] END batch_size=16, model__lr=7.742636826811278e-05, model__n_units=40, model__optimizer=SGD; accuracy: (test=0.647) f1_score: (test=0.619) recall: (test=0.647) total time= 2.7min\n",
            "Epoch 1/3\n",
            "19367/19367 [==============================] - 47s 2ms/step - loss: 0.7896 - accuracy: 0.6911\n",
            "Epoch 2/3\n",
            "19367/19367 [==============================] - 44s 2ms/step - loss: 0.6280 - accuracy: 0.7366\n",
            "Epoch 3/3\n",
            "19367/19367 [==============================] - 43s 2ms/step - loss: 0.6024 - accuracy: 0.7456\n",
            "9684/9684 [==============================] - 16s 2ms/step\n",
            "[CV 1/3] END batch_size=16, model__lr=7.742636826811278e-05, model__n_units=40, model__optimizer=RMSprop; accuracy: (test=0.747) f1_score: (test=0.739) recall: (test=0.747) total time= 2.7min\n",
            "Epoch 1/3\n",
            "19368/19368 [==============================] - 46s 2ms/step - loss: 0.7875 - accuracy: 0.6891\n",
            "Epoch 2/3\n",
            "19368/19368 [==============================] - 42s 2ms/step - loss: 0.6346 - accuracy: 0.7362\n",
            "Epoch 3/3\n",
            "19368/19368 [==============================] - 44s 2ms/step - loss: 0.6064 - accuracy: 0.7454\n",
            "9684/9684 [==============================] - 16s 2ms/step\n",
            "[CV 2/3] END batch_size=16, model__lr=7.742636826811278e-05, model__n_units=40, model__optimizer=RMSprop; accuracy: (test=0.751) f1_score: (test=0.742) recall: (test=0.751) total time= 2.6min\n",
            "Epoch 1/3\n",
            "19368/19368 [==============================] - 47s 2ms/step - loss: 0.7970 - accuracy: 0.6888\n",
            "Epoch 2/3\n",
            "19368/19368 [==============================] - 44s 2ms/step - loss: 0.6391 - accuracy: 0.7356\n",
            "Epoch 3/3\n",
            "19368/19368 [==============================] - 45s 2ms/step - loss: 0.6102 - accuracy: 0.7458\n",
            "9684/9684 [==============================] - 16s 2ms/step\n",
            "[CV 3/3] END batch_size=16, model__lr=7.742636826811278e-05, model__n_units=40, model__optimizer=RMSprop; accuracy: (test=0.751) f1_score: (test=0.742) recall: (test=0.751) total time= 2.7min\n",
            "Epoch 1/3\n",
            "19367/19367 [==============================] - 46s 2ms/step - loss: 0.7600 - accuracy: 0.6958\n",
            "Epoch 2/3\n",
            "19367/19367 [==============================] - 44s 2ms/step - loss: 0.6342 - accuracy: 0.7328\n",
            "Epoch 3/3\n",
            "19367/19367 [==============================] - 48s 2ms/step - loss: 0.6141 - accuracy: 0.7389\n",
            "9684/9684 [==============================] - 17s 2ms/step\n",
            "[CV 1/3] END batch_size=16, model__lr=0.00021544346900318823, model__n_units=10, model__optimizer=Adam; accuracy: (test=0.738) f1_score: (test=0.726) recall: (test=0.738) total time= 3.0min\n",
            "Epoch 1/3\n",
            "19368/19368 [==============================] - 48s 2ms/step - loss: 0.7641 - accuracy: 0.6902\n",
            "Epoch 2/3\n",
            "19368/19368 [==============================] - 46s 2ms/step - loss: 0.6342 - accuracy: 0.7306\n",
            "Epoch 3/3\n",
            "19368/19368 [==============================] - 45s 2ms/step - loss: 0.6171 - accuracy: 0.7356\n",
            "9684/9684 [==============================] - 18s 2ms/step\n",
            "[CV 2/3] END batch_size=16, model__lr=0.00021544346900318823, model__n_units=10, model__optimizer=Adam; accuracy: (test=0.739) f1_score: (test=0.728) recall: (test=0.739) total time= 2.8min\n",
            "Epoch 1/3\n",
            "19368/19368 [==============================] - 45s 2ms/step - loss: 0.8134 - accuracy: 0.6839\n",
            "Epoch 2/3\n",
            "19368/19368 [==============================] - 44s 2ms/step - loss: 0.6433 - accuracy: 0.7288\n",
            "Epoch 3/3\n",
            "19368/19368 [==============================] - 45s 2ms/step - loss: 0.6230 - accuracy: 0.7358\n",
            "9684/9684 [==============================] - 16s 2ms/step\n",
            "[CV 3/3] END batch_size=16, model__lr=0.00021544346900318823, model__n_units=10, model__optimizer=Adam; accuracy: (test=0.740) f1_score: (test=0.724) recall: (test=0.740) total time= 2.6min\n",
            "Epoch 1/3\n",
            "19367/19367 [==============================] - 41s 2ms/step - loss: 1.3773 - accuracy: 0.4841\n",
            "Epoch 2/3\n",
            "19367/19367 [==============================] - 38s 2ms/step - loss: 0.9452 - accuracy: 0.6133\n",
            "Epoch 3/3\n",
            "19367/19367 [==============================] - 39s 2ms/step - loss: 0.8424 - accuracy: 0.6424\n",
            "9684/9684 [==============================] - 16s 2ms/step\n",
            "[CV 1/3] END batch_size=16, model__lr=0.00021544346900318823, model__n_units=10, model__optimizer=SGD; accuracy: (test=0.653) f1_score: (test=0.626) recall: (test=0.653) total time= 2.7min\n",
            "Epoch 1/3\n",
            "19368/19368 [==============================] - 40s 2ms/step - loss: 1.3500 - accuracy: 0.4971\n",
            "Epoch 2/3\n",
            "19368/19368 [==============================] - 42s 2ms/step - loss: 0.9248 - accuracy: 0.6435\n",
            "Epoch 3/3\n",
            "19368/19368 [==============================] - 40s 2ms/step - loss: 0.8334 - accuracy: 0.6667\n",
            "9684/9684 [==============================] - 16s 2ms/step\n",
            "[CV 2/3] END batch_size=16, model__lr=0.00021544346900318823, model__n_units=10, model__optimizer=SGD; accuracy: (test=0.675) f1_score: (test=0.652) recall: (test=0.675) total time= 2.7min\n",
            "Epoch 1/3\n",
            "19368/19368 [==============================] - 40s 2ms/step - loss: 1.4028 - accuracy: 0.4894\n",
            "Epoch 2/3\n",
            "19368/19368 [==============================] - 40s 2ms/step - loss: 0.9358 - accuracy: 0.6430\n",
            "Epoch 3/3\n",
            "19368/19368 [==============================] - 43s 2ms/step - loss: 0.8483 - accuracy: 0.6682\n",
            "9684/9684 [==============================] - 16s 2ms/step\n",
            "[CV 3/3] END batch_size=16, model__lr=0.00021544346900318823, model__n_units=10, model__optimizer=SGD; accuracy: (test=0.677) f1_score: (test=0.647) recall: (test=0.677) total time= 2.4min\n",
            "Epoch 1/3\n",
            "19367/19367 [==============================] - 42s 2ms/step - loss: 0.7670 - accuracy: 0.6885\n",
            "Epoch 2/3\n",
            "19367/19367 [==============================] - 42s 2ms/step - loss: 0.6478 - accuracy: 0.7299\n",
            "Epoch 3/3\n",
            "19367/19367 [==============================] - 41s 2ms/step - loss: 0.6369 - accuracy: 0.7355\n",
            "9684/9684 [==============================] - 16s 2ms/step\n",
            "[CV 1/3] END batch_size=16, model__lr=0.00021544346900318823, model__n_units=10, model__optimizer=RMSprop; accuracy: (test=0.735) f1_score: (test=0.723) recall: (test=0.735) total time= 2.7min\n",
            "Epoch 1/3\n",
            "19368/19368 [==============================] - 45s 2ms/step - loss: 0.7896 - accuracy: 0.6830\n",
            "Epoch 2/3\n",
            "19368/19368 [==============================] - 40s 2ms/step - loss: 0.6533 - accuracy: 0.7239\n",
            "Epoch 3/3\n",
            "19368/19368 [==============================] - 42s 2ms/step - loss: 0.6396 - accuracy: 0.7301\n",
            "9684/9684 [==============================] - 16s 2ms/step\n",
            "[CV 2/3] END batch_size=16, model__lr=0.00021544346900318823, model__n_units=10, model__optimizer=RMSprop; accuracy: (test=0.733) f1_score: (test=0.723) recall: (test=0.733) total time= 2.5min\n",
            "Epoch 1/3\n",
            "19368/19368 [==============================] - 42s 2ms/step - loss: 0.7871 - accuracy: 0.6932\n",
            "Epoch 2/3\n",
            "19368/19368 [==============================] - 45s 2ms/step - loss: 0.6419 - accuracy: 0.7299\n",
            "Epoch 3/3\n",
            "19368/19368 [==============================] - 42s 2ms/step - loss: 0.6251 - accuracy: 0.7368\n",
            "9684/9684 [==============================] - 16s 2ms/step\n",
            "[CV 3/3] END batch_size=16, model__lr=0.00021544346900318823, model__n_units=10, model__optimizer=RMSprop; accuracy: (test=0.741) f1_score: (test=0.727) recall: (test=0.741) total time= 2.7min\n",
            "Epoch 1/3\n",
            "19367/19367 [==============================] - 42s 2ms/step - loss: 0.7102 - accuracy: 0.7092\n",
            "Epoch 2/3\n",
            "19367/19367 [==============================] - 42s 2ms/step - loss: 0.6082 - accuracy: 0.7402\n",
            "Epoch 3/3\n",
            "19367/19367 [==============================] - 42s 2ms/step - loss: 0.5856 - accuracy: 0.7496\n",
            "9684/9684 [==============================] - 15s 2ms/step\n",
            "[CV 1/3] END batch_size=16, model__lr=0.00021544346900318823, model__n_units=20, model__optimizer=Adam; accuracy: (test=0.750) f1_score: (test=0.742) recall: (test=0.750) total time= 2.4min\n",
            "Epoch 1/3\n",
            "19368/19368 [==============================] - 42s 2ms/step - loss: 0.7302 - accuracy: 0.7043\n",
            "Epoch 2/3\n",
            "19368/19368 [==============================] - 41s 2ms/step - loss: 0.6070 - accuracy: 0.7397\n",
            "Epoch 3/3\n",
            "19368/19368 [==============================] - 41s 2ms/step - loss: 0.5868 - accuracy: 0.7475\n",
            "9684/9684 [==============================] - 15s 2ms/step\n",
            "[CV 2/3] END batch_size=16, model__lr=0.00021544346900318823, model__n_units=20, model__optimizer=Adam; accuracy: (test=0.752) f1_score: (test=0.743) recall: (test=0.752) total time= 2.4min\n",
            "Epoch 1/3\n",
            "19368/19368 [==============================] - 42s 2ms/step - loss: 0.7271 - accuracy: 0.7057\n",
            "Epoch 2/3\n",
            "19368/19368 [==============================] - 40s 2ms/step - loss: 0.6031 - accuracy: 0.7436\n",
            "Epoch 3/3\n",
            "19368/19368 [==============================] - 40s 2ms/step - loss: 0.5837 - accuracy: 0.7511\n",
            "9684/9684 [==============================] - 15s 2ms/step\n",
            "[CV 3/3] END batch_size=16, model__lr=0.00021544346900318823, model__n_units=20, model__optimizer=Adam; accuracy: (test=0.754) f1_score: (test=0.747) recall: (test=0.754) total time= 2.4min\n",
            "Epoch 1/3\n",
            "19367/19367 [==============================] - 37s 2ms/step - loss: 1.2937 - accuracy: 0.5136\n",
            "Epoch 2/3\n",
            "19367/19367 [==============================] - 40s 2ms/step - loss: 0.8686 - accuracy: 0.6475\n",
            "Epoch 3/3\n",
            "19367/19367 [==============================] - 37s 2ms/step - loss: 0.7846 - accuracy: 0.6784\n",
            "9684/9684 [==============================] - 16s 2ms/step\n",
            "[CV 1/3] END batch_size=16, model__lr=0.00021544346900318823, model__n_units=20, model__optimizer=SGD; accuracy: (test=0.684) f1_score: (test=0.663) recall: (test=0.684) total time= 2.7min\n",
            "Epoch 1/3\n",
            "19368/19368 [==============================] - 40s 2ms/step - loss: 1.3572 - accuracy: 0.4855\n",
            "Epoch 2/3\n",
            "19368/19368 [==============================] - 41s 2ms/step - loss: 0.9061 - accuracy: 0.6379\n",
            "Epoch 3/3\n",
            "19368/19368 [==============================] - 45s 2ms/step - loss: 0.8139 - accuracy: 0.6744\n",
            "9684/9684 [==============================] - 15s 2ms/step\n",
            "[CV 2/3] END batch_size=16, model__lr=0.00021544346900318823, model__n_units=20, model__optimizer=SGD; accuracy: (test=0.687) f1_score: (test=0.662) recall: (test=0.687) total time= 2.7min\n",
            "Epoch 1/3\n",
            "19368/19368 [==============================] - 41s 2ms/step - loss: 1.2584 - accuracy: 0.5438\n",
            "Epoch 2/3\n",
            "19368/19368 [==============================] - 39s 2ms/step - loss: 0.8768 - accuracy: 0.6490\n",
            "Epoch 3/3\n",
            "19368/19368 [==============================] - 40s 2ms/step - loss: 0.7912 - accuracy: 0.6763\n",
            "9684/9684 [==============================] - 16s 2ms/step\n",
            "[CV 3/3] END batch_size=16, model__lr=0.00021544346900318823, model__n_units=20, model__optimizer=SGD; accuracy: (test=0.686) f1_score: (test=0.661) recall: (test=0.686) total time= 2.7min\n",
            "Epoch 1/3\n",
            "19367/19367 [==============================] - 41s 2ms/step - loss: 0.7366 - accuracy: 0.7009\n",
            "Epoch 2/3\n",
            "19367/19367 [==============================] - 42s 2ms/step - loss: 0.6169 - accuracy: 0.7401\n",
            "Epoch 3/3\n",
            "19367/19367 [==============================] - 41s 2ms/step - loss: 0.6012 - accuracy: 0.7479\n",
            "9684/9684 [==============================] - 16s 2ms/step\n",
            "[CV 1/3] END batch_size=16, model__lr=0.00021544346900318823, model__n_units=20, model__optimizer=RMSprop; accuracy: (test=0.747) f1_score: (test=0.739) recall: (test=0.747) total time= 2.4min\n",
            "Epoch 1/3\n",
            "19368/19368 [==============================] - 43s 2ms/step - loss: 0.7172 - accuracy: 0.7045\n",
            "Epoch 2/3\n",
            "19368/19368 [==============================] - 45s 2ms/step - loss: 0.6108 - accuracy: 0.7412\n",
            "Epoch 3/3\n",
            "19368/19368 [==============================] - 40s 2ms/step - loss: 0.5937 - accuracy: 0.7486\n",
            "9684/9684 [==============================] - 16s 2ms/step\n",
            "[CV 2/3] END batch_size=16, model__lr=0.00021544346900318823, model__n_units=20, model__optimizer=RMSprop; accuracy: (test=0.750) f1_score: (test=0.742) recall: (test=0.750) total time= 2.7min\n",
            "Epoch 1/3\n",
            "19368/19368 [==============================] - 46s 2ms/step - loss: 0.7239 - accuracy: 0.7044\n",
            "Epoch 2/3\n",
            "19368/19368 [==============================] - 44s 2ms/step - loss: 0.6110 - accuracy: 0.7389\n",
            "Epoch 3/3\n",
            "19368/19368 [==============================] - 44s 2ms/step - loss: 0.5937 - accuracy: 0.7458\n",
            "9684/9684 [==============================] - 16s 2ms/step\n",
            "[CV 3/3] END batch_size=16, model__lr=0.00021544346900318823, model__n_units=20, model__optimizer=RMSprop; accuracy: (test=0.750) f1_score: (test=0.743) recall: (test=0.750) total time= 2.7min\n",
            "Epoch 1/3\n",
            "19367/19367 [==============================] - 43s 2ms/step - loss: 0.6894 - accuracy: 0.7162\n",
            "Epoch 2/3\n",
            "19367/19367 [==============================] - 41s 2ms/step - loss: 0.5922 - accuracy: 0.7471\n",
            "Epoch 3/3\n",
            "19367/19367 [==============================] - 41s 2ms/step - loss: 0.5716 - accuracy: 0.7560\n",
            "9684/9684 [==============================] - 15s 2ms/step\n",
            "[CV 1/3] END batch_size=16, model__lr=0.00021544346900318823, model__n_units=30, model__optimizer=Adam; accuracy: (test=0.754) f1_score: (test=0.746) recall: (test=0.754) total time= 2.7min\n",
            "Epoch 1/3\n",
            "19368/19368 [==============================] - 44s 2ms/step - loss: 0.7056 - accuracy: 0.7101\n",
            "Epoch 2/3\n",
            "19368/19368 [==============================] - 44s 2ms/step - loss: 0.5890 - accuracy: 0.7475\n",
            "Epoch 3/3\n",
            "19368/19368 [==============================] - 43s 2ms/step - loss: 0.5664 - accuracy: 0.7578\n",
            "9684/9684 [==============================] - 15s 2ms/step\n",
            "[CV 2/3] END batch_size=16, model__lr=0.00021544346900318823, model__n_units=30, model__optimizer=Adam; accuracy: (test=0.761) f1_score: (test=0.756) recall: (test=0.761) total time= 2.7min\n",
            "Epoch 1/3\n",
            "19368/19368 [==============================] - 48s 2ms/step - loss: 0.6922 - accuracy: 0.7174\n",
            "Epoch 2/3\n",
            "19368/19368 [==============================] - 44s 2ms/step - loss: 0.5902 - accuracy: 0.7480\n",
            "Epoch 3/3\n",
            "19368/19368 [==============================] - 44s 2ms/step - loss: 0.5681 - accuracy: 0.7564\n",
            "9684/9684 [==============================] - 15s 2ms/step\n",
            "[CV 3/3] END batch_size=16, model__lr=0.00021544346900318823, model__n_units=30, model__optimizer=Adam; accuracy: (test=0.760) f1_score: (test=0.753) recall: (test=0.760) total time= 2.7min\n",
            "Epoch 1/3\n",
            "19367/19367 [==============================] - 40s 2ms/step - loss: 1.2133 - accuracy: 0.5465\n",
            "Epoch 2/3\n",
            "19367/19367 [==============================] - 41s 2ms/step - loss: 0.8575 - accuracy: 0.6622\n",
            "Epoch 3/3\n",
            "19367/19367 [==============================] - 41s 2ms/step - loss: 0.7847 - accuracy: 0.6859\n",
            "9684/9684 [==============================] - 16s 2ms/step\n",
            "[CV 1/3] END batch_size=16, model__lr=0.00021544346900318823, model__n_units=30, model__optimizer=SGD; accuracy: (test=0.695) f1_score: (test=0.670) recall: (test=0.695) total time= 2.7min\n",
            "Epoch 1/3\n",
            "19368/19368 [==============================] - 41s 2ms/step - loss: 1.3013 - accuracy: 0.5498\n",
            "Epoch 2/3\n",
            "19368/19368 [==============================] - 40s 2ms/step - loss: 0.8783 - accuracy: 0.6644\n",
            "Epoch 3/3\n",
            "19368/19368 [==============================] - 42s 2ms/step - loss: 0.7828 - accuracy: 0.6903\n",
            "9684/9684 [==============================] - 15s 2ms/step\n",
            "[CV 2/3] END batch_size=16, model__lr=0.00021544346900318823, model__n_units=30, model__optimizer=SGD; accuracy: (test=0.700) f1_score: (test=0.678) recall: (test=0.700) total time= 2.7min\n",
            "Epoch 1/3\n",
            "19368/19368 [==============================] - 39s 2ms/step - loss: 1.2245 - accuracy: 0.5548\n",
            "Epoch 2/3\n",
            "19368/19368 [==============================] - 38s 2ms/step - loss: 0.8635 - accuracy: 0.6625\n",
            "Epoch 3/3\n",
            "19368/19368 [==============================] - 42s 2ms/step - loss: 0.7785 - accuracy: 0.6870\n",
            "9684/9684 [==============================] - 16s 2ms/step\n",
            "[CV 3/3] END batch_size=16, model__lr=0.00021544346900318823, model__n_units=30, model__optimizer=SGD; accuracy: (test=0.696) f1_score: (test=0.677) recall: (test=0.696) total time= 2.3min\n",
            "Epoch 1/3\n",
            "19367/19367 [==============================] - 44s 2ms/step - loss: 0.7061 - accuracy: 0.7159\n",
            "Epoch 2/3\n",
            "19367/19367 [==============================] - 40s 2ms/step - loss: 0.6085 - accuracy: 0.7449\n",
            "Epoch 3/3\n",
            "19367/19367 [==============================] - 39s 2ms/step - loss: 0.5957 - accuracy: 0.7528\n",
            "9684/9684 [==============================] - 16s 2ms/step\n",
            "[CV 1/3] END batch_size=16, model__lr=0.00021544346900318823, model__n_units=30, model__optimizer=RMSprop; accuracy: (test=0.753) f1_score: (test=0.746) recall: (test=0.753) total time= 2.4min\n",
            "Epoch 1/3\n",
            "19368/19368 [==============================] - 40s 2ms/step - loss: 0.6973 - accuracy: 0.7152\n",
            "Epoch 2/3\n",
            "19368/19368 [==============================] - 43s 2ms/step - loss: 0.5995 - accuracy: 0.7466\n",
            "Epoch 3/3\n",
            "19368/19368 [==============================] - 43s 2ms/step - loss: 0.5815 - accuracy: 0.7537\n",
            "9684/9684 [==============================] - 15s 2ms/step\n",
            "[CV 2/3] END batch_size=16, model__lr=0.00021544346900318823, model__n_units=30, model__optimizer=RMSprop; accuracy: (test=0.756) f1_score: (test=0.749) recall: (test=0.756) total time= 2.8min\n",
            "Epoch 1/3\n",
            "19368/19368 [==============================] - 42s 2ms/step - loss: 0.7051 - accuracy: 0.7126\n",
            "Epoch 2/3\n",
            " 6913/19368 [=========>....................] - ETA: 26s - loss: 0.6055 - accuracy: 0.7410"
          ]
        }
      ],
      "source": [
        "# GridSearchCV\n",
        "grid_search = GridSearchCV(estimator=model, param_grid=param_grid, scoring=scoring, refit='accuracy', cv=3, verbose=3)\n",
        "\n",
        "# Ejecución de la búsqueda en cuadrícula\n",
        "grid_search.fit(X_train_cover, y_train_cover)\n",
        "\n",
        "# Muestra los mejores parámetros encontrados\n",
        "print(grid_search.best_params_)\n",
        "\n",
        "# Muestra el mejor resultado\n",
        "print(grid_search.best_score_)\n",
        "\n",
        "# Use el \"mejor estimador\" para las predicciones\n",
        "y_pred = grid_search.best_estimator_.predict(X_test_cover)\n",
        "\n",
        "# Convertir las predicciones a formato de clase única si es necesario\n",
        "y_test_cover = np.argmax(y_test_cover, axis=1)\n",
        "y_pred  = np.argmax(y_pred, axis=-1)\n",
        "\n",
        "# Calcular y mostrar las métricas de rendimiento\n",
        "accuracy = accuracy_score(y_test_cover, y_pred )\n",
        "f1 = f1_score(y_test_cover, y_pred, average='weighted')  # asumir multiclase y cada clase tiene un peso igual\n",
        "recall = recall_score(y_test_cover, y_pred, average='weighted')  # asumir multiclase y cada clase tiene un peso igual\n",
        "\n",
        "print(f\"Accuracy: {accuracy}\")\n",
        "print(f\"F1 Score: {f1}\")\n",
        "print(f\"Recall: {recall}\")"
      ]
    },
    {
      "cell_type": "code",
      "execution_count": null,
      "metadata": {
        "id": "AwwTtZSDtTDh"
      },
      "outputs": [],
      "source": [
        "# RandomSearchCV\n",
        "random_search = RandomizedSearchCV(estimator=model, param_distributions=param_grid, scoring=scoring, refit='accuracy', cv=3, n_iter=10)\n",
        "\n",
        "# Ejecución de la búsqueda aleatoria\n",
        "random_search.fit(X_train_cover, y_train_cover)\n",
        "\n",
        "# Muestra los mejores parámetros encontrados\n",
        "print(random_search.best_params_)\n",
        "\n",
        "# Muestra el mejor resultado\n",
        "print(random_search.best_score_)\n",
        "\n",
        "# Use el \"mejor estimador\" para las predicciones\n",
        "y_pred = random_search.best_estimator_.predict(X_test_cover)\n",
        "\n",
        "# Convertir las predicciones a formato de clase única si es necesario\n",
        "y_test_cover = np.argmax(y_test_cover, axis=1)\n",
        "y_pred  = np.argmax(y_pred, axis=-1)\n",
        "\n",
        "# Calcular y mostrar las métricas de rendimiento\n",
        "accuracy = accuracy_score(y_test_cover, y_pred)\n",
        "f1 = f1_score(y_test_cover, y_pred, average='weighted')  # asumir multiclase y cada clase tiene un peso igual\n",
        "recall = recall_score(y_test_cover, y_pred, average='weighted')  # asumir multiclase y cada clase tiene un peso igual\n",
        "\n",
        "print(f\"Accuracy: {accuracy}\")\n",
        "print(f\"F1 Score: {f1}\")\n",
        "print(f\"Recall: {recall}\")"
      ]
    },
    {
      "cell_type": "markdown",
      "metadata": {
        "id": "Fb19XoRjks8j"
      },
      "source": [
        "### Keras Tuner"
      ]
    },
    {
      "cell_type": "code",
      "execution_count": null,
      "metadata": {
        "id": "0z-ycZw5ks8j"
      },
      "outputs": [],
      "source": [
        "def build_model(hp):\n",
        "    model = keras.Sequential()\n",
        "    model.add(layers.Dense(units=hp.Int('units', min_value=32, max_value=512, step=32),\n",
        "                           activation='relu', input_shape=(X_train_cover.shape[1],)))\n",
        "    model.add(layers.Dense(7, activation='softmax'))\n",
        "\n",
        "    # Search for an optimal learning rate\n",
        "    hp_learning_rate = hp.Choice('learning_rate', values=[1e-2, 1e-3, 1e-4])\n",
        "\n",
        "    model.compile(optimizer=Adam(learning_rate=hp_learning_rate),\n",
        "                  loss='categorical_crossentropy',\n",
        "                  metrics=['accuracy',\n",
        "                           metrics.Recall(name='recall'),\n",
        "                           metrics.Precision(name='precision')])\n",
        "\n",
        "    return model"
      ]
    },
    {
      "cell_type": "code",
      "execution_count": null,
      "metadata": {
        "colab": {
          "base_uri": "https://localhost:8080/"
        },
        "id": "AJpY1GrV0z_x",
        "outputId": "ea571e98-0673-436c-fb76-508b395fdbe2"
      },
      "outputs": [
        {
          "name": "stdout",
          "output_type": "stream",
          "text": [
            "Trial 5 Complete [00h 16m 15s]\n",
            "val_accuracy: 0.8148470123608907\n",
            "\n",
            "Best val_accuracy So Far: 0.8148470123608907\n",
            "Total elapsed time: 01h 26m 07s\n",
            "Results summary\n",
            "Results in random_search/covertype\n",
            "Showing 10 best trials\n",
            "Objective(name=\"val_accuracy\", direction=\"max\")\n",
            "\n",
            "Trial 4 summary\n",
            "Hyperparameters:\n",
            "units: 64\n",
            "learning_rate: 0.001\n",
            "Score: 0.8148470123608907\n",
            "\n",
            "Trial 2 summary\n",
            "Hyperparameters:\n",
            "units: 384\n",
            "learning_rate: 0.0001\n",
            "Score: 0.8058684666951498\n",
            "\n",
            "Trial 3 summary\n",
            "Hyperparameters:\n",
            "units: 320\n",
            "learning_rate: 0.0001\n",
            "Score: 0.8023717204729716\n",
            "\n",
            "Trial 1 summary\n",
            "Hyperparameters:\n",
            "units: 256\n",
            "learning_rate: 0.0001\n",
            "Score: 0.7989897131919861\n",
            "\n",
            "Trial 0 summary\n",
            "Hyperparameters:\n",
            "units: 32\n",
            "learning_rate: 0.0001\n",
            "Score: 0.7575851281483968\n"
          ]
        }
      ],
      "source": [
        "# For Random Search\n",
        "tuner = RandomSearch(\n",
        "    build_model,\n",
        "    objective='val_accuracy',\n",
        "    max_trials=5,\n",
        "    executions_per_trial=3,\n",
        "    directory='random_search',\n",
        "    project_name='covertype')\n",
        "\n",
        "tuner.search_space_summary()\n",
        "\n",
        "tuner.search(X_train_cover, y_train_cover,\n",
        "             epochs=5,\n",
        "             validation_data=(X_test_cover, y_test_cover))\n",
        "\n",
        "tuner.results_summary()"
      ]
    },
    {
      "cell_type": "code",
      "execution_count": null,
      "metadata": {
        "colab": {
          "base_uri": "https://localhost:8080/"
        },
        "id": "51Mb-oXPptBq",
        "outputId": "205f9f42-d31a-4744-8302-23f0cb8a2342"
      },
      "outputs": [
        {
          "name": "stdout",
          "output_type": "stream",
          "text": [
            "Trial 5 Complete [00h 05m 16s]\n",
            "val_accuracy: 0.8200820684432983\n",
            "\n",
            "Best val_accuracy So Far: 0.8200820684432983\n",
            "Total elapsed time: 00h 29m 23s\n",
            "Results summary\n",
            "Results in grid_search/covertype\n",
            "Showing 10 best trials\n",
            "Objective(name=\"val_accuracy\", direction=\"max\")\n",
            "\n",
            "Trial 4 summary\n",
            "Hyperparameters:\n",
            "units: 64\n",
            "learning_rate: 0.001\n",
            "Score: 0.8200820684432983\n",
            "\n",
            "Trial 3 summary\n",
            "Hyperparameters:\n",
            "units: 64\n",
            "learning_rate: 0.01\n",
            "Score: 0.7920793890953064\n",
            "\n",
            "Trial 1 summary\n",
            "Hyperparameters:\n",
            "units: 32\n",
            "learning_rate: 0.001\n",
            "Score: 0.7870880961418152\n",
            "\n",
            "Trial 0 summary\n",
            "Hyperparameters:\n",
            "units: 32\n",
            "learning_rate: 0.01\n",
            "Score: 0.7784824967384338\n",
            "\n",
            "Trial 2 summary\n",
            "Hyperparameters:\n",
            "units: 32\n",
            "learning_rate: 0.0001\n",
            "Score: 0.7603848576545715\n"
          ]
        }
      ],
      "source": [
        "# For Grid Search\n",
        "grid_tuner = GridSearch(\n",
        "    build_model,\n",
        "    objective='val_accuracy',\n",
        "    max_trials=5,\n",
        "    directory='grid_search',\n",
        "    project_name='covertype')\n",
        "\n",
        "grid_tuner.search(X_train_cover, y_train_cover,\n",
        "             epochs=5,\n",
        "             validation_data=(X_test_cover, y_test_cover))\n",
        "\n",
        "grid_tuner.results_summary()"
      ]
    },
    {
      "cell_type": "code",
      "execution_count": null,
      "metadata": {
        "colab": {
          "base_uri": "https://localhost:8080/"
        },
        "id": "MubuelDzpuxW",
        "outputId": "3a4ef8ff-c223-4665-be5a-9d8012a18185"
      },
      "outputs": [
        {
          "name": "stdout",
          "output_type": "stream",
          "text": [
            "Trial 5 Complete [00h 05m 23s]\n",
            "val_accuracy: 0.8583857417106628\n",
            "\n",
            "Best val_accuracy So Far: 0.859065592288971\n",
            "Total elapsed time: 00h 26m 59s\n",
            "Results summary\n",
            "Results in bayesian_optimization/covertype\n",
            "Showing 10 best trials\n",
            "Objective(name=\"val_accuracy\", direction=\"max\")\n",
            "\n",
            "Trial 3 summary\n",
            "Hyperparameters:\n",
            "units: 448\n",
            "learning_rate: 0.001\n",
            "Score: 0.859065592288971\n",
            "\n",
            "Trial 4 summary\n",
            "Hyperparameters:\n",
            "units: 512\n",
            "learning_rate: 0.001\n",
            "Score: 0.8583857417106628\n",
            "\n",
            "Trial 2 summary\n",
            "Hyperparameters:\n",
            "units: 480\n",
            "learning_rate: 0.001\n",
            "Score: 0.8573444485664368\n",
            "\n",
            "Trial 0 summary\n",
            "Hyperparameters:\n",
            "units: 448\n",
            "learning_rate: 0.01\n",
            "Score: 0.8043165802955627\n",
            "\n",
            "Trial 1 summary\n",
            "Hyperparameters:\n",
            "units: 384\n",
            "learning_rate: 0.01\n",
            "Score: 0.802526593208313\n"
          ]
        }
      ],
      "source": [
        "# For BayesianOptimization\n",
        "bayesian_tuner = BayesianOptimization(\n",
        "    build_model,\n",
        "    objective='val_accuracy',\n",
        "    max_trials=5,\n",
        "    directory='bayesian_optimization',\n",
        "    project_name='covertype')\n",
        "\n",
        "bayesian_tuner.search(X_train_cover, y_train_cover,\n",
        "             epochs=5,\n",
        "             validation_data=(X_test_cover, y_test_cover))\n",
        "\n",
        "bayesian_tuner.results_summary()"
      ]
    }
  ],
  "metadata": {
    "colab": {
      "provenance": []
    },
    "kernelspec": {
      "display_name": "Python 3",
      "name": "python3"
    },
    "language_info": {
      "name": "python"
    },
    "widgets": {
      "application/vnd.jupyter.widget-state+json": {
        "0aa96c22a99a4f5e9af7e9782dfc402a": {
          "model_module": "@jupyter-widgets/controls",
          "model_module_version": "1.5.0",
          "model_name": "FloatProgressModel",
          "state": {
            "_dom_classes": [],
            "_model_module": "@jupyter-widgets/controls",
            "_model_module_version": "1.5.0",
            "_model_name": "FloatProgressModel",
            "_view_count": null,
            "_view_module": "@jupyter-widgets/controls",
            "_view_module_version": "1.5.0",
            "_view_name": "ProgressView",
            "bar_style": "",
            "description": "",
            "description_tooltip": null,
            "layout": "IPY_MODEL_e8f8bfd5f89c463e84d35a35599366cb",
            "max": 10,
            "min": 0,
            "orientation": "horizontal",
            "style": "IPY_MODEL_2db6ca9d1e3242edb0931b0a9feeca5e",
            "value": 1
          }
        },
        "196ea4c7e47044278714d0617269e360": {
          "model_module": "@jupyter-widgets/controls",
          "model_module_version": "1.5.0",
          "model_name": "HBoxModel",
          "state": {
            "_dom_classes": [],
            "_model_module": "@jupyter-widgets/controls",
            "_model_module_version": "1.5.0",
            "_model_name": "HBoxModel",
            "_view_count": null,
            "_view_module": "@jupyter-widgets/controls",
            "_view_module_version": "1.5.0",
            "_view_name": "HBoxView",
            "box_style": "",
            "children": [
              "IPY_MODEL_1de34e0411014264befbe2bb6618da4d",
              "IPY_MODEL_0aa96c22a99a4f5e9af7e9782dfc402a",
              "IPY_MODEL_ada1a055e1614f26b6ea2af12c212c2f"
            ],
            "layout": "IPY_MODEL_5429255b4cc0458c97edd9bdbdb1b482"
          }
        },
        "1de34e0411014264befbe2bb6618da4d": {
          "model_module": "@jupyter-widgets/controls",
          "model_module_version": "1.5.0",
          "model_name": "HTMLModel",
          "state": {
            "_dom_classes": [],
            "_model_module": "@jupyter-widgets/controls",
            "_model_module_version": "1.5.0",
            "_model_name": "HTMLModel",
            "_view_count": null,
            "_view_module": "@jupyter-widgets/controls",
            "_view_module_version": "1.5.0",
            "_view_name": "HTMLView",
            "description": "",
            "description_tooltip": null,
            "layout": "IPY_MODEL_720f60e9b4e44daf8a20734bc557f44b",
            "placeholder": "​",
            "style": "IPY_MODEL_7c6417982ff341d2a90237040174bcb2",
            "value": "Best trial: 0. Best value: 0.926035:  10%"
          }
        },
        "2db6ca9d1e3242edb0931b0a9feeca5e": {
          "model_module": "@jupyter-widgets/controls",
          "model_module_version": "1.5.0",
          "model_name": "ProgressStyleModel",
          "state": {
            "_model_module": "@jupyter-widgets/controls",
            "_model_module_version": "1.5.0",
            "_model_name": "ProgressStyleModel",
            "_view_count": null,
            "_view_module": "@jupyter-widgets/base",
            "_view_module_version": "1.2.0",
            "_view_name": "StyleView",
            "bar_color": null,
            "description_width": ""
          }
        },
        "3fb5cdc7c5d64255a2874269dcd8d6d4": {
          "model_module": "@jupyter-widgets/controls",
          "model_module_version": "1.5.0",
          "model_name": "DescriptionStyleModel",
          "state": {
            "_model_module": "@jupyter-widgets/controls",
            "_model_module_version": "1.5.0",
            "_model_name": "DescriptionStyleModel",
            "_view_count": null,
            "_view_module": "@jupyter-widgets/base",
            "_view_module_version": "1.2.0",
            "_view_name": "StyleView",
            "description_width": ""
          }
        },
        "5429255b4cc0458c97edd9bdbdb1b482": {
          "model_module": "@jupyter-widgets/base",
          "model_module_version": "1.2.0",
          "model_name": "LayoutModel",
          "state": {
            "_model_module": "@jupyter-widgets/base",
            "_model_module_version": "1.2.0",
            "_model_name": "LayoutModel",
            "_view_count": null,
            "_view_module": "@jupyter-widgets/base",
            "_view_module_version": "1.2.0",
            "_view_name": "LayoutView",
            "align_content": null,
            "align_items": null,
            "align_self": null,
            "border": null,
            "bottom": null,
            "display": null,
            "flex": null,
            "flex_flow": null,
            "grid_area": null,
            "grid_auto_columns": null,
            "grid_auto_flow": null,
            "grid_auto_rows": null,
            "grid_column": null,
            "grid_gap": null,
            "grid_row": null,
            "grid_template_areas": null,
            "grid_template_columns": null,
            "grid_template_rows": null,
            "height": null,
            "justify_content": null,
            "justify_items": null,
            "left": null,
            "margin": null,
            "max_height": null,
            "max_width": null,
            "min_height": null,
            "min_width": null,
            "object_fit": null,
            "object_position": null,
            "order": null,
            "overflow": null,
            "overflow_x": null,
            "overflow_y": null,
            "padding": null,
            "right": null,
            "top": null,
            "visibility": null,
            "width": null
          }
        },
        "720f60e9b4e44daf8a20734bc557f44b": {
          "model_module": "@jupyter-widgets/base",
          "model_module_version": "1.2.0",
          "model_name": "LayoutModel",
          "state": {
            "_model_module": "@jupyter-widgets/base",
            "_model_module_version": "1.2.0",
            "_model_name": "LayoutModel",
            "_view_count": null,
            "_view_module": "@jupyter-widgets/base",
            "_view_module_version": "1.2.0",
            "_view_name": "LayoutView",
            "align_content": null,
            "align_items": null,
            "align_self": null,
            "border": null,
            "bottom": null,
            "display": null,
            "flex": null,
            "flex_flow": null,
            "grid_area": null,
            "grid_auto_columns": null,
            "grid_auto_flow": null,
            "grid_auto_rows": null,
            "grid_column": null,
            "grid_gap": null,
            "grid_row": null,
            "grid_template_areas": null,
            "grid_template_columns": null,
            "grid_template_rows": null,
            "height": null,
            "justify_content": null,
            "justify_items": null,
            "left": null,
            "margin": null,
            "max_height": null,
            "max_width": null,
            "min_height": null,
            "min_width": null,
            "object_fit": null,
            "object_position": null,
            "order": null,
            "overflow": null,
            "overflow_x": null,
            "overflow_y": null,
            "padding": null,
            "right": null,
            "top": null,
            "visibility": null,
            "width": null
          }
        },
        "7c6417982ff341d2a90237040174bcb2": {
          "model_module": "@jupyter-widgets/controls",
          "model_module_version": "1.5.0",
          "model_name": "DescriptionStyleModel",
          "state": {
            "_model_module": "@jupyter-widgets/controls",
            "_model_module_version": "1.5.0",
            "_model_name": "DescriptionStyleModel",
            "_view_count": null,
            "_view_module": "@jupyter-widgets/base",
            "_view_module_version": "1.2.0",
            "_view_name": "StyleView",
            "description_width": ""
          }
        },
        "ada1a055e1614f26b6ea2af12c212c2f": {
          "model_module": "@jupyter-widgets/controls",
          "model_module_version": "1.5.0",
          "model_name": "HTMLModel",
          "state": {
            "_dom_classes": [],
            "_model_module": "@jupyter-widgets/controls",
            "_model_module_version": "1.5.0",
            "_model_name": "HTMLModel",
            "_view_count": null,
            "_view_module": "@jupyter-widgets/controls",
            "_view_module_version": "1.5.0",
            "_view_name": "HTMLView",
            "description": "",
            "description_tooltip": null,
            "layout": "IPY_MODEL_b54445df5a774e018f04998b3cfcafc9",
            "placeholder": "​",
            "style": "IPY_MODEL_3fb5cdc7c5d64255a2874269dcd8d6d4",
            "value": " 1/10 [2:05:29&lt;18:49:24, 7529.40s/it]"
          }
        },
        "b54445df5a774e018f04998b3cfcafc9": {
          "model_module": "@jupyter-widgets/base",
          "model_module_version": "1.2.0",
          "model_name": "LayoutModel",
          "state": {
            "_model_module": "@jupyter-widgets/base",
            "_model_module_version": "1.2.0",
            "_model_name": "LayoutModel",
            "_view_count": null,
            "_view_module": "@jupyter-widgets/base",
            "_view_module_version": "1.2.0",
            "_view_name": "LayoutView",
            "align_content": null,
            "align_items": null,
            "align_self": null,
            "border": null,
            "bottom": null,
            "display": null,
            "flex": null,
            "flex_flow": null,
            "grid_area": null,
            "grid_auto_columns": null,
            "grid_auto_flow": null,
            "grid_auto_rows": null,
            "grid_column": null,
            "grid_gap": null,
            "grid_row": null,
            "grid_template_areas": null,
            "grid_template_columns": null,
            "grid_template_rows": null,
            "height": null,
            "justify_content": null,
            "justify_items": null,
            "left": null,
            "margin": null,
            "max_height": null,
            "max_width": null,
            "min_height": null,
            "min_width": null,
            "object_fit": null,
            "object_position": null,
            "order": null,
            "overflow": null,
            "overflow_x": null,
            "overflow_y": null,
            "padding": null,
            "right": null,
            "top": null,
            "visibility": null,
            "width": null
          }
        },
        "e8f8bfd5f89c463e84d35a35599366cb": {
          "model_module": "@jupyter-widgets/base",
          "model_module_version": "1.2.0",
          "model_name": "LayoutModel",
          "state": {
            "_model_module": "@jupyter-widgets/base",
            "_model_module_version": "1.2.0",
            "_model_name": "LayoutModel",
            "_view_count": null,
            "_view_module": "@jupyter-widgets/base",
            "_view_module_version": "1.2.0",
            "_view_name": "LayoutView",
            "align_content": null,
            "align_items": null,
            "align_self": null,
            "border": null,
            "bottom": null,
            "display": null,
            "flex": null,
            "flex_flow": null,
            "grid_area": null,
            "grid_auto_columns": null,
            "grid_auto_flow": null,
            "grid_auto_rows": null,
            "grid_column": null,
            "grid_gap": null,
            "grid_row": null,
            "grid_template_areas": null,
            "grid_template_columns": null,
            "grid_template_rows": null,
            "height": null,
            "justify_content": null,
            "justify_items": null,
            "left": null,
            "margin": null,
            "max_height": null,
            "max_width": null,
            "min_height": null,
            "min_width": null,
            "object_fit": null,
            "object_position": null,
            "order": null,
            "overflow": null,
            "overflow_x": null,
            "overflow_y": null,
            "padding": null,
            "right": null,
            "top": null,
            "visibility": null,
            "width": null
          }
        }
      }
    }
  },
  "nbformat": 4,
  "nbformat_minor": 0
}